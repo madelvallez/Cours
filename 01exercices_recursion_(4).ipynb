{
  "nbformat": 4,
  "nbformat_minor": 0,
  "metadata": {
    "colab": {
      "name": "01exercices_recursion (3).ipynb",
      "provenance": [],
      "collapsed_sections": []
    },
    "kernelspec": {
      "name": "python3",
      "display_name": "Python 3"
    }
  },
  "cells": [
    {
      "cell_type": "markdown",
      "metadata": {
        "id": "Pd0P8hKRwpv8",
        "colab_type": "text"
      },
      "source": [
        "**Exercice 1**\n",
        "\n",
        "L'image d'un entier naturel $n$ par la fonction **factorielle** se note $n!$ et est défini par : \n",
        "$0!=1$ et $n! = 1 \\times 2 \\times \\cdots \\times n$ lorsque  $n>0$.\n",
        "\n",
        "1. Donner une écriture récursive de cette définition\n",
        "\n",
        "$$fact(n) =  \\left\\lbrace \\matrix{\n",
        "     1 &\\textrm{si $n$=0 }\n",
        "     \\\\ n\\times fact(n-1) & \\textrm{sinon}\n",
        "     } \\right. \n",
        "$$\n",
        "\n",
        "2. Donner le code d'une fonction python `fact(n)` qui implémente cette définition"
      ]
    },
    {
      "cell_type": "code",
      "metadata": {
        "id": "4HXu5alLwJRR",
        "colab_type": "code",
        "colab": {}
      },
      "source": [
        "def fact(n):\n",
        "  if n==0 :\n",
        "    return 1\n",
        "  return n*fact(n-1)"
      ],
      "execution_count": null,
      "outputs": []
    },
    {
      "cell_type": "code",
      "metadata": {
        "id": "vcW8pAymbLri",
        "colab_type": "code",
        "colab": {
          "base_uri": "https://localhost:8080/",
          "height": 34
        },
        "outputId": "70afc774-9527-4529-e971-f33f75cf0180"
      },
      "source": [
        "fact(5)"
      ],
      "execution_count": null,
      "outputs": [
        {
          "output_type": "execute_result",
          "data": {
            "text/plain": [
              "120"
            ]
          },
          "metadata": {
            "tags": []
          },
          "execution_count": 4
        }
      ]
    },
    {
      "cell_type": "markdown",
      "metadata": {
        "id": "s3RHaAq_5xEM",
        "colab_type": "text"
      },
      "source": [
        "**Exercice 2**\n",
        "\n",
        "Soit $a$ et $b$ deux nombre réels, et $(u_n)$ la suite définie par : \n",
        "$$u_n =  \\left\\lbrace \\matrix{\n",
        "     a &\\textrm{si $n$=0 }\n",
        "     \\\\ b &\\textrm{si $n$=1 }\n",
        "     \\\\ u_{n-1} +2  u_{n-2} & \\textrm{si $n \\geq 2$ }\n",
        "     } \\right. \n",
        "$$\n",
        "\n",
        "Compléter la définition de la fonction récursive `u(n,a,b)` en python :"
      ]
    },
    {
      "cell_type": "code",
      "metadata": {
        "id": "2jfAJ4gx7EcM",
        "colab_type": "code",
        "colab": {
          "base_uri": "https://localhost:8080/",
          "height": 34
        },
        "outputId": "f6591ca1-a7d8-49c9-d95b-a2760f896a30"
      },
      "source": [
        "def u(n, a, b):\n",
        "  if n==0 :\n",
        "    return a\n",
        "  elif n==1 :\n",
        "    return b\n",
        "  return u(n-1,a,b) + 2*(u(n-2,a,b))\n",
        "u(5,1,2)"
      ],
      "execution_count": null,
      "outputs": [
        {
          "output_type": "execute_result",
          "data": {
            "text/plain": [
              "32"
            ]
          },
          "metadata": {
            "tags": []
          },
          "execution_count": 11
        }
      ]
    },
    {
      "cell_type": "markdown",
      "metadata": {
        "id": "fQK9MS84wsuA",
        "colab_type": "text"
      },
      "source": [
        "**Exercice 3** : suite de Syracuse\n",
        "\n",
        "Soit $(u_n)$ la suite d'entiers définie par :\n",
        "-  $u_0 = A$ :   un entier quelconque supérieur à 1,  \n",
        "- et pour tout entier naturel $n$ :  $u_{n+1} = \\left\\lbrace \\matrix{ u_n/2 & \\textrm{si $u_n$ est pair }  \\\\3 \\times u_n + 1 & \\textrm{sinon } } \\right. $\n",
        "\n",
        "1. Calculer \"à la main\" les premiers termes de la suite, jusqu'à $u_5$ dans les cas suivants : \n",
        "  - $A= 1$: \n",
        "  \n",
        "  $u_1=4$; $u_2=2$; $u_3=1$; $u_4=4$; ,$u_5=2$\n",
        "\n",
        "  - $A = 10$: \n",
        "  \n",
        "  $u_1=31$; $u_2=94$; $u_3=47$; $u_4=142$; $u_5=71$\n",
        "\n",
        "2. Compléter le code suivant qui définit la fonction récursive `syracuse` dans le cas où A=100. "
      ]
    },
    {
      "cell_type": "code",
      "metadata": {
        "id": "ePm9VSSK1SAO",
        "colab_type": "code",
        "colab": {
          "base_uri": "https://localhost:8080/",
          "height": 34
        },
        "outputId": "215d5128-a154-4bb4-d978-d515c92b3f92"
      },
      "source": [
        "a = 100\n",
        "\n",
        "def syracuse(n):\n",
        "    if n==0:\n",
        "        return a\n",
        "    else:\n",
        "        u=syracuse(n-1)\n",
        "        if (u % 2) == 0 : \n",
        "            return (u)/2\n",
        "        return 3*u+1\n",
        "\n",
        "(syracuse(5),\n",
        "syracuse(6),\n",
        "syracuse(7))"
      ],
      "execution_count": null,
      "outputs": [
        {
          "output_type": "execute_result",
          "data": {
            "text/plain": [
              "(19.0, 58.0, 29.0)"
            ]
          },
          "metadata": {
            "tags": []
          },
          "execution_count": 12
        }
      ]
    },
    {
      "cell_type": "markdown",
      "metadata": {
        "id": "CoayAy-93vic",
        "colab_type": "text"
      },
      "source": [
        "3.\n",
        " Compéter le code de la fonction récursive `explore(a)` qui affiche **tous les termes** de la suite de syracuse $u_n$  de terme initial $u_0 = a$, jusqu'au premier terme (inférieur ou) égal à 1. "
      ]
    },
    {
      "cell_type": "code",
      "metadata": {
        "id": "w17YJe5C4P7R",
        "colab_type": "code",
        "colab": {
          "base_uri": "https://localhost:8080/",
          "height": 34
        },
        "outputId": "2f38d446-a176-4736-932f-e9a6153a5aa6"
      },
      "source": [
        "def explore(a):\n",
        "    print(a)\n",
        "    if a>1:\n",
        "        if (a % 2) == 0 : \n",
        "            a=(a)/2\n",
        "        else:\n",
        "            a= 3*a+1\n",
        "\n",
        "explore(2)"
      ],
      "execution_count": null,
      "outputs": [
        {
          "output_type": "stream",
          "text": [
            "2\n"
          ],
          "name": "stdout"
        }
      ]
    },
    {
      "cell_type": "markdown",
      "metadata": {
        "id": "HWclomk87v1_",
        "colab_type": "text"
      },
      "source": [
        "**Exercice 4**\n",
        "\n",
        "Ecrire une fonction récursive `entiers_entre(a,b)` qui affiche tous les entiers compris entre a et b inclus, dans le cas où $a \\leq b$. "
      ]
    },
    {
      "cell_type": "code",
      "metadata": {
        "id": "WE3lDMX-tTdK",
        "colab_type": "code",
        "colab": {
          "base_uri": "https://localhost:8080/",
          "height": 148
        },
        "outputId": "60e484d6-444e-46d5-a972-f5af5c92a019"
      },
      "source": [
        "def entier_entre(a,b):\n",
        "    if a< b:\n",
        "        print(a)\n",
        "        entier_entre(a+1,b)\n",
        "\n",
        "entier_entre(5,12)"
      ],
      "execution_count": 6,
      "outputs": [
        {
          "output_type": "stream",
          "text": [
            "5\n",
            "6\n",
            "7\n",
            "8\n",
            "9\n",
            "10\n",
            "11\n"
          ],
          "name": "stdout"
        }
      ]
    },
    {
      "cell_type": "markdown",
      "metadata": {
        "id": "-Fy1JDu38Ook",
        "colab_type": "text"
      },
      "source": [
        "**Exercice 5**\n",
        "\n",
        "Ecrire une fonction récursive `nombre_de_chiffres(n)` dont le paramètre $n$ est un entier naturel, et qui retourne le nombre de chiffres de l'écriture en base 10 de n. \n",
        "\n",
        "Par exemple, `nombre_de_chiffres(2021)` doit retourner 4."
      ]
    },
    {
      "cell_type": "code",
      "metadata": {
        "id": "6MBFcm0a1w7c",
        "colab_type": "code",
        "colab": {
          "base_uri": "https://localhost:8080/",
          "height": 36
        },
        "outputId": "e79b8bfb-fe6f-449c-bba2-e60c959d4d5d"
      },
      "source": [
        "def nombre_de_chiffres(n):\n",
        "    m=int(n/10)\n",
        "    if m==0:\n",
        "        return 1\n",
        "    return 1+nombre_de_chiffres(m)\n",
        "\n",
        "nombre_de_chiffres(2021)"
      ],
      "execution_count": 8,
      "outputs": [
        {
          "output_type": "execute_result",
          "data": {
            "text/plain": [
              "4"
            ]
          },
          "metadata": {
            "tags": []
          },
          "execution_count": 8
        }
      ]
    },
    {
      "cell_type": "markdown",
      "metadata": {
        "id": "bCi0VlJ78kk2",
        "colab_type": "text"
      },
      "source": [
        "**Exercice 6**\n",
        "\n",
        "Ecrire une fonction récursive `nombre_de_bits_a_1(n)` dont le paramètre $n$ est un entier naturel, et qui retourne le nombre de bits égaux à 1 dans l'écriture en base 2 de n.\n",
        "\n",
        "Par exemple :  \n",
        "* `nombre_de_bits_a_1(15)` doit retourner 4 puisque $(15)_10 = (1111)_2$\n",
        "* `nombre_de_bits_a_1(17)` doit retourner 2 puisque $(17)_10 = (10001)_2$"
      ]
    },
    {
      "cell_type": "markdown",
      "metadata": {
        "id": "8wI7fUUL9jN3",
        "colab_type": "text"
      },
      "source": [
        "**Exercice 7**\n",
        "\n",
        "Ecrire une fonction récursive `appartient(v,t,i)` dont les paramètres sont : \n",
        "* une valeur `v`\n",
        "* un tableau `t` (de type list)\n",
        "* un indice `i` (de type int)\n",
        "\n",
        "On suppose que $0 \\leq i \\leq$ `len(t)`\n",
        "\n",
        "Cette fonction doit retourner `True` si la valeur `v` figure dans le tableau `t` à un indice compris entre `i` inclus et `len(t)` exclu. \n",
        "\n",
        "La fonction retourne `False` sinon. "
      ]
    },
    {
      "cell_type": "markdown",
      "metadata": {
        "id": "iQv7LZiO-tMT",
        "colab_type": "text"
      },
      "source": [
        "**Exercice 8**\n",
        "\n",
        "Les tours de Hanoï sont un casse-tête célèbre. Le jeu comporte trois tiges, et plusieurs disques de diamètres différents. Initialement, tous les disques sont empilés sur la tige n°1, par ordre décroissant (le plus petit disque en haut, le plus grand disque en bas). \n",
        "\n",
        "Le but du jeu est de déplacer toute la pile de disques vers la tige n°3 en respectant les règles suivantes : \n",
        "- on ne peut déplacer qu'un seul disque à la fois\n",
        "- un disque plus grand ne peut jamais être posé sur un disque plus petit. \n",
        "\n",
        "1. Ecrire une fonction récursive `deplace(k,depart,arrivee,interm)` qui affiche la liste des déplacements élémentaires permettant de faire passer `k` disques de la tige n° `depart` vers la tige n° `arrivee`, la troisième tige ayant le n° `interm`. \n",
        "\n",
        "2. En déduire une fonction `hanoi(n)` qui affiche la solution du problème des tours de hanoi à `n` disques. \n",
        "\n",
        "Par exemple, `hanoi(3)` devra afficher :\n",
        "```\n",
        "1  =>  3\n",
        "1  =>  2\n",
        "3  =>  2\n",
        "1  =>  3\n",
        "2  =>  1\n",
        "2  =>  3\n",
        "1  =>  3\n",
        "```\n",
        "\n"
      ]
    },
    {
      "cell_type": "markdown",
      "metadata": {
        "id": "yt6XGB-RDGnp",
        "colab_type": "text"
      },
      "source": [
        "**Exercice 9**\n",
        "\n",
        "1. Ecrire une fonction recursive `nombre_mouvements_hanoi(n)` qui calcule le nombre de déplacements élémentaires effectués pour résoudre le problème des tours de Hanoï (exercice précédent).\n",
        "\n",
        "2. Proposer une conjecture, exprimant  `nombre_mouvements_hanoi(n)` en fonction de `n`. \n",
        "\n",
        "3. *Facultatif : démontrer cette conjecture, grâce à un raisonnement par récurrence.*\n"
      ]
    }
  ]
}