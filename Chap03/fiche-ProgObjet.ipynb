{
  "nbformat": 4,
  "nbformat_minor": 0,
  "metadata": {
    "colab": {
      "name": "Untitled3.ipynb",
      "provenance": [],
      "authorship_tag": "ABX9TyMEVPbQ5nhhh4ZY5lcv2icV",
      "include_colab_link": true
    },
    "kernelspec": {
      "name": "python3",
      "display_name": "Python 3"
    }
  },
  "cells": [
    {
      "cell_type": "markdown",
      "metadata": {
        "id": "view-in-github",
        "colab_type": "text"
      },
      "source": [
        "<a href=\"https://colab.research.google.com/github/madelvallez/Cours/blob/master/Chap03/fiche-ProgObjet.ipynb\" target=\"_parent\"><img src=\"https://colab.research.google.com/assets/colab-badge.svg\" alt=\"Open In Colab\"/></a>"
      ]
    },
    {
      "cell_type": "markdown",
      "metadata": {
        "id": "Ad1_HZWcjCSh"
      },
      "source": [
        "#Programmation orientée Objet\n",
        "\n",
        "Dans certaines situation, une variable se voit associer diffeérentes information. Pour faciliter le lien entre la variable et ses paramètres, il est possible dans de nombreux langages dont Python de créer un 'nouveau type' de variable avec ses propres paramèmtres basé sur un model programmmé par l'utilisateur."
      ]
    },
    {
      "cell_type": "markdown",
      "metadata": {
        "id": "ClQDY0tWjNWC"
      },
      "source": [
        "##I. Définition\n",
        "\n",
        "###1) Vocabulaire"
      ]
    }
  ]
}