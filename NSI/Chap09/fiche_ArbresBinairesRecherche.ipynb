{
  "nbformat": 4,
  "nbformat_minor": 0,
  "metadata": {
    "colab": {
      "name": "fiche-ArbresBinairesRecherche.ipynb",
      "provenance": [],
      "authorship_tag": "ABX9TyM+WQIk3alqmWmH1dFnX4Ew",
      "include_colab_link": true
    },
    "kernelspec": {
      "name": "python3",
      "display_name": "Python 3"
    }
  },
  "cells": [
    {
      "cell_type": "markdown",
      "metadata": {
        "id": "view-in-github",
        "colab_type": "text"
      },
      "source": [
        "<a href=\"https://colab.research.google.com/github/madelvallez/Cours/blob/master/NSI/Chap09/fiche_ArbresBinairesRecherche.ipynb\" target=\"_parent\"><img src=\"https://colab.research.google.com/assets/colab-badge.svg\" alt=\"Open In Colab\"/></a>"
      ]
    },
    {
      "cell_type": "markdown",
      "metadata": {
        "id": "ND4ixVemINyE"
      },
      "source": [
        "# Arbres Binaires de Recherche"
      ]
    },
    {
      "cell_type": "markdown",
      "metadata": {
        "id": "kntduuIsISHX"
      },
      "source": [
        "##I. Définition\n",
        "\n",
        "Un Arbre Binaire de Recherche est un **Arbre Binaire suivant une règle suplémentaire**:\n",
        "\n",
        "* Le sous- arbre de gauche contient uniquement des valeurs inférieures à la valeur du noeud\n",
        "* Le sous-arbre de droite contient uniquement des valeurs supérieures (ou égales) à la valeur du noeud\n",
        "* Par conséquent, le valeurs des noeuds sont **de même type** ou au minimum **comparables**."
      ]
    },
    {
      "cell_type": "markdown",
      "metadata": {
        "id": "vvM8S9edJlxM"
      },
      "source": [
        "## II. Les Arbres Binaires de Recherche en Python"
      ]
    },
    {
      "cell_type": "markdown",
      "metadata": {
        "id": "gzSGOYHnKU7a"
      },
      "source": [
        "###1) La Classe `ABR`"
      ]
    },
    {
      "cell_type": "code",
      "metadata": {
        "id": "U3r0jP3fHxal"
      },
      "source": [
        "class ABR:\n",
        "    def __init__(self, val):\n",
        "        self.valeur = val\n",
        "        self.gauche = None\n",
        "        self.droit = None\n",
        "    \n",
        "    def __str__(a):\n",
        "        if a is not None:\n",
        "            return ('('+str(a.gauche)+a.valeur+str(a.droit)+')')\n",
        "        return ''\n",
        "\n",
        "    def ajoute(self, val):\n",
        "        '''abr est un arbre binaire de recherche, instance de classe ABR\n",
        "        val est une valeur du même type que les valeurs de abr\n",
        "        la fonction ajoute val dans abr '''\n",
        "        if val < self.valeur : \n",
        "            if self.gauche is None : \n",
        "                self.gauche = ABR(val)\n",
        "            else : \n",
        "                ajoute(self.gauche, val)\n",
        "        else : \n",
        "            if self.droit is None :\n",
        "                self.droit = ABR(val)\n",
        "            else : \n",
        "                ajoute(self.droit, val)"
      ],
      "execution_count": null,
      "outputs": []
    },
    {
      "cell_type": "markdown",
      "metadata": {
        "id": "h2ijmgAELAOt"
      },
      "source": [
        "Les arbres binaire de recherche fonctionnant de la même manière que les arbres binaires, toutes les fonctions de la classe `Noeud` sont valables pour `ABR` (mais certaines sont simplifiable)."
      ]
    },
    {
      "cell_type": "markdown",
      "metadata": {
        "id": "0mu-F40wKXTB"
      },
      "source": [
        "###2) Affichage\n",
        "\n"
      ]
    },
    {
      "cell_type": "code",
      "metadata": {
        "id": "LVHenRp9LV_i"
      },
      "source": [
        "def parcours_infixe(arbre,n=0):\n",
        "    '''affiche le contenu d'un arbre :\n",
        "    - d'abord le sous-arbre droit, \n",
        "    - puis la racine, \n",
        "    - puis le sous-arbre gauche'''\n",
        "    if arbre is not None:\n",
        "        parcours_infixe(arbre.droit,n+1)\n",
        "        print('    '*n+'-', arbre.valeur)\n",
        "        parcours_infixe(arbre.gauche,n+1)\n",
        "\n",
        "def parcours_prefixe(arbre,n=0):\n",
        "    '''affiche le contenu d'un arbre :\n",
        "    - la racine,\n",
        "    - puis le sous-arbre droit, \n",
        "    - puis le sous-arbre gauche'''\n",
        "    if arbre is not None:\n",
        "        print('    '*n+'-', arbre.valeur)\n",
        "        parcours_prefixe(arbre.droit,n+1)\n",
        "        parcours_prefixe(arbre.gauche,n+1)\n",
        "\n",
        "def parcours_suffixe(arbre,n=0):\n",
        "    '''affiche le contenu d'un arbre :\n",
        "    - le sous-arbre droit, \n",
        "    - puis le sous-arbre gauche,\n",
        "    - puis la racine'''\n",
        "    if arbre is not None:\n",
        "        parcours_suffixearbre.droit,n+1)\n",
        "        parcours_suffixe(arbre.gauche,n+1)\n",
        "        print('    '*n+'-', arbre.valeur)"
      ],
      "execution_count": null,
      "outputs": []
    }
  ]
}