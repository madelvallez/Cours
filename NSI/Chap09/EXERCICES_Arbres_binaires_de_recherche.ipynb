{
  "nbformat": 4,
  "nbformat_minor": 0,
  "metadata": {
    "colab": {
      "name": "Chap09_EXERCICES_Arbres_binaires_de_recherche.ipynb",
      "provenance": [],
      "collapsed_sections": [
        "53k7UGMuV7Ix"
      ],
      "include_colab_link": true
    },
    "kernelspec": {
      "name": "python3",
      "display_name": "Python 3"
    }
  },
  "cells": [
    {
      "cell_type": "markdown",
      "metadata": {
        "id": "view-in-github",
        "colab_type": "text"
      },
      "source": [
        "<a href=\"https://colab.research.google.com/github/madelvallez/Cours/blob/master/NSI/Chap09/EXERCICES_Arbres_binaires_de_recherche.ipynb\" target=\"_parent\"><img src=\"https://colab.research.google.com/assets/colab-badge.svg\" alt=\"Open In Colab\"/></a>"
      ]
    },
    {
      "cell_type": "markdown",
      "metadata": {
        "id": "53k7UGMuV7Ix"
      },
      "source": [
        "# ABR"
      ]
    },
    {
      "cell_type": "markdown",
      "metadata": {
        "id": "b9DXztNhZO_N"
      },
      "source": [
        "Dans tous les exercices, on pourra utiliser le code suivant, déjà expliqué en cours : "
      ]
    },
    {
      "cell_type": "code",
      "metadata": {
        "id": "Qz8OMCl5ChcL"
      },
      "source": [
        "class ABR:\n",
        "    def __init__(self, val):\n",
        "        self.valeur = val\n",
        "        self.gauche = None\n",
        "        self.droit = None\n",
        "\n",
        "def ajoute(abr, val):\n",
        "    '''abr est un arbre binaire de recherche, instance de classe ABR\n",
        "    val est une valeur du même type que les valeurs de abr\n",
        "    la fonction ajoute val dans abr '''\n",
        "    if val < abr.valeur : \n",
        "        if abr.gauche is None : \n",
        "            abr.gauche = ABR(val)\n",
        "        else : \n",
        "            ajoute(abr.gauche, val)\n",
        "    else : \n",
        "        if abr.droit is None :\n",
        "            abr.droit = ABR(val)\n",
        "        else : \n",
        "            ajoute(abr.droit, val)\n",
        "\n",
        "def parcours_infixe_indent(arbre,n=0):\n",
        "    '''affiche le contenu d'un arbre :\n",
        "    - d'abord le sous-arbre droit, \n",
        "    - puis la racine, \n",
        "    - puis le sous-arbre gauche'''\n",
        "    if arbre is not None:\n",
        "        parcours_infixe_indent(arbre.droit,n+1)\n",
        "        print('    '*n+'-', arbre.valeur)\n",
        "        parcours_infixe_indent(arbre.gauche,n+1)\n",
        "\n",
        "def parcours_infixe(arbre):\n",
        "    '''affiche le contenu d'un arbre :\n",
        "    - d'abord le sous-arbre gauche, \n",
        "    - puis la racine, \n",
        "    - puis le sous-arbre droit'''\n",
        "    if arbre is not None:\n",
        "        parcours_infixe(arbre.gauche)\n",
        "        print(arbre.valeur, end=' ')\n",
        "        parcours_infixe(arbre.droit)\n",
        "\n",
        "def recherche(abr,x):\n",
        "    '''renvoie True si x est l'une des valeurs contenues dans abr\n",
        "    renvoie False sinon'''\n",
        "    if abr is None:\n",
        "        return False\n",
        "    elif x < abr.valeur:\n",
        "        print(abr.valeur)\n",
        "        return recherche(abr.gauche, x)\n",
        "    elif x > abr.valeur : \n",
        "        print(abr.valeur)\n",
        "        return recherche(abr.droit,x)\n",
        "    else:\n",
        "        print(abr.valeur)\n",
        "        return True\n",
        "\n",
        "def taille(arbre):\n",
        "    if arbre is None:\n",
        "        return 0\n",
        "    else:\n",
        "        return 1 + taille(arbre.gauche) + taille(arbre.droit)\n",
        "\n",
        "def hauteur(arbre):\n",
        "    if arbre is None : \n",
        "        return 0\n",
        "    else : return 1 + max(hauteur(arbre.gauche), hauteur(arbre.droit))"
      ],
      "execution_count": 13,
      "outputs": []
    },
    {
      "cell_type": "markdown",
      "metadata": {
        "id": "d55UM34Wot1t"
      },
      "source": [
        "# Exercice 1 : sur feuille, puis avec Python"
      ]
    },
    {
      "cell_type": "markdown",
      "metadata": {
        "id": "P7asfho_o0Lx"
      },
      "source": [
        "1. Sans exécuter le code : déterminer la taille et la hauteur des arbre binaires de recherche définis dans les cellules ci-dessous\n",
        "2. Vérifier ensuite avec Python..."
      ]
    },
    {
      "cell_type": "code",
      "metadata": {
        "id": "x5pussw9pI8c",
        "colab": {
          "base_uri": "https://localhost:8080/"
        },
        "outputId": "3bb5f55a-f52b-407e-d3d9-94b1c3f8ddad"
      },
      "source": [
        "a1 = ABR(100)\n",
        "for v in [50,200,150,300,250]:\n",
        "    ajoute(a1,v)\n",
        "# taille = 6\n",
        "# hauteur = 4\n",
        "print('taille= ',taille(a1),'\\nhauteur= ',hauteur(a1))"
      ],
      "execution_count": 7,
      "outputs": [
        {
          "output_type": "stream",
          "text": [
            "taille=  6 \n",
            "hauteur=  4\n"
          ],
          "name": "stdout"
        }
      ]
    },
    {
      "cell_type": "code",
      "metadata": {
        "id": "rMgNjGImqhC0",
        "colab": {
          "base_uri": "https://localhost:8080/"
        },
        "outputId": "11b43214-591f-4dbd-877e-bc54d8e5c464"
      },
      "source": [
        "a2 = ABR(100)\n",
        "for v in [50,150,200,250,300]:\n",
        "    ajoute(a2,v)\n",
        "# taille = 6\n",
        "# hauteur = 5\n",
        "print('taille= ',taille(a2),'\\nhauteur= ',hauteur(a2))"
      ],
      "execution_count": 8,
      "outputs": [
        {
          "output_type": "stream",
          "text": [
            "taille=  6 \n",
            "hauteur=  5\n"
          ],
          "name": "stdout"
        }
      ]
    },
    {
      "cell_type": "code",
      "metadata": {
        "id": "hc96QFMmqunN",
        "colab": {
          "base_uri": "https://localhost:8080/"
        },
        "outputId": "a80271e0-f538-4a25-e76d-51c65342c0d1"
      },
      "source": [
        "a3 = ABR(300)\n",
        "for v in [250,200,150,100,50]:\n",
        "    ajoute(a3,v)\n",
        "# taille = 6\n",
        "# hauteur = 6\n",
        "print('taille= ',taille(a3),'\\nhauteur= ',hauteur(a3))"
      ],
      "execution_count": 9,
      "outputs": [
        {
          "output_type": "stream",
          "text": [
            "taille=  6 \n",
            "hauteur=  6\n"
          ],
          "name": "stdout"
        }
      ]
    },
    {
      "cell_type": "markdown",
      "metadata": {
        "id": "a_lbGnKGtBQ_"
      },
      "source": [
        "# Exercice 2 : sur feuille!"
      ]
    },
    {
      "cell_type": "markdown",
      "metadata": {
        "id": "5glaPtNQtDH6"
      },
      "source": [
        "Représenter tous les arbres binaires de recherche de taille 3 contenant les clés (ou valeurs) 1,2 et 3.\n",
        "\n",
        "![image.png](data:image/png;base64,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)"
      ]
    },
    {
      "cell_type": "markdown",
      "metadata": {
        "id": "BX9B0ZOVovVX"
      },
      "source": [
        "# Exercice 3 : avec Python"
      ]
    },
    {
      "cell_type": "markdown",
      "metadata": {
        "id": "tJAJHTkJrMXd"
      },
      "source": [
        "1. Dans un arbre binaire de recherche, où se trouve le plus petit élément ? => Le noeud le plus petit est **le plus à gauche**\n",
        "2. En déduire une fonction `minimum(abr)` qui :\n",
        "  * prend en argument un arbre binaire de recherche\n",
        "  * renvoie `None` si cet arbre est vide\n",
        "  * renvoie la **plus petite valeur** contenue dans cet arbre sinon. \n",
        "3. Écrire de même une fonction `maximum(abr)` qui renvoie la **plus grande valeur** contenue dans `abr`, et qui renvoie `None` lorsque `abr` est vide."
      ]
    },
    {
      "cell_type": "code",
      "metadata": {
        "id": "6qeNwHHpxOuE",
        "outputId": "38919afe-c807-499c-a901-d7383e01dba2",
        "colab": {
          "base_uri": "https://localhost:8080/"
        }
      },
      "source": [
        "def minimum(abr):\n",
        "    if abr is None:\n",
        "        return None\n",
        "    elif abr.gauche is None:\n",
        "        return abr.valeur\n",
        "    return minimum(abr.gauche)\n",
        "    \n",
        "assert minimum(a1)==50\n",
        "assert minimum(a2)==50\n",
        "assert minimum(a3)==50\n",
        "print('test OK')"
      ],
      "execution_count": 11,
      "outputs": [
        {
          "output_type": "stream",
          "text": [
            "test OK\n"
          ],
          "name": "stdout"
        }
      ]
    },
    {
      "cell_type": "markdown",
      "metadata": {
        "id": "MJO8vUp0Jclv"
      },
      "source": [
        "**Remarque:** pour la fonction `maximum(abr)` il suffit de reprendre `minimum` et remplacer `gauche` par `droite`."
      ]
    },
    {
      "cell_type": "markdown",
      "metadata": {
        "id": "KdzKRsMlow0p"
      },
      "source": [
        "# Exercice 4 : sur feuille!"
      ]
    },
    {
      "cell_type": "markdown",
      "metadata": {
        "id": "VxRc8pEouc1V"
      },
      "source": [
        "On considère les arbres binaires définis par le code Python suivant : "
      ]
    },
    {
      "cell_type": "code",
      "metadata": {
        "id": "0Vzm0ZsZtg1Z"
      },
      "source": [
        "class Noeud:\n",
        "    def __init__(self, g, v, d):\n",
        "        self.gauche = g\n",
        "        self.valeur = v        \n",
        "        self.droit  = d\n",
        "    \n",
        "arb1 = Noeud(Noeud(None,\n",
        "                    50,\n",
        "                    Noeud(None,\n",
        "                          75,\n",
        "                          None)), \n",
        "             100, \n",
        "             Noeud(None,\n",
        "                   150,\n",
        "                   None) )\n",
        "\n",
        "\n",
        "arb2 = Noeud( Noeud(None,\n",
        "                    50,\n",
        "                    None), \n",
        "             100, \n",
        "             Noeud(Noeud(None,\n",
        "                          75,\n",
        "                          None),\n",
        "                   150,\n",
        "                   None) )"
      ],
      "execution_count": null,
      "outputs": []
    },
    {
      "cell_type": "markdown",
      "metadata": {
        "id": "k8Kj4BsIuj2r"
      },
      "source": [
        "1. `arb1` est-il un arbre binaire de recherche ? \n",
        "\n",
        "=> `abr1` est un arbre binaire de recherche car les valeurs des noeuds respecte la règle \"les noeuds à gauche sont inférieur à la valeur du noeud\" MAIS c'est pas la bonne classe...\n",
        "\n",
        "2. `arb2` est-il un arbre binaire de recherche ?\n",
        "\n",
        "=> abr2 n'est pas un arbre binaire de recherche car la valeur à droite de **100 est inférieur et devarit être à gauche de 100**."
      ]
    },
    {
      "cell_type": "markdown",
      "metadata": {
        "id": "wJFEmieUv3d4"
      },
      "source": [
        "# Exercice 5 : sur feuille!"
      ]
    },
    {
      "cell_type": "markdown",
      "metadata": {
        "id": "OXTI4egNv5Q4"
      },
      "source": [
        "On recherche le nombre 28 dans un arbre binaire de recherche : \n",
        "1. Est-il possible que la suite des noeuds parcourus soit : 13, 22, 35, 31, 29, 23, 25, 28\n",
        "\n",
        "=> Il est possible car qd le chiffre avec le quel on le compare est cohérent avec la navigation faite pour trouver 28.\n",
        "\n",
        "2. Est-il possible que la suite des noeuds parcourus soit : 13, 23, 35, 31, 29, 22, 25, 28\n",
        "\n",
        "=> Si on avait navigué dans l'arbre pour trouver 28, on n'aurait pas croisé 22 à cet endroit voir pas croisé du tout\n",
        "\n",
        "==> ça depend de l'ordre dans lequel on a nregistré les valeurs"
      ]
    },
    {
      "cell_type": "code",
      "metadata": {
        "id": "evKsngeJ_kd7",
        "outputId": "2b971f67-98e5-406b-f96e-d033b0d64add",
        "colab": {
          "base_uri": "https://localhost:8080/"
        }
      },
      "source": [
        "abr51=ABR(13)\n",
        "ajoute(abr51,22)\n",
        "ajoute(abr51,35)\n",
        "ajoute(abr51,31)\n",
        "ajoute(abr51,29)\n",
        "ajoute(abr51,23)\n",
        "ajoute(abr51,25)\n",
        "ajoute(abr51,28)\n",
        "\n",
        "abr52=ABR(13)\n",
        "ajoute(abr52,23)\n",
        "ajoute(abr52,35)\n",
        "ajoute(abr52,31)\n",
        "ajoute(abr52,29)\n",
        "ajoute(abr52,22)\n",
        "ajoute(abr52,25)\n",
        "ajoute(abr52,28)\n",
        "\n",
        "recherche(abr51,28)\n",
        "print('---------')\n",
        "recherche(abr52,28)\n",
        "print('abr51:')\n",
        "parcours_infixe_indent(abr51)\n",
        "print('abr52:')\n",
        "parcours_infixe_indent(abr52)"
      ],
      "execution_count": 16,
      "outputs": [
        {
          "output_type": "stream",
          "text": [
            "13\n",
            "22\n",
            "35\n",
            "31\n",
            "29\n",
            "23\n",
            "25\n",
            "28\n",
            "---------\n",
            "13\n",
            "23\n",
            "35\n",
            "31\n",
            "29\n",
            "25\n",
            "28\n",
            "abr51:\n",
            "        - 35\n",
            "            - 31\n",
            "                - 29\n",
            "                            - 28\n",
            "                        - 25\n",
            "                    - 23\n",
            "    - 22\n",
            "- 13\n",
            "abr52:\n",
            "        - 35\n",
            "            - 31\n",
            "                - 29\n",
            "                        - 28\n",
            "                    - 25\n",
            "    - 23\n",
            "        - 22\n",
            "- 13\n"
          ],
          "name": "stdout"
        }
      ]
    }
  ]
}