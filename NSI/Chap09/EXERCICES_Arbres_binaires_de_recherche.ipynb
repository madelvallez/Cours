{
  "nbformat": 4,
  "nbformat_minor": 0,
  "metadata": {
    "colab": {
      "name": "Chap09_EXERCICES_Arbres_binaires_de_recherche.ipynb",
      "provenance": [],
      "collapsed_sections": [
        "53k7UGMuV7Ix"
      ],
      "include_colab_link": true
    },
    "kernelspec": {
      "name": "python3",
      "display_name": "Python 3"
    }
  },
  "cells": [
    {
      "cell_type": "markdown",
      "metadata": {
        "id": "view-in-github",
        "colab_type": "text"
      },
      "source": [
        "<a href=\"https://colab.research.google.com/github/madelvallez/Cours/blob/master/NSI/Chap09/EXERCICES_Arbres_binaires_de_recherche.ipynb\" target=\"_parent\"><img src=\"https://colab.research.google.com/assets/colab-badge.svg\" alt=\"Open In Colab\"/></a>"
      ]
    },
    {
      "cell_type": "markdown",
      "metadata": {
        "id": "53k7UGMuV7Ix"
      },
      "source": [
        "# ABR"
      ]
    },
    {
      "cell_type": "markdown",
      "metadata": {
        "id": "b9DXztNhZO_N"
      },
      "source": [
        "Dans tous les exercices, on pourra utiliser le code suivant, déjà expliqué en cours : "
      ]
    },
    {
      "cell_type": "code",
      "metadata": {
        "id": "Qz8OMCl5ChcL"
      },
      "source": [
        "class ABR:\n",
        "    def __init__(self, val):\n",
        "        self.valeur = val\n",
        "        self.gauche = None\n",
        "        self.droit = None\n",
        "\n",
        "def ajoute(abr, val):\n",
        "    '''abr est un arbre binaire de recherche, instance de classe ABR\n",
        "    val est une valeur du même type que les valeurs de abr\n",
        "    la fonction ajoute val dans abr '''\n",
        "    if val < abr.valeur : \n",
        "        if abr.gauche is None : \n",
        "            abr.gauche = ABR(val)\n",
        "        else : \n",
        "            ajoute(abr.gauche, val)\n",
        "    else : \n",
        "        if abr.droit is None :\n",
        "            abr.droit = ABR(val)\n",
        "        else : \n",
        "            ajoute(abr.droit, val)\n",
        "\n",
        "def parcours_infixe_indent(arbre,n=0):\n",
        "    '''affiche le contenu d'un arbre :\n",
        "    - d'abord le sous-arbre droit, \n",
        "    - puis la racine, \n",
        "    - puis le sous-arbre gauche'''\n",
        "    if arbre is not None:\n",
        "        parcours_infixe_indent(arbre.droit,n+1)\n",
        "        print('    '*n+'-', arbre.valeur)\n",
        "        parcours_infixe_indent(arbre.gauche,n+1)\n",
        "\n",
        "def parcours_infixe(arbre):\n",
        "    '''affiche le contenu d'un arbre :\n",
        "    - d'abord le sous-arbre gauche, \n",
        "    - puis la racine, \n",
        "    - puis le sous-arbre droit'''\n",
        "    if arbre is not None:\n",
        "        parcours_infixe(arbre.gauche)\n",
        "        print(arbre.valeur, end=' ')\n",
        "        parcours_infixe(arbre.droit)\n",
        "\n",
        "def recherche(abr,x):\n",
        "    '''renvoie True si x est l'une des valeurs contenues dans abr\n",
        "    renvoie False sinon'''\n",
        "    if abr is None:\n",
        "        return False\n",
        "    elif x < abr.valeur:\n",
        "        return recherche(abr.gauche, x)\n",
        "    elif x > abr.valeur : \n",
        "        return recherche(abr.droit,x)\n",
        "    else:\n",
        "        return True\n",
        "\n",
        "def taille(arbre):\n",
        "    if arbre is None:\n",
        "        return 0\n",
        "    else:\n",
        "        return 1 + taille(arbre.gauche) + taille(arbre.droit)\n",
        "\n",
        "def hauteur(arbre):\n",
        "    if arbre is None : \n",
        "        return 0\n",
        "    else : return 1 + max(hauteur(arbre.gauche), hauteur(arbre.droit))"
      ],
      "execution_count": 2,
      "outputs": []
    },
    {
      "cell_type": "markdown",
      "metadata": {
        "id": "d55UM34Wot1t"
      },
      "source": [
        "# Exercice 1 : sur feuille, puis avec Python"
      ]
    },
    {
      "cell_type": "markdown",
      "metadata": {
        "id": "P7asfho_o0Lx"
      },
      "source": [
        "1. Sans exécuter le code : déterminer la taille et la hauteur des arbre binaires de recherche définis dans les cellules ci-dessous\n",
        "2. Vérifier ensuite avec Python..."
      ]
    },
    {
      "cell_type": "code",
      "metadata": {
        "id": "x5pussw9pI8c",
        "outputId": "93992138-0c75-493f-def0-192bcc947390",
        "colab": {
          "base_uri": "https://localhost:8080/"
        }
      },
      "source": [
        "a1 = ABR(100)\n",
        "for v in [50,200,150,300,250]:\n",
        "    ajoute(a1,v)\n",
        "# taille = 6\n",
        "# hauteur = 4\n",
        "print('taille= ',taille(a1),'\\nhauteur= ',hauteur(a1))"
      ],
      "execution_count": 4,
      "outputs": [
        {
          "output_type": "stream",
          "text": [
            "taille=  6 \n",
            "hauteur=  4\n"
          ],
          "name": "stdout"
        }
      ]
    },
    {
      "cell_type": "code",
      "metadata": {
        "id": "rMgNjGImqhC0",
        "outputId": "cf68fe97-0108-45f7-8b81-dff1e782ef48",
        "colab": {
          "base_uri": "https://localhost:8080/"
        }
      },
      "source": [
        "a2 = ABR(100)\n",
        "for v in [50,150,200,250,300]:\n",
        "    ajoute(a2,v)\n",
        "# taille = 6\n",
        "# hauteur = 5\n",
        "print('taille= ',taille(a2),'\\nhauteur= ',hauteur(a2))"
      ],
      "execution_count": 5,
      "outputs": [
        {
          "output_type": "stream",
          "text": [
            "taille=  6 \n",
            "hauteur=  5\n"
          ],
          "name": "stdout"
        }
      ]
    },
    {
      "cell_type": "code",
      "metadata": {
        "id": "hc96QFMmqunN",
        "outputId": "8d4272de-8af4-494f-ea4f-5fe3b8c571fe",
        "colab": {
          "base_uri": "https://localhost:8080/"
        }
      },
      "source": [
        "a3 = ABR(300)\n",
        "for v in [250,200,150,100,50]:\n",
        "    ajoute(a3,v)\n",
        "# taille = 6\n",
        "# hauteur = 6\n",
        "print('taille= ',taille(a3),'\\nhauteur= ',hauteur(a3))"
      ],
      "execution_count": 6,
      "outputs": [
        {
          "output_type": "stream",
          "text": [
            "taille=  6 \n",
            "hauteur=  6\n"
          ],
          "name": "stdout"
        }
      ]
    },
    {
      "cell_type": "markdown",
      "metadata": {
        "id": "a_lbGnKGtBQ_"
      },
      "source": [
        "# Exercice 2 : sur feuille!"
      ]
    },
    {
      "cell_type": "markdown",
      "metadata": {
        "id": "5glaPtNQtDH6"
      },
      "source": [
        "Représenter tous les arbres binaires de recherche de taille 3 contenant les clés (ou valeurs) 1,2 et 3.\n",
        "\n",
        "![image.png](data:image/png;base64,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)"
      ]
    },
    {
      "cell_type": "markdown",
      "metadata": {
        "id": "BX9B0ZOVovVX"
      },
      "source": [
        "# Exercice 3 : avec Python"
      ]
    },
    {
      "cell_type": "markdown",
      "metadata": {
        "id": "tJAJHTkJrMXd"
      },
      "source": [
        "1. Dans un arbre binaire de recherche, où se trouve le plus petit élément ?\n",
        "2. En déduire une fonction `minimum(abr)` qui :\n",
        "  * prend en argument un arbre binaire de recherche\n",
        "  * renvoie `None` si cet arbre est vide\n",
        "  * renvoie la **plus petite valeur** contenue dans cet arbre sinon. \n",
        "3. Écrire de même une fonction `maximum(abr)` qui renvoie la **plus grande valeur** contenue dans `abr`, et qui renvoie `None` lorsque `abr` est vide."
      ]
    },
    {
      "cell_type": "code",
      "metadata": {
        "id": "6qeNwHHpxOuE"
      },
      "source": [
        ""
      ],
      "execution_count": null,
      "outputs": []
    },
    {
      "cell_type": "markdown",
      "metadata": {
        "id": "KdzKRsMlow0p"
      },
      "source": [
        "# Exercice 4 : sur feuille!"
      ]
    },
    {
      "cell_type": "markdown",
      "metadata": {
        "id": "VxRc8pEouc1V"
      },
      "source": [
        "On considère les arbres binaires définis par le code Python suivant : "
      ]
    },
    {
      "cell_type": "code",
      "metadata": {
        "id": "0Vzm0ZsZtg1Z"
      },
      "source": [
        "class Noeud:\n",
        "    def __init__(self, g, v, d):\n",
        "        self.gauche = g\n",
        "        self.valeur = v        \n",
        "        self.droit  = d\n",
        "    \n",
        "arb1 = Noeud(Noeud(None,\n",
        "                    50,\n",
        "                    Noeud(None,\n",
        "                          75,\n",
        "                          None)), \n",
        "             100, \n",
        "             Noeud(None,\n",
        "                   150,\n",
        "                   None) )\n",
        "\n",
        "\n",
        "arb2 = Noeud( Noeud(None,\n",
        "                    50,\n",
        "                    None), \n",
        "             100, \n",
        "             Noeud(Noeud(None,\n",
        "                          75,\n",
        "                          None),\n",
        "                   150,\n",
        "                   None) )"
      ],
      "execution_count": null,
      "outputs": []
    },
    {
      "cell_type": "markdown",
      "metadata": {
        "id": "k8Kj4BsIuj2r"
      },
      "source": [
        "1. `arb1` est-il un arbre binaire de recherche ?\n",
        "2. `arb2` est-il un arbre binaire de recherche ?"
      ]
    },
    {
      "cell_type": "markdown",
      "metadata": {
        "id": "wJFEmieUv3d4"
      },
      "source": [
        "# Exercice 5 : sur feuille!"
      ]
    },
    {
      "cell_type": "markdown",
      "metadata": {
        "id": "OXTI4egNv5Q4"
      },
      "source": [
        "On recherche le nombre 28 dans un arbre binaire de recherche : \n",
        "1. Est-il possible que la suite des noeuds parcourus soit : 13, 22, 35, 31, 29, 23, 25, 28\n",
        "1. Est-il possible que la suite des noeuds parcourus soit : 13, 23, 35, 31, 29, 22, 25, 28\n",
        "\n",
        "Expliquer !"
      ]
    }
  ]
}