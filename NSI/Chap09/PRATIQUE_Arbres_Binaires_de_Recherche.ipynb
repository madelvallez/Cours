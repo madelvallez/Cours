{
  "nbformat": 4,
  "nbformat_minor": 0,
  "metadata": {
    "colab": {
      "name": "Chap09_PRATIQUE_Arbres_Binaires_de_Recherche.ipynb",
      "provenance": [],
      "collapsed_sections": [],
      "include_colab_link": true
    },
    "kernelspec": {
      "name": "python3",
      "display_name": "Python 3"
    }
  },
  "cells": [
    {
      "cell_type": "markdown",
      "metadata": {
        "id": "view-in-github",
        "colab_type": "text"
      },
      "source": [
        "<a href=\"https://colab.research.google.com/github/madelvallez/Cours/blob/master/NSI/Chap09/PRATIQUE_Arbres_Binaires_de_Recherche.ipynb\" target=\"_parent\"><img src=\"https://colab.research.google.com/assets/colab-badge.svg\" alt=\"Open In Colab\"/></a>"
      ]
    },
    {
      "cell_type": "markdown",
      "metadata": {
        "id": "A5RumsIH7mFi"
      },
      "source": [
        "# Insertion dans un arbre binaire de recherche"
      ]
    },
    {
      "cell_type": "markdown",
      "metadata": {
        "id": "gmpQmMzG8IeX"
      },
      "source": [
        "On donne ci-dessous la définition d'une classe ABR :"
      ]
    },
    {
      "cell_type": "code",
      "metadata": {
        "id": "gXHDSogO7Yge"
      },
      "source": [
        "class ABR:\n",
        "    def __init__(self, val):\n",
        "        self.valeur = val\n",
        "        self.gauche = None\n",
        "        self.droit = None\n",
        "    \n",
        "    def __str__(self):\n",
        "        return self.texte()\n",
        "\n",
        "def texte(a):\n",
        "    if a is None : \n",
        "        return ''\n",
        "    else : \n",
        "        return texte(a.gauche) +' '+ str(a.valeur) +' '+  texte(a.droit)\n"
      ],
      "execution_count": 1,
      "outputs": []
    },
    {
      "cell_type": "markdown",
      "metadata": {
        "id": "ZFqD7P9z8Meg"
      },
      "source": [
        "Ecrire une fonction `insere(x, a)` qui\n",
        "\n",
        "* prend deux arguments : \n",
        "   * `a` un objet de la classe ABR\n",
        "   * `x` un objet du même type que les valeurs contenues dans a\n",
        "* insère dans l'arbre `a` la valeur `x` à sa place, c'est à dire en respectant la propriété des arbres binaires **de recherche**."
      ]
    },
    {
      "cell_type": "code",
      "metadata": {
        "id": "mN11bGF-8wfg",
        "colab": {
          "base_uri": "https://localhost:8080/",
          "height": 36
        },
        "outputId": "52a01bd7-f524-4fd9-c9d7-3129da3baca8"
      },
      "source": [
        "def insere(x,a):\n",
        "    if x<a.valeur:\n",
        "        if a.gauche is None:\n",
        "            a.gauche=ABR(x)\n",
        "        else:\n",
        "            insere(x,a.gauche)\n",
        "    else:\n",
        "        if a.droit is None:\n",
        "            a.droit=ABR(x)\n",
        "        else:\n",
        "            insere(x,a.droit)\n",
        "\n",
        "abr=ABR(100)\n",
        "insere(50,abr)\n",
        "insere(150,abr)\n",
        "insere(125,abr)\n",
        "texte(abr)"
      ],
      "execution_count": 2,
      "outputs": [
        {
          "output_type": "execute_result",
          "data": {
            "application/vnd.google.colaboratory.intrinsic+json": {
              "type": "string"
            },
            "text/plain": [
              "' 50  100  125  150 '"
            ]
          },
          "metadata": {
            "tags": []
          },
          "execution_count": 2
        }
      ]
    },
    {
      "cell_type": "markdown",
      "metadata": {
        "id": "kCHtnsO6x0O0"
      },
      "source": [
        "# Recherche dans un arbre binaire de recherche"
      ]
    },
    {
      "cell_type": "markdown",
      "metadata": {
        "id": "R2_QdcgnbwFJ"
      },
      "source": [
        "Ecrire une fonction `recherche(abr, x)` qui \n",
        "* prend en arguments un arbre binaire de recherche `abr` et une valeur `x`\n",
        "* renvoie `True` si `x` est l'une des valeurs contenues dans `abr`\n",
        "* renvoie `False` sinon\n",
        "\n",
        "On suggère d'écrire cette fonction de manière récursive. "
      ]
    },
    {
      "cell_type": "code",
      "metadata": {
        "id": "e72_qKZFyB9U"
      },
      "source": [
        "def recherche(abr,x):\n",
        "    if abr is None:\n",
        "        return False\n",
        "    elif x<abr.valeur:\n",
        "        recherche(abr.gauche,x)\n",
        "    elif x>abr.valeur:\n",
        "        recherche(abr.droit,x)\n",
        "    else: \n",
        "        return True\n",
        "\n",
        "recherche(abr,125)"
      ],
      "execution_count": 5,
      "outputs": []
    }
  ]
}