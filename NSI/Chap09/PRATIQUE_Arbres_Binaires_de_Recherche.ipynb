{
  "nbformat": 4,
  "nbformat_minor": 0,
  "metadata": {
    "colab": {
      "name": "Chap09_PRATIQUE_Arbres_Binaires_de_Recherche.ipynb",
      "provenance": [],
      "collapsed_sections": [],
      "include_colab_link": true
    },
    "kernelspec": {
      "name": "python3",
      "display_name": "Python 3"
    }
  },
  "cells": [
    {
      "cell_type": "markdown",
      "metadata": {
        "id": "view-in-github",
        "colab_type": "text"
      },
      "source": [
        "<a href=\"https://colab.research.google.com/github/madelvallez/Cours/blob/master/NSI/Chap09/PRATIQUE_Arbres_Binaires_de_Recherche.ipynb\" target=\"_parent\"><img src=\"https://colab.research.google.com/assets/colab-badge.svg\" alt=\"Open In Colab\"/></a>"
      ]
    },
    {
      "cell_type": "markdown",
      "metadata": {
        "id": "A5RumsIH7mFi"
      },
      "source": [
        "# Insertion dans un arbre binaire de recherche"
      ]
    },
    {
      "cell_type": "markdown",
      "metadata": {
        "id": "gmpQmMzG8IeX"
      },
      "source": [
        "On donne ci-dessous la définition d'une classe ABR :"
      ]
    },
    {
      "cell_type": "code",
      "metadata": {
        "id": "gXHDSogO7Yge"
      },
      "source": [
        "class ABR:\n",
        "    def __init__(self, val):\n",
        "        self.valeur = val\n",
        "        self.gauche = None\n",
        "        self.droit = None\n",
        "    \n",
        "    def texte(self):\n",
        "        if self is None : \n",
        "            return ''\n",
        "        else : \n",
        "            return texte(self.gauche) +' '+ str(self.valeur) +' '+  texte(self.droit)\n",
        "    \n",
        "    def __str__(self):\n",
        "        return self.texte()\n"
      ],
      "execution_count": 8,
      "outputs": []
    },
    {
      "cell_type": "markdown",
      "metadata": {
        "id": "ZFqD7P9z8Meg"
      },
      "source": [
        "Ecrire une fonction `insere(x, a)` qui\n",
        "\n",
        "* prend deux arguments : \n",
        "   * `a` un objet de la classe ABR\n",
        "   * `x` un objet du même type que les valeurs contenues dans a\n",
        "* insère dans l'arbre `a` la valeur `x` à sa place, c'est à dire en respectant la propriété des arbres binaires **de recherche**."
      ]
    },
    {
      "cell_type": "code",
      "metadata": {
        "id": "mN11bGF-8wfg",
        "outputId": "b36c2d90-e920-4830-c0ed-4900725fbeb0",
        "colab": {
          "base_uri": "https://localhost:8080/",
          "height": 363
        }
      },
      "source": [
        "def insere(x,a):\n",
        "    if x<a.valeur:\n",
        "        if a.gauche is None:\n",
        "            a.gauche=ABR(x)\n",
        "        else:\n",
        "            insere(x,a.gauche)\n",
        "    else:\n",
        "        if a.droit is None:\n",
        "            a.droit=ABR(x)\n",
        "        else:\n",
        "            insere(x,a.droit)\n",
        "\n",
        "abr=ABR(100)\n",
        "insere(50,abr)\n",
        "insere(150,abr)\n",
        "insere(125,abr)\n",
        "print(abr)"
      ],
      "execution_count": 9,
      "outputs": [
        {
          "output_type": "error",
          "ename": "NameError",
          "evalue": "ignored",
          "traceback": [
            "\u001b[0;31m---------------------------------------------------------------------------\u001b[0m",
            "\u001b[0;31mNameError\u001b[0m                                 Traceback (most recent call last)",
            "\u001b[0;32m<ipython-input-9-21d21da066ba>\u001b[0m in \u001b[0;36m<module>\u001b[0;34m()\u001b[0m\n\u001b[1;32m     15\u001b[0m \u001b[0minsere\u001b[0m\u001b[0;34m(\u001b[0m\u001b[0;36m150\u001b[0m\u001b[0;34m,\u001b[0m\u001b[0mabr\u001b[0m\u001b[0;34m)\u001b[0m\u001b[0;34m\u001b[0m\u001b[0;34m\u001b[0m\u001b[0m\n\u001b[1;32m     16\u001b[0m \u001b[0minsere\u001b[0m\u001b[0;34m(\u001b[0m\u001b[0;36m125\u001b[0m\u001b[0;34m,\u001b[0m\u001b[0mabr\u001b[0m\u001b[0;34m)\u001b[0m\u001b[0;34m\u001b[0m\u001b[0;34m\u001b[0m\u001b[0m\n\u001b[0;32m---> 17\u001b[0;31m \u001b[0mprint\u001b[0m\u001b[0;34m(\u001b[0m\u001b[0mabr\u001b[0m\u001b[0;34m)\u001b[0m\u001b[0;34m\u001b[0m\u001b[0;34m\u001b[0m\u001b[0m\n\u001b[0m",
            "\u001b[0;32m<ipython-input-8-be62b343fb74>\u001b[0m in \u001b[0;36m__str__\u001b[0;34m(self)\u001b[0m\n\u001b[1;32m     12\u001b[0m \u001b[0;34m\u001b[0m\u001b[0m\n\u001b[1;32m     13\u001b[0m     \u001b[0;32mdef\u001b[0m \u001b[0m__str__\u001b[0m\u001b[0;34m(\u001b[0m\u001b[0mself\u001b[0m\u001b[0;34m)\u001b[0m\u001b[0;34m:\u001b[0m\u001b[0;34m\u001b[0m\u001b[0;34m\u001b[0m\u001b[0m\n\u001b[0;32m---> 14\u001b[0;31m         \u001b[0;32mreturn\u001b[0m \u001b[0mself\u001b[0m\u001b[0;34m.\u001b[0m\u001b[0mtexte\u001b[0m\u001b[0;34m(\u001b[0m\u001b[0;34m)\u001b[0m\u001b[0;34m\u001b[0m\u001b[0;34m\u001b[0m\u001b[0m\n\u001b[0m",
            "\u001b[0;32m<ipython-input-8-be62b343fb74>\u001b[0m in \u001b[0;36mtexte\u001b[0;34m(self)\u001b[0m\n\u001b[1;32m      9\u001b[0m             \u001b[0;32mreturn\u001b[0m \u001b[0;34m''\u001b[0m\u001b[0;34m\u001b[0m\u001b[0;34m\u001b[0m\u001b[0m\n\u001b[1;32m     10\u001b[0m         \u001b[0;32melse\u001b[0m \u001b[0;34m:\u001b[0m\u001b[0;34m\u001b[0m\u001b[0;34m\u001b[0m\u001b[0m\n\u001b[0;32m---> 11\u001b[0;31m             \u001b[0;32mreturn\u001b[0m \u001b[0mtexte\u001b[0m\u001b[0;34m(\u001b[0m\u001b[0mself\u001b[0m\u001b[0;34m.\u001b[0m\u001b[0mgauche\u001b[0m\u001b[0;34m)\u001b[0m \u001b[0;34m+\u001b[0m\u001b[0;34m' '\u001b[0m\u001b[0;34m+\u001b[0m \u001b[0mstr\u001b[0m\u001b[0;34m(\u001b[0m\u001b[0mself\u001b[0m\u001b[0;34m.\u001b[0m\u001b[0mvaleur\u001b[0m\u001b[0;34m)\u001b[0m \u001b[0;34m+\u001b[0m\u001b[0;34m' '\u001b[0m\u001b[0;34m+\u001b[0m  \u001b[0mtexte\u001b[0m\u001b[0;34m(\u001b[0m\u001b[0mself\u001b[0m\u001b[0;34m.\u001b[0m\u001b[0mdroit\u001b[0m\u001b[0;34m)\u001b[0m\u001b[0;34m\u001b[0m\u001b[0;34m\u001b[0m\u001b[0m\n\u001b[0m\u001b[1;32m     12\u001b[0m \u001b[0;34m\u001b[0m\u001b[0m\n\u001b[1;32m     13\u001b[0m     \u001b[0;32mdef\u001b[0m \u001b[0m__str__\u001b[0m\u001b[0;34m(\u001b[0m\u001b[0mself\u001b[0m\u001b[0;34m)\u001b[0m\u001b[0;34m:\u001b[0m\u001b[0;34m\u001b[0m\u001b[0;34m\u001b[0m\u001b[0m\n",
            "\u001b[0;31mNameError\u001b[0m: name 'texte' is not defined"
          ]
        }
      ]
    },
    {
      "cell_type": "markdown",
      "metadata": {
        "id": "kCHtnsO6x0O0"
      },
      "source": [
        "# Recherche dans un arbre binaire de recherche"
      ]
    },
    {
      "cell_type": "markdown",
      "metadata": {
        "id": "R2_QdcgnbwFJ"
      },
      "source": [
        "Ecrire une fonction `recherche(abr, x)` qui \n",
        "* prend en arguments un arbre binaire de recherche `abr` et une valeur `x`\n",
        "* renvoie `True` si `x` est l'une des valeurs contenues dans `abr`\n",
        "* renvoie `False` sinon\n",
        "\n",
        "On suggère d'écrire cette fonction de manière récursive. "
      ]
    },
    {
      "cell_type": "code",
      "metadata": {
        "id": "e72_qKZFyB9U"
      },
      "source": [
        ""
      ],
      "execution_count": null,
      "outputs": []
    }
  ]
}