{
  "nbformat": 4,
  "nbformat_minor": 0,
  "metadata": {
    "colab": {
      "name": "Untitled6.ipynb",
      "provenance": [],
      "authorship_tag": "ABX9TyPe411BYcPPJNwRkBjaz4OX",
      "include_colab_link": true
    },
    "kernelspec": {
      "name": "python3",
      "display_name": "Python 3"
    }
  },
  "cells": [
    {
      "cell_type": "markdown",
      "metadata": {
        "id": "view-in-github",
        "colab_type": "text"
      },
      "source": [
        "<a href=\"https://colab.research.google.com/github/madelvallez/Cours/blob/master/NSI/Chap06/fiche-Structures_lineaires.ipynb\" target=\"_parent\"><img src=\"https://colab.research.google.com/assets/colab-badge.svg\" alt=\"Open In Colab\"/></a>"
      ]
    },
    {
      "cell_type": "markdown",
      "metadata": {
        "id": "TXIG-hAFsee7"
      },
      "source": [
        "#Structures Linéaires"
      ]
    },
    {
      "cell_type": "markdown",
      "metadata": {
        "id": "V0oAtH2gtFhR"
      },
      "source": [
        "##I. Notion de structures linéaires"
      ]
    },
    {
      "cell_type": "markdown",
      "metadata": {
        "id": "2xV58fDbaVh2"
      },
      "source": [
        "###1) Définition\n",
        "\n",
        "**Structure linéaire:** suite d'éléments d'un ensemble E où chaque élément a une place bien présise.\n",
        "\n",
        "Ces éléments peuvent être organisés de plusieurs manières:\n",
        "* Chaque élément posède un indice (indexe)  => TABLEAU (list)\n",
        "* Chaque élément est lié à son prédécésseur et/ou successeur => LISTE CHAÎNEE (classe à definir)\n",
        "\n",
        "####**Avantage des structures linéaires indexées**:\n",
        "Rapidité d'accès\n",
        "\n",
        "####**Avantages des structures linéaires chaînées**:\n",
        "Souplesse de la structure à la modification "
      ]
    },
    {
      "cell_type": "markdown",
      "metadata": {
        "id": "c77FQpgSa49t"
      },
      "source": [
        "###2) Les structures linéaires en python\n",
        "\n",
        "* Le type `set` n'est pas une structure linéaire car les **éléments ne sont pas ordonnés**.\n",
        "\n",
        "* Le type `list` est une structure linéaire. Les listes python sont des **objets indéxés** et ont en plus les **actions de modification** réservées aux listes chaînées."
      ]
    },
    {
      "cell_type": "markdown",
      "metadata": {
        "id": "1yW5oXtmsk9B"
      },
      "source": [
        "##II. Listes Chainées\n"
      ]
    },
    {
      "cell_type": "markdown",
      "metadata": {
        "id": "OVPv56DGdTgG"
      },
      "source": [
        "###1) Principe des listes chaînées\n",
        "* Un maillon de la chaîne est défini par sa **valeur** et **l'adresse du maillon suivant**\n",
        "* On **accède** au n-ième maillon en **passant pas les n-1-ièmes** maillons précédents\n",
        "* On peut ajouter des maillons au début, à la fin et au milieu de la liste chaînée\n",
        "* Ainsi sa taille est **variable**"
      ]
    },
    {
      "cell_type": "markdown",
      "metadata": {
        "id": "-hgBYGpbeTl-"
      },
      "source": [
        "###2) La classe `Chaîne` et `Maillon` dans python"
      ]
    },
    {
      "cell_type": "code",
      "metadata": {
        "id": "46b2_L_xelPx"
      },
      "source": [
        "class Maillon:\n",
        "    def __init__(self, val, suiv=None):\n",
        "        self.valeur = val\n",
        "        self.suivant = suiv\n",
        "\n",
        "    def __str__(self):\n",
        "        if self.suivant is None:\n",
        "            return str(self.valeur)\n",
        "        return str(self.valeur) + '-' + str(self.suivant)\n",
        "\n",
        "    def __len__(self):\n",
        "        if self is None:\n",
        "            return 0\n",
        "        return 1 + len(self.suivant)\n",
        "\n",
        "    def __eq__(l1,l2):\n",
        "        if l1 is None:\n",
        "            return l2 is None\n",
        "        if l2 is None:\n",
        "            return False\n",
        "        return l1.valeur==l2.valeur and l1.suivant==l2.suivant\n",
        "\n",
        "def acces_element(lst, n):\n",
        "    if lst is None:\n",
        "        raise IndexError(\"indice incorrect dans la liste chaînée\")\n",
        "    if n == 0:\n",
        "        return lst.valeur\n",
        "    else:\n",
        "        return acces_element(lst.suivant, n-1)\n",
        "\n",
        "def renverse(lst):\n",
        "    resu = None\n",
        "    m = lst\n",
        "    while m is not None:\n",
        "        resu = Maillon(m.valeur, resu)\n",
        "        m = m.suivant\n",
        "    return resu\n",
        "\n",
        "\n",
        "class Chaine:\n",
        "    def __init__(self):\n",
        "        self.tete = None\n",
        "\n",
        "    def est_vide(self):\n",
        "        return self.tete is None\n",
        "\n",
        "    def ajoute(self, val):\n",
        "        self.tete = Maillon(val, self.tete)\n",
        "\n",
        "    def __str__(self):\n",
        "        return str(self.tete)\n",
        "    \n",
        "    def __len__(self):\n",
        "        return longueur(self.tete)\n",
        "    \n",
        "    def __getitem__(self,n):\n",
        "        return acces_element(self.tete, n)\n",
        "\n",
        "\n",
        "\n",
        "def liste_chainee(*args):\n",
        "    resu = Chaine()\n",
        "    for val in args :\n",
        "        resu.ajoute(val)\n",
        "    resu.tete = renverse(resu.tete)\n",
        "    return resu"
      ],
      "execution_count": null,
      "outputs": []
    },
    {
      "cell_type": "markdown",
      "metadata": {
        "id": "wrT5VVGtg4L_"
      },
      "source": [
        "###3) Fonctions de manipulation annexes\n"
      ]
    },
    {
      "cell_type": "code",
      "metadata": {
        "id": "OperghnPhPid"
      },
      "source": [
        "def ajoute_a_la_fin_while(lst,v):\n",
        "    m=lst\n",
        "    while m.suivant is not None:\n",
        "        m=m.suivant   #recherche du bout\n",
        "    m.suivant=Maillon(v)        #ajout val\n",
        "\n",
        "def ajoute_a_la_fin_rec(lst,v):\n",
        "    if lst.suivant is not None:\n",
        "        return ajoute_a_la_fin_rec(lst.suivant,v)\n",
        "    lst.suivant=Maillon(v)\n",
        "\n",
        "def occurences_rec(x,lst):\n",
        "    if lst.suivant is None: #on est au bout de la chaine\n",
        "        if lst.valeur==x:       #verif presence x\n",
        "            return 1\n",
        "        return 0\n",
        "    if lst.valeur ==x:      #verif presence si en plus ya suite\n",
        "        return 1+ occurences_rec(x,lst.suivant)\n",
        "    return occurences_rec(x,lst.suivant)\n",
        "\n",
        "def occurences_while(x,lst):\n",
        "    m = lst\n",
        "    compt=0\n",
        "    while m is not None:\n",
        "        if m.valeur==x:\n",
        "            compt+=1\n",
        "        m=m.suivant\n",
        "    return compt\n",
        "\n",
        "def insere_trie(x,lst):\n",
        "    if lst is None or lst.valeur>x:\n",
        "        return Maillon(x, lst)\n",
        "    return Maillon(lst.valeur, insere_trie(x,lst.suivant))\n",
        "\n",
        "def tri_par_insertion(lst):\n",
        "    if lst is None:\n",
        "        return None\n",
        "    else :\n",
        "        return insere_tri(lst.valeur, tri_par_insertion(lst.suivant))\n"
      ],
      "execution_count": null,
      "outputs": []
    },
    {
      "cell_type": "markdown",
      "metadata": {
        "id": "l57XDaLHsqr5"
      },
      "source": [
        "##III. Notion de Piles"
      ]
    },
    {
      "cell_type": "markdown",
      "metadata": {
        "id": "CCOdysm0y5r1"
      },
      "source": [
        "###1) Définition\n",
        "Les propriétés des Piles sont similaires à celles des listes chaînées. La principale différence des Piles est qu'**on ne peut modifier que le dernier élément** introduit. On peut comparer les Piles à des `piles d'assiettes`.\n",
        "\n",
        "Les Piles sont basées sur le principe **LIFO**: Last In, First Out (le dernier entré est le premier sorti).\n",
        "\n",
        "Les opérations sur les Piles sont:\n",
        "* tester si une Pile est vide\n",
        "* empiler un nouvel élément\n",
        "* supprimer le dernier élément de la Pile en retournant sa valeur (dépiler)\n",
        "* retourner le dernier élément de la Pile (sans le supprimer)\n",
        "* connaître la longueur de la Pile"
      ]
    },
    {
      "cell_type": "markdown",
      "metadata": {
        "id": "jRtJ-4c00wUF"
      },
      "source": [
        "###2) Classe `Pile` python"
      ]
    },
    {
      "cell_type": "code",
      "metadata": {
        "id": "GmnUIZoU03IO"
      },
      "source": [
        "class Maillon:\n",
        "    def __init__(self, val, suiv=None):\n",
        "        self.valeur = val\n",
        "        self.suivant = suiv\n",
        "\n",
        "    def __str__(self):\n",
        "        if self.suivant is None:\n",
        "            return str(self.valeur)\n",
        "        return str(self.valeur) + '\\n' + str(self.suivant)\n",
        "\n",
        "class Pile:\n",
        "    def __init__(self):\n",
        "        self.haut = None\n",
        "\n",
        "    def est_vide(self):\n",
        "        return self.haut is None\n",
        "\n",
        "    def empiler(self, val):\n",
        "        self.haut = Maillon(val, self.haut)\n",
        "\n",
        "    def __str__(self):\n",
        "        return str(self.haut)\n",
        "    \n",
        "    def sommet(self):\n",
        "        if self.est_vide():\n",
        "            raise ValueError(\"la pile est vide\")\n",
        "        return self.haut.valeur\n",
        "\n",
        "    def depiler(self):\n",
        "        if self.est_vide():\n",
        "            raise ValueError(\"impossible de dépiler une pile vide\")\n",
        "        premier_maillon = self.haut\n",
        "        self.haut = premier_maillon.suivant\n",
        "        return premier_maillon.valeur"
      ],
      "execution_count": null,
      "outputs": []
    },
    {
      "cell_type": "markdown",
      "metadata": {
        "id": "h2ebRwACswNB"
      },
      "source": [
        "##IV. Notion de Files"
      ]
    },
    {
      "cell_type": "markdown",
      "metadata": {
        "id": "EYskp4o11SzW"
      },
      "source": [
        "###1) Définition\n",
        "Comme les Piles, les Files ont des points commun avec les Listes Chaînées. Dans le cas des Files, on peut manipuler les deux extémités, c'est à dire la dernière valeur entrée et la première valeur entrée (qui n'est pas encore sortie). On peut comparer les Files à une file d'attente.\n",
        "\n",
        "Les Files fonctionnent sur le principe **FIFO**: First In First Out (le premier entré est le premier sorti).\n",
        "\n",
        "Les opérations sur les Files sont:\n",
        "* tester si une File est vide\n",
        "* ajouter un élément (au bout le plus récent)\n",
        "* supprimer le premier élément de la File et retourner sa valeur\n",
        "* retourner la valeur du premier élément de la File (sans le supprimer)\n",
        "* connaître la longueur de la File"
      ]
    },
    {
      "cell_type": "markdown",
      "metadata": {
        "id": "p6eOzSM63hGc"
      },
      "source": [
        "###2) Classe `File` python"
      ]
    },
    {
      "cell_type": "code",
      "metadata": {
        "id": "o-sOVdSU3gYf"
      },
      "source": [
        "class Maillon:\n",
        "    def __init__(self, val, suiv=None):\n",
        "        self.valeur = val\n",
        "        self.suivant = suiv\n",
        "\n",
        "    def __str__(self):\n",
        "        if self.suivant is None:\n",
        "            return str(self.valeur)\n",
        "        return str(self.valeur) + '-' + str(self.suivant)\n",
        "\n",
        "class File:\n",
        "    def __init__(self):\n",
        "        self.debut = None\n",
        "        self.fin = None \n",
        "\n",
        "    def est_vide(self):\n",
        "        return self.debut is None\n",
        "\n",
        "    def __str__(self):\n",
        "        return str(self.debut)\n",
        "\n",
        "    def retirer(self):\n",
        "        if self.est_vide():\n",
        "            raise ValueError(\"impossible de retirer : la file est vide\")\n",
        "        premier_maillon = self.debut\n",
        "        self.debut = premier_maillon.suivant\n",
        "        if self.debut is None:\n",
        "            self.fin = None\n",
        "        return premier_maillon.valeur\n",
        "\n",
        "\n",
        "    def ajouter(self, v):\n",
        "        m = Maillon(v)\n",
        "        if self.est_vide():\n",
        "            self.debut=m\n",
        "            self.fin=m\n",
        "        else: \n",
        "            self.fin.suivant=m\n",
        "            self.fin=self.fin.suivant"
      ],
      "execution_count": null,
      "outputs": []
    }
  ]
}