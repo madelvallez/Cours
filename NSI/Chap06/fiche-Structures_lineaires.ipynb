{
  "nbformat": 4,
  "nbformat_minor": 0,
  "metadata": {
    "colab": {
      "name": "Untitled6.ipynb",
      "provenance": [],
      "authorship_tag": "ABX9TyPYQ00oNgCz07iWNKdf4F6q",
      "include_colab_link": true
    },
    "kernelspec": {
      "name": "python3",
      "display_name": "Python 3"
    }
  },
  "cells": [
    {
      "cell_type": "markdown",
      "metadata": {
        "id": "view-in-github",
        "colab_type": "text"
      },
      "source": [
        "<a href=\"https://colab.research.google.com/github/madelvallez/Cours/blob/master/NSI/Chap06/fiche-Structures_lineaires.ipynb\" target=\"_parent\"><img src=\"https://colab.research.google.com/assets/colab-badge.svg\" alt=\"Open In Colab\"/></a>"
      ]
    },
    {
      "cell_type": "markdown",
      "metadata": {
        "id": "TXIG-hAFsee7"
      },
      "source": [
        "#Structures Linéaires"
      ]
    },
    {
      "cell_type": "markdown",
      "metadata": {
        "id": "V0oAtH2gtFhR"
      },
      "source": [
        "##I. Notion de structures linéaires"
      ]
    },
    {
      "cell_type": "markdown",
      "metadata": {
        "id": "2xV58fDbaVh2"
      },
      "source": [
        "###1) Définition\n",
        "\n",
        "**Structure linéaire:** suite d'éléments d'un ensemble E où chaque élément a une place bien présise.\n",
        "\n",
        "Ces éléments peuvent être organisés de plusieurs manières:\n",
        "* Chaque éléments posède un indice (indexe)  => TABLEAU (list)\n",
        "* Chaque éléments est lié à son prédécésseur et/ou successeur => LISTE CHAÎNEE (classe à definir)\n",
        "\n",
        "####**Avantage des structures linéaires indexées**:\n",
        "Rapidité d'accès\n",
        "\n",
        "####**Avantages des structures linéaires chaînées**:\n",
        "Souplesse de la structure à la modification "
      ]
    },
    {
      "cell_type": "markdown",
      "metadata": {
        "id": "c77FQpgSa49t"
      },
      "source": [
        "###2) Les structures linéaires en python\n",
        "\n",
        "* Le type `set` n'est pas une structure linéaire car les **éléments ne sont pas ordonnés**.\n",
        "\n",
        "* Le type `list` est une structure linéaire. Les listes python sont des **objets indéxés** et ont en plus les **actions de modification** réservées aux listes chaînées."
      ]
    },
    {
      "cell_type": "markdown",
      "metadata": {
        "id": "1yW5oXtmsk9B"
      },
      "source": [
        "##II. Listes Chainées\n"
      ]
    },
    {
      "cell_type": "markdown",
      "metadata": {
        "id": "OVPv56DGdTgG"
      },
      "source": [
        "##1) Principe des listes chaînées\n",
        "* Un maillon de la chaîne est défini par sa **valeur** et **l'adresse du maillon suivant**\n",
        "* On **accède** au nième mailon en **passant pas les n-1ièmes** maillons précédents\n",
        "* On peut ajouter des maillons au début, à la fin et au milieu de la liste chaînée\n",
        "* Ainsi sa taille est variable"
      ]
    },
    {
      "cell_type": "markdown",
      "metadata": {
        "id": "-hgBYGpbeTl-"
      },
      "source": [
        "##2) La classe `Chaîne` et `Maillon` dans python"
      ]
    },
    {
      "cell_type": "code",
      "metadata": {
        "id": "46b2_L_xelPx"
      },
      "source": [
        "class Maillon:\n",
        "    def __init__(self, val, suiv=None):\n",
        "        self.valeur = val\n",
        "        self.suivant = suiv\n",
        "\n",
        "    def __str__(self):\n",
        "        if self.suivant is None:\n",
        "            return str(self.valeur)\n",
        "        return str(self.valeur) + '-' + str(self.suivant)\n",
        "\n",
        "    def __len__(self):\n",
        "        if self is None:\n",
        "            return 0\n",
        "        return 1 + len(self.suivant)\n",
        "\n",
        "    def __eq__(l1,l2):\n",
        "        if l1 is None:\n",
        "            return l2 is None\n",
        "        if l2 is None:\n",
        "            return False\n",
        "        return l1.valeur==l2.valeur and l1.suivant==l2.suivant\n",
        "\n",
        "def acces_element(lst, n):\n",
        "    if lst is None:\n",
        "        raise IndexError(\"indice incorrect dans la liste chaînée\")\n",
        "    if n == 0:\n",
        "        return lst.valeur\n",
        "    else:\n",
        "        return acces_element(lst.suivant, n-1)\n",
        "\n",
        "def renverse(lst):\n",
        "    resu = None\n",
        "    m = lst\n",
        "    while m is not None:\n",
        "        resu = Maillon(m.valeur, resu)\n",
        "        m = m.suivant\n",
        "    return resu\n",
        "\n",
        "\n",
        "class Chaine:\n",
        "    def __init__(self):\n",
        "        self.tete = None\n",
        "\n",
        "    def est_vide(self):\n",
        "        return self.tete is None\n",
        "\n",
        "    def ajoute(self, val):\n",
        "        self.tete = Maillon(val, self.tete)\n",
        "\n",
        "    def __str__(self):\n",
        "        return str(self.tete)\n",
        "    \n",
        "    def __len__(self):\n",
        "        return longueur(self.tete)\n",
        "    \n",
        "    def __getitem__(self,n):\n",
        "        return acces_element(self.tete, n)\n",
        "\n",
        "\n",
        "\n",
        "def liste_chainee(*args):\n",
        "    resu = Chaine()\n",
        "    for val in args :\n",
        "        resu.ajoute(val)\n",
        "    resu.tete = renverse(resu.tete)\n",
        "    return resu"
      ],
      "execution_count": 5,
      "outputs": []
    },
    {
      "cell_type": "markdown",
      "metadata": {
        "id": "wrT5VVGtg4L_"
      },
      "source": [
        "###3) Fonctions de manipulation annexes\n"
      ]
    },
    {
      "cell_type": "code",
      "metadata": {
        "id": "OperghnPhPid"
      },
      "source": [
        "def ajoute_a_la_fin_while(lst,v):             #3)a\n",
        "    m=lst\n",
        "    while m.suivant is not None:\n",
        "        m=m.suivant   #recherche du bout\n",
        "    m.suivant=Maillon(v)        #ajout val\n",
        "\n",
        "def ajoute_a_la_fin_rec(lst,v):             #3)b\n",
        "    if lst.suivant is not None:\n",
        "        return ajoute_a_la_fin_rec(lst.suivant,v)\n",
        "    lst.suivant=Maillon(v)\n",
        "\n",
        "def occurences_rec(x,lst):\n",
        "    if lst.suivant is None: #on est au bout de la chaine\n",
        "        if lst.valeur==x:       #verif presence x\n",
        "            return 1\n",
        "        return 0\n",
        "    if lst.valeur ==x:      #verif presence si en plus ya suite\n",
        "        return 1+ occurences_rec(x,lst.suivant)\n",
        "    return occurences_rec(x,lst.suivant)\n",
        "\n",
        "def occurences_while(x,lst):\n",
        "    m = lst\n",
        "    compt=0\n",
        "    while m is not None:\n",
        "        if m.valeur==x:\n",
        "            compt+=1\n",
        "        m=m.suivant\n",
        "    return compt\n",
        "\n",
        "def insere_trie(x,lst):\n",
        "    if lst is None or lst.valeur>x:\n",
        "        return Maillon(x, lst)\n",
        "    return Maillon(lst.valeur, insere_trie(x,lst.suivant))\n",
        "\n",
        "def tri_par_insertion(lst):\n",
        "    if lst is None:\n",
        "        return None\n",
        "    else :\n",
        "        return insere_tri(lst.valeur, tri_par_insertion(lst.suivant))\n"
      ],
      "execution_count": 6,
      "outputs": []
    },
    {
      "cell_type": "markdown",
      "metadata": {
        "id": "l57XDaLHsqr5"
      },
      "source": [
        "##III. Notion de Piles"
      ]
    },
    {
      "cell_type": "markdown",
      "metadata": {
        "id": "h2ebRwACswNB"
      },
      "source": [
        "##IV. Notion de Files"
      ]
    }
  ]
}