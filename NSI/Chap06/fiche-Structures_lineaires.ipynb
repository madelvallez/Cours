{
  "nbformat": 4,
  "nbformat_minor": 0,
  "metadata": {
    "colab": {
      "name": "Untitled6.ipynb",
      "provenance": [],
      "authorship_tag": "ABX9TyPTRyUvC5dBE9ZxXyUmcmYQ",
      "include_colab_link": true
    },
    "kernelspec": {
      "name": "python3",
      "display_name": "Python 3"
    }
  },
  "cells": [
    {
      "cell_type": "markdown",
      "metadata": {
        "id": "view-in-github",
        "colab_type": "text"
      },
      "source": [
        "<a href=\"https://colab.research.google.com/github/madelvallez/Cours/blob/master/NSI/Chap06/fiche-Structures_lineaires.ipynb\" target=\"_parent\"><img src=\"https://colab.research.google.com/assets/colab-badge.svg\" alt=\"Open In Colab\"/></a>"
      ]
    },
    {
      "cell_type": "markdown",
      "metadata": {
        "id": "TXIG-hAFsee7"
      },
      "source": [
        "#Structures Linéaires"
      ]
    },
    {
      "cell_type": "markdown",
      "metadata": {
        "id": "V0oAtH2gtFhR"
      },
      "source": [
        "##I. Notion de structures linéaires\n",
        "\n",
        "**Def:** Suite d'éléments d'un ensemble E où chaque élément a une place bien présise.\n",
        "\n",
        "Ces éléments peuvent être organisés de plusieurs manières:\n",
        "* Chaque éléments posède un indice (indexe)  => TABLEAU (list)\n",
        "* Chaque éléments est lié à son prédécésseur et/ou successeur => LISTE CHAÎNEE (class à definir)\n",
        "\n",
        "####**Avantage des structures linéaires indexées**:\n",
        "Rapidité d'accès\n",
        "\n",
        "####**Avantages des structures linéaires chaînées**:\n",
        "Souplesse de la structure à la modification"
      ]
    },
    {
      "cell_type": "markdown",
      "metadata": {
        "id": "1yW5oXtmsk9B"
      },
      "source": [
        "##II. Listes Chainées\n"
      ]
    },
    {
      "cell_type": "markdown",
      "metadata": {
        "id": "l57XDaLHsqr5"
      },
      "source": [
        "##III. Notion de Piles"
      ]
    },
    {
      "cell_type": "markdown",
      "metadata": {
        "id": "h2ebRwACswNB"
      },
      "source": [
        "##IV. Notion de Files"
      ]
    }
  ]
}