{
  "nbformat": 4,
  "nbformat_minor": 0,
  "metadata": {
    "colab": {
      "name": "Untitled6.ipynb",
      "provenance": [],
      "authorship_tag": "ABX9TyNDegqCHDCQO7INPEu5KoV2",
      "include_colab_link": true
    },
    "kernelspec": {
      "name": "python3",
      "display_name": "Python 3"
    }
  },
  "cells": [
    {
      "cell_type": "markdown",
      "metadata": {
        "id": "view-in-github",
        "colab_type": "text"
      },
      "source": [
        "<a href=\"https://colab.research.google.com/github/madelvallez/Cours/blob/master/NSI/Chap06/fiche-Structures_lineaires.ipynb\" target=\"_parent\"><img src=\"https://colab.research.google.com/assets/colab-badge.svg\" alt=\"Open In Colab\"/></a>"
      ]
    },
    {
      "cell_type": "markdown",
      "metadata": {
        "id": "TXIG-hAFsee7"
      },
      "source": [
        "#Structures Linéaires"
      ]
    },
    {
      "cell_type": "markdown",
      "metadata": {
        "id": "V0oAtH2gtFhR"
      },
      "source": [
        "##I. Notion de structures linéaires\n",
        "###1)"
      ]
    },
    {
      "cell_type": "markdown",
      "metadata": {
        "id": "1yW5oXtmsk9B"
      },
      "source": [
        "##II. Listes Chainées\n"
      ]
    },
    {
      "cell_type": "markdown",
      "metadata": {
        "id": "l57XDaLHsqr5"
      },
      "source": [
        "##III. Notion de Piles"
      ]
    },
    {
      "cell_type": "markdown",
      "metadata": {
        "id": "h2ebRwACswNB"
      },
      "source": [
        "##IV. Notion de Files"
      ]
    }
  ]
}