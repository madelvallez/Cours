{
  "nbformat": 4,
  "nbformat_minor": 0,
  "metadata": {
    "colab": {
      "name": "07-ExoPython1.ipynb",
      "provenance": [],
      "collapsed_sections": [],
      "include_colab_link": true
    },
    "kernelspec": {
      "name": "python3",
      "display_name": "Python 3"
    }
  },
  "cells": [
    {
      "cell_type": "markdown",
      "metadata": {
        "id": "view-in-github",
        "colab_type": "text"
      },
      "source": [
        "<a href=\"https://colab.research.google.com/github/madelvallez/Cours/blob/master/NSI/Chap06/ExoPython1.ipynb\" target=\"_parent\"><img src=\"https://colab.research.google.com/assets/colab-badge.svg\" alt=\"Open In Colab\"/></a>"
      ]
    },
    {
      "cell_type": "markdown",
      "metadata": {
        "id": "pgSyd00vFMqR"
      },
      "source": [
        "## Exercice 1\n",
        "\n",
        "Compléter le code ci-dessous pour définir\n",
        "1. la fonction sommet\n",
        "2. la fonction depiler\n",
        "\n"
      ]
    },
    {
      "cell_type": "markdown",
      "metadata": {
        "id": "gtPr96fNcomP"
      },
      "source": [
        "\n",
        "\n",
        "|fonction  |description|\n",
        "|:---------|:------------|\n",
        "|`depiler(p:Pile[T]) -> T` | retire et renvoie l'élément au sommet de `p`|\n",
        "|`sommet(p:Pile[T]) -> T`|renvoie l'élément au sommet de `p` sans le retirer|"
      ]
    },
    {
      "cell_type": "code",
      "metadata": {
        "id": "NgOiBRR8E9ax"
      },
      "source": [
        "class Maillon:\n",
        "    def __init__(self, val, suiv=None):\n",
        "        self.valeur = val\n",
        "        self.suivant = suiv\n",
        "\n",
        "    def __str__(self):\n",
        "        if self.suivant is None:\n",
        "            return str(self.valeur)\n",
        "        return str(self.valeur) + '-' + str(self.suivant)\n",
        "\n",
        "class Pile:\n",
        "    def __init__(self):\n",
        "        self.haut = None\n",
        "\n",
        "    def est_vide(self):\n",
        "        return self.haut is None\n",
        "\n",
        "    def empiler(self, val):\n",
        "        self.haut = Maillon(val, self.haut)\n",
        "\n",
        "    def __str__(self):\n",
        "        return str(self.haut)\n",
        "\n",
        "    def sommet(self):\n",
        "        if p.est_vide:\n",
        "            raise ValueError('La pile est vide')\n",
        "        return self.haut.valeur\n",
        "\n",
        "    def depiler(self):\n",
        "        if p.est_vide:\n",
        "            raise ValueError('La pile est vide -> on ne peut pas la dépiler')\n",
        "        val=sommet(self)\n",
        "        self.haut=self.haut.suivant\n",
        "        return val\n",
        "    \n",
        "def sommet(p):\n",
        "    if p.haut is None:\n",
        "        raise ValueError('La pile est vide')\n",
        "    return p.haut.valeur\n",
        "\n",
        "def depiler(p):\n",
        "    if p.haut is None:\n",
        "        raise ValueError('La pile est vide -> on ne peut pas la dépiler')\n",
        "    val=sommet(p)\n",
        "    p.haut=p.haut.suivant\n",
        "    return val\n"
      ],
      "execution_count": null,
      "outputs": []
    },
    {
      "cell_type": "markdown",
      "metadata": {
        "id": "mN-hYomxF0Nq"
      },
      "source": [
        "## Tester le code\n",
        "\n",
        "On pourra tester le programme proposé avec les instructions suivantes"
      ]
    },
    {
      "cell_type": "code",
      "metadata": {
        "id": "a0aatxPZF9UN",
        "outputId": "ba1a098c-ab40-47d8-f3fc-0a3ad6d7396a",
        "colab": {
          "base_uri": "https://localhost:8080/",
          "height": 333
        }
      },
      "source": [
        "p = Pile()\n",
        "p.empiler(5)\n",
        "p.empiler(10)\n",
        "p.empiler(20)\n",
        "\n",
        "assert sommet(p)==20\n",
        "assert depiler(p) == 20\n",
        "assert depiler(p) == 10 \n",
        "assert depiler(p) == 5\n",
        "assert p.est_vide()\n",
        "#sommet(p)\n",
        "#depiler(p)\n",
        "print(\"test ok\")"
      ],
      "execution_count": null,
      "outputs": [
        {
          "output_type": "error",
          "ename": "ValueError",
          "evalue": "ignored",
          "traceback": [
            "\u001b[0;31m---------------------------------------------------------------------------\u001b[0m",
            "\u001b[0;31mValueError\u001b[0m                                Traceback (most recent call last)",
            "\u001b[0;32m<ipython-input-14-04a34b5b6c4e>\u001b[0m in \u001b[0;36m<module>\u001b[0;34m()\u001b[0m\n\u001b[1;32m     10\u001b[0m \u001b[0;32massert\u001b[0m \u001b[0mp\u001b[0m\u001b[0;34m.\u001b[0m\u001b[0mest_vide\u001b[0m\u001b[0;34m(\u001b[0m\u001b[0;34m)\u001b[0m\u001b[0;34m\u001b[0m\u001b[0;34m\u001b[0m\u001b[0m\n\u001b[1;32m     11\u001b[0m \u001b[0;31m#sommet(p)\u001b[0m\u001b[0;34m\u001b[0m\u001b[0;34m\u001b[0m\u001b[0;34m\u001b[0m\u001b[0m\n\u001b[0;32m---> 12\u001b[0;31m \u001b[0mdepiler\u001b[0m\u001b[0;34m(\u001b[0m\u001b[0mp\u001b[0m\u001b[0;34m)\u001b[0m\u001b[0;34m\u001b[0m\u001b[0;34m\u001b[0m\u001b[0m\n\u001b[0m\u001b[1;32m     13\u001b[0m \u001b[0mprint\u001b[0m\u001b[0;34m(\u001b[0m\u001b[0;34m\"test ok\"\u001b[0m\u001b[0;34m)\u001b[0m\u001b[0;34m\u001b[0m\u001b[0;34m\u001b[0m\u001b[0m\n",
            "\u001b[0;32m<ipython-input-12-4e15ce4002cd>\u001b[0m in \u001b[0;36mdepiler\u001b[0;34m(p)\u001b[0m\n\u001b[1;32m     41\u001b[0m \u001b[0;32mdef\u001b[0m \u001b[0mdepiler\u001b[0m\u001b[0;34m(\u001b[0m\u001b[0mp\u001b[0m\u001b[0;34m)\u001b[0m\u001b[0;34m:\u001b[0m\u001b[0;34m\u001b[0m\u001b[0;34m\u001b[0m\u001b[0m\n\u001b[1;32m     42\u001b[0m     \u001b[0;32mif\u001b[0m \u001b[0mp\u001b[0m\u001b[0;34m.\u001b[0m\u001b[0mhaut\u001b[0m \u001b[0;32mis\u001b[0m \u001b[0;32mNone\u001b[0m\u001b[0;34m:\u001b[0m\u001b[0;34m\u001b[0m\u001b[0;34m\u001b[0m\u001b[0m\n\u001b[0;32m---> 43\u001b[0;31m         \u001b[0;32mraise\u001b[0m \u001b[0mValueError\u001b[0m\u001b[0;34m(\u001b[0m\u001b[0;34m'La pile est vide -> on ne peut pas la dépiler'\u001b[0m\u001b[0;34m)\u001b[0m\u001b[0;34m\u001b[0m\u001b[0;34m\u001b[0m\u001b[0m\n\u001b[0m\u001b[1;32m     44\u001b[0m     \u001b[0mval\u001b[0m\u001b[0;34m=\u001b[0m\u001b[0msommet\u001b[0m\u001b[0;34m(\u001b[0m\u001b[0mp\u001b[0m\u001b[0;34m)\u001b[0m\u001b[0;34m\u001b[0m\u001b[0;34m\u001b[0m\u001b[0m\n\u001b[1;32m     45\u001b[0m     \u001b[0mp\u001b[0m\u001b[0;34m.\u001b[0m\u001b[0mhaut\u001b[0m\u001b[0;34m=\u001b[0m\u001b[0mp\u001b[0m\u001b[0;34m.\u001b[0m\u001b[0mhaut\u001b[0m\u001b[0;34m.\u001b[0m\u001b[0msuivant\u001b[0m\u001b[0;34m\u001b[0m\u001b[0;34m\u001b[0m\u001b[0m\n",
            "\u001b[0;31mValueError\u001b[0m: La pile est vide -> on ne peut pas la dépiler"
          ]
        }
      ]
    }
  ]
}