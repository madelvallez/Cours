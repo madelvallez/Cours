{
  "nbformat": 4,
  "nbformat_minor": 0,
  "metadata": {
    "colab": {
      "name": "01-RECURSIVITE.ipynb",
      "provenance": [],
      "collapsed_sections": []
    },
    "kernelspec": {
      "name": "python3",
      "display_name": "Python 3"
    }
  },
  "cells": [
    {
      "cell_type": "markdown",
      "metadata": {
        "id": "dqS2JlLGiJqL",
        "colab_type": "text"
      },
      "source": [
        "#Récursivité\n",
        "\n",
        "Notions clé:\n",
        "* définitions récursives\n",
        "* programmation avec fonctions récursives\n",
        "* arbre d'appels\n",
        "* modèle d'exécution et pile d'appel\n"
      ]
    },
    {
      "cell_type": "markdown",
      "metadata": {
        "id": "nol6wd4vi4Kh",
        "colab_type": "text"
      },
      "source": [
        "## 1. Exemple d'introduction"
      ]
    },
    {
      "cell_type": "markdown",
      "metadata": {
        "id": "RTTjrDB_EGeA",
        "colab_type": "text"
      },
      "source": [
        "On note `somme(n)` la somme des premiers nombres entiers, de 0 à n inclus. \n",
        "\n",
        "Habituellement, on écrit :  `somme(n) = 0 + 1 + ... + n`\n",
        "\n",
        "Question : quel est le sens de cette notation lorsque n = 1 ? Et lorsque n = 0 ?"
      ]
    },
    {
      "cell_type": "markdown",
      "metadata": {
        "id": "oGsXu_N4jfDt",
        "colab_type": "text"
      },
      "source": [
        "somme(0) = 0  \n",
        "\n",
        "somme(0) = 0 + 1 "
      ]
    },
    {
      "cell_type": "markdown",
      "metadata": {
        "id": "OrhxB4fajhGO",
        "colab_type": "text"
      },
      "source": [
        "### a) Définition mathématique rigoureuse\n",
        "Une **meilleure définition** mathématique de la fonction `somme` peut se faire *par récurrence*. \n",
        "\n",
        "$$somme(n) = \\left\\lbrace \\matrix{ 0 & \\textrm{si } n=0 \\\\n + somme(n-1) & \\textrm{si } n>0 } \\right. $$"
      ]
    },
    {
      "cell_type": "markdown",
      "metadata": {
        "id": "zO68mUhyl3Yc",
        "colab_type": "text"
      },
      "source": [
        "Ainsi, on définit rigoureusement l'image de chaque entier naturel. \n",
        "\n",
        "Calculer : somme(3)"
      ]
    },
    {
      "cell_type": "markdown",
      "metadata": {
        "id": "maK_erT-mcXk",
        "colab_type": "text"
      },
      "source": [
        "    somme(3) = 3 + somme (2)\n",
        "            = 3 + (2 + somme(1) )\n",
        "            = 3 + (2 + (1 + somme(0)))\n",
        "            = 3 + (2 + (1 + 0))\n",
        "            = 3 + (2 + (1))\n",
        "            = 3 + (3)\n",
        "            = 6"
      ]
    },
    {
      "cell_type": "markdown",
      "metadata": {
        "id": "vIFWISAImd1s",
        "colab_type": "text"
      },
      "source": [
        "### b) traduction en python\n",
        "\n",
        "La définition en python de la fonction somme ne pose aucune difficulté : \n"
      ]
    },
    {
      "cell_type": "code",
      "metadata": {
        "id": "sb79JOfdnetW",
        "colab_type": "code",
        "colab": {}
      },
      "source": [
        "def somme(n) : \n",
        "    if n == 0 :\n",
        "        return 0\n",
        "    # else\n",
        "    return n + somme(n-1)"
      ],
      "execution_count": null,
      "outputs": []
    },
    {
      "cell_type": "code",
      "metadata": {
        "id": "Wjuja5Kknyb7",
        "colab_type": "code",
        "colab": {
          "base_uri": "https://localhost:8080/",
          "height": 34
        },
        "outputId": "1a484994-5909-42fb-f434-4e09a773697f"
      },
      "source": [
        "somme(3)"
      ],
      "execution_count": null,
      "outputs": [
        {
          "output_type": "execute_result",
          "data": {
            "text/plain": [
              "6"
            ]
          },
          "metadata": {
            "tags": []
          },
          "execution_count": 2
        }
      ]
    },
    {
      "cell_type": "markdown",
      "metadata": {
        "id": "MgjVnCvmn8Yf",
        "colab_type": "text"
      },
      "source": [
        "### c) vocabulaire\n",
        "\n",
        "Une fonction qui, comme la fonction somme, fait appel à elle-même est appelée **fonction récursive**. \n",
        "\n",
        "La notion *informatique* de **récursivité** est particulièrement adaptée aux définitions *mathématiques* par **récurrence**. "
      ]
    },
    {
      "cell_type": "markdown",
      "metadata": {
        "id": "NvmCcgHBo-42",
        "colab_type": "text"
      },
      "source": [
        "Visualiser l'exécution sur [Python tutor](http://www.pythontutor.com/visualize.html#code=def%20somme%28n%29%20%3A%20%0A%20%20%20%20if%20n%20%3D%3D%200%20%3A%0A%20%20%20%20%20%20%20%20return%200%0A%20%20%20%20%23%20else%0A%20%20%20%20return%20n%20%2B%20somme%28n-1%29%0A%0Aprint%20%28somme%284%29%29&cumulative=false&curInstr=0&heapPrimitives=nevernest&mode=display&origin=opt-frontend.js&py=3&rawInputLstJSON=%5B%5D&textReferences=false)"
      ]
    },
    {
      "cell_type": "markdown",
      "metadata": {
        "id": "gfGkJfXXpZ74",
        "colab_type": "text"
      },
      "source": [
        "A faire sur feuille : \n",
        "\n",
        "dessiner **l'arbre d'appel** correspondant à l'éxécution de `somme(4)`"
      ]
    },
    {
      "cell_type": "markdown",
      "metadata": {
        "id": "Ng0aXU4fp3MV",
        "colab_type": "text"
      },
      "source": [
        "##   2. Définitions récursives\n",
        "\n",
        "### Une définition récursive comporte toujours au moins\n",
        "* un cas de base\n",
        "* un appel récursif\n",
        "\n",
        "### Mais une définition récursive peut comporter\n",
        "* un *ou plusieurs* cas de base\n",
        "* un *ou plusieurs* appels récursifs"
      ]
    },
    {
      "cell_type": "markdown",
      "metadata": {
        "id": "TkFlBlwgxIzF",
        "colab_type": "text"
      },
      "source": [
        "### 2.1. Fonction puissance\n",
        "\n",
        "a) Donner une définition récursive de la fonction puissance telle que puissance($x$, $n$) = $x^n$ où $n$ est un entier naturel."
      ]
    },
    {
      "cell_type": "markdown",
      "metadata": {
        "id": "Rr9vinCJqYFn",
        "colab_type": "text"
      },
      "source": [
        "$$puissance(x, n) =  \\left\\lbrace \\matrix{\n",
        "     1 & \\textrm{si } n=0\n",
        "     \\\\ x \\times puissance(x, n-1) & \\textrm{sinon } \n",
        "     } \\right. $$"
      ]
    },
    {
      "cell_type": "markdown",
      "metadata": {
        "id": "zRbnfwwPs00Q",
        "colab_type": "text"
      },
      "source": [
        "b) Décrire l'arbre d'appel de puissance(x,1)"
      ]
    },
    {
      "cell_type": "markdown",
      "metadata": {
        "id": "frBH4XXztHOk",
        "colab_type": "text"
      },
      "source": [
        "\n",
        "\n",
        "c) proposer une définition récursive qui \"évite les multiplications inutiles\" grâce à un second cas de base"
      ]
    },
    {
      "cell_type": "markdown",
      "metadata": {
        "id": "nGeF4OdJtSIt",
        "colab_type": "text"
      },
      "source": [
        "$$puissance(x, n) = \\left\\lbrace \\matrix{\n",
        "     1 & \\textrm{si } n=0\n",
        "     \\\\ x & \\textrm{si } n=1\n",
        "     \\\\ x \\times puissance(x, n-1) & \\textrm{sinon } \n",
        "     } \\right. $$"
      ]
    },
    {
      "cell_type": "markdown",
      "metadata": {
        "id": "80eIytOI05d5",
        "colab_type": "text"
      },
      "source": [
        "Coder cette fonction en python"
      ]
    },
    {
      "cell_type": "code",
      "metadata": {
        "id": "IwIsoL3b09CR",
        "colab_type": "code",
        "colab": {}
      },
      "source": [
        "def puissance(x,n):\n",
        "    if n==0:\n",
        "        return 1\n",
        "    elif n==1 :\n",
        "        return x\n",
        "    else :\n",
        "        return x * puissance(x, n-1)\n"
      ],
      "execution_count": null,
      "outputs": []
    },
    {
      "cell_type": "code",
      "metadata": {
        "id": "3crMLnsljmC9",
        "colab_type": "code",
        "colab": {
          "base_uri": "https://localhost:8080/",
          "height": 34
        },
        "outputId": "431ab5ee-a8c2-43ef-8854-6cd7762e0d61"
      },
      "source": [
        "puissance(10,3)"
      ],
      "execution_count": null,
      "outputs": [
        {
          "output_type": "execute_result",
          "data": {
            "text/plain": [
              "1000"
            ]
          },
          "metadata": {
            "tags": []
          },
          "execution_count": 4
        }
      ]
    },
    {
      "cell_type": "markdown",
      "metadata": {
        "id": "0hoxkzQOvJh9",
        "colab_type": "text"
      },
      "source": [
        "### 2.2. Suite de Fibonacci\n",
        "\n",
        "On donne la définition de la suite de Fibonacci avec les notations mathématiques usuelles.\n",
        "\n",
        "Soit $(u_n)$ la suite définie par : \n",
        "\n",
        "$$ \\left\\lbrace \\matrix{\n",
        "     u_0=1&\n",
        "     \\\\u_1 = 1&\n",
        "     \\\\ u_{n+2} = u_{n+1} + u_n& \\textrm{pour tout entier naturel } n \n",
        "     } \\right. $$"
      ]
    },
    {
      "cell_type": "markdown",
      "metadata": {
        "id": "9QUt_8v8wpZZ",
        "colab_type": "text"
      },
      "source": [
        "Traduire cette définition en termes récursifs traduisibles directement en python"
      ]
    },
    {
      "cell_type": "markdown",
      "metadata": {
        "colab_type": "text",
        "id": "JZ9x0a4EwjSc"
      },
      "source": [
        "$$fibo(n) = \\left\\lbrace \\matrix{\n",
        "     1 & \\textrm{si } n=0\n",
        "     \\\\ 1 & \\textrm{si } n=1\n",
        "     \\\\ fibo(n-1)+fibo(n-2) & \\textrm{si } n \\geq 2\n",
        "     } \\right. $$"
      ]
    },
    {
      "cell_type": "markdown",
      "metadata": {
        "id": "GQ7BDM_9zbZQ",
        "colab_type": "text"
      },
      "source": [
        "Calculer \"à la main\" fibo(5)... "
      ]
    },
    {
      "cell_type": "markdown",
      "metadata": {
        "id": "lFOxw9bKw7Qd",
        "colab_type": "text"
      },
      "source": [
        "Compléter la définition en python :"
      ]
    },
    {
      "cell_type": "code",
      "metadata": {
        "id": "IeBu2SFQw11A",
        "colab_type": "code",
        "colab": {}
      },
      "source": [
        "def fibo(n):\n",
        "    ..."
      ],
      "execution_count": null,
      "outputs": []
    },
    {
      "cell_type": "markdown",
      "metadata": {
        "id": "2fIHjKP7APSn",
        "colab_type": "text"
      },
      "source": [
        "### 2.3. Récurrence mutuelle"
      ]
    },
    {
      "cell_type": "markdown",
      "metadata": {
        "id": "AnqHzwoMAToj",
        "colab_type": "text"
      },
      "source": [
        "Il peut arriver que deux suites soient définies par récurrence mutuelle. La traduction en python ne pose pas de problème, mais complexifie l'arbre d'appels.\n",
        "\n",
        "Exemple : "
      ]
    },
    {
      "cell_type": "markdown",
      "metadata": {
        "id": "XMeGzy_2Apln",
        "colab_type": "text"
      },
      "source": [
        "Soit $(a_n)$ et $(b_n)$ les suites définies pour tout entier naturel $n$ par : \n",
        "\n",
        "$$ a_n =  \\left\\lbrace \\matrix{\n",
        "     1&\\textrm{si } n=0 \n",
        "     \\\\ 2 a_{n-1} + 3 b_{n-1}& \\textrm{si } n>0 \n",
        "     } \\right. $$\n",
        "\n",
        "$$ b_n =  \\left\\lbrace \\matrix{\n",
        "     2 &\\textrm{si } n=0 \n",
        "     \\\\  a_{n-1} - b_{n-1}& \\textrm{si } n>0 \n",
        "     } \\right. $$"
      ]
    },
    {
      "cell_type": "markdown",
      "metadata": {
        "id": "XAb5OLkDCSkV",
        "colab_type": "text"
      },
      "source": [
        "Calculer \"à la main\" b(2)\n",
        "\n",
        "    b(2) = a(1) - b(1)  \n",
        "         = 2 a(0) + 3 b(0) - (a(0) - b(0))\n",
        "         = 2 * 1 + 3 * 2 - (1 - (-1))\n",
        "        = 9"
      ]
    },
    {
      "cell_type": "markdown",
      "metadata": {
        "id": "MqGL-AAHCe0c",
        "colab_type": "text"
      },
      "source": [
        "Compléter le code python :"
      ]
    },
    {
      "cell_type": "code",
      "metadata": {
        "id": "lYi1pbUABi4b",
        "colab_type": "code",
        "colab": {
          "base_uri": "https://localhost:8080/",
          "height": 34
        },
        "outputId": "650494d3-2a78-4ff8-f4f8-8fd162757fde"
      },
      "source": [
        "def a(n):\n",
        "    if n==0:\n",
        "        return 1\n",
        "    return 2*a(n-1)+3*b(n-1)\n",
        "\n",
        "\n",
        "def b(n):\n",
        "    if n==0:\n",
        "        return 2\n",
        "    return a(n-1)-b(n-1)\n",
        "\n",
        "b(2)"
      ],
      "execution_count": null,
      "outputs": [
        {
          "output_type": "execute_result",
          "data": {
            "text/plain": [
              "9"
            ]
          },
          "metadata": {
            "tags": []
          },
          "execution_count": 1
        }
      ]
    },
    {
      "cell_type": "markdown",
      "metadata": {
        "id": "H6_nZL8z0XuW",
        "colab_type": "text"
      },
      "source": [
        "### 2.4 Fonction puissance, suivant la parité de l'exposant"
      ]
    },
    {
      "cell_type": "markdown",
      "metadata": {
        "id": "x2D6QC2A0ppw",
        "colab_type": "text"
      },
      "source": [
        "Pour optimiser la calcul de $x^n$ on va chercher à effectuer le moins de multiplications possibles.\n",
        "\n",
        "Justifier qu'on peut calculer $x^8$ avec seulement trois multiplications.\n",
        "\n",
        "a = x*x\n",
        "\n",
        "b = a*a\n",
        "\n",
        "c = b*b"
      ]
    },
    {
      "cell_type": "markdown",
      "metadata": {
        "id": "xd3Yjfkp1qqA",
        "colab_type": "text"
      },
      "source": [
        "**Propriété**\n",
        "\n",
        "Si $n = 2 p$ alors $x^n = (x^p)^2$\n",
        "\n",
        "Si $n = 2 p + 1$  alors  $x^n = (x^p)^2 \\times x $\n",
        "\n",
        "Ceci permet d'écrire une définition avec 2 cas de base et 2 cas récursifs :"
      ]
    },
    {
      "cell_type": "markdown",
      "metadata": {
        "colab_type": "text",
        "id": "xx8yy7CN-KGg"
      },
      "source": [
        "$$puiss(x, n) = \\left\\lbrace \\matrix{\n",
        "     1 & \\textrm{si } n=0 \n",
        "     \\\\ x & \\textrm{si } n=1 \n",
        "     \\\\ carre(puiss(x, n/2)) & \\textrm{si $n$ est pair, } n>1  \n",
        "     \\\\ x \\times carre(puiss(x, (n-1)/2)) & \\textrm{si $n$ est impair, } n>1  \n",
        "     } \\right. $$"
      ]
    },
    {
      "cell_type": "markdown",
      "metadata": {
        "id": "TM-ldbbA_CX9",
        "colab_type": "text"
      },
      "source": [
        "Compléter la définition en python :"
      ]
    },
    {
      "cell_type": "code",
      "metadata": {
        "id": "MogR7k80_FND",
        "colab_type": "code",
        "colab": {}
      },
      "source": [
        "def puiss(x,n):\n",
        "    if n==0 :\n",
        "        return 1\n",
        "    if n==1 :\n",
        "        return x\n",
        "    r = puiss(x, n//2)\n",
        "    if n%2==0: \n",
        "        return r*r \n",
        "    else :\n",
        "        return r * r *x"
      ],
      "execution_count": null,
      "outputs": []
    },
    {
      "cell_type": "markdown",
      "metadata": {
        "id": "6zLT0AFfC0ee",
        "colab_type": "text"
      },
      "source": [
        "### 2.5 Récurrence sur d'autres structures\n",
        "\n",
        "Dans ce chapitre, on se limite aux fonctions récursives définies sur les **nombres entiers**. \n",
        "\n",
        "Dans la suite du cours, on verra des exemples de fonctions récursives définies sur des structures récursives, comme les listes (puis les piles, les files, les arbres...).\n",
        "\n",
        "Un exemple classique consistera à trier une liste avec un algorithme récursif. "
      ]
    },
    {
      "cell_type": "markdown",
      "metadata": {
        "id": "3U-Yge_bEOW0",
        "colab_type": "text"
      },
      "source": [
        "## 3. Programmation récursive"
      ]
    },
    {
      "cell_type": "markdown",
      "metadata": {
        "id": "x_3PRWdJEbTd",
        "colab_type": "text"
      },
      "source": [
        "Une fois écrite mathématiquement, une définition récursive se programme très simplement. \n",
        "* veiller à bien définir le(s) cas de base\n",
        "* veiller à la cohérence des appels récursifs\n",
        "\n",
        "Deux points d'attention sont cependant importants."
      ]
    },
    {
      "cell_type": "markdown",
      "metadata": {
        "id": "O2DAeuUkEv-K",
        "colab_type": "text"
      },
      "source": [
        "### 3.1. Types de données python <> domaine mathématique"
      ]
    },
    {
      "cell_type": "markdown",
      "metadata": {
        "id": "oqaDNI5XE_Yu",
        "colab_type": "text"
      },
      "source": [
        "On reprend l'exemple d'introduction :\n",
        "\n",
        "    def somme(n) : \n",
        "        if n == 0 :\n",
        "            return 0\n",
        "        # else\n",
        "        return n + somme(n-1)\n",
        "    \n",
        "\n",
        "que penser de l'appel : ` somme(-1)` ? "
      ]
    },
    {
      "cell_type": "markdown",
      "metadata": {
        "id": "Gzs-C-PkFf9u",
        "colab_type": "text"
      },
      "source": [
        "somme(-1) = -1 + somme(-2)\n",
        "\n",
        "somme(-2) ) -2 + somme(-3) ... "
      ]
    },
    {
      "cell_type": "code",
      "metadata": {
        "id": "pnIxofLNRKzr",
        "colab_type": "code",
        "colab": {
          "base_uri": "https://localhost:8080/",
          "height": 308
        },
        "outputId": "cdab662b-b063-407e-d922-6782ec356d0d"
      },
      "source": [
        "somme(-1)"
      ],
      "execution_count": null,
      "outputs": [
        {
          "output_type": "error",
          "ename": "RecursionError",
          "evalue": "ignored",
          "traceback": [
            "\u001b[0;31m---------------------------------------------------------------------------\u001b[0m",
            "\u001b[0;31mRecursionError\u001b[0m                            Traceback (most recent call last)",
            "\u001b[0;32m<ipython-input-4-2263d90c8da2>\u001b[0m in \u001b[0;36m<module>\u001b[0;34m()\u001b[0m\n\u001b[0;32m----> 1\u001b[0;31m \u001b[0msomme\u001b[0m\u001b[0;34m(\u001b[0m\u001b[0;34m-\u001b[0m\u001b[0;36m1\u001b[0m\u001b[0;34m)\u001b[0m\u001b[0;34m\u001b[0m\u001b[0;34m\u001b[0m\u001b[0m\n\u001b[0m",
            "\u001b[0;32m<ipython-input-3-e26c14ea6647>\u001b[0m in \u001b[0;36msomme\u001b[0;34m(n)\u001b[0m\n\u001b[1;32m      3\u001b[0m         \u001b[0;32mreturn\u001b[0m \u001b[0;36m0\u001b[0m\u001b[0;34m\u001b[0m\u001b[0;34m\u001b[0m\u001b[0m\n\u001b[1;32m      4\u001b[0m     \u001b[0;31m# else\u001b[0m\u001b[0;34m\u001b[0m\u001b[0;34m\u001b[0m\u001b[0;34m\u001b[0m\u001b[0m\n\u001b[0;32m----> 5\u001b[0;31m     \u001b[0;32mreturn\u001b[0m \u001b[0mn\u001b[0m \u001b[0;34m+\u001b[0m \u001b[0msomme\u001b[0m\u001b[0;34m(\u001b[0m\u001b[0mn\u001b[0m\u001b[0;34m-\u001b[0m\u001b[0;36m1\u001b[0m\u001b[0;34m)\u001b[0m\u001b[0;34m\u001b[0m\u001b[0;34m\u001b[0m\u001b[0m\n\u001b[0m",
            "... last 1 frames repeated, from the frame below ...\n",
            "\u001b[0;32m<ipython-input-3-e26c14ea6647>\u001b[0m in \u001b[0;36msomme\u001b[0;34m(n)\u001b[0m\n\u001b[1;32m      3\u001b[0m         \u001b[0;32mreturn\u001b[0m \u001b[0;36m0\u001b[0m\u001b[0;34m\u001b[0m\u001b[0;34m\u001b[0m\u001b[0m\n\u001b[1;32m      4\u001b[0m     \u001b[0;31m# else\u001b[0m\u001b[0;34m\u001b[0m\u001b[0;34m\u001b[0m\u001b[0;34m\u001b[0m\u001b[0m\n\u001b[0;32m----> 5\u001b[0;31m     \u001b[0;32mreturn\u001b[0m \u001b[0mn\u001b[0m \u001b[0;34m+\u001b[0m \u001b[0msomme\u001b[0m\u001b[0;34m(\u001b[0m\u001b[0mn\u001b[0m\u001b[0;34m-\u001b[0m\u001b[0;36m1\u001b[0m\u001b[0;34m)\u001b[0m\u001b[0;34m\u001b[0m\u001b[0;34m\u001b[0m\u001b[0m\n\u001b[0m",
            "\u001b[0;31mRecursionError\u001b[0m: maximum recursion depth exceeded in comparison"
          ]
        }
      ]
    },
    {
      "cell_type": "markdown",
      "metadata": {
        "id": "5DwlBWVGFpj5",
        "colab_type": "text"
      },
      "source": [
        "Pour faire coïncider le domaine mathématique (entiers naturels) et les valeurs des paramètres passés à la fonction en python, on peut utiliser une **assertion**"
      ]
    },
    {
      "cell_type": "code",
      "metadata": {
        "id": "w_8FdDdNF4K6",
        "colab_type": "code",
        "colab": {}
      },
      "source": [
        "def somme(n) : \n",
        "    assert n >=0 , \"n doit être positif ou nul\"\n",
        "    if n == 0 :\n",
        "        return 0\n",
        "    # else\n",
        "    return n + somme(n-1)"
      ],
      "execution_count": null,
      "outputs": []
    },
    {
      "cell_type": "code",
      "metadata": {
        "id": "pFwCYdfsRrLA",
        "colab_type": "code",
        "colab": {
          "base_uri": "https://localhost:8080/",
          "height": 308
        },
        "outputId": "d3cd73ea-75ce-4336-fa42-50cd692e94de"
      },
      "source": [
        "somme(0.5)"
      ],
      "execution_count": null,
      "outputs": [
        {
          "output_type": "error",
          "ename": "AssertionError",
          "evalue": "ignored",
          "traceback": [
            "\u001b[0;31m---------------------------------------------------------------------------\u001b[0m",
            "\u001b[0;31mAssertionError\u001b[0m                            Traceback (most recent call last)",
            "\u001b[0;32m<ipython-input-11-da19be7c64da>\u001b[0m in \u001b[0;36m<module>\u001b[0;34m()\u001b[0m\n\u001b[0;32m----> 1\u001b[0;31m \u001b[0msomme\u001b[0m\u001b[0;34m(\u001b[0m\u001b[0;36m0.5\u001b[0m\u001b[0;34m)\u001b[0m\u001b[0;34m\u001b[0m\u001b[0;34m\u001b[0m\u001b[0m\n\u001b[0m",
            "\u001b[0;32m<ipython-input-9-30c296fa2b84>\u001b[0m in \u001b[0;36msomme\u001b[0;34m(n)\u001b[0m\n\u001b[1;32m      4\u001b[0m         \u001b[0;32mreturn\u001b[0m \u001b[0;36m0\u001b[0m\u001b[0;34m\u001b[0m\u001b[0;34m\u001b[0m\u001b[0m\n\u001b[1;32m      5\u001b[0m     \u001b[0;31m# else\u001b[0m\u001b[0;34m\u001b[0m\u001b[0;34m\u001b[0m\u001b[0;34m\u001b[0m\u001b[0m\n\u001b[0;32m----> 6\u001b[0;31m     \u001b[0;32mreturn\u001b[0m \u001b[0mn\u001b[0m \u001b[0;34m+\u001b[0m \u001b[0msomme\u001b[0m\u001b[0;34m(\u001b[0m\u001b[0mn\u001b[0m\u001b[0;34m-\u001b[0m\u001b[0;36m1\u001b[0m\u001b[0;34m)\u001b[0m\u001b[0;34m\u001b[0m\u001b[0;34m\u001b[0m\u001b[0m\n\u001b[0m",
            "\u001b[0;32m<ipython-input-9-30c296fa2b84>\u001b[0m in \u001b[0;36msomme\u001b[0;34m(n)\u001b[0m\n\u001b[1;32m      1\u001b[0m \u001b[0;32mdef\u001b[0m \u001b[0msomme\u001b[0m\u001b[0;34m(\u001b[0m\u001b[0mn\u001b[0m\u001b[0;34m)\u001b[0m \u001b[0;34m:\u001b[0m\u001b[0;34m\u001b[0m\u001b[0;34m\u001b[0m\u001b[0m\n\u001b[0;32m----> 2\u001b[0;31m     \u001b[0;32massert\u001b[0m \u001b[0mn\u001b[0m \u001b[0;34m>=\u001b[0m\u001b[0;36m0\u001b[0m \u001b[0;34m,\u001b[0m \u001b[0;34m\"n doit être positif ou nul\"\u001b[0m\u001b[0;34m\u001b[0m\u001b[0;34m\u001b[0m\u001b[0m\n\u001b[0m\u001b[1;32m      3\u001b[0m     \u001b[0;32mif\u001b[0m \u001b[0mn\u001b[0m \u001b[0;34m==\u001b[0m \u001b[0;36m0\u001b[0m \u001b[0;34m:\u001b[0m\u001b[0;34m\u001b[0m\u001b[0;34m\u001b[0m\u001b[0m\n\u001b[1;32m      4\u001b[0m         \u001b[0;32mreturn\u001b[0m \u001b[0;36m0\u001b[0m\u001b[0;34m\u001b[0m\u001b[0;34m\u001b[0m\u001b[0m\n\u001b[1;32m      5\u001b[0m     \u001b[0;31m# else\u001b[0m\u001b[0;34m\u001b[0m\u001b[0;34m\u001b[0m\u001b[0;34m\u001b[0m\u001b[0m\n",
            "\u001b[0;31mAssertionError\u001b[0m: n doit être positif ou nul"
          ]
        }
      ]
    },
    {
      "cell_type": "markdown",
      "metadata": {
        "id": "OCzP8IsGHWkQ",
        "colab_type": "text"
      },
      "source": [
        "Combien de fois faut-il tester la correction du paramètre ? \n",
        "\n",
        "- il suffit de tester la  une seule fois !\n",
        "\n",
        "Or, notre assertion est testée à chaque appel récursif ! Peut-on faire mieux ?\n",
        "\n",
        "- la réponse est oui, à condition d'utiliser une fonction auxiliaire."
      ]
    },
    {
      "cell_type": "code",
      "metadata": {
        "id": "X6cXSFJ7H5fW",
        "colab_type": "code",
        "colab": {}
      },
      "source": [
        "def _somme(n):\n",
        "    if n == 0 :\n",
        "        return 0\n",
        "    # else\n",
        "    return n + _somme(n-1)\n",
        "\n",
        "def somme(n) : \n",
        "    assert type(n) == int and n >=0 , \"n doit être un entier naturel\"\n",
        "    return _somme(n)"
      ],
      "execution_count": null,
      "outputs": []
    },
    {
      "cell_type": "markdown",
      "metadata": {
        "id": "M6Hg-c4AI9Ab",
        "colab_type": "text"
      },
      "source": [
        "### 3.2. Question d'efficacité et RecursionError"
      ]
    },
    {
      "cell_type": "markdown",
      "metadata": {
        "id": "KFN4_TEJJOGB",
        "colab_type": "text"
      },
      "source": [
        "Reprenons l'exemple du calcul de $x^n$.\n",
        "\n",
        "Nous disposons de deux fonctions : `puissance`  et `puiss`\n",
        "\n"
      ]
    },
    {
      "cell_type": "code",
      "metadata": {
        "id": "GaS3DjRwJgrB",
        "colab_type": "code",
        "colab": {}
      },
      "source": [
        "def puissance(x,n):\n",
        "    if n==0 :\n",
        "        return 1\n",
        "    if n==1 :\n",
        "        return x\n",
        "    return x * puissance(x,n-1)\n",
        " \n",
        "def puiss(x,n):\n",
        "    if n==0 :\n",
        "        return 1\n",
        "    if n==1 :\n",
        "        return x\n",
        "    r = puiss(x, n//2)\n",
        "    if n%2==0: \n",
        "        return r*r\n",
        "    else :\n",
        "        return x*r*r "
      ],
      "execution_count": null,
      "outputs": []
    },
    {
      "cell_type": "markdown",
      "metadata": {
        "id": "AoDCKDWFKRIi",
        "colab_type": "text"
      },
      "source": [
        "Comparer les exécutions des cellules suivantes, puis expliquer les différences"
      ]
    },
    {
      "cell_type": "code",
      "metadata": {
        "id": "OwKTXH6xJy4-",
        "colab_type": "code",
        "colab": {
          "base_uri": "https://localhost:8080/",
          "height": 35
        },
        "outputId": "265e5ab4-b364-45f8-be0e-9aa6bf4223b8"
      },
      "source": [
        "puissance(2,100)"
      ],
      "execution_count": null,
      "outputs": [
        {
          "output_type": "execute_result",
          "data": {
            "text/plain": [
              "1267650600228229401496703205376"
            ]
          },
          "metadata": {
            "tags": []
          },
          "execution_count": 14
        }
      ]
    },
    {
      "cell_type": "code",
      "metadata": {
        "id": "M4cueYqPJ3jK",
        "colab_type": "code",
        "colab": {
          "base_uri": "https://localhost:8080/",
          "height": 346
        },
        "outputId": "1a70a4e1-d263-47aa-983e-81aa243c37f2"
      },
      "source": [
        "puissance(2,1000)"
      ],
      "execution_count": null,
      "outputs": [
        {
          "output_type": "error",
          "ename": "RecursionError",
          "evalue": "ignored",
          "traceback": [
            "\u001b[0;31m---------------------------------------------------------------------------\u001b[0m",
            "\u001b[0;31mRecursionError\u001b[0m                            Traceback (most recent call last)",
            "\u001b[0;32m<ipython-input-15-4c460f0a3976>\u001b[0m in \u001b[0;36m<module>\u001b[0;34m()\u001b[0m\n\u001b[0;32m----> 1\u001b[0;31m \u001b[0mpuissance\u001b[0m\u001b[0;34m(\u001b[0m\u001b[0;36m2\u001b[0m\u001b[0;34m,\u001b[0m\u001b[0;36m1000\u001b[0m\u001b[0;34m)\u001b[0m\u001b[0;34m\u001b[0m\u001b[0;34m\u001b[0m\u001b[0m\n\u001b[0m",
            "\u001b[0;32m<ipython-input-13-15c72779373c>\u001b[0m in \u001b[0;36mpuissance\u001b[0;34m(x, n)\u001b[0m\n\u001b[1;32m      4\u001b[0m     \u001b[0;32mif\u001b[0m \u001b[0mn\u001b[0m\u001b[0;34m==\u001b[0m\u001b[0;36m1\u001b[0m \u001b[0;34m:\u001b[0m\u001b[0;34m\u001b[0m\u001b[0;34m\u001b[0m\u001b[0m\n\u001b[1;32m      5\u001b[0m         \u001b[0;32mreturn\u001b[0m \u001b[0mx\u001b[0m\u001b[0;34m\u001b[0m\u001b[0;34m\u001b[0m\u001b[0m\n\u001b[0;32m----> 6\u001b[0;31m     \u001b[0;32mreturn\u001b[0m \u001b[0mx\u001b[0m \u001b[0;34m*\u001b[0m \u001b[0mpuissance\u001b[0m\u001b[0;34m(\u001b[0m\u001b[0mx\u001b[0m\u001b[0;34m,\u001b[0m\u001b[0mn\u001b[0m\u001b[0;34m-\u001b[0m\u001b[0;36m1\u001b[0m\u001b[0;34m)\u001b[0m\u001b[0;34m\u001b[0m\u001b[0;34m\u001b[0m\u001b[0m\n\u001b[0m\u001b[1;32m      7\u001b[0m \u001b[0;34m\u001b[0m\u001b[0m\n\u001b[1;32m      8\u001b[0m \u001b[0;32mdef\u001b[0m \u001b[0mpuiss\u001b[0m\u001b[0;34m(\u001b[0m\u001b[0mx\u001b[0m\u001b[0;34m,\u001b[0m\u001b[0mn\u001b[0m\u001b[0;34m)\u001b[0m\u001b[0;34m:\u001b[0m\u001b[0;34m\u001b[0m\u001b[0;34m\u001b[0m\u001b[0m\n",
            "... last 1 frames repeated, from the frame below ...\n",
            "\u001b[0;32m<ipython-input-13-15c72779373c>\u001b[0m in \u001b[0;36mpuissance\u001b[0;34m(x, n)\u001b[0m\n\u001b[1;32m      4\u001b[0m     \u001b[0;32mif\u001b[0m \u001b[0mn\u001b[0m\u001b[0;34m==\u001b[0m\u001b[0;36m1\u001b[0m \u001b[0;34m:\u001b[0m\u001b[0;34m\u001b[0m\u001b[0;34m\u001b[0m\u001b[0m\n\u001b[1;32m      5\u001b[0m         \u001b[0;32mreturn\u001b[0m \u001b[0mx\u001b[0m\u001b[0;34m\u001b[0m\u001b[0;34m\u001b[0m\u001b[0m\n\u001b[0;32m----> 6\u001b[0;31m     \u001b[0;32mreturn\u001b[0m \u001b[0mx\u001b[0m \u001b[0;34m*\u001b[0m \u001b[0mpuissance\u001b[0m\u001b[0;34m(\u001b[0m\u001b[0mx\u001b[0m\u001b[0;34m,\u001b[0m\u001b[0mn\u001b[0m\u001b[0;34m-\u001b[0m\u001b[0;36m1\u001b[0m\u001b[0;34m)\u001b[0m\u001b[0;34m\u001b[0m\u001b[0;34m\u001b[0m\u001b[0m\n\u001b[0m\u001b[1;32m      7\u001b[0m \u001b[0;34m\u001b[0m\u001b[0m\n\u001b[1;32m      8\u001b[0m \u001b[0;32mdef\u001b[0m \u001b[0mpuiss\u001b[0m\u001b[0;34m(\u001b[0m\u001b[0mx\u001b[0m\u001b[0;34m,\u001b[0m\u001b[0mn\u001b[0m\u001b[0;34m)\u001b[0m\u001b[0;34m:\u001b[0m\u001b[0;34m\u001b[0m\u001b[0;34m\u001b[0m\u001b[0m\n",
            "\u001b[0;31mRecursionError\u001b[0m: maximum recursion depth exceeded in comparison"
          ]
        }
      ]
    },
    {
      "cell_type": "code",
      "metadata": {
        "id": "FgGtk7B7J_Mr",
        "colab_type": "code",
        "colab": {
          "base_uri": "https://localhost:8080/",
          "height": 35
        },
        "outputId": "c0727466-4a7d-4162-c8e8-523200047407"
      },
      "source": [
        "puiss(2,100)"
      ],
      "execution_count": null,
      "outputs": [
        {
          "output_type": "execute_result",
          "data": {
            "text/plain": [
              "1267650600228229401496703205376"
            ]
          },
          "metadata": {
            "tags": []
          },
          "execution_count": 16
        }
      ]
    },
    {
      "cell_type": "code",
      "metadata": {
        "id": "aKM7-GStKCwO",
        "colab_type": "code",
        "colab": {
          "base_uri": "https://localhost:8080/",
          "height": 55
        },
        "outputId": "f4cc6ef7-263d-44ab-c864-cc92145f35e0"
      },
      "source": [
        "puiss(2,1000)"
      ],
      "execution_count": null,
      "outputs": [
        {
          "output_type": "execute_result",
          "data": {
            "text/plain": [
              "10715086071862673209484250490600018105614048117055336074437503883703510511249361224931983788156958581275946729175531468251871452856923140435984577574698574803934567774824230985421074605062371141877954182153046474983581941267398767559165543946077062914571196477686542167660429831652624386837205668069376"
            ]
          },
          "metadata": {
            "tags": []
          },
          "execution_count": 17
        }
      ]
    },
    {
      "cell_type": "markdown",
      "metadata": {
        "id": "GhPLnKJLKYBq",
        "colab_type": "text"
      },
      "source": [
        "... "
      ]
    },
    {
      "cell_type": "markdown",
      "metadata": {
        "id": "FVKdgXcSKinO",
        "colab_type": "text"
      },
      "source": [
        "### RecursionError"
      ]
    },
    {
      "cell_type": "markdown",
      "metadata": {
        "id": "92PRgG61k9ON",
        "colab_type": "text"
      },
      "source": [
        "#### Python limite la taille de la **pile d'appels récursifs**.\n",
        "\n",
        "Lors de l'exécution d'un programme en python, la mémoire de la machine sert à stocker à la fois le programme et les données manipulées par le programme. On distingue quatre segments :\n",
        " - segment de **code** : pour le programme qui est exécuté\n",
        " - segment de **données** : pour les données statiques, c'est à dires les données dont l'adresse mémoire et la valeur sont connues lors de l'*initialisation* du programme. La taille de ces données statiques ne peut pas être modifiée pendant l'exécution du programme\n",
        " - le segment du **tas** et le segment de la **pile** contiennent les données allouées dynamiquement, pendant l'exécution du programme. \n",
        "   - la *pile* est utilisée pour les appels de fonctions : en effet, à la fin d'un appel de fonction, les données utilisées peuvent souvent être libérées de la mémoire, lorsque la fonction retourne un résultat. Ainsi, les variables *locales* à la fonction sont stockées dans la pile pendant l'exécution de la fonction, et sont libérées après. \n",
        "   Pythontutor donne une idée des données stockées dans le pile d'appel lorsqu'on exécute une fonction récursive. => [exemple](http://www.pythontutor.com/visualize.html#code=def%20somme%28n%29%20%3A%20%0A%20%20%20%20if%20n%20%3D%3D%200%20%3A%0A%20%20%20%20%20%20%20%20return%200%0A%20%20%20%20%23%20else%0A%20%20%20%20return%20n%20%2B%20somme%28n-1%29%0A%0Aprint%20%28somme%284%29%29&cumulative=false&curInstr=22&heapPrimitives=nevernest&mode=display&origin=opt-frontend.js&py=3&rawInputLstJSON=%5B%5D&textReferences=false)\n",
        "   - le *tas* contient toutes les autres données allouées dynamiquement : par exemple les listes, dont la taille peut être modifiée pendant l'exécution du programme. "
      ]
    },
    {
      "cell_type": "markdown",
      "metadata": {
        "id": "sq3jg4VRoXYM",
        "colab_type": "text"
      },
      "source": [
        "#### Pour connaître et modifier la taille de la pile d'appels récursifs\n",
        "\n",
        "[sys.getrecursionlimit()](https://docs.python.org/fr/3/library/sys.html#sys.getrecursionlimit)\n",
        "\n",
        "[sys.setrecursionlimit(limit)](https://docs.python.org/fr/3/library/sys.html#sys.setrecursionlimit)"
      ]
    },
    {
      "cell_type": "code",
      "metadata": {
        "id": "Ne4-Lsj6o4m1",
        "colab_type": "code",
        "colab": {
          "base_uri": "https://localhost:8080/",
          "height": 35
        },
        "outputId": "6cd14c67-9e3b-48dd-e7b7-95537396c2d9"
      },
      "source": [
        "import sys\n",
        "print(sys.getrecursionlimit()  )"
      ],
      "execution_count": null,
      "outputs": [
        {
          "output_type": "stream",
          "text": [
            "1000\n"
          ],
          "name": "stdout"
        }
      ]
    },
    {
      "cell_type": "code",
      "metadata": {
        "id": "qNxx0rAlpCGd",
        "colab_type": "code",
        "colab": {}
      },
      "source": [
        "sys.setrecursionlimit(2000)"
      ],
      "execution_count": null,
      "outputs": []
    },
    {
      "cell_type": "code",
      "metadata": {
        "id": "0_JJ3dAXpJi4",
        "colab_type": "code",
        "colab": {
          "base_uri": "https://localhost:8080/",
          "height": 55
        },
        "outputId": "6fa3a4db-3071-44a4-d3cb-570ba0df69dd"
      },
      "source": [
        "puissance(2, 1000)"
      ],
      "execution_count": null,
      "outputs": [
        {
          "output_type": "execute_result",
          "data": {
            "text/plain": [
              "10715086071862673209484250490600018105614048117055336074437503883703510511249361224931983788156958581275946729175531468251871452856923140435984577574698574803934567774824230985421074605062371141877954182153046474983581941267398767559165543946077062914571196477686542167660429831652624386837205668069376"
            ]
          },
          "metadata": {
            "tags": []
          },
          "execution_count": 20
        }
      ]
    },
    {
      "cell_type": "markdown",
      "metadata": {
        "id": "p4LzJZQMp6HH",
        "colab_type": "text"
      },
      "source": [
        "* avantage de recursionlimit : \n",
        "  - évite les \"boucles infinies\" en cas d'erreur dans l'écriture d'une fonction récursive\n",
        "* inconvénient :\n",
        "  - renvoie une erreur dans certains cas **bien écrits** mais qui nécessitent un *grand nombre* d'appels récursifs. \n",
        "\n",
        "\n",
        "En python, c'est au programmeur de prévoir éventuellement d'augmenter la valeur recursionlimit, en fonction de ses besoins. \n",
        "\n",
        "D'autres langages (par exemple Caml) sont conçus principalement pour la récursivité (et la programmation fonctionnelle, dans le cas de Caml). La philosophie de python n'est pas de favoriser la récursivité..."
      ]
    },
    {
      "cell_type": "markdown",
      "metadata": {
        "id": "YhA3Wok8tKiO",
        "colab_type": "text"
      },
      "source": [
        "# Conclusion\n",
        "\n",
        "Une **définition récursive** comporte toujours au moins un **cas de base**, et au moins un **appel récursif** à l'objet qui est en train d'être défini.\n",
        "Une telle définition est parfois plus simple, parfois plus efficace, mais pas toujours !\n",
        "\n",
        "La **traduction en python** d'une définition mathématique récursive est très **simple**, mais il faut veiller à :\n",
        "- la différence entre **type de données** en python et **domaine** d'une fonction mathématique => instruction `assert`\n",
        "- la **limite** des appels récursifs en python et la gestion de la mémoire (pile d'appels)"
      ]
    }
  ]
}
