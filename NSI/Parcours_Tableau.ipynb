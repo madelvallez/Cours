{
  "nbformat": 4,
  "nbformat_minor": 0,
  "metadata": {
    "colab": {
      "name": "Parcours_Tableau.ipynb",
      "provenance": [],
      "collapsed_sections": [
        "6zPC-ec5m5wh",
        "qNsWpJvfoS2K",
        "cH5i3NmUrehW",
        "-kJF1CassqFo",
        "XlsuzfL5tSfG",
        "1brlS_zNozDp",
        "2xYIggRgqzgo"
      ],
      "include_colab_link": true
    },
    "kernelspec": {
      "name": "python3",
      "display_name": "Python 3"
    },
    "language_info": {
      "name": "python"
    }
  },
  "cells": [
    {
      "cell_type": "markdown",
      "metadata": {
        "id": "view-in-github",
        "colab_type": "text"
      },
      "source": [
        "<a href=\"https://colab.research.google.com/github/madelvallez/Cours/blob/master/NSI/Parcours_Tableau.ipynb\" target=\"_parent\"><img src=\"https://colab.research.google.com/assets/colab-badge.svg\" alt=\"Open In Colab\"/></a>"
      ]
    },
    {
      "cell_type": "markdown",
      "metadata": {
        "id": "Gx6Itx8FlmjR"
      },
      "source": [
        "# Parcours d'un tableau"
      ]
    },
    {
      "cell_type": "markdown",
      "metadata": {
        "id": "3Pq8A8lWlo9y"
      },
      "source": [
        "## Que signifie \"parcourir un tableau\" ?"
      ]
    },
    {
      "cell_type": "markdown",
      "metadata": {
        "id": "LgZRdqOolt91"
      },
      "source": [
        "On utilise l'expression \"parcourir un tableau\" lorsqu'**une variable prend successivement toutes les valeurs contenues dans un tableau**. \n",
        "\n",
        "Ceci peut se réaliser de plusieurs manières.\n",
        "\n",
        "**1**. En itérant sur les **éléments** d'un tableau\n",
        "\n",
        "    for v in t : \n",
        "\n",
        "**2**. En itérant sur les **indices** d'un tableau\n",
        "\n",
        "    for i in range(len(t)):\n",
        "        v = t[i]\n",
        "\n",
        "Dans les deux cas ci-dessus, la varible `v` prend successivement toutes les valeurs du tableau `t`. \n",
        "\n",
        "On a donc un **parcours** du tableau."
      ]
    },
    {
      "cell_type": "markdown",
      "metadata": {
        "id": "6zPC-ec5m5wh"
      },
      "source": [
        "# Exercice 1.A : indice_du_max"
      ]
    },
    {
      "cell_type": "markdown",
      "metadata": {
        "id": "RF-k9btQm8Gy"
      },
      "source": [
        "1. Compléter le code de la fonction `indice_du_max(t)` pour qu'elle corresponde aux conditions indiquées dans la chaîne de documentation\n",
        "2. Tester votre travail avec les assertions fournies."
      ]
    },
    {
      "cell_type": "code",
      "metadata": {
        "id": "bdGJUcRFlifv"
      },
      "source": [
        "def indice_du_max(t):\n",
        "    \"\"\"précondition : t est un tableau non vide, contenant des valeurs numériques\n",
        "    postcondition : la fonction renvoie l'indice de la plus grande valeur de t\n",
        "    si cette valeur apparaît plusieurs fois dans t, \n",
        "    alors l'indice renvoyé est le plus petit possible\"\"\"\n",
        "    imax=0\n",
        "    for i in range(len(t)):\n",
        "        if t[i]>t[imax]:\n",
        "            imax=i\n",
        "    return imax"
      ],
      "execution_count": 5,
      "outputs": []
    },
    {
      "cell_type": "code",
      "metadata": {
        "id": "g6WVu47OnrQU",
        "colab": {
          "base_uri": "https://localhost:8080/"
        },
        "outputId": "22429aad-23c1-4953-d5b1-8f0a436e371d"
      },
      "source": [
        "assert indice_du_max([10,50,100,30,70,80]) == 2\n",
        "assert indice_du_max([10,50,100,30,70,80,100]) == 2\n",
        "assert indice_du_max([10,50,100,30,70,80,3000]) == 6\n",
        "print('tests ok')"
      ],
      "execution_count": 6,
      "outputs": [
        {
          "output_type": "stream",
          "text": [
            "tests ok\n"
          ],
          "name": "stdout"
        }
      ]
    },
    {
      "cell_type": "markdown",
      "metadata": {
        "id": "qNsWpJvfoS2K"
      },
      "source": [
        "# Exercice 1.B : indice_du_dernier_max"
      ]
    },
    {
      "cell_type": "markdown",
      "metadata": {
        "id": "KwiXxoNboS2Z"
      },
      "source": [
        "1. Compléter le code de la fonction `indice_du_dernier_max(t)` pour qu'elle corresponde aux conditions indiquées dans la chaîne de documentation\n",
        "2. Tester votre travail avec les assertions fournies."
      ]
    },
    {
      "cell_type": "code",
      "metadata": {
        "id": "tG1c91AQoS2a"
      },
      "source": [
        "def indice_du_dernier_max(t):\n",
        "    \"\"\"précondition : t est un tableau non vide, contenant des valeurs numériques\n",
        "    postcondition : la fonction renvoie l'indice de la plus grande valeur de t\n",
        "    si cette valeur apparaît plusieurs fois dans t, \n",
        "    alors l'indice renvoyé est le plus GRAND possible\"\"\"\n",
        "    imax=0\n",
        "    for i in range(len(t)):\n",
        "        if t[i]>=t[imax]:\n",
        "            imax=i\n",
        "    return imax"
      ],
      "execution_count": 8,
      "outputs": []
    },
    {
      "cell_type": "code",
      "metadata": {
        "id": "rFDva3mMoS2b"
      },
      "source": [
        "assert indice_du_dernier_max([10,50,100,30,70,80]) == 2\n",
        "assert indice_du_dernier_max([10,50,100,30,70,80,100]) == 6\n",
        "assert indice_du_dernier_max([10,50,100,30,70,80,3000]) == 6\n",
        "print('tests ok')"
      ],
      "execution_count": null,
      "outputs": []
    },
    {
      "cell_type": "markdown",
      "metadata": {
        "id": "cH5i3NmUrehW"
      },
      "source": [
        "# Exercice 2.A : nb_occurrences"
      ]
    },
    {
      "cell_type": "markdown",
      "metadata": {
        "id": "6EZrLbX_rhmL"
      },
      "source": [
        "1. Compléter le code de la fonction `nb_occurrences(v,t)` pour qu'elle corresponde aux conditions indiquées dans la chaîne de documentation\n",
        "2. Tester votre travail avec les assertions fournies."
      ]
    },
    {
      "cell_type": "code",
      "metadata": {
        "id": "yn-2-XfBroSk"
      },
      "source": [
        "def nb_occurrences(v,t):\n",
        "    \"\"\"précondition : t est un tableau\n",
        "    postcondition : la fonction renvoie le nombre de cellules du tableau qui \n",
        "    contiennent la valeur v\n",
        "    \"\"\"\n",
        "    occ=0\n",
        "    for val in t:\n",
        "        if val == v:\n",
        "            occ+=1\n",
        "    return occ"
      ],
      "execution_count": 9,
      "outputs": []
    },
    {
      "cell_type": "code",
      "metadata": {
        "id": "TQdS3iCbr4ry"
      },
      "source": [
        "assert nb_occurrences(10, [15,10,13,10,8,15,10]) == 3\n",
        "assert nb_occurrences(15, [15,10,13,10,8,15,10]) == 2\n",
        "assert nb_occurrences(8, [15,10,13,10,8,15,10]) == 1\n",
        "assert nb_occurrences(7, [15,10,13,10,8,15,10]) == 0"
      ],
      "execution_count": 10,
      "outputs": []
    },
    {
      "cell_type": "markdown",
      "metadata": {
        "id": "-kJF1CassqFo"
      },
      "source": [
        "# Exercice 2.B : premiere_occurrence"
      ]
    },
    {
      "cell_type": "markdown",
      "metadata": {
        "id": "Y4kMBL64sqF4"
      },
      "source": [
        "1. Compléter le code de la fonction `premiere_occurrence(v,t)` pour qu'elle corresponde aux conditions indiquées dans la chaîne de documentation\n",
        "2. Tester votre travail avec les assertions fournies."
      ]
    },
    {
      "cell_type": "code",
      "metadata": {
        "id": "v34jAJcVsqF5"
      },
      "source": [
        "def premiere_occurrence(v,t):\n",
        "    \"\"\"précondition : t est un tableau\n",
        "    postcondition : la fonction renvoie l'indice de la première cellule \n",
        "    du tableau qui contient la valeur v, lorsque cet indice existe.\n",
        "    sinon, la fonction renvoie None\n",
        "    \"\"\"\n",
        "    for i in range(len(t)):\n",
        "        if t[i] == v:\n",
        "            return i\n",
        "    return None"
      ],
      "execution_count": 15,
      "outputs": []
    },
    {
      "cell_type": "code",
      "metadata": {
        "id": "j5PrxsVcsqF6",
        "colab": {
          "base_uri": "https://localhost:8080/"
        },
        "outputId": "462a4f13-79df-40a7-cf99-2eaae18b928b"
      },
      "source": [
        "assert premiere_occurrence(10, [15,10,13,10,8,15,10]) == 1\n",
        "assert premiere_occurrence(8, [15,10,13,10,8,15,10]) == 4\n",
        "assert premiere_occurrence(7, [15,10,13,10,8,15,10]) == None \n",
        "print('tests ok')"
      ],
      "execution_count": 16,
      "outputs": [
        {
          "output_type": "stream",
          "text": [
            "tests ok\n"
          ],
          "name": "stdout"
        }
      ]
    },
    {
      "cell_type": "markdown",
      "metadata": {
        "id": "XlsuzfL5tSfG"
      },
      "source": [
        "# Exercice 2.C : derniere_occurrence"
      ]
    },
    {
      "cell_type": "markdown",
      "metadata": {
        "id": "U5zUVxSRtSfK"
      },
      "source": [
        "1. Compléter le code de la fonction `derniere_occurrence(v,t)` pour qu'elle corresponde aux conditions indiquées dans la chaîne de documentation\n",
        "2. Tester votre travail avec les assertions fournies."
      ]
    },
    {
      "cell_type": "code",
      "metadata": {
        "id": "x90NJ2fvtSfL"
      },
      "source": [
        "def derniere_occurrence(v,t):\n",
        "    \"\"\"précondition : t est un tableau\n",
        "    postcondition : la fonction renvoie l'indice de la dernière cellule \n",
        "    du tableau qui contient la valeur v, lorsque cet indice existe.\n",
        "    sinon, la fonction renvoie None\n",
        "    \"\"\"\n",
        "    occ=list()\n",
        "    for i in range(len(t)):\n",
        "        if t[i] == v:\n",
        "            occ.append(i)\n",
        "    if len(occ)>0: return occ[-1]\n",
        "    return None"
      ],
      "execution_count": 18,
      "outputs": []
    },
    {
      "cell_type": "code",
      "metadata": {
        "id": "3-a0DAzhtSfN"
      },
      "source": [
        "assert derniere_occurrence(10, [15,10,13,10,8,15,10]) == 6\n",
        "assert derniere_occurrence(8, [15,10,13,10,8,15,10]) == 4\n",
        "assert derniere_occurrence(7, [15,10,13,10,8,15,10]) == None \n",
        "print('tests ok')"
      ],
      "execution_count": null,
      "outputs": []
    },
    {
      "cell_type": "markdown",
      "metadata": {
        "id": "1brlS_zNozDp"
      },
      "source": [
        "# Exercice 3.A :  plus_long_mot"
      ]
    },
    {
      "cell_type": "markdown",
      "metadata": {
        "id": "4_YXhJiRozDx"
      },
      "source": [
        "1. Compléter le code de la fonction `plus_long_mot(t)` pour qu'elle corresponde aux conditions indiquées dans la chaîne de documentation\n",
        "2. Tester votre travail avec les assertions fournies."
      ]
    },
    {
      "cell_type": "code",
      "metadata": {
        "id": "nfSrzrFPozDy"
      },
      "source": [
        "def plus_long_mot(t):\n",
        "    \"\"\"précondition : t est un tableau, contenant des chaînes de caractères\n",
        "    postcondition : la fonction renvoie le plus long mot du tableau t.\n",
        "    -si plusieurs mots sont de longueur maximale, \n",
        "    alors la fonction renvoie celui qui arrive en premier dans le tableau\n",
        "    -si le tableau est vide, alors la fonction renvoie la chaîne vide  ''\n",
        "    \"\"\"\n",
        "    if len(t)==0: return ''\n",
        "    len_max=len(t[0])\n",
        "    max=t[0]\n",
        "    for i in range(len(t)):\n",
        "        if len(t[i])>len_max:\n",
        "            len_max=len(t[i])\n",
        "            max=t[i]\n",
        "    return max"
      ],
      "execution_count": 20,
      "outputs": []
    },
    {
      "cell_type": "code",
      "metadata": {
        "id": "p5IdjOhQozD0",
        "colab": {
          "base_uri": "https://localhost:8080/"
        },
        "outputId": "bcac80cf-9df8-4636-dbe3-af5041680630"
      },
      "source": [
        "assert plus_long_mot(['chien', 'chat', 'tortue', 'éléphant', 'lion']) == 'éléphant'\n",
        "assert plus_long_mot(['pie', 'rat', 'lion', 'chat']) == 'lion'\n",
        "assert plus_long_mot([]) == ''\n",
        "print('tests ok')"
      ],
      "execution_count": 21,
      "outputs": [
        {
          "output_type": "stream",
          "text": [
            "tests ok\n"
          ],
          "name": "stdout"
        }
      ]
    },
    {
      "cell_type": "markdown",
      "metadata": {
        "id": "2xYIggRgqzgo"
      },
      "source": [
        "# Exercice 3.B : dernier_plus_long_mot"
      ]
    },
    {
      "cell_type": "markdown",
      "metadata": {
        "id": "m6PkvtZ5qzg6"
      },
      "source": [
        "1. Compléter le code de la fonction `dernier_plus_long_mot(t)` pour qu'elle corresponde aux conditions indiquées dans la chaîne de documentation\n",
        "2. Tester votre travail avec les assertions fournies."
      ]
    },
    {
      "cell_type": "code",
      "metadata": {
        "id": "vh7VqT-Dqzg7"
      },
      "source": [
        "def dernier_plus_long_mot(t):\n",
        "    \"\"\"précondition : t est un tableau, contenant des chaînes de caractères\n",
        "    postcondition : la fonction renvoie le plus long mot du tableau t.\n",
        "    -si plusieurs mots sont de longueur maximale, \n",
        "    alors la fonction renvoie celui qui arrive en DERNIER dans le tableau\n",
        "    -si le tableau est vide, alors la fonction renvoie la chaîne vide  ''\n",
        "    \"\"\"\n",
        "    if len(t)==0: return ''\n",
        "    len_max=len(t[0])\n",
        "    max=t[0]\n",
        "    for i in range(len(t)):\n",
        "        if len(t[i])>=len_max:\n",
        "            len_max=len(t[i])\n",
        "            max=t[i]\n",
        "    return max"
      ],
      "execution_count": 24,
      "outputs": []
    },
    {
      "cell_type": "code",
      "metadata": {
        "id": "Au_c1LSLqzg8",
        "colab": {
          "base_uri": "https://localhost:8080/"
        },
        "outputId": "acc4c128-7012-49f6-b195-159a8695bf00"
      },
      "source": [
        "assert dernier_plus_long_mot(['chien', 'chat', 'tortue', 'éléphant', 'lion']) == 'éléphant'\n",
        "assert dernier_plus_long_mot(['pie', 'rat', 'lion', 'chat']) == 'chat'\n",
        "assert dernier_plus_long_mot([]) == ''\n",
        "print('tests ok')"
      ],
      "execution_count": 25,
      "outputs": [
        {
          "output_type": "stream",
          "text": [
            "tests ok\n"
          ],
          "name": "stdout"
        }
      ]
    }
  ]
}