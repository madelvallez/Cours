{
  "nbformat": 4,
  "nbformat_minor": 0,
  "metadata": {
    "colab": {
      "name": "Chap12_ACTIVITE_Diviser_Régner.ipynb",
      "provenance": [],
      "include_colab_link": true
    },
    "kernelspec": {
      "name": "python3",
      "display_name": "Python 3"
    }
  },
  "cells": [
    {
      "cell_type": "markdown",
      "metadata": {
        "id": "view-in-github",
        "colab_type": "text"
      },
      "source": [
        "<a href=\"https://colab.research.google.com/github/madelvallez/Cours/blob/master/NSI/Chap11/ACTIVITE_Diviser_R%C3%A9gner.ipynb\" target=\"_parent\"><img src=\"https://colab.research.google.com/assets/colab-badge.svg\" alt=\"Open In Colab\"/></a>"
      ]
    },
    {
      "cell_type": "markdown",
      "metadata": {
        "id": "0NCZOOSj2rwn"
      },
      "source": [
        "# Rechercher une valeur dans une liste"
      ]
    },
    {
      "cell_type": "markdown",
      "metadata": {
        "id": "LwbJo5rP3MU9"
      },
      "source": [
        "## Exemple 1"
      ]
    },
    {
      "cell_type": "markdown",
      "metadata": {
        "id": "6AfdSWuo2u0u"
      },
      "source": [
        "Exécuter \"à la main\" le programme suivant, puis vérifier avec Python"
      ]
    },
    {
      "cell_type": "code",
      "metadata": {
        "id": "iKQCE9Lp2rLd",
        "outputId": "2e2f8d8e-8ae7-470a-a1a6-f99284d5d57d",
        "colab": {
          "base_uri": "https://localhost:8080/"
        }
      },
      "source": [
        "def est_present(t, e) :\r\n",
        "    bingo = False\r\n",
        "    i = 0\r\n",
        "    n = len(t)\r\n",
        "    while (i < n) and (bingo == False) :\r\n",
        "        if t[i] == e :\r\n",
        "            bingo = True\r\n",
        "        i = i + 1\r\n",
        "    return bingo\r\n",
        "    \r\n",
        "print(est_present([3,5,12,15,48],4))    #False\r\n",
        "print(est_present([3,5,12,15,48],3))    #True"
      ],
      "execution_count": 1,
      "outputs": [
        {
          "output_type": "stream",
          "text": [
            "False\n",
            "True\n"
          ],
          "name": "stdout"
        }
      ]
    },
    {
      "cell_type": "markdown",
      "metadata": {
        "id": "p9E6lfcv28ua"
      },
      "source": [
        "#### Quelle est la complexité en temps de la fonction `est_present`:\r\n",
        "* dans le meilleur des cas ? -> 1\r\n",
        "* dans le pire des cas ? -> longueur de t\r\n",
        "\r\n",
        "=> Idée principale: Plus le tableau est grand plus l'execution est longue dans le cas où `e` n'est pas dans la tableau. \r\n",
        "\r\n",
        "=> La complexité est proportionnelle à la taille du tableau. On dit qu'elle est **linéaire** et on note $O(n)$."
      ]
    },
    {
      "cell_type": "markdown",
      "metadata": {
        "id": "jCGdy2Zl3VSQ"
      },
      "source": [
        "## Exemple 2"
      ]
    },
    {
      "cell_type": "code",
      "metadata": {
        "id": "mGd5d1O23ZEu"
      },
      "source": [
        "def mystere(t, e):\r\n",
        "    bingo = False\r\n",
        "    indiceGauche = 0\r\n",
        "    indiceDroite = len(t) - 1\r\n",
        "    while (indiceGauche <= indiceDroite) and (bingo == False) :\r\n",
        "        indiceMedian = (indiceGauche + indiceDroite) // 2\r\n",
        "        if t[indiceMedian] == e:\r\n",
        "                bingo = True\r\n",
        "        elif t[indiceMedian] < e:\r\n",
        "                indiceGauche = indiceMedian + 1\r\n",
        "        else:\r\n",
        "                indiceDroite =indiceMedian - 1\r\n",
        "    return bingo\r\n",
        "\r\n",
        "\r\n",
        "print(mystere([2, 12, 17, 25, 33, 35, 44, 54, 77, 91], 35))\r\n",
        "print(mystere([2, 12, 17, 25, 33, 35, 44, 54, 77, 91], 50))"
      ],
      "execution_count": null,
      "outputs": []
    },
    {
      "cell_type": "markdown",
      "metadata": {
        "id": "CLlgl9643kAb"
      },
      "source": [
        "1. A quelle précondition sur le tableau t la fonction mystère permet-elle de détecter la présence d'un élément e dans t ? -> Le tableau `t` doit être ordonné dans l'ordre croissant.\r\n",
        "2. Dans quel cas l'exécution de `mystere(t, e)` est-elle la plus longue possible ? -> L'execition estla plus longue quand `e` n'est pas dans `t`"
      ]
    },
    {
      "cell_type": "markdown",
      "metadata": {
        "id": "3qiPIVJ74Q0Z"
      },
      "source": [
        "## Complexité de la fonction mystère"
      ]
    },
    {
      "cell_type": "code",
      "metadata": {
        "id": "DoMV8UQ94XPR"
      },
      "source": [
        "def nb_boucles_mystere(t, e):\r\n",
        "    cpt = 0\r\n",
        "    bingo = False\r\n",
        "    indiceGauche = 0\r\n",
        "    indiceDroite = len(t) - 1\r\n",
        "    while (indiceGauche <= indiceDroite) and (bingo == False) :\r\n",
        "        cpt += 1\r\n",
        "        indiceMedian = (indiceGauche + indiceDroite) // 2\r\n",
        "        if t[indiceMedian] == e:\r\n",
        "                bingo = True\r\n",
        "        elif t[indiceMedian] < e:\r\n",
        "                indiceGauche = indiceMedian + 1\r\n",
        "        else:\r\n",
        "                indiceDroite =indiceMedian - 1\r\n",
        "    return cpt"
      ],
      "execution_count": null,
      "outputs": []
    },
    {
      "cell_type": "markdown",
      "metadata": {
        "id": "PE7pFQpH4mqp"
      },
      "source": [
        "1. Exécuter la fonction `nb_boucles_mystere` sur des tableaux de taille 32, 64, 128... $2^k$ pour différentes valeur de cas afin d'évaluer le nombre de boucles exécutées **dans le pire des cas**\r\n",
        "2. Que peut-on en conclure sur la complexité en temps de la fonction mystère."
      ]
    },
    {
      "cell_type": "markdown",
      "metadata": {
        "id": "PUr_WLeO5jGg"
      },
      "source": [
        "## Rappel "
      ]
    },
    {
      "cell_type": "markdown",
      "metadata": {
        "id": "YtLyD3J15mgY"
      },
      "source": [
        "![](https://codimd.s3.shivering-isles.com/demo/uploads/upload_fafe470b6fda17b1b8bc77f58fc6408f.png)\r\n"
      ]
    }
  ]
}