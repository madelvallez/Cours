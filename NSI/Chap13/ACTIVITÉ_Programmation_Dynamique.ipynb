{
  "nbformat": 4,
  "nbformat_minor": 0,
  "metadata": {
    "colab": {
      "name": "Chap13_ACTIVITÉ_Programmation_Dynamique.ipynb",
      "provenance": [],
      "include_colab_link": true
    },
    "kernelspec": {
      "name": "python3",
      "display_name": "Python 3"
    }
  },
  "cells": [
    {
      "cell_type": "markdown",
      "metadata": {
        "id": "view-in-github",
        "colab_type": "text"
      },
      "source": [
        "<a href=\"https://colab.research.google.com/github/madelvallez/Cours/blob/master/NSI/Chap13/ACTIVIT%C3%89_Programmation_Dynamique.ipynb\" target=\"_parent\"><img src=\"https://colab.research.google.com/assets/colab-badge.svg\" alt=\"Open In Colab\"/></a>"
      ]
    },
    {
      "cell_type": "markdown",
      "metadata": {
        "id": "Cvi2lfcXg9V7"
      },
      "source": [
        "# Activité 1"
      ]
    },
    {
      "cell_type": "markdown",
      "metadata": {
        "id": "TH12XNOhhAtb"
      },
      "source": [
        "On rappelle la définition de la suite de Fibonacci:\n",
        "\n",
        "* $u_0 = 0$\n",
        "* $u_1 = 1$\n",
        "* pour tout $n \\in \\mathbb{N} : u_{n+2} = u_{n}+u_{n+1}$"
      ]
    },
    {
      "cell_type": "markdown",
      "metadata": {
        "id": "ATH01IsEhAqH"
      },
      "source": [
        "1. Calculer $u_5$ à la main.\n",
        "2. Compléter la définition de la `fonction fibo(n)` pour qu'elle renvoie le terme $u_n$."
      ]
    },
    {
      "cell_type": "code",
      "metadata": {
        "id": "l4qF71lwg0TV",
        "colab": {
          "base_uri": "https://localhost:8080/"
        },
        "outputId": "dda73cfe-3b01-405d-a5ef-02b87aadf2fe"
      },
      "source": [
        "def fibo(n):\n",
        "    if n <= 1:\n",
        "        return 0 if n==0 else 1\n",
        "    return fibo(n-1)+fibo(n-2)\n",
        "\n",
        "fibo(4)"
      ],
      "execution_count": 1,
      "outputs": [
        {
          "output_type": "execute_result",
          "data": {
            "text/plain": [
              "3"
            ]
          },
          "metadata": {
            "tags": []
          },
          "execution_count": 1
        }
      ]
    },
    {
      "cell_type": "markdown",
      "metadata": {
        "id": "DNRKb6Dxig8X"
      },
      "source": [
        "3. Écrire l'arbre d'appels de `fibo(4)`\r\n",
        "\r\n",
        "```\r\n",
        "    fibo(4)\r\n",
        "        -> fibo(3)________________+________________fibo(2)\r\n",
        "            -> fibo(2)________+________fibo(1)      -> fibo(1)+fibo(0)\r\n",
        "                -> fibo(1)+fibo(0)      -> 1             -> 1      -> 0\r\n",
        "                     -> 1    -> 0\r\n",
        "    fibo(4)= 1+0+1+1+0 = 3\r\n",
        "    \r\n",
        "\r\n",
        "```"
      ]
    },
    {
      "cell_type": "code",
      "metadata": {
        "id": "LfiibbcPitfQ",
        "outputId": "b466dced-a846-4c97-de96-a55b00a7bd73",
        "colab": {
          "base_uri": "https://localhost:8080/"
        }
      },
      "source": [
        "def appels_recursifs_fibo(n, depth=0):\n",
        "    space= '        '\n",
        "    if n <= 1:\n",
        "        print(space * depth, end='')\n",
        "        print(f'fibo({n})={n}')\n",
        "        return n\n",
        "    print(space * depth, end='')\n",
        "    print(f'fibo({n})=fibo({n-1})+fibo({n-2})')\n",
        "    return appels_recursifs_fibo(n-1, depth+1)+appels_recursifs_fibo(n-2,depth+1)\n",
        "\n",
        "appels_recursifs_fibo(4)"
      ],
      "execution_count": 8,
      "outputs": [
        {
          "output_type": "stream",
          "text": [
            "fibo(4)=fibo(3)+fibo(2)\n",
            "        fibo(3)=fibo(2)+fibo(1)\n",
            "                fibo(2)=fibo(1)+fibo(0)\n",
            "                        fibo(1)=1\n",
            "                        fibo(0)=0\n",
            "                fibo(1)=1\n",
            "        fibo(2)=fibo(1)+fibo(0)\n",
            "                fibo(1)=1\n",
            "                fibo(0)=0\n"
          ],
          "name": "stdout"
        },
        {
          "output_type": "execute_result",
          "data": {
            "text/plain": [
              "3"
            ]
          },
          "metadata": {
            "tags": []
          },
          "execution_count": 8
        }
      ]
    },
    {
      "cell_type": "code",
      "metadata": {
        "id": "7Qf6LLTCr4zj",
        "outputId": "43a52a35-5f44-47ec-9e0f-1ba10ba39ae4",
        "colab": {
          "base_uri": "https://localhost:8080/"
        }
      },
      "source": [
        "def compte_appels_recursifs_fibo(n):\n",
        "    if n <= 1:\n",
        "        return 0\n",
        "    return 2+compte_appels_recursifs_fibo(n-1)+compte_appels_recursifs_fibo(n-2)\n",
        "\n",
        "compte_appels_recursifs_fibo(3)"
      ],
      "execution_count": 10,
      "outputs": [
        {
          "output_type": "execute_result",
          "data": {
            "text/plain": [
              "4"
            ]
          },
          "metadata": {
            "tags": []
          },
          "execution_count": 10
        }
      ]
    },
    {
      "cell_type": "markdown",
      "metadata": {
        "id": "ULmB7tYhmGhs"
      },
      "source": [
        "4. Comment faire pour éviter d'exécuter plusieurs fois le même appel récursif?\r\n",
        "\r\n",
        "-> politique \"Bottom-Up\": parir de fibo(1) pour arriver à fibo(n)\r\n",
        "\r\n",
        "-> programmation dynamique: stocker en mémoire les résultats déjà calculés"
      ]
    }
  ]
}