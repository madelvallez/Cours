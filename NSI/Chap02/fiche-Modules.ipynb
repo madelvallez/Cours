{
  "nbformat": 4,
  "nbformat_minor": 0,
  "metadata": {
    "colab": {
      "name": "Untitled2.ipynb",
      "provenance": []
    },
    "kernelspec": {
      "name": "python3",
      "display_name": "Python 3"
    }
  },
  "cells": [
    {
      "cell_type": "markdown",
      "metadata": {
        "id": "W6n-1jrSZFnL"
      },
      "source": [
        "#Modularité"
      ]
    },
    {
      "cell_type": "markdown",
      "metadata": {
        "id": "asEEv1q-ZWXF"
      },
      "source": [
        "Pour eviter de copier/ coller une fonction utile a plusieurs programmes, on peut les stocker dans un module et \"utiliser ce module comme un bibliothèque\"."
      ]
    }
  ]
}