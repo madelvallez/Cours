{
  "nbformat": 4,
  "nbformat_minor": 0,
  "metadata": {
    "colab": {
      "name": "Untitled2.ipynb",
      "provenance": [],
      "include_colab_link": true
    },
    "kernelspec": {
      "name": "python3",
      "display_name": "Python 3"
    }
  },
  "cells": [
    {
      "cell_type": "markdown",
      "metadata": {
        "id": "view-in-github",
        "colab_type": "text"
      },
      "source": [
        "<a href=\"https://colab.research.google.com/github/madelvallez/Cours/blob/master/NSI/Chap02/fiche-Modules.ipynb\" target=\"_parent\"><img src=\"https://colab.research.google.com/assets/colab-badge.svg\" alt=\"Open In Colab\"/></a>"
      ]
    },
    {
      "cell_type": "markdown",
      "metadata": {
        "id": "W6n-1jrSZFnL"
      },
      "source": [
        "#Modularité"
      ]
    },
    {
      "cell_type": "markdown",
      "metadata": {
        "id": "asEEv1q-ZWXF"
      },
      "source": [
        "##I. Interface\n",
        "\n",
        "Pour eviter de copier/ coller une fonction utile à plusieurs programmes, on peut les stocker dans un module et \"utiliser ce module comme un bibliothèque\".\n",
        "\n",
        "ATTENTION: le programme dépends ainsi de plusieurs fichier; il est conseillé de les stocker dnnas le même fichier."
      ]
    },
    {
      "cell_type": "markdown",
      "metadata": {
        "id": "16vkhD_CcQdV"
      },
      "source": [
        "##1) Avantages \n",
        "\n",
        "*   On peut faire évoluer un module dans une copie sans impacter l'execution du programme.\n",
        "*   Cela vaut aussi pour les tests\n",
        "\n"
      ]
    },
    {
      "cell_type": "markdown",
      "metadata": {
        "id": "niM0J_fBdQ_W"
      },
      "source": [
        "##2) Vocabulaire\n",
        "\n",
        "**Interface**: Nom, rôle et valeurs nécessaire pour utiliser une fonction\n",
        "\n",
        "**Implémentaion**: Manière dont fonctionne un programme"
      ]
    },
    {
      "cell_type": "markdown",
      "metadata": {
        "id": "fyZOfWhltK1-"
      },
      "source": [
        "##3) Importation\n",
        "\n",
        "Il exite differentes manières d'importer un module en python:\n",
        "\n",
        "\n",
        "*   ```from module import * ```: importe **toutes** les fonctions du module (-> utilisation avec ```fonction()```)  \n",
        "*   ```from module import fonction```: importe **uniquement** la fonction ```fonction``` (-> utilisation avec ```fonction()```)\n",
        "*   ```import module```: importe le module entièrement (-> utilisation des fonction avec ```module.fonction()```)\n"
      ]
    },
    {
      "cell_type": "markdown",
      "metadata": {
        "id": "tbLAeLnytB6M"
      },
      "source": [
        "##II. Exceptions\n",
        "\n",
        "Un module bien construit permet aussi en cas de problème lors de l'utilisation d'indiquer une erreur facilitant de débuggage.\n",
        "\n",
        "Dans python differentes fonctions permettent de \"prendre les devants\" sur une erreur."
      ]
    },
    {
      "cell_type": "markdown",
      "metadata": {
        "id": "u1H8TeDkxJuy"
      },
      "source": [
        "##1) Except\n",
        "\n"
      ]
    }
  ]
}