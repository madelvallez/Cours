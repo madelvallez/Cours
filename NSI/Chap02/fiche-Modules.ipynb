{
  "nbformat": 4,
  "nbformat_minor": 0,
  "metadata": {
    "colab": {
      "name": "Untitled2.ipynb",
      "provenance": [],
      "include_colab_link": true
    },
    "kernelspec": {
      "name": "python3",
      "display_name": "Python 3"
    }
  },
  "cells": [
    {
      "cell_type": "markdown",
      "metadata": {
        "id": "view-in-github",
        "colab_type": "text"
      },
      "source": [
        "<a href=\"https://colab.research.google.com/github/madelvallez/Cours/blob/master/NSI/Chap02/fiche-Modules.ipynb\" target=\"_parent\"><img src=\"https://colab.research.google.com/assets/colab-badge.svg\" alt=\"Open In Colab\"/></a>"
      ]
    },
    {
      "cell_type": "markdown",
      "metadata": {
        "id": "W6n-1jrSZFnL"
      },
      "source": [
        "#Modularité"
      ]
    },
    {
      "cell_type": "markdown",
      "metadata": {
        "id": "asEEv1q-ZWXF"
      },
      "source": [
        "##I. Interface\n",
        "\n",
        "Pour eviter de copier/ coller une fonction utile à plusieurs programmes, on peut les stocker dans un module et \"utiliser ce module comme un bibliothèque\".\n",
        "\n",
        "ATTENTION: le programme dépends ainsi de plusieurs fichier; il est conseillé de les stocker dans le même fichier."
      ]
    },
    {
      "cell_type": "markdown",
      "metadata": {
        "id": "16vkhD_CcQdV"
      },
      "source": [
        "##1) Avantages \n",
        "\n",
        "*   On peut faire évoluer un module dans une copie sans impacter l'execution du programme.\n",
        "*   Cela vaut aussi pour les tests\n",
        "\n"
      ]
    },
    {
      "cell_type": "markdown",
      "metadata": {
        "id": "niM0J_fBdQ_W"
      },
      "source": [
        "##2) Vocabulaire\n",
        "\n",
        "**Interface**: Nom, rôle et valeurs nécessaire pour utiliser une fonction\n",
        "\n",
        "**Implémentaion**: Manière dont fonctionne un programme"
      ]
    },
    {
      "cell_type": "markdown",
      "metadata": {
        "id": "fyZOfWhltK1-"
      },
      "source": [
        "##3) Importation\n",
        "\n",
        "Il exite differentes manières d'importer un module en python:\n",
        "\n",
        "\n",
        "*   ```from module import * ```: importe **toutes** les fonctions du module (-> utilisation avec ```fonction()```)  \n",
        "*   ```from module import fonction```: importe **uniquement** la fonction ```fonction``` (-> utilisation avec ```fonction()```)\n",
        "*   ```import module```: importe le module entièrement (-> utilisation des fonction avec ```module.fonction()```)\n"
      ]
    },
    {
      "cell_type": "markdown",
      "metadata": {
        "id": "tbLAeLnytB6M"
      },
      "source": [
        "##II. Exceptions\n",
        "\n",
        "Un module bien construit permet aussi en cas de problème lors de l'utilisation d'indiquer une erreur facilitant de débuggage.\n",
        "\n",
        "Dans python differentes fonctions permettent de \"prendre les devants\" sur une erreur."
      ]
    },
    {
      "cell_type": "markdown",
      "metadata": {
        "id": "u1H8TeDkxJuy"
      },
      "source": [
        "##1) Raise\n",
        "\n",
        "L'outil```raise``` permet de lever une erreur avant que l'execution n'en crée une. Ainsi on peut maitriser le contenu de l'erreur.\n",
        "\n",
        "Voici les intitulés d'erreurs les plus courantes:\n",
        "\n",
        "|exception|contexte|\n",
        "|:--------:|:------:|\n",
        "|NameError|nom de variable inexistant|\n",
        "|IndexError|accès à un indice invalide dans une liste ou un objet indexé |\n",
        "|ValueError|valeur incorrecte dans le contexte |\n",
        "|KeyError|accès à une clé inexistante dans un dictionnaire|\n",
        "|ZeroDivisionError|division par zéro|\n",
        "|TypeError|opération appliquée à des valeurs dont le type ne correspond pas|\n",
        "\n",
        "####Exemple:"
      ]
    },
    {
      "cell_type": "code",
      "metadata": {
        "id": "2jRA_ZxPkQyU"
      },
      "source": [
        "def division(a,b):\n",
        "    '''renvoie le resultat de la division de a par b'''\n",
        "    if b==0:\n",
        "        raise ZeroDivisionError(\"on ne peut pas diviser une valeur par 0\")\n",
        "    if type(a)!=int or type(b)!=int:\n",
        "        raise TypeError(\"a et b doivent être des entiers\")\n",
        "    return a/b"
      ],
      "execution_count": 1,
      "outputs": []
    },
    {
      "cell_type": "code",
      "metadata": {
        "id": "x5569PTblL2K",
        "outputId": "24591dce-fb16-454d-eee3-a330df2d6091",
        "colab": {
          "base_uri": "https://localhost:8080/",
          "height": 302
        }
      },
      "source": [
        "division(5,0)"
      ],
      "execution_count": 2,
      "outputs": [
        {
          "output_type": "error",
          "ename": "ZeroDivisionError",
          "evalue": "ignored",
          "traceback": [
            "\u001b[0;31m---------------------------------------------------------------------------\u001b[0m",
            "\u001b[0;31mZeroDivisionError\u001b[0m                         Traceback (most recent call last)",
            "\u001b[0;32m<ipython-input-2-41e6f43c7f26>\u001b[0m in \u001b[0;36m<module>\u001b[0;34m()\u001b[0m\n\u001b[0;32m----> 1\u001b[0;31m \u001b[0mdivision\u001b[0m\u001b[0;34m(\u001b[0m\u001b[0;36m5\u001b[0m\u001b[0;34m,\u001b[0m\u001b[0;36m0\u001b[0m\u001b[0;34m)\u001b[0m\u001b[0;34m\u001b[0m\u001b[0;34m\u001b[0m\u001b[0m\n\u001b[0m",
            "\u001b[0;32m<ipython-input-1-24e9ca2df308>\u001b[0m in \u001b[0;36mdivision\u001b[0;34m(a, b)\u001b[0m\n\u001b[1;32m      2\u001b[0m     \u001b[0;34m'''renvoie le resultat de la division de a par b'''\u001b[0m\u001b[0;34m\u001b[0m\u001b[0;34m\u001b[0m\u001b[0m\n\u001b[1;32m      3\u001b[0m     \u001b[0;32mif\u001b[0m \u001b[0mb\u001b[0m\u001b[0;34m==\u001b[0m\u001b[0;36m0\u001b[0m\u001b[0;34m:\u001b[0m\u001b[0;34m\u001b[0m\u001b[0;34m\u001b[0m\u001b[0m\n\u001b[0;32m----> 4\u001b[0;31m         \u001b[0;32mraise\u001b[0m \u001b[0mZeroDivisionError\u001b[0m\u001b[0;34m(\u001b[0m\u001b[0;34m\"on ne peut pas diviser une valeur par 0\"\u001b[0m\u001b[0;34m)\u001b[0m\u001b[0;34m\u001b[0m\u001b[0;34m\u001b[0m\u001b[0m\n\u001b[0m\u001b[1;32m      5\u001b[0m     \u001b[0;32mif\u001b[0m \u001b[0mtype\u001b[0m\u001b[0;34m(\u001b[0m\u001b[0ma\u001b[0m\u001b[0;34m)\u001b[0m\u001b[0;34m!=\u001b[0m\u001b[0mint\u001b[0m \u001b[0;32mor\u001b[0m \u001b[0mtype\u001b[0m\u001b[0;34m(\u001b[0m\u001b[0mb\u001b[0m\u001b[0;34m)\u001b[0m\u001b[0;34m!=\u001b[0m\u001b[0mint\u001b[0m\u001b[0;34m:\u001b[0m\u001b[0;34m\u001b[0m\u001b[0;34m\u001b[0m\u001b[0m\n\u001b[1;32m      6\u001b[0m         \u001b[0;32mraise\u001b[0m \u001b[0mTypeError\u001b[0m\u001b[0;34m(\u001b[0m\u001b[0;34m\"a et b doivent être des entiers\"\u001b[0m\u001b[0;34m)\u001b[0m\u001b[0;34m\u001b[0m\u001b[0;34m\u001b[0m\u001b[0m\n",
            "\u001b[0;31mZeroDivisionError\u001b[0m: on ne peut pas diviser une valeur par 0"
          ]
        }
      ]
    },
    {
      "cell_type": "code",
      "metadata": {
        "id": "fyG1gRqLlTrn",
        "outputId": "f59635ad-3440-4130-b577-313f0624baa9",
        "colab": {
          "base_uri": "https://localhost:8080/",
          "height": 173
        }
      },
      "source": [
        "division('e','T')"
      ],
      "execution_count": 3,
      "outputs": [
        {
          "output_type": "error",
          "ename": "NameError",
          "evalue": "ignored",
          "traceback": [
            "\u001b[0;31m---------------------------------------------------------------------------\u001b[0m",
            "\u001b[0;31mNameError\u001b[0m                                 Traceback (most recent call last)",
            "\u001b[0;32m<ipython-input-3-de0e3ecaf022>\u001b[0m in \u001b[0;36m<module>\u001b[0;34m()\u001b[0m\n\u001b[0;32m----> 1\u001b[0;31m \u001b[0mdivision\u001b[0m\u001b[0;34m(\u001b[0m\u001b[0me\u001b[0m\u001b[0;34m,\u001b[0m\u001b[0mT\u001b[0m\u001b[0;34m)\u001b[0m\u001b[0;34m\u001b[0m\u001b[0;34m\u001b[0m\u001b[0m\n\u001b[0m",
            "\u001b[0;31mNameError\u001b[0m: name 'e' is not defined"
          ]
        }
      ]
    },
    {
      "cell_type": "code",
      "metadata": {
        "id": "CxHWzEsrlEc8",
        "outputId": "cdb7252f-ada0-4d37-a19e-e621572300e7",
        "colab": {
          "base_uri": "https://localhost:8080/",
          "height": 35
        }
      },
      "source": [
        "division(4,2)"
      ],
      "execution_count": 4,
      "outputs": [
        {
          "output_type": "execute_result",
          "data": {
            "text/plain": [
              "2.0"
            ]
          },
          "metadata": {
            "tags": []
          },
          "execution_count": 4
        }
      ]
    },
    {
      "cell_type": "markdown",
      "metadata": {
        "id": "U2y2GVFqxuTE"
      },
      "source": [
        "##2) Try / Except\n",
        "\n",
        "Le groupe ```try```/```exept``` permet de rattraper une erreur anticipable et maitriser le message d'erreur dans le cas ou elle se produit.\n",
        "\n",
        "####Exemple:"
      ]
    },
    {
      "cell_type": "code",
      "metadata": {
        "id": "Zh3jDJKBmOFv",
        "outputId": "b3d1b542-0506-4b0f-8718-0655005b67f6",
        "colab": {
          "base_uri": "https://localhost:8080/",
          "height": 54
        }
      },
      "source": [
        "try:\n",
        "    n = int(input('entrer un entier: '))\n",
        "except ValueError :\n",
        "    print(\"Entrer un nombre entier valide\")"
      ],
      "execution_count": 6,
      "outputs": [
        {
          "output_type": "stream",
          "text": [
            "entrer un entier: t\n",
            "Entrer un nombre entier valide\n"
          ],
          "name": "stdout"
        }
      ]
    },
    {
      "cell_type": "markdown",
      "metadata": {
        "id": "uX3DDOoZmgdo"
      },
      "source": [
        "####Exemple avec repetition de l'appel:"
      ]
    },
    {
      "cell_type": "code",
      "metadata": {
        "id": "sWsRYzbBmo_A"
      },
      "source": [
        "print('entrer un entier')\n",
        "boucle = True\n",
        "while boucle==True :\n",
        "    try:\n",
        "        n = int(input())\n",
        "        boucle = False\n",
        "    except ValueError :\n",
        "        print(\"Entrer un nombre entier valide\")\n",
        "print(\"entier saisi : \", n )"
      ],
      "execution_count": null,
      "outputs": []
    }
  ]
}