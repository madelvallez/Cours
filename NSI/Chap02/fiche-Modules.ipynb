{
  "nbformat": 4,
  "nbformat_minor": 0,
  "metadata": {
    "colab": {
      "name": "Untitled2.ipynb",
      "provenance": [],
      "include_colab_link": true
    },
    "kernelspec": {
      "name": "python3",
      "display_name": "Python 3"
    }
  },
  "cells": [
    {
      "cell_type": "markdown",
      "metadata": {
        "id": "view-in-github",
        "colab_type": "text"
      },
      "source": [
        "<a href=\"https://colab.research.google.com/github/madelvallez/Cours/blob/master/NSI/Chap02/fiche-Modules.ipynb\" target=\"_parent\"><img src=\"https://colab.research.google.com/assets/colab-badge.svg\" alt=\"Open In Colab\"/></a>"
      ]
    },
    {
      "cell_type": "markdown",
      "metadata": {
        "id": "W6n-1jrSZFnL"
      },
      "source": [
        "#Modularité"
      ]
    },
    {
      "cell_type": "markdown",
      "metadata": {
        "id": "asEEv1q-ZWXF"
      },
      "source": [
        "Pour eviter de copier/ coller une fonction utile à plusieurs programmes, on peut les stocker dans un module et \"utiliser ce module comme un bibliothèque\".\n",
        "\n",
        "ATTENTION: le programme dépends ainsi de plusieurs fichier; il est conseillé de les stocker dnnas le même fichier."
      ]
    },
    {
      "cell_type": "markdown",
      "metadata": {
        "id": "16vkhD_CcQdV"
      },
      "source": [
        "####Avantages: \n",
        "\n",
        "*   On peut faire évoluer un module dans une copie sans impacter l'execution du programme.\n",
        "*   Cela vaut aussi pour les tests\n",
        "\n"
      ]
    },
    {
      "cell_type": "markdown",
      "metadata": {
        "id": "niM0J_fBdQ_W"
      },
      "source": [
        "**Interface**: Nom, rôle et valeurs nécessaire pour utiliser une fonction\n",
        "\n",
        "**Implémentaion**: Manière dont fonctionne un programme"
      ]
    }
  ]
}