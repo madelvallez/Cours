{
  "nbformat": 4,
  "nbformat_minor": 0,
  "metadata": {
    "colab": {
      "name": "02-Pb-Anniv-OPTIMISATION.ipynb",
      "provenance": [],
      "collapsed_sections": []
    },
    "kernelspec": {
      "name": "python3",
      "display_name": "Python 3"
    }
  },
  "cells": [
    {
      "cell_type": "markdown",
      "metadata": {
        "id": "DUzs00yn6IpZ",
        "colab_type": "text"
      },
      "source": [
        "# Paradoxe des anniversaires : ÉLÉMENTS DE CORRECTION\n",
        "\n"
      ]
    },
    {
      "cell_type": "markdown",
      "metadata": {
        "id": "mLNF8x-i6MB-",
        "colab_type": "text"
      },
      "source": [
        "Il y a au maximum 366 jours dans une année (bissextile).\n",
        "\n",
        "Dans un groupe de $n$ personnes, la probabilité que deux personnes aient la même date anniversaire dépasse $1/2$ dès que $n \\geq 23$.\n",
        "\n",
        "On se propose de vérifier ce \"paradoxe\" en utilisant des **listes d'entiers**."
      ]
    },
    {
      "cell_type": "markdown",
      "metadata": {
        "id": "gFDAXE1d6uYX",
        "colab_type": "text"
      },
      "source": [
        "## générer une liste aléatoire de n entiers compris entre 1 et 366\n",
        "\n",
        "On rappelle que le module random contient une méthode randint(a,b) qui retourne un nombre entier aléatoire compris entre a et b.\n",
        "\n",
        "Compléter le code de la fonction genere_list(n) ci-dessous"
      ]
    },
    {
      "cell_type": "code",
      "metadata": {
        "id": "TadknNfH6BbG",
        "colab_type": "code",
        "colab": {}
      },
      "source": [
        "from random import randint\n",
        "\n",
        "def genere_list(n):\n",
        "    ''' retourne un tableau de longeur n, \n",
        "    contenant des entiers choisis aléatoirement entre 1 et 366 inclus'''\n",
        "    t = [0] * n  # tableau de longueur n, dont les cellules sont initialisées à 0\n",
        "    for i in range (n):\n",
        "        t[i] = [randint(1,366) for i in range(n)]\n",
        "\n",
        "    return t\n"
      ],
      "execution_count": null,
      "outputs": []
    },
    {
      "cell_type": "code",
      "metadata": {
        "id": "3qeN63027BLm",
        "colab_type": "code",
        "colab": {}
      },
      "source": [
        "from random import randint\n",
        "\n",
        "def genere_list(n):\n",
        "    ''' retourne un tableau de longeur n, \n",
        "    contenant des entiers choisis aléatoirement entre 1 et 366 inclus'''\n",
        "    return [randint(1,366) for i in range(n)]\n"
      ],
      "execution_count": null,
      "outputs": []
    },
    {
      "cell_type": "code",
      "metadata": {
        "id": "IN-T_OBMg-QA",
        "colab_type": "code",
        "colab": {
          "base_uri": "https://localhost:8080/",
          "height": 34
        },
        "outputId": "45f0673e-8f7c-4509-9cba-2bd0115ab046"
      },
      "source": [
        "genere_list(5)"
      ],
      "execution_count": null,
      "outputs": [
        {
          "output_type": "execute_result",
          "data": {
            "text/plain": [
              "[196, 149, 64, 22, 180]"
            ]
          },
          "metadata": {
            "tags": []
          },
          "execution_count": 15
        }
      ]
    },
    {
      "cell_type": "code",
      "metadata": {
        "id": "sOWmw93khA5I",
        "colab_type": "code",
        "colab": {
          "base_uri": "https://localhost:8080/",
          "height": 34
        },
        "outputId": "9fe64b1c-72e8-4706-c427-b44c859e3717"
      },
      "source": [
        "genere_list(5)"
      ],
      "execution_count": null,
      "outputs": [
        {
          "output_type": "execute_result",
          "data": {
            "text/plain": [
              "[215, 87, 159, 202, 191]"
            ]
          },
          "metadata": {
            "tags": []
          },
          "execution_count": 16
        }
      ]
    },
    {
      "cell_type": "code",
      "metadata": {
        "id": "rZ_FTZKPhC9-",
        "colab_type": "code",
        "colab": {}
      },
      "source": [
        "def detecte_doublon(t):\n",
        "    '''t est un tableau d'entiers compris entre 1 et 366\n",
        "\n",
        "    la fonction renvoie True si le tableau t contient deux fois la même valeur, \n",
        "    et False si t ne contient que des valeurs distinctes '''\n",
        "    for i in range(1, len(t)):\n",
        "        for j in range(i):\n",
        "            if t[i] == t[j]:\n",
        "                return True\n",
        "    return False\n"
      ],
      "execution_count": null,
      "outputs": []
    },
    {
      "cell_type": "code",
      "metadata": {
        "id": "amDq8JJZhw4T",
        "colab_type": "code",
        "colab": {
          "base_uri": "https://localhost:8080/",
          "height": 34
        },
        "outputId": "d7ef258a-2617-47ac-f4b6-9dbcb28bbd03"
      },
      "source": [
        "detecte_doublon([0,1,2,3,4,0])"
      ],
      "execution_count": null,
      "outputs": [
        {
          "output_type": "execute_result",
          "data": {
            "text/plain": [
              "True"
            ]
          },
          "metadata": {
            "tags": []
          },
          "execution_count": 18
        }
      ]
    },
    {
      "cell_type": "code",
      "metadata": {
        "id": "LDEljNvKh0tS",
        "colab_type": "code",
        "colab": {
          "base_uri": "https://localhost:8080/",
          "height": 34
        },
        "outputId": "c4a1487b-3599-4092-87d1-b27376da8818"
      },
      "source": [
        "detecte_doublon([0,1,2,3,4,5,6])"
      ],
      "execution_count": null,
      "outputs": [
        {
          "output_type": "execute_result",
          "data": {
            "text/plain": [
              "False"
            ]
          },
          "metadata": {
            "tags": []
          },
          "execution_count": 19
        }
      ]
    },
    {
      "cell_type": "code",
      "metadata": {
        "id": "W7jTCjRVh6EB",
        "colab_type": "code",
        "colab": {
          "base_uri": "https://localhost:8080/",
          "height": 34
        },
        "outputId": "8ffe3d3e-fab4-4204-e025-810f56d76ef8"
      },
      "source": [
        "detecte_doublon([0,1,2,3,4,5,6,6])"
      ],
      "execution_count": null,
      "outputs": [
        {
          "output_type": "execute_result",
          "data": {
            "text/plain": [
              "True"
            ]
          },
          "metadata": {
            "tags": []
          },
          "execution_count": 20
        }
      ]
    },
    {
      "cell_type": "code",
      "metadata": {
        "id": "9TJVm4-Vh-GY",
        "colab_type": "code",
        "colab": {
          "base_uri": "https://localhost:8080/",
          "height": 34
        },
        "outputId": "b6a56690-fbf9-4ad6-ebba-9630cfff8eee"
      },
      "source": [
        "from time import perf_counter\n",
        "t_test = [i for i in range(1,367)]\n",
        "\n",
        "start = perf_counter()\n",
        "detecte_doublon(t_test)\n",
        "end = perf_counter()\n",
        "print('test effectué en', (end-start)*1000,'ms' )"
      ],
      "execution_count": null,
      "outputs": [
        {
          "output_type": "stream",
          "text": [
            "test effectué en 7.964052999909654 ms\n"
          ],
          "name": "stdout"
        }
      ]
    },
    {
      "cell_type": "markdown",
      "metadata": {
        "id": "uH24tMzxuMA_",
        "colab_type": "text"
      },
      "source": [
        "# Estimation de la probabilité de doublon lorsque n=23"
      ]
    },
    {
      "cell_type": "code",
      "metadata": {
        "id": "I4_qRRL0uaXG",
        "colab_type": "code",
        "colab": {}
      },
      "source": [
        "def evalue_proba(n, taille):\n",
        "    '''n : nombre de valeurs contenues dans une liste de l'échantillon\n",
        "    taille : nombre total de liste générées dans l'échantillon\n",
        "    \n",
        "    La fonction retourne la fréquence des doublons dans un échantillon de taille listes contenant n valeurs chacunes '''\n",
        "    nb_doublons = 0\n",
        "    for i in range(taille):\n",
        "        t = genere_list(n)\n",
        "        if detecte_doublon(t):\n",
        "            nb_doublons += 1\n",
        "    return nb_doublons / taille\n"
      ],
      "execution_count": null,
      "outputs": []
    },
    {
      "cell_type": "code",
      "metadata": {
        "id": "iyB6RS5WvMND",
        "colab_type": "code",
        "colab": {
          "base_uri": "https://localhost:8080/",
          "height": 34
        },
        "outputId": "16e330d9-94e5-4d21-ed60-e046654ab047"
      },
      "source": [
        "evalue_proba(23,1000)"
      ],
      "execution_count": null,
      "outputs": [
        {
          "output_type": "execute_result",
          "data": {
            "text/plain": [
              "0.524"
            ]
          },
          "metadata": {
            "tags": []
          },
          "execution_count": 23
        }
      ]
    },
    {
      "cell_type": "markdown",
      "metadata": {
        "id": "H3407nZ2jBJ1",
        "colab_type": "text"
      },
      "source": [
        "# Trier le tableau avant de tester les doublons"
      ]
    },
    {
      "cell_type": "code",
      "metadata": {
        "id": "KstdsD-Hjmli",
        "colab_type": "code",
        "colab": {}
      },
      "source": [
        "def detecte_doublon_tri(tab):\n",
        "    '''t est un tableau d'entiers compris entre 1 et 366\n",
        "\n",
        "    la fonction renvoie True si le tableau t contient deux fois la même valeur, \n",
        "    et False si t ne contient que des valeurs distinctes '''\n",
        "    t = sorted(tab)\n",
        "    for i in range(len(t)-1):\n",
        "        if t[i]==t[i+1]:\n",
        "            return True\n",
        "    return False\n",
        "\n"
      ],
      "execution_count": null,
      "outputs": []
    },
    {
      "cell_type": "code",
      "metadata": {
        "id": "G4HugL50k0f7",
        "colab_type": "code",
        "colab": {
          "base_uri": "https://localhost:8080/",
          "height": 34
        },
        "outputId": "4095d1e7-0fe7-4ea4-dfa9-0eaa84c79b9e"
      },
      "source": [
        "from random import shuffle\n",
        "t = [1,2,3,4]\n",
        "shuffle(t)\n",
        "t"
      ],
      "execution_count": null,
      "outputs": [
        {
          "output_type": "execute_result",
          "data": {
            "text/plain": [
              "[4, 3, 1, 2]"
            ]
          },
          "metadata": {
            "tags": []
          },
          "execution_count": 25
        }
      ]
    },
    {
      "cell_type": "code",
      "metadata": {
        "id": "IcQp2_Jrj6qo",
        "colab_type": "code",
        "colab": {
          "base_uri": "https://localhost:8080/",
          "height": 34
        },
        "outputId": "fd03ffbf-af11-4346-cecc-01a9ef7d3095"
      },
      "source": [
        "from time import perf_counter\n",
        "from random import shuffle\n",
        "\n",
        "t_test =  [i for i in range(1,367)]\n",
        "shuffle(t_test)\n",
        "\n",
        "start = perf_counter() #début du chrono\n",
        "detecte_doublon_tri(t_test)\n",
        "end = perf_counter() #fin du chrono\n",
        "print('test effectué en', (end-start)*1000,'ms' )"
      ],
      "execution_count": null,
      "outputs": [
        {
          "output_type": "stream",
          "text": [
            "test effectué en 0.16123199998219206 ms\n"
          ],
          "name": "stdout"
        }
      ]
    },
    {
      "cell_type": "markdown",
      "metadata": {
        "id": "OkR86CVM1tc9",
        "colab_type": "text"
      },
      "source": [
        "# Améliorer encore l'efficacité de l'algorithme de recherche de doublon ?\n",
        "\n",
        "Ordre de grandeur de la complexité des algorithmes précédents :\n",
        "* detecte_doublon : $ O(n^2) $ (quadratique)\n",
        "* detecte_doublon_tri : $O(n log(n) )$ (à cause du tri)\n",
        "\n",
        "On peut optimiser davantage, il faudrait écrire un algorithme de recherche de doublons qui :\n",
        "* ne parcourt qu'une seule fois le tableau\n",
        "* effectue, pour chaque valeur du tableau, des opérations en temps constant"
      ]
    },
    {
      "cell_type": "markdown",
      "metadata": {
        "id": "sHyG80bPl4Y6",
        "colab_type": "text"
      },
      "source": [
        "# En \"cochant des cases\" dans une liste\n",
        "\n"
      ]
    },
    {
      "cell_type": "markdown",
      "metadata": {
        "id": "tUQFAz_JtS_J",
        "colab_type": "text"
      },
      "source": [
        "Compléter le code manquant à la place des `###`\n",
        "\n",
        "\n"
      ]
    },
    {
      "cell_type": "code",
      "metadata": {
        "id": "AXSOFHYEl9Mg",
        "colab_type": "code",
        "colab": {}
      },
      "source": [
        "def detecte_doublon_coche_liste(t):\n",
        "    '''t est un tableau d'entiers compris entre 1 et 366\n",
        "\n",
        "    la fonction renvoie True si le tableau t contient deux fois la même valeur, \n",
        "    et False si t ne contient que des valeurs distinctes '''\n",
        "    aux = [False for i in range(367)]\n",
        "    for v in t: \n",
        "        if aux[v]: \n",
        "            return True\n",
        "        else :\n",
        "            aux[v]=True\n",
        "    return False\n"
      ],
      "execution_count": 1,
      "outputs": []
    },
    {
      "cell_type": "code",
      "metadata": {
        "id": "x7w41I6DmuNB",
        "colab_type": "code",
        "colab": {
          "base_uri": "https://localhost:8080/",
          "height": 34
        },
        "outputId": "0bf81a54-271b-4e38-ac91-6f6706c78e5b"
      },
      "source": [
        "detecte_doublon_coche_liste([0,1,2,3,4,0])"
      ],
      "execution_count": 2,
      "outputs": [
        {
          "output_type": "execute_result",
          "data": {
            "text/plain": [
              "True"
            ]
          },
          "metadata": {
            "tags": []
          },
          "execution_count": 2
        }
      ]
    },
    {
      "cell_type": "code",
      "metadata": {
        "id": "jYMbHy0mm2wy",
        "colab_type": "code",
        "colab": {
          "base_uri": "https://localhost:8080/",
          "height": 34
        },
        "outputId": "fbec746d-e9cc-4902-d155-c5403a7c9246"
      },
      "source": [
        "detecte_doublon_coche_liste([0,1,2,3,4,5])"
      ],
      "execution_count": 3,
      "outputs": [
        {
          "output_type": "execute_result",
          "data": {
            "text/plain": [
              "False"
            ]
          },
          "metadata": {
            "tags": []
          },
          "execution_count": 3
        }
      ]
    },
    {
      "cell_type": "code",
      "metadata": {
        "id": "tD1vl7TAm48J",
        "colab_type": "code",
        "colab": {
          "base_uri": "https://localhost:8080/",
          "height": 34
        },
        "outputId": "3a7509e9-fa00-4143-ba9a-ab5d4357fbb7"
      },
      "source": [
        "detecte_doublon_coche_liste([0,1,2,3,4,5,6,6])"
      ],
      "execution_count": 4,
      "outputs": [
        {
          "output_type": "execute_result",
          "data": {
            "text/plain": [
              "True"
            ]
          },
          "metadata": {
            "tags": []
          },
          "execution_count": 4
        }
      ]
    },
    {
      "cell_type": "code",
      "metadata": {
        "id": "vDF8ljhZnBdP",
        "colab_type": "code",
        "colab": {
          "base_uri": "https://localhost:8080/",
          "height": 34
        },
        "outputId": "c40c73a2-4802-4134-b8f4-897780587327"
      },
      "source": [
        "from time import perf_counter\n",
        "from random import shuffle\n",
        "t_test =  [i for i in range(1,367)]\n",
        "shuffle(t_test)\n",
        "\n",
        "start = perf_counter() #début du chrono\n",
        "detecte_doublon_coche_liste(t_test)\n",
        "end = perf_counter() #fin du chrono\n",
        "\n",
        "print('test effectué en', (end-start)*1000,'ms' )"
      ],
      "execution_count": 5,
      "outputs": [
        {
          "output_type": "stream",
          "text": [
            "test effectué en 0.055923000019220126 ms\n"
          ],
          "name": "stdout"
        }
      ]
    },
    {
      "cell_type": "markdown",
      "metadata": {
        "id": "A0FQIfcHnuBH",
        "colab_type": "text"
      },
      "source": [
        "# En \"cochant des cases\" dans un dictionnaire"
      ]
    },
    {
      "cell_type": "markdown",
      "metadata": {
        "id": "LFk_iuQQtdD8",
        "colab_type": "text"
      },
      "source": [
        "Compléter le code manquant à la place des `###`"
      ]
    },
    {
      "cell_type": "code",
      "metadata": {
        "id": "RXg8yCM4nwxI",
        "colab_type": "code",
        "colab": {}
      },
      "source": [
        "def detecte_doublon_coche_dictionnaire(t):\n",
        "    '''t est un tableau d'entiers compris entre 1 et 366\n",
        "\n",
        "    la fonction renvoie True si le tableau t contient deux fois la même valeur, \n",
        "    et False si t ne contient que des valeurs distinctes '''\n",
        "    d = {} #dictionnaire vide\n",
        "    for v in t: \n",
        "        if v in d : \n",
        "            return True\n",
        "        else :\n",
        "            d[v]=True\n",
        "    return False"
      ],
      "execution_count": 6,
      "outputs": []
    },
    {
      "cell_type": "code",
      "metadata": {
        "id": "ckL-snnuoKdf",
        "colab_type": "code",
        "colab": {
          "base_uri": "https://localhost:8080/",
          "height": 34
        },
        "outputId": "a62ddbef-549f-459d-ba87-4ebeba2e9c4b"
      },
      "source": [
        "detecte_doublon_coche_dictionnaire([0,1,2,3,4,5,0])"
      ],
      "execution_count": 7,
      "outputs": [
        {
          "output_type": "execute_result",
          "data": {
            "text/plain": [
              "True"
            ]
          },
          "metadata": {
            "tags": []
          },
          "execution_count": 7
        }
      ]
    },
    {
      "cell_type": "code",
      "metadata": {
        "id": "xUXHu6RroOzt",
        "colab_type": "code",
        "colab": {
          "base_uri": "https://localhost:8080/",
          "height": 34
        },
        "outputId": "e97ce3f3-57ad-4889-9a2c-eb54da412db3"
      },
      "source": [
        "detecte_doublon_coche_dictionnaire([0,1,2,3,4,5,6])"
      ],
      "execution_count": 8,
      "outputs": [
        {
          "output_type": "execute_result",
          "data": {
            "text/plain": [
              "False"
            ]
          },
          "metadata": {
            "tags": []
          },
          "execution_count": 8
        }
      ]
    },
    {
      "cell_type": "code",
      "metadata": {
        "id": "_rNjCkSsoQrT",
        "colab_type": "code",
        "colab": {
          "base_uri": "https://localhost:8080/",
          "height": 34
        },
        "outputId": "f0af0b0c-9253-4cf8-d1f5-dd1e4a4de2f6"
      },
      "source": [
        "detecte_doublon_coche_dictionnaire([0,1,2,3,4,5,6,6])"
      ],
      "execution_count": 9,
      "outputs": [
        {
          "output_type": "execute_result",
          "data": {
            "text/plain": [
              "True"
            ]
          },
          "metadata": {
            "tags": []
          },
          "execution_count": 9
        }
      ]
    },
    {
      "cell_type": "code",
      "metadata": {
        "id": "du1tBMfsoWN9",
        "colab_type": "code",
        "colab": {
          "base_uri": "https://localhost:8080/",
          "height": 34
        },
        "outputId": "d17bff4a-7ad3-4827-8a48-0cddc0996604"
      },
      "source": [
        "from time import perf_counter\n",
        "from random import shuffle\n",
        "t_test =  [i for i in range(1,367)]\n",
        "shuffle(t_test)\n",
        "\n",
        "start = perf_counter() #début du chrono\n",
        "detecte_doublon_coche_dictionnaire(t_test)\n",
        "end = perf_counter() #fin du chrono\n",
        "\n",
        "print('test effectué en', (end-start)*1000,'ms' )"
      ],
      "execution_count": 10,
      "outputs": [
        {
          "output_type": "stream",
          "text": [
            "test effectué en 0.08019599999897764 ms\n"
          ],
          "name": "stdout"
        }
      ]
    },
    {
      "cell_type": "markdown",
      "metadata": {
        "id": "A16ffVWTpnsz",
        "colab_type": "text"
      },
      "source": [
        "# comparaisons entre les différentes fonctions qui détectent un doublon"
      ]
    },
    {
      "cell_type": "markdown",
      "metadata": {
        "id": "7lSOYo54qa1L",
        "colab_type": "text"
      },
      "source": [
        "Avec `%timeit`"
      ]
    },
    {
      "cell_type": "code",
      "metadata": {
        "id": "dgRgmMRMxDP7",
        "colab_type": "code",
        "colab": {}
      },
      "source": [
        "t_test =  [i for i in range(1,367)]\n",
        "shuffle(t_test)\n",
        "\n",
        "%timeit(detecte_doublon(t_test))"
      ],
      "execution_count": null,
      "outputs": []
    },
    {
      "cell_type": "code",
      "metadata": {
        "id": "J7uEQlS5xRG4",
        "colab_type": "code",
        "colab": {}
      },
      "source": [
        "%timeit(detecte_doublon_tri(t_test))"
      ],
      "execution_count": null,
      "outputs": []
    },
    {
      "cell_type": "code",
      "metadata": {
        "id": "odW3-FnZqKe5",
        "colab_type": "code",
        "colab": {}
      },
      "source": [
        "%timeit(detecte_doublon_coche_liste(t_test))"
      ],
      "execution_count": null,
      "outputs": []
    },
    {
      "cell_type": "code",
      "metadata": {
        "id": "DoekjHxQp5yl",
        "colab_type": "code",
        "colab": {}
      },
      "source": [
        "%timeit(detecte_doublon_coche_dictionnaire(t_test))"
      ],
      "execution_count": null,
      "outputs": []
    }
  ]
}
