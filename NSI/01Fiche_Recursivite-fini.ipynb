{
  "nbformat": 4,
  "nbformat_minor": 0,
  "metadata": {
    "colab": {
      "name": "Untitled0.ipynb",
      "provenance": [],
      "toc_visible": true,
      "authorship_tag": "ABX9TyPHBeJ4pKD0+smZRVQssg+k",
      "include_colab_link": true
    },
    "kernelspec": {
      "name": "python3",
      "display_name": "Python 3"
    }
  },
  "cells": [
    {
      "cell_type": "markdown",
      "metadata": {
        "id": "view-in-github",
        "colab_type": "text"
      },
      "source": [
        "<a href=\"https://colab.research.google.com/github/madelvallez/Cours/blob/master/NSI/Fiche_Recursivite-fini.ipynb\" target=\"_parent\"><img src=\"https://colab.research.google.com/assets/colab-badge.svg\" alt=\"Open In Colab\"/></a>"
      ]
    },
    {
      "cell_type": "markdown",
      "metadata": {
        "id": "X_RYoWfa6Jdo",
        "colab_type": "text"
      },
      "source": [
        "# Recursivité\n",
        "\n",
        "##I. Définition\n",
        "\n",
        "###1) Definition par récurence\n",
        "\n",
        "**Fonction récursive**: fonction qui fait appel à ***elle-même***\n",
        "\n",
        "La récursivité informatique est particulièrement adaptée aux définitions mathématiques par récurence.\n",
        "\n",
        "####Exemple:\n",
        "$$somme(n) = \\left\\lbrace \\matrix{ 0 & \\textrm{si } n=0 \\\\n + somme(n-1) & \\textrm{si } n>0 } \\right. $$\n",
        "\n",
        "####Arbre d'appel de somme(5):\n",
        "\n",
        "    somme(5) = 5 + somme(4)\n",
        "\n",
        "            = 5 + 4 + somme(3)\n",
        "\n",
        "            = 5 + 4 + 3 + somme(2)\n",
        "\n",
        "            = 5 + 4 + 3 + 2 + somme(1)\n",
        "\n",
        "            = 5 + 4 + 3 + 2 + 1 + somme(0)\n",
        "\n",
        "            = 5 + 4 + 3 + 2 + 1 + 0 = 15\n",
        "\n",
        "\n",
        "Une définition récursive comporte toujours:\n",
        "\n",
        "\n",
        "*   Un (ou plusieurs) cas de base\n",
        "*   Un (ou plusieurs) appel récursif (définition par recurence)\n",
        "\n",
        "\n",
        "\n",
        "###2) Traduction python\n",
        "\n"
      ]
    },
    {
      "cell_type": "code",
      "metadata": {
        "id": "i0_eULGG6H5C",
        "colab_type": "code",
        "colab": {}
      },
      "source": [
        "def somme(n) : \n",
        "    if n == 0 :\n",
        "        return 0\n",
        "    # else\n",
        "    return n + somme(n-1)"
      ],
      "execution_count": null,
      "outputs": []
    },
    {
      "cell_type": "markdown",
      "metadata": {
        "id": "9rPUlVv8VUfu",
        "colab_type": "text"
      },
      "source": [
        "##II. Recursivité mutuelle\n",
        "\n",
        "Dans certains cas, deux fonction recursives peuvent \"s'appeler entre elles\".\n",
        "####Exemple:\n",
        "\n",
        "$$ a_n =  \\left\\lbrace \\matrix{\n",
        "     1&\\textrm{si } n=0 \n",
        "     \\\\ 2 a_{n-1} + 3 b_{n-1}& \\textrm{si } n>0 \n",
        "     } \\right. $$\n",
        "\n",
        "$$ b_n =  \\left\\lbrace \\matrix{\n",
        "     2 &\\textrm{si } n=0 \n",
        "     \\\\  a_{n-1} - b_{n-1}& \\textrm{si } n>0 \n",
        "     } \\right. $$\n",
        "\n",
        "On a donc:\n",
        "\n",
        "$b_2$ = $a_1$ - $b_1$\n",
        "\n",
        "= $2a_0$ + $3b_0$ - ($a_0$ - $b_0$)\n",
        "\n",
        "= 2$\\times$1 + 3$\\times$2 - (1 - 2) = 9\n",
        "\n",
        "La traduction en python se fait très bien malgré la complexification de l'arbre d'appel à l'exécution:"
      ]
    },
    {
      "cell_type": "code",
      "metadata": {
        "id": "j-2HuE9YbQHb",
        "colab_type": "code",
        "colab": {}
      },
      "source": [
        "def a(n):\n",
        "    if n==0:\n",
        "        return 1\n",
        "    return 2*a(n-1)+3*b(n-1)\n",
        "\n",
        "def b(n):\n",
        "    if n==0:\n",
        "        return 2\n",
        "    return a(n-1)- b(n-1)"
      ],
      "execution_count": null,
      "outputs": []
    },
    {
      "cell_type": "markdown",
      "metadata": {
        "id": "GLS0w8xHcfdN",
        "colab_type": "text"
      },
      "source": [
        "##III. Cas de la fonction puissance\n",
        "\n",
        "La fonction puissance se defini ainsi:\n",
        "$$puissance(x, n) =  \\left\\lbrace \\matrix{\n",
        "     1 & \\textrm{si } n=0\n",
        "     \\\\ x \\times puissance(x, n-1) & \\textrm{sinon } \n",
        "     } \\right. $$\n",
        "\n",
        "\n",
        "Pour eviter les mutiplications inutile on peut la completer aussi:\n",
        "$$puissance(x, n) =  \\left\\lbrace \\matrix{\n",
        "     1 & \\textrm{si } n=0\n",
        "     \\\\ x &\\textrm{si } n=1\n",
        "     \\\\ x \\times puissance(x, n-1) & \\textrm{sinon } \n",
        "     } \\right. $$\n",
        "\n",
        "Pour optimiser au maximum une fonction, il faut qu'elle fasse le moins d'appel recursifs possible. Or on sais que :\n",
        "\n",
        "####Propriété:\n",
        "Si $n = 2 p$ alors $x^n = (x^p)^2$\n",
        "\n",
        "Si $n = 2 p + 1$  alors  $x^n = (x^p)^2 \\times x $\n",
        "\n",
        "On peut donc écrire:\n",
        "$$puissance(x, n) = \\left\\lbrace \\matrix{\n",
        "     1 & \\textrm{si } n=0 \n",
        "     \\\\ x & \\textrm{si } n=1 \n",
        "     \\\\ carre(puiss(x, n/2)) & \\textrm{si $n$ est pair, } n>1  \n",
        "     \\\\ x \\times carre(puiss(x, (n-1)/2)) & \\textrm{si $n$ est impair, } n>1  \n",
        "     } \\right. $$\n"
      ]
    },
    {
      "cell_type": "markdown",
      "metadata": {
        "id": "SLOT4dlofVIC",
        "colab_type": "text"
      },
      "source": [
        "Traduit en python, on obtient :"
      ]
    },
    {
      "cell_type": "code",
      "metadata": {
        "id": "ObSfP90OfZYa",
        "colab_type": "code",
        "colab": {}
      },
      "source": [
        "def puiss(x,n):\n",
        "    if n==0 :\n",
        "        return 1\n",
        "    if n==1 :\n",
        "        return x\n",
        "    r = puiss(x, n//2)\n",
        "    if n%2==0: \n",
        "        return r*r \n",
        "    else :\n",
        "        return r * r *x"
      ],
      "execution_count": null,
      "outputs": []
    },
    {
      "cell_type": "markdown",
      "metadata": {
        "id": "RmBSWGoMfntj",
        "colab_type": "text"
      },
      "source": [
        "##IV. Eviter les erreurs de recursivité infinie\n",
        "###1) Verifier les paramètres par une assertion\n",
        "La fonction somme(n) definie précédement est definie pour tout n $\\geq$ 1.\n",
        "Cependant rien n'empèche l'utilisateur de demander ```somme(-1)```, or la fonction va alors trourner à l'infini.\n",
        "\n",
        "On peut, pour l'eviter, mettre une assertion en début de fonction:"
      ]
    },
    {
      "cell_type": "code",
      "metadata": {
        "id": "ZBxq5Mu8hBs6",
        "colab_type": "code",
        "colab": {}
      },
      "source": [
        "def somme(n) : \n",
        "    assert n>=1 and type(n)==int, \"n doit etre un naturel non nul\"\n",
        "    if n == 0 :\n",
        "        return 0\n",
        "    # else\n",
        "    return n + somme(n-1)"
      ],
      "execution_count": null,
      "outputs": []
    },
    {
      "cell_type": "code",
      "metadata": {
        "id": "FFvwP3voh27j",
        "colab_type": "code",
        "colab": {
          "base_uri": "https://localhost:8080/",
          "height": 305
        },
        "outputId": "1cd2a296-9f3a-419c-e990-36b1b35f8143"
      },
      "source": [
        "somme(-1)"
      ],
      "execution_count": null,
      "outputs": [
        {
          "output_type": "error",
          "ename": "AssertionError",
          "evalue": "ignored",
          "traceback": [
            "\u001b[0;31m---------------------------------------------------------------------------\u001b[0m",
            "\u001b[0;31mAssertionError\u001b[0m                            Traceback (most recent call last)",
            "\u001b[0;32m<ipython-input-6-2263d90c8da2>\u001b[0m in \u001b[0;36m<module>\u001b[0;34m()\u001b[0m\n\u001b[0;32m----> 1\u001b[0;31m \u001b[0msomme\u001b[0m\u001b[0;34m(\u001b[0m\u001b[0;34m-\u001b[0m\u001b[0;36m1\u001b[0m\u001b[0;34m)\u001b[0m\u001b[0;34m\u001b[0m\u001b[0;34m\u001b[0m\u001b[0m\n\u001b[0m",
            "\u001b[0;32m<ipython-input-5-91985f2c00cf>\u001b[0m in \u001b[0;36msomme\u001b[0;34m(n)\u001b[0m\n\u001b[1;32m      1\u001b[0m \u001b[0;32mdef\u001b[0m \u001b[0msomme\u001b[0m\u001b[0;34m(\u001b[0m\u001b[0mn\u001b[0m\u001b[0;34m)\u001b[0m \u001b[0;34m:\u001b[0m\u001b[0;34m\u001b[0m\u001b[0;34m\u001b[0m\u001b[0m\n\u001b[0;32m----> 2\u001b[0;31m     \u001b[0;32massert\u001b[0m \u001b[0mn\u001b[0m\u001b[0;34m>=\u001b[0m\u001b[0;36m1\u001b[0m \u001b[0;32mand\u001b[0m \u001b[0mtype\u001b[0m\u001b[0;34m(\u001b[0m\u001b[0mn\u001b[0m\u001b[0;34m)\u001b[0m\u001b[0;34m==\u001b[0m\u001b[0mint\u001b[0m\u001b[0;34m,\u001b[0m \u001b[0;34m\"n doit etre un naturel non nul\"\u001b[0m\u001b[0;34m\u001b[0m\u001b[0;34m\u001b[0m\u001b[0m\n\u001b[0m\u001b[1;32m      3\u001b[0m     \u001b[0;32mif\u001b[0m \u001b[0mn\u001b[0m \u001b[0;34m==\u001b[0m \u001b[0;36m0\u001b[0m \u001b[0;34m:\u001b[0m\u001b[0;34m\u001b[0m\u001b[0;34m\u001b[0m\u001b[0m\n\u001b[1;32m      4\u001b[0m         \u001b[0;32mreturn\u001b[0m \u001b[0;36m0\u001b[0m\u001b[0;34m\u001b[0m\u001b[0;34m\u001b[0m\u001b[0m\n\u001b[1;32m      5\u001b[0m     \u001b[0;31m# else\u001b[0m\u001b[0;34m\u001b[0m\u001b[0;34m\u001b[0m\u001b[0;34m\u001b[0m\u001b[0m\n",
            "\u001b[0;31mAssertionError\u001b[0m: n doit etre un naturel non nul"
          ]
        }
      ]
    },
    {
      "cell_type": "code",
      "metadata": {
        "id": "ckudiq0Nh68R",
        "colab_type": "code",
        "colab": {
          "base_uri": "https://localhost:8080/",
          "height": 305
        },
        "outputId": "6ce1e568-aa6e-44f3-b950-7aa28f2d7bf5"
      },
      "source": [
        "somme(1.5)"
      ],
      "execution_count": null,
      "outputs": [
        {
          "output_type": "error",
          "ename": "AssertionError",
          "evalue": "ignored",
          "traceback": [
            "\u001b[0;31m---------------------------------------------------------------------------\u001b[0m",
            "\u001b[0;31mAssertionError\u001b[0m                            Traceback (most recent call last)",
            "\u001b[0;32m<ipython-input-8-96a291b59474>\u001b[0m in \u001b[0;36m<module>\u001b[0;34m()\u001b[0m\n\u001b[0;32m----> 1\u001b[0;31m \u001b[0msomme\u001b[0m\u001b[0;34m(\u001b[0m\u001b[0;36m1.5\u001b[0m\u001b[0;34m)\u001b[0m\u001b[0;34m\u001b[0m\u001b[0;34m\u001b[0m\u001b[0m\n\u001b[0m",
            "\u001b[0;32m<ipython-input-5-91985f2c00cf>\u001b[0m in \u001b[0;36msomme\u001b[0;34m(n)\u001b[0m\n\u001b[1;32m      1\u001b[0m \u001b[0;32mdef\u001b[0m \u001b[0msomme\u001b[0m\u001b[0;34m(\u001b[0m\u001b[0mn\u001b[0m\u001b[0;34m)\u001b[0m \u001b[0;34m:\u001b[0m\u001b[0;34m\u001b[0m\u001b[0;34m\u001b[0m\u001b[0m\n\u001b[0;32m----> 2\u001b[0;31m     \u001b[0;32massert\u001b[0m \u001b[0mn\u001b[0m\u001b[0;34m>=\u001b[0m\u001b[0;36m1\u001b[0m \u001b[0;32mand\u001b[0m \u001b[0mtype\u001b[0m\u001b[0;34m(\u001b[0m\u001b[0mn\u001b[0m\u001b[0;34m)\u001b[0m\u001b[0;34m==\u001b[0m\u001b[0mint\u001b[0m\u001b[0;34m,\u001b[0m \u001b[0;34m\"n doit etre un naturel non nul\"\u001b[0m\u001b[0;34m\u001b[0m\u001b[0;34m\u001b[0m\u001b[0m\n\u001b[0m\u001b[1;32m      3\u001b[0m     \u001b[0;32mif\u001b[0m \u001b[0mn\u001b[0m \u001b[0;34m==\u001b[0m \u001b[0;36m0\u001b[0m \u001b[0;34m:\u001b[0m\u001b[0;34m\u001b[0m\u001b[0;34m\u001b[0m\u001b[0m\n\u001b[1;32m      4\u001b[0m         \u001b[0;32mreturn\u001b[0m \u001b[0;36m0\u001b[0m\u001b[0;34m\u001b[0m\u001b[0;34m\u001b[0m\u001b[0m\n\u001b[1;32m      5\u001b[0m     \u001b[0;31m# else\u001b[0m\u001b[0;34m\u001b[0m\u001b[0;34m\u001b[0m\u001b[0;34m\u001b[0m\u001b[0m\n",
            "\u001b[0;31mAssertionError\u001b[0m: n doit etre un naturel non nul"
          ]
        }
      ]
    },
    {
      "cell_type": "markdown",
      "metadata": {
        "id": "uQECbo3aiE-y",
        "colab_type": "text"
      },
      "source": [
        "Pour faire propre on peut aussi utiliser une fonction annexe:"
      ]
    },
    {
      "cell_type": "code",
      "metadata": {
        "id": "scnxo-FuiLQ3",
        "colab_type": "code",
        "colab": {}
      },
      "source": [
        "def _somme(n):\n",
        "    if n == 0 :\n",
        "        return 0\n",
        "    # else\n",
        "    return n + _somme(n-1)\n",
        "\n",
        "def somme(n) : \n",
        "    assert type(n) == int and n >=0 , \"n doit être un entier naturel\"\n",
        "    return _somme(n)"
      ],
      "execution_count": null,
      "outputs": []
    },
    {
      "cell_type": "markdown",
      "metadata": {
        "id": "-sknH4sLiRF8",
        "colab_type": "text"
      },
      "source": [
        "###2) La recursivité maximale\n",
        "Python est équipé d'une securité qui renvoie une erreur au bout d'une certaine longueur de pile d'appel recursifs. \n",
        "\n",
        "On peut trouver et modifier cette valeur ainsi:"
      ]
    },
    {
      "cell_type": "code",
      "metadata": {
        "id": "F9ayVHJeipRe",
        "colab_type": "code",
        "colab": {
          "base_uri": "https://localhost:8080/",
          "height": 36
        },
        "outputId": "07cd4914-5e47-4229-b972-59b76d00da90"
      },
      "source": [
        "import sys\n",
        "print(sys.getrecursionlimit()  )"
      ],
      "execution_count": null,
      "outputs": [
        {
          "output_type": "stream",
          "text": [
            "1000\n"
          ],
          "name": "stdout"
        }
      ]
    },
    {
      "cell_type": "code",
      "metadata": {
        "id": "fNucw-QfiyNW",
        "colab_type": "code",
        "colab": {}
      },
      "source": [
        "import sys\n",
        "sys.setrecursionlimit(2000)"
      ],
      "execution_count": null,
      "outputs": []
    }
  ]
}
