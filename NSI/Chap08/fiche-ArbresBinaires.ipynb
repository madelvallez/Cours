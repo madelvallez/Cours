{
  "nbformat": 4,
  "nbformat_minor": 0,
  "metadata": {
    "colab": {
      "name": "Untitled7.ipynb",
      "provenance": [],
      "authorship_tag": "ABX9TyN/sh22bA8pIoGxte9Esev/",
      "include_colab_link": true
    },
    "kernelspec": {
      "name": "python3",
      "display_name": "Python 3"
    }
  },
  "cells": [
    {
      "cell_type": "markdown",
      "metadata": {
        "id": "view-in-github",
        "colab_type": "text"
      },
      "source": [
        "<a href=\"https://colab.research.google.com/github/madelvallez/Cours/blob/master/NSI/Chap08/fiche-ArbresBinaires.ipynb\" target=\"_parent\"><img src=\"https://colab.research.google.com/assets/colab-badge.svg\" alt=\"Open In Colab\"/></a>"
      ]
    },
    {
      "cell_type": "markdown",
      "metadata": {
        "id": "vkTAOPkzQ6CK"
      },
      "source": [
        "# Arbres Binaires"
      ]
    },
    {
      "cell_type": "markdown",
      "metadata": {
        "id": "vLl3WsMTRcAC"
      },
      "source": [
        "##I. Définition\n",
        "\n",
        "Les arbres binaires sont des **structures hierrarchiques** particulières: il n'y a que **maximum deux branches** à la suite d'un même élément."
      ]
    },
    {
      "cell_type": "markdown",
      "metadata": {
        "id": "yFOTnC2rSpPl"
      },
      "source": [
        "### **Vocabulaire**\n",
        "\n",
        "**Noeud**: élément de l'arbre\n",
        "\n",
        "**Racine**: noeud initial\n",
        "\n",
        "**Noeud fils**: noeud *sous* le noeud père\n",
        "\n",
        "**Noeud père**: noeud *au-dessus* du noeud fils\n",
        "\n",
        "**Feuille**: noeud n'ayant aucun fils\n",
        "\n",
        "**Sous-arbre**: partie d'arbre suite à un noeud (chaque noeud à un sous-arbre droit et un sous-arbre gauche)\n",
        "\n",
        "**Arête**: segment qui relie deux noeuds\n",
        "\n",
        "**Profondeur d'un noeud**: nombre de noeuds à parcourir du noeud à la racine (la racine a une profonduer de 1)\n",
        "\n",
        "**Hauteur**: profondeur maximale \n"
      ]
    },
    {
      "cell_type": "markdown",
      "metadata": {
        "id": "1FkfhE-HRgK4"
      },
      "source": [
        "## II. Arbre binaire en Python"
      ]
    },
    {
      "cell_type": "markdown",
      "metadata": {
        "id": "vMbuZqMVXQ-L"
      },
      "source": [
        "###1) Classe Noeud"
      ]
    },
    {
      "cell_type": "code",
      "metadata": {
        "id": "YZTIWm0mQwNc"
      },
      "source": [
        "class Noeud:\n",
        "    def __init__(self, g, v, d):\n",
        "        self.gauche = g\n",
        "        self.valeur = v        \n",
        "        self.droit  = d\n",
        "\n",
        "    def __str__(a):\n",
        "        if a is not None:\n",
        "            return ('('+str(a.gauche)+a.valeur+str(a.droit)+')')\n",
        "        return ''\n",
        "\n",
        "    def __eq__(a1,a2):\n",
        "        if a1 is None and a2 is None: \n",
        "            return True\n",
        "        elif a1 is None or a2 is None :\n",
        "            return False\n",
        "        if a1.valeur != a2.valeur : \n",
        "            return False \n",
        "        else : \n",
        "            return a1.droit == a2.droit and a1.gauche==a2.gauche\n",
        "\n",
        "    def taille(self):\n",
        "        if self is None:\n",
        "            return 0\n",
        "        else:\n",
        "            return 1 + taille(self.gauche) + taille(self.droit)\n",
        "\n",
        "    def hauteur(self):\n",
        "        if self is None : \n",
        "            return 0\n",
        "        else : return 1 + max(hauteur(self.gauche), hauteur(self.droit))\n",
        "\n",
        "def miroir(a):\n",
        "    if a is not None:\n",
        "        return Noeud(miroir(a.droit),a.valeur,miroir(a.gauche))"
      ],
      "execution_count": null,
      "outputs": []
    },
    {
      "cell_type": "markdown",
      "metadata": {
        "id": "riXBuNNSZ9J2"
      },
      "source": [
        "###2) Affichage des noeuds d'un arbre\n",
        "\n",
        "On peut afficher un arbre différentes manières:\n",
        "* **Parcours en profondeur**: on parcours chaque branche -> on garde la structure de l'arbre\n",
        " * **parcours infixe**: affichage du sous-arbre droit, de la racine puis du sous-arbre gauche (comme en dessin)\n",
        " * **parcours préfixe**: affichage de la racine, du sous-arbre droit puis du sous-arbre gauche (comme les explorateurs de fichier)\n",
        " * **parcours suffixe**: affichage du sous-arbre droit, du sous-arbre gauche puis de la racine\n",
        "* **Parcours en largeur**: on affiche les noeuds par *étages*."
      ]
    },
    {
      "cell_type": "markdown",
      "metadata": {
        "id": "XxrO50AGcfuT"
      },
      "source": [
        "#### Parcours en profondeur:"
      ]
    },
    {
      "cell_type": "code",
      "metadata": {
        "id": "N5fePlB3aHsZ"
      },
      "source": [
        "def parcours_infixe(arbre,n=0):\n",
        "    '''affiche le contenu d'un arbre :\n",
        "    - d'abord le sous-arbre droit, \n",
        "    - puis la racine, \n",
        "    - puis le sous-arbre gauche'''\n",
        "    if arbre is not None:\n",
        "        parcours_infixe(arbre.droit,n+1)\n",
        "        print('    '*n+'-', arbre.valeur)\n",
        "        parcours_infixe(arbre.gauche,n+1)\n",
        "\n",
        "def parcours_prefixe(arbre,n=0):\n",
        "    '''affiche le contenu d'un arbre :\n",
        "    - la racine,\n",
        "    - puis le sous-arbre droit, \n",
        "    - puis le sous-arbre gauche'''\n",
        "    if arbre is not None:\n",
        "        print('    '*n+'-', arbre.valeur)\n",
        "        parcours_prefixe(arbre.droit,n+1)\n",
        "        parcours_prefixe(arbre.gauche,n+1)\n",
        "\n",
        "def parcours_suffixe(arbre,n=0):\n",
        "    '''affiche le contenu d'un arbre :\n",
        "    - le sous-arbre droit, \n",
        "    - puis le sous-arbre gauche,\n",
        "    - puis la racine'''\n",
        "    if arbre is not None:\n",
        "        parcours_suffixearbre.droit,n+1)\n",
        "        parcours_suffixe(arbre.gauche,n+1)\n",
        "        print('    '*n+'-', arbre.valeur)"
      ],
      "execution_count": null,
      "outputs": []
    },
    {
      "cell_type": "markdown",
      "metadata": {
        "id": "lutXtPQvclKX"
      },
      "source": [
        "#### Parcours en largeur:\n",
        "\n",
        "Pour eviter de constament naviguer dans l'arbre, on utilise plusieurs variables pour sesouvenir des parties qu\"il reste à explorer. On peur utiliser différentes solutions:\n",
        "* utiliser une File (chap6) ou l'objet `Queue()` de la bibliothèque `queue` de python\n",
        "* utiliser deus ensembles `set` (mais les noeuds sont parcourus dans le desordre dans un même niveau)\n",
        "* utiliser deux listes (attention à les retourner pour ne pas naviguer en *zigzag*)"
      ]
    },
    {
      "cell_type": "code",
      "metadata": {
        "id": "lIdwLEchdxyX"
      },
      "source": [
        "def parcours_largeur_queue(a):\n",
        "    queue=Queue()\n",
        "    queue.put(a)\n",
        "    while not queue.empty():\n",
        "        val=queue.get()\n",
        "        if val is not None:\n",
        "            print(val.valeur)\n",
        "            queue.put(val.gauche)\n",
        "            queue.put(val.droit)\n",
        "\n",
        "def parcours_en_largeur_set(arbre):\n",
        "    profondeur_n = set() # ensemble vide\n",
        "    profondeur_n_plus_1 = set() # ensemble vide\n",
        "    \n",
        "    # initialement, profondeur_n contient le noeud racine : \n",
        "    profondeur_n.add(arbre)\n",
        "    while len(profondeur_n)>0 :\n",
        "        node = profondeur_n.pop() # on extrait un noeud de profondeur n\n",
        "        print(node.valeur)\n",
        "        if node.gauche is not None : \n",
        "            profondeur_n_plus_1.add(node.gauche)\n",
        "        if node.droit is not None : \n",
        "            profondeur_n_plus_1.add(node.droit)\n",
        "        # si on a épuisé les noeuds de profondeur n, \n",
        "        # on passe à ceux de profondeur n+1\n",
        "        if len(profondeur_n)==0:\n",
        "            profondeur_n = profondeur_n_plus_1\n",
        "            profondeur_n_plus_1 = set()\n",
        "\n",
        "def parcours_en_largeur_list(arbre):\n",
        "    # initialement, profondeur_n contient le noeud racine : \n",
        "    profondeur_n = [arbre] \n",
        "    profondeur_n_plus_1 = []  \n",
        "    \n",
        "    while len(profondeur_n)>0 :\n",
        "        node = profondeur_n.pop() # on extrait un noeud de profondeur n\n",
        "        print(node.valeur)\n",
        "        if node.gauche is not None : \n",
        "            profondeur_n_plus_1.append(node.gauche)\n",
        "        if node.droit is not None : \n",
        "            profondeur_n_plus_1.append(node.droit)\n",
        "        # si on a épuisé les noeuds de profondeur n, \n",
        "        # on passe à ceux de profondeur n+1\n",
        "        if len(profondeur_n)==0:\n",
        "            profondeur_n_plus_1.reverse()\n",
        "            profondeur_n = profondeur_n_plus_1\n",
        "            profondeur_n_plus_1 = []"
      ],
      "execution_count": null,
      "outputs": []
    }
  ]
}