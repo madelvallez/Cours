{
  "nbformat": 4,
  "nbformat_minor": 0,
  "metadata": {
    "colab": {
      "name": "Untitled7.ipynb",
      "provenance": [],
      "authorship_tag": "ABX9TyMEL2GhvrXFCMF2TdyEpfLv",
      "include_colab_link": true
    },
    "kernelspec": {
      "name": "python3",
      "display_name": "Python 3"
    }
  },
  "cells": [
    {
      "cell_type": "markdown",
      "metadata": {
        "id": "view-in-github",
        "colab_type": "text"
      },
      "source": [
        "<a href=\"https://colab.research.google.com/github/madelvallez/Cours/blob/master/NSI/Chap08/fiche-ArbresBinaires.ipynb\" target=\"_parent\"><img src=\"https://colab.research.google.com/assets/colab-badge.svg\" alt=\"Open In Colab\"/></a>"
      ]
    },
    {
      "cell_type": "markdown",
      "metadata": {
        "id": "vkTAOPkzQ6CK"
      },
      "source": [
        "# Arbres Binaires"
      ]
    },
    {
      "cell_type": "markdown",
      "metadata": {
        "id": "vLl3WsMTRcAC"
      },
      "source": [
        "##I. Définition\n",
        "\n",
        "Les arbres binaires sont des **structures hierrarchiques** particulières: il n'y a que **maximum deux branches** à la suite d'un même élément."
      ]
    },
    {
      "cell_type": "markdown",
      "metadata": {
        "id": "yFOTnC2rSpPl"
      },
      "source": [
        "### **Vocabulaire**\n",
        "\n",
        "**Noeud**: élément de l'arbre\n",
        "\n",
        "**Racine**: noeud initial\n",
        "\n",
        "**Noeud fils**: noeud *sous* le noeud père\n",
        "\n",
        "**Noeud père**: noeud *au-dessus* du noeud fils\n",
        "\n",
        "**Feuille**: noeud n'ayant aucun fils\n",
        "\n",
        "**Sous-arbre**: partie d'arbre suite à un noeud (chaque noeud à un sous-arbre droit et un sous-arbre gauche)\n",
        "\n",
        "**Arête**: segment qui relie deux noeuds\n",
        "\n",
        "**Profondeur d'un noeud**: nombre de noeuds à parcourir du noeud à la racine (la racine a une profonduer de 1)\n",
        "\n",
        "**Hauteur**: profondeur maximale \n"
      ]
    },
    {
      "cell_type": "markdown",
      "metadata": {
        "id": "1FkfhE-HRgK4"
      },
      "source": [
        "## II. Arbre binaire en Python"
      ]
    },
    {
      "cell_type": "markdown",
      "metadata": {
        "id": "vMbuZqMVXQ-L"
      },
      "source": [
        "###1) Classe Noeud"
      ]
    },
    {
      "cell_type": "code",
      "metadata": {
        "id": "YZTIWm0mQwNc"
      },
      "source": [
        "class Noeud:\n",
        "    def __init__(self, g, v, d):\n",
        "        self.gauche = g\n",
        "        self.valeur = v        \n",
        "        self.droit  = d\n",
        "\n",
        "    def __str__(a):\n",
        "        if a is not None:\n",
        "            return ('('+str(a.gauche)+a.valeur+str(a.droit)+')')\n",
        "        return ''\n",
        "\n",
        "    def __eq__(a1,a2):\n",
        "        if a1 is None and a2 is None: \n",
        "            return True\n",
        "        elif a1 is None or a2 is None :\n",
        "            return False\n",
        "        if a1.valeur != a2.valeur : \n",
        "            return False \n",
        "        else : \n",
        "            return a1.droit == a2.droit and a1.gauche==a2.gauche\n",
        "\n",
        "    def taille(self):\n",
        "        if self is None:\n",
        "            return 0\n",
        "        else:\n",
        "            return 1 + taille(self.gauche) + taille(self.droit)        "
      ],
      "execution_count": 2,
      "outputs": []
    }
  ]
}