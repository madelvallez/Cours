{
  "nbformat": 4,
  "nbformat_minor": 0,
  "metadata": {
    "colab": {
      "name": "Chap08_EXERCICES_Arbres_binaires.ipynb",
      "provenance": [],
      "collapsed_sections": [
        "sQG4TQcAslQT"
      ],
      "include_colab_link": true
    },
    "kernelspec": {
      "name": "python3",
      "display_name": "Python 3"
    }
  },
  "cells": [
    {
      "cell_type": "markdown",
      "metadata": {
        "id": "view-in-github",
        "colab_type": "text"
      },
      "source": [
        "<a href=\"https://colab.research.google.com/github/madelvallez/Cours/blob/master/NSI/Chap08/EXERCICES_Arbres_binaires.ipynb\" target=\"_parent\"><img src=\"https://colab.research.google.com/assets/colab-badge.svg\" alt=\"Open In Colab\"/></a>"
      ]
    },
    {
      "cell_type": "markdown",
      "metadata": {
        "id": "Vb2rlvmZoVyv"
      },
      "source": [
        "## Exercice 1"
      ]
    },
    {
      "cell_type": "markdown",
      "metadata": {
        "id": "NtPW-zvuoX9Q"
      },
      "source": [
        "Ecrire une fonction `affiche(a)` qui imprime un arbre binaire a sous la forme suivante :\n",
        "* pour un arbre vide, on n'imprime rien\n",
        "* pour un noeud, on imprime :\n",
        "  * un parenthèse ouvrante `(`\n",
        "  * le sous-arbre gauche (récursivement)\n",
        "  * la valeur du noeud\n",
        "  * le sous-arbre droit du noeud\n",
        "  * une parenthèse fermante `)`\n",
        "\n",
        "Par **exemple**, un arbre binaire de taille 4 tel que :\n",
        "* la racine R possède deux fils : \n",
        "  * D (à droite)\n",
        "  * G (à gauche)   qui possède lui même \n",
        "    * un fils droit F \n",
        "\n",
        "sera affiché : \n",
        "`((G(F))R(D))`"
      ]
    },
    {
      "cell_type": "code",
      "metadata": {
        "id": "kfuwruR_qWqe"
      },
      "source": [
        "class Noeud:\n",
        "    def __init__(self, g, v, d):\n",
        "        self.gauche = g\n",
        "        self.valeur = v        \n",
        "        self.droit  = d\n",
        "arbre=Noeud(Noeud(None,'G',Noeud(None,'F',None)),'R',Noeud(None,'D',None))"
      ],
      "execution_count": 2,
      "outputs": []
    },
    {
      "cell_type": "code",
      "metadata": {
        "id": "hYglLkAiRjHR"
      },
      "source": [
        "def affiche(a):\n",
        "    if a is not None:\n",
        "        return ('('+affiche(a.gauche)+a.valeur+affiche(a.droit)+')')\n",
        "    return ''"
      ],
      "execution_count": 3,
      "outputs": []
    },
    {
      "cell_type": "code",
      "metadata": {
        "id": "ZuBOMF8ZTem4",
        "outputId": "25e06db8-c44f-4838-c18c-6095c1e29cbf",
        "colab": {
          "base_uri": "https://localhost:8080/"
        }
      },
      "source": [
        "print(affiche(Noeud(Noeud(Noeud(None,'Ga',None),'A',Noeud(None,'Da',None)), 'R', Noeud(Noeud(None,'Gb',None),'B',Noeud(None,'Db',None)))))\n",
        "print(affiche(arbre))"
      ],
      "execution_count": 4,
      "outputs": [
        {
          "output_type": "stream",
          "text": [
            "(((Ga)A(Da))R((Gb)B(Db)))\n",
            "((G(F))R(D))\n"
          ],
          "name": "stdout"
        }
      ]
    },
    {
      "cell_type": "markdown",
      "metadata": {
        "id": "xY8ucGJFq36r"
      },
      "source": [
        "# Exercice 2\n",
        "\n",
        "1. Dessiner l'arbre binaire dont l'affichage avec la fonction de l'exercice précédent est : `(1((2)3))`\n",
        "\n",
        "![image.png](data:image/png;base64,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)\n",
        "\n",
        "2. Vérifier votre réponse en saisissant cet arbre dans un variable, et en l'affichant avec la fonction de l'exercice 1. \n"
      ]
    },
    {
      "cell_type": "code",
      "metadata": {
        "id": "LDstJJOgZkQO",
        "outputId": "1bdce124-b56d-4d9e-8620-2281c8f47488",
        "colab": {
          "base_uri": "https://localhost:8080/",
          "height": 35
        }
      },
      "source": [
        "arb = Noeud(None,'1',Noeud(Noeud(None,'2',None),'3',None))\n",
        "affiche(arb)"
      ],
      "execution_count": 5,
      "outputs": [
        {
          "output_type": "execute_result",
          "data": {
            "application/vnd.google.colaboratory.intrinsic+json": {
              "type": "string"
            },
            "text/plain": [
              "'(1((2)3))'"
            ]
          },
          "metadata": {
            "tags": []
          },
          "execution_count": 5
        }
      ]
    },
    {
      "cell_type": "markdown",
      "metadata": {
        "id": "7CpRegOesHJX"
      },
      "source": [
        "# Exercice 3"
      ]
    },
    {
      "cell_type": "markdown",
      "metadata": {
        "id": "kdkVjgDysJQD"
      },
      "source": [
        "Ecrire une fonction identiques(a1, a2) qui permet de tester si les deux arbres a1 et a2 sont identiques. "
      ]
    },
    {
      "cell_type": "markdown",
      "metadata": {
        "id": "sQG4TQcAslQT"
      },
      "source": [
        "# Exercice 4"
      ]
    },
    {
      "cell_type": "markdown",
      "metadata": {
        "id": "qjdAoJKasm-F"
      },
      "source": [
        "Ecrire une fonction `miroir(a)` qui renvoie un nouvel arbre binaire, symétrique de `a` au sens où les sous-arbres gauche et droit de `a` sont inversés dans `miroir(a)`."
      ]
    },
    {
      "cell_type": "markdown",
      "metadata": {
        "id": "5rShG3k3tNRn"
      },
      "source": [
        "#### pour tester le code, on pourra utiliser l'affichage suivant :"
      ]
    },
    {
      "cell_type": "code",
      "metadata": {
        "id": "KWIFYAa1tLsq"
      },
      "source": [
        "def parcours_infixe_indent(arbre,n=0):\n",
        "    '''affiche le contenu d'un arbre :\n",
        "    - d'abord le sous-arbre droit, \n",
        "    - puis la racine, \n",
        "    - puis le sous-arbre gauche'''\n",
        "    if arbre is not None:\n",
        "        parcours_infixe_indent(arbre.droit,n+1)\n",
        "        print('    '*n+'-', arbre.valeur)\n",
        "        parcours_infixe_indent(arbre.gauche,n+1)"
      ],
      "execution_count": null,
      "outputs": []
    }
  ]
}