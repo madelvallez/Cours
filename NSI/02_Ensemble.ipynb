{
  "nbformat": 4,
  "nbformat_minor": 0,
  "metadata": {
    "colab": {
      "name": "02-Ensemble.ipynb",
      "provenance": [],
      "collapsed_sections": []
    },
    "kernelspec": {
      "name": "python3",
      "display_name": "Python 3"
    }
  },
  "cells": [
    {
      "cell_type": "markdown",
      "metadata": {
        "id": "RgfCIxM97OIg",
        "colab_type": "text"
      },
      "source": [
        "# Liste ou dictionnaire ?\n"
      ]
    },
    {
      "cell_type": "markdown",
      "metadata": {
        "id": "LywZG7fe7RbM",
        "colab_type": "text"
      },
      "source": [
        "Dans le problème des anniversaire, le meilleur algorithme consiste à chercher les doublons en parcourant une fois le tableau, et en \"cochant\" les valeurs déjà rencontrées dans une **structure adaptée**.\n",
        "\n",
        "* soit une liste : \n",
        "  * mais cela suppose de connaître d'avance les valeurs extrêmes qui peuvent être contenues dans le tableau\n",
        "  * une telle liste occupe en mémoire plus de place que ce qui est souvent utile. \n",
        "\n",
        "* soit un dictionnaire :\n",
        "  * on peut stocker les valeurs du tableau au fur et à mesure, sans définir dès le départ la dimension de stockage.\n",
        "  * on pourrait chercher les doublons dans un tableau contenant des données de type `str` aussi bien que `int`.\n",
        "  * mais... seules les clés du dictionnaire sont vraiment utiles. Les valeurs stockées importent peu => on doit pouvoir encore économiser de la place avec une structure plus \"légère\".\n",
        "\n",
        "  Une telle structure correspond à ce qu'on appelle habituellement : **ensemble**. \n",
        "  \n",
        "La détection de doublon pourrait s'écrire : \n",
        "\n",
        "\n"
      ]
    },
    {
      "cell_type": "code",
      "metadata": {
        "id": "8YC4lJ6A3mzh",
        "colab_type": "code",
        "colab": {}
      },
      "source": [
        "def detecte_doublon_ensemble(t):\n",
        "    '''t est un tableau d'entiers compris entre 1 et 366\n",
        "\n",
        "    la fonction renvoie True si le tableau t contient deux fois la même valeur, \n",
        "    et False si t ne contient que des valeurs distinctes '''\n",
        "    s = cree_ensemble() #ensemble vide\n",
        "    # parcours du tableau \n",
        "    for v in t: \n",
        "        if appartient(v, s) : \n",
        "            return True\n",
        "        else :\n",
        "            ajoute(v, s)\n",
        "    return False"
      ],
      "execution_count": null,
      "outputs": []
    },
    {
      "cell_type": "markdown",
      "metadata": {
        "id": "y3VSubcJ-Q2a",
        "colab_type": "text"
      },
      "source": [
        "L'objectif de ce cours va être de créer cette structure \"ensemble\" uniquement à partir du type `list` de python.\n",
        "\n",
        "Cela permettra d'avoir une idée de la manière dont les dictionnaires sont implémentés. "
      ]
    },
    {
      "cell_type": "markdown",
      "metadata": {
        "id": "GFpPxSgt_2fU",
        "colab_type": "text"
      },
      "source": [
        "## Avec un tableau de booléens"
      ]
    },
    {
      "cell_type": "code",
      "metadata": {
        "id": "Wx7kEJvT-k10",
        "colab_type": "code",
        "colab": {}
      },
      "source": [
        "# première solution : tableau de booléens\n",
        "def cree_ensemble():\n",
        "    ''' crée un ensemble vide, pouvant contenir des entiers entre 0 et 366\n",
        "    implémenté sous la forme d'un tableau de booléens'''\n",
        "    return [False for i in range(367)]\n",
        "\n",
        "def appartient(v,s):\n",
        "    ''' teste si une valeur v (de 0 à 366) appartient à l'ensemble s'''\n",
        "    return s[v]\n",
        "\n",
        "def ajoute(v,s):\n",
        "    ''' ajoute la valeur v (de0 à 366) à l'ensemble s'''\n",
        "    s[v]=True\n",
        "\n",
        "\n",
        "def detecte_doublon_ensemble(t):\n",
        "    '''t est un tableau d'entiers compris entre 1 et 366\n",
        "\n",
        "    la fonction renvoie True si le tableau t contient deux fois la même valeur, \n",
        "    et False si t ne contient que des valeurs distinctes '''\n",
        "    s = cree_ensemble() #ensemble vide\n",
        "    # parcours du tableau \n",
        "    for v in t: \n",
        "        if appartient(v, s) : \n",
        "            return True\n",
        "        else :\n",
        "            ajoute(v, s)\n",
        "    return False\n"
      ],
      "execution_count": null,
      "outputs": []
    },
    {
      "cell_type": "code",
      "metadata": {
        "id": "iSxa024R_i5g",
        "colab_type": "code",
        "colab": {
          "base_uri": "https://localhost:8080/",
          "height": 34
        },
        "outputId": "1718bb00-8f7b-42ee-ea15-ff837e293595"
      },
      "source": [
        "detecte_doublon_ensemble([0,1,2,3,4,5,1,0])"
      ],
      "execution_count": null,
      "outputs": [
        {
          "output_type": "execute_result",
          "data": {
            "text/plain": [
              "True"
            ]
          },
          "metadata": {
            "tags": []
          },
          "execution_count": 5
        }
      ]
    },
    {
      "cell_type": "code",
      "metadata": {
        "colab_type": "code",
        "id": "xqvPJFqI_qFh",
        "colab": {
          "base_uri": "https://localhost:8080/",
          "height": 34
        },
        "outputId": "1f4e6996-bc80-4a6c-f7b6-e674bc3f2fe9"
      },
      "source": [
        "detecte_doublon_ensemble([0,1,2,3,4,5,6])"
      ],
      "execution_count": null,
      "outputs": [
        {
          "output_type": "execute_result",
          "data": {
            "text/plain": [
              "False"
            ]
          },
          "metadata": {
            "tags": []
          },
          "execution_count": 6
        }
      ]
    },
    {
      "cell_type": "markdown",
      "metadata": {
        "id": "jnRu7WQhACzX",
        "colab_type": "text"
      },
      "source": [
        "## avec un dictionnaire"
      ]
    },
    {
      "cell_type": "code",
      "metadata": {
        "id": "Bk1LOUaLAFnt",
        "colab_type": "code",
        "colab": {}
      },
      "source": [
        "# deuxième solution : dictionnaire\n",
        "def cree_ensemble():\n",
        "    ''' crée un ensemble vide, pouvant contenir des entiers ou des textes\n",
        "    implémenté sous la forme d'un dictionnaire de booléens'''\n",
        "    return {}\n",
        "\n",
        "def appartient(v,s):\n",
        "    ''' teste si une valeur v appartient à l'ensemble s'''\n",
        "    return v in s\n",
        "\n",
        "def ajoute(v,s):\n",
        "    ''' ajoute la valeur v à l'ensemble s'''\n",
        "    s[v]=True\n",
        "\n",
        "\n",
        "def detecte_doublon_ensemble(t):\n",
        "    '''t est un tableau d'entiers compris entre 1 et 366\n",
        "\n",
        "    la fonction renvoie True si le tableau t contient deux fois la même valeur, \n",
        "    et False si t ne contient que des valeurs distinctes '''\n",
        "    s = cree_ensemble() #ensemble vide\n",
        "    # parcours du tableau \n",
        "    for v in t: \n",
        "        if appartient(v, s) : \n",
        "            return True\n",
        "        else :\n",
        "            ajoute(v, s)\n",
        "    return False\n",
        "\n",
        "\n",
        "assert detecte_doublon_ensemble([0,1,2,3,4,5,1,0])==True\n",
        "assert detecte_doublon_ensemble([0,1,2,3,4,5,6]) == False"
      ],
      "execution_count": null,
      "outputs": []
    },
    {
      "cell_type": "markdown",
      "metadata": {
        "id": "P0RWRW6dAufN",
        "colab_type": "text"
      },
      "source": [
        "# Nouvelle structure d'ensemble : liste de listes\n",
        "\n",
        "Chaque élément doit être stocké dans une liste, **de manière à pouvoir être trouvé très rapidement si on le cherche dans la liste**.\n",
        "* on pourrait envisager une liste triée, mais\n",
        "  * la recherche dans une liste triée s'effectue en O(log(n)) et non pas en temps constant\n",
        "  * pour insérer un nouvel élément, il y aurait un coût important\n",
        "    * pour trouver la place où l'insérer dans l'ensemble\n",
        "    * pour \"décaler\" les autres élements de l'ensemble\n",
        "\n",
        "\n",
        "* on va voir qu'une **liste de listes** est pertinente, si elle est bien construite."
      ]
    },
    {
      "cell_type": "code",
      "metadata": {
        "id": "YdiCbH8kCkvs",
        "colab_type": "code",
        "colab": {}
      },
      "source": [
        "# troisième solution : liste de listes\n",
        "def cree_ensemble():\n",
        "    ''' crée un ensemble vide, pouvant contenir des entiers \n",
        "    implémenté sous la forme d'une liste de listes'''\n",
        "    return [ [] for i in range(23) ]\n",
        "\n",
        "def appartient(v,s):\n",
        "    ''' teste si une valeur v appartient à l'ensemble s'''\n",
        "    indice = v%23\n",
        "    return v in s[indice]\n",
        "\n",
        "def ajoute(v,s):\n",
        "    ''' ajoute la valeur v à l'ensemble s'''\n",
        "    indice = v%23\n",
        "    s[indice].append(v)\n",
        "\n",
        "\n",
        "def detecte_doublon_ensemble(t):\n",
        "    '''t est un tableau d'entiers compris entre 1 et 366\n",
        "\n",
        "    la fonction renvoie True si le tableau t contient deux fois la même valeur, \n",
        "    et False si t ne contient que des valeurs distinctes '''\n",
        "    s = cree_ensemble() #ensemble vide\n",
        "    # parcours du tableau \n",
        "    for v in t: \n",
        "        if appartient(v, s) : \n",
        "            return True\n",
        "        else :\n",
        "            ajoute(v, s)\n",
        "    return False\n",
        "\n",
        "\n",
        "assert detecte_doublon_ensemble([0,1,2,3,4,5,1,0])==True\n",
        "assert detecte_doublon_ensemble([0,1,2,3,4,5,6]) == False"
      ],
      "execution_count": 1,
      "outputs": []
    },
    {
      "cell_type": "code",
      "metadata": {
        "id": "ztzB9ugodC9J",
        "colab_type": "code",
        "colab": {
          "base_uri": "https://localhost:8080/",
          "height": 34
        },
        "outputId": "91474829-6b03-4a8a-bf89-f7a35db77b34"
      },
      "source": [
        "s=cree_ensemble()\n",
        "ajoute(23,s)\n",
        "ajoute(365,s)\n",
        "ajoute(230,s)\n",
        "print(s)"
      ],
      "execution_count": 2,
      "outputs": [
        {
          "output_type": "stream",
          "text": [
            "[[23, 230], [], [], [], [], [], [], [], [], [], [], [], [], [], [], [], [], [], [], [], [365], [], []]\n"
          ],
          "name": "stdout"
        }
      ]
    },
    {
      "cell_type": "code",
      "metadata": {
        "id": "SekQoZdOelPF",
        "colab_type": "code",
        "colab": {
          "base_uri": "https://localhost:8080/",
          "height": 54
        },
        "outputId": "177fd0f5-4e91-43f4-8cca-496b2c223bbe"
      },
      "source": [
        "s=cree_ensemble()\n",
        "for i in range(367):\n",
        "    ajoute(i,s) \n",
        "print(s)"
      ],
      "execution_count": 8,
      "outputs": [
        {
          "output_type": "stream",
          "text": [
            "[[0, 23, 46, 69, 92, 115, 138, 161, 184, 207, 230, 253, 276, 299, 322, 345], [1, 24, 47, 70, 93, 116, 139, 162, 185, 208, 231, 254, 277, 300, 323, 346], [2, 25, 48, 71, 94, 117, 140, 163, 186, 209, 232, 255, 278, 301, 324, 347], [3, 26, 49, 72, 95, 118, 141, 164, 187, 210, 233, 256, 279, 302, 325, 348], [4, 27, 50, 73, 96, 119, 142, 165, 188, 211, 234, 257, 280, 303, 326, 349], [5, 28, 51, 74, 97, 120, 143, 166, 189, 212, 235, 258, 281, 304, 327, 350], [6, 29, 52, 75, 98, 121, 144, 167, 190, 213, 236, 259, 282, 305, 328, 351], [7, 30, 53, 76, 99, 122, 145, 168, 191, 214, 237, 260, 283, 306, 329, 352], [8, 31, 54, 77, 100, 123, 146, 169, 192, 215, 238, 261, 284, 307, 330, 353], [9, 32, 55, 78, 101, 124, 147, 170, 193, 216, 239, 262, 285, 308, 331, 354], [10, 33, 56, 79, 102, 125, 148, 171, 194, 217, 240, 263, 286, 309, 332, 355], [11, 34, 57, 80, 103, 126, 149, 172, 195, 218, 241, 264, 287, 310, 333, 356], [12, 35, 58, 81, 104, 127, 150, 173, 196, 219, 242, 265, 288, 311, 334, 357], [13, 36, 59, 82, 105, 128, 151, 174, 197, 220, 243, 266, 289, 312, 335, 358], [14, 37, 60, 83, 106, 129, 152, 175, 198, 221, 244, 267, 290, 313, 336, 359], [15, 38, 61, 84, 107, 130, 153, 176, 199, 222, 245, 268, 291, 314, 337, 360], [16, 39, 62, 85, 108, 131, 154, 177, 200, 223, 246, 269, 292, 315, 338, 361], [17, 40, 63, 86, 109, 132, 155, 178, 201, 224, 247, 270, 293, 316, 339, 362], [18, 41, 64, 87, 110, 133, 156, 179, 202, 225, 248, 271, 294, 317, 340, 363], [19, 42, 65, 88, 111, 134, 157, 180, 203, 226, 249, 272, 295, 318, 341, 364], [20, 43, 66, 89, 112, 135, 158, 181, 204, 227, 250, 273, 296, 319, 342, 365], [21, 44, 67, 90, 113, 136, 159, 182, 205, 228, 251, 274, 297, 320, 343, 366], [22, 45, 68, 91, 114, 137, 160, 183, 206, 229, 252, 275, 298, 321, 344]]\n"
          ],
          "name": "stdout"
        }
      ]
    },
    {
      "cell_type": "markdown",
      "metadata": {
        "id": "nSYGN5IguebU",
        "colab_type": "text"
      },
      "source": [
        "1. Choix du nombre total de listes : ici on a une liste de 23 listes. En effet, on s'attend à ce qu'un doublon soit probable si le nombre d'éléments dépasse 23. Si on utilise une liste de 23 listes pour tester des doublons, chacune de ces 23 listes ne devrait contenir qu'un petit nombre d'éléments.\n",
        "\n",
        "2. Chaque élément `v` est stocké dans l'une des 23 listes, selon la valeur de `v%23` : cela permet de \n",
        "  - choisir dans quelle liste stocker un élément avec la fonction `ajoute`\n",
        "  - chercher si cet élément est présent dans **une seule des 23 listes** avec la fonction `appartient`. Comme chacune de ces listes ne contient que peu d'éléments, cette recherche s'effectue pratiquement en temps constant\n",
        "\n",
        "3. Au niveau de l'occupation en mémoire, l'ensemble vide occupe certes un peu d'espace, mais beaucoup moins qu'avec une liste de 366 booléens ! Pour les ensembles non vices, la place occupée en mémoire augmente avec le nombre d'éléments. "
      ]
    },
    {
      "cell_type": "markdown",
      "metadata": {
        "id": "I1ty9GKz2JgW",
        "colab_type": "text"
      },
      "source": [
        "#Conclusion\n",
        "\n",
        "Il existe plusieurs manières de stocker l'information liée à la notion d'ensemble. Nous en avons détaillé trois :\n",
        "1. Tableau de booléens\n",
        "2. Dictionnaire\n",
        "3. Listes de listes\n",
        "\n",
        "On dit que ces trois types de données **implémentent** la structure \"ensemble\". \n",
        "Cette structure peut être caractérisée par son **interface**, c'est à dire ici, les spécifications de trois fonctions qui permettent\n",
        "* créer un ensemble vide\n",
        "* ajouter un élément à un ensemble\n",
        "* tester l'appartenance d'un élément à un ensemble. \n",
        "\n"
      ]
    }
  ]
}