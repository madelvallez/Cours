{
  "nbformat": 4,
  "nbformat_minor": 0,
  "metadata": {
    "colab": {
      "name": "Untitled3.ipynb",
      "provenance": [],
      "authorship_tag": "ABX9TyMgRT+wiWQR2zWUcbl+BVaW",
      "include_colab_link": true
    },
    "kernelspec": {
      "name": "python3",
      "display_name": "Python 3"
    }
  },
  "cells": [
    {
      "cell_type": "markdown",
      "metadata": {
        "id": "view-in-github",
        "colab_type": "text"
      },
      "source": [
        "<a href=\"https://colab.research.google.com/github/madelvallez/Cours/blob/master/NSI/Chap03/fiche-ProgObjet.ipynb\" target=\"_parent\"><img src=\"https://colab.research.google.com/assets/colab-badge.svg\" alt=\"Open In Colab\"/></a>"
      ]
    },
    {
      "cell_type": "markdown",
      "metadata": {
        "id": "Ad1_HZWcjCSh"
      },
      "source": [
        "#Programmation orientée Objet\n",
        "\n",
        "Dans certaines situation, une variable se voit associer diffeérentes information. Pour faciliter le lien entre la variable et ses paramètres, il est possible dans de nombreux langages dont Python de créer un 'nouveau type' de variable avec ses propres paramèmtres basé sur un model programmmé par l'utilisateur."
      ]
    },
    {
      "cell_type": "markdown",
      "metadata": {
        "id": "ClQDY0tWjNWC"
      },
      "source": [
        "##I. Vocabulaire\n",
        "\n",
        "La programmation orientée objet permet donc de regrouper les variables relatives à un même objet.\n",
        "\n",
        "Dans ce contexte:\n",
        "\n",
        "*   une **variable** est appelée **attribut**\n",
        "*   une **fonction** est appelée **méthode**\n",
        "*   chaque **objet** devient donc instance d'une **classe** \n",
        "\n",
        "Lors de l'appel de la classe à la création de l'objet, une méthode est *automatiquement* effectué. C'est le **constructeur**."
      ]
    },
    {
      "cell_type": "markdown",
      "metadata": {
        "id": "eLXJZYdSgGKG"
      },
      "source": [
        "##II. Programmation python\n",
        "###1) Syntaxe de base\n",
        "\n",
        "La déclaration d'une classe se fait avec la ligne ```class Nom_de_classe :``` suivit d'une **indentation** durant toute la définition.\n",
        "\n",
        "En python, le constructeur est `__init__` et a toujours au moins le paramètre `self` qui désigne l'objet créé.\n",
        "\n",
        "En ce qui concerne les méthodes, elles utilisent la même syntaxe que les fonctions python au détail de `self` qui est défini différement dans l'appel de la méthode (`var-self.methode(autres-paramètres)`)."
      ]
    },
    {
      "cell_type": "markdown",
      "metadata": {
        "id": "6GpcPtS5jtSb"
      },
      "source": [
        "####Exemple:\n",
        "\n",
        " Créons un objet Chrono ayant les fonctionnalité d'un chronomètre"
      ]
    },
    {
      "cell_type": "code",
      "metadata": {
        "id": "4d58LHCEkN9R"
      },
      "source": [
        "class Chrono:\n",
        "    \"\"\"classe dont les objets représentent un temps mesuré en heures, minutes, secondes\"\"\"\n",
        "    def __init__(self, h,m,s):\n",
        "        self.heures = h \n",
        "        self.minutes = m \n",
        "        self.secondes = s \n",
        "    \n",
        "    def avance(self, duree):\n",
        "        \"\"\"ajoute à un objet de type Chrono une durée mesurée en secondes\"\"\"\n",
        "        self.secondes += duree\n",
        "        # dépassement possible au delà de 60 secondes:\n",
        "        self.minutes += self.secondes // 60\n",
        "        self.secondes = self.secondes % 60\n",
        "        # dépassement possible au delà de 60 minutes\n",
        "        self.heures += self.minutes // 60\n",
        "        self.minutes = self.minutes % 60"
      ],
      "execution_count": null,
      "outputs": []
    },
    {
      "cell_type": "code",
      "metadata": {
        "id": "h3D1XqNfkUZA"
      },
      "source": [
        "u = Chrono(1,59,59)\n",
        "u.avance(100)"
      ],
      "execution_count": null,
      "outputs": []
    }
  ]
}