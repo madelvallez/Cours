{
  "nbformat": 4,
  "nbformat_minor": 0,
  "metadata": {
    "colab": {
      "name": "Untitled4.ipynb",
      "provenance": [],
      "authorship_tag": "ABX9TyOLv0TAvmtK4dhFzz7cvvke",
      "include_colab_link": true
    },
    "kernelspec": {
      "name": "python3",
      "display_name": "Python 3"
    }
  },
  "cells": [
    {
      "cell_type": "markdown",
      "metadata": {
        "id": "view-in-github",
        "colab_type": "text"
      },
      "source": [
        "<a href=\"https://colab.research.google.com/github/madelvallez/Cours/blob/master/NSI/Chap04/fiche-MiseAuPtDeProg.ipynb\" target=\"_parent\"><img src=\"https://colab.research.google.com/assets/colab-badge.svg\" alt=\"Open In Colab\"/></a>"
      ]
    },
    {
      "cell_type": "markdown",
      "metadata": {
        "id": "6wSEU2-13yUg"
      },
      "source": [
        "#Mise au point de programmes"
      ]
    },
    {
      "cell_type": "markdown",
      "metadata": {
        "id": "hynVWlYW369l"
      },
      "source": [
        "##I. Indication de type\n",
        "\n",
        "Les variables peuvent avoir plusieurs types possibles:\n",
        "\n",
        "* Integer (int): nombres entiers\n",
        "* Flottant (float): nombres à virgule\n",
        "* Booléens (bool): résultat de condition (True/ False)\n",
        "* String (str): chaîne de caractères (indexé)\n",
        "* Tuple (tuple): regoupement de valeurs indéxé\n",
        "* List (list): liste de valeurs indéxé\n",
        "* Dictionnaire (dict): ensembble de couple clé/valeur non indexé\n",
        "* Ensemble (set): ensemble de valeurs non indéxé\n",
        "\n",
        "Dans les versions de python récentes, on peut expliciter le type \"théorique\" des variables, que ce soit dans une définition de variable ou de fonction où on peut spécifier les types des paramètres et sortie.\n",
        "\n",
        "####Exemple:"
      ]
    },
    {
      "cell_type": "code",
      "metadata": {
        "id": "8qygSd4E3f4Y"
      },
      "source": [
        "x:int = 5\n",
        "y:list = 'chaine de caractère'      #le type précisé n'est pas analysé par python -> il n'est pas obligatoire de le respecter\n",
        "\n",
        "def fonction(a:int, b:str, dico:dict)-> dict:\n",
        "    if not((a,b)in dico.items):\n",
        "        dico[a]=b\n",
        "    return dico"
      ],
      "execution_count": null,
      "outputs": []
    },
    {
      "cell_type": "markdown",
      "metadata": {
        "id": "k27hfxUf8fQ2"
      },
      "source": [
        "##II. Tester un programme\n",
        "\n",
        "Pour bien tester un programme, il faut:\n",
        "* tester **séparement** et **au fur et à mesure de leur création** les fonctions\n",
        "* tester avec les **valeurs spéciales** (ensembles vides, zéro,...)\n",
        "* tester les **valeurs \"au bords\"** des ensembles indexés (sécialement les tableaux double dimension)\n",
        "* s'assurer que l'intégralité du **cahier des charges est respecté**\n",
        "\n",
        "Pour tester son programme, l'utilisation de l'instruction `assert` permet de corriger les problèmes sans en créer un autre.\n",
        "\n"
      ]
    }
  ]
}