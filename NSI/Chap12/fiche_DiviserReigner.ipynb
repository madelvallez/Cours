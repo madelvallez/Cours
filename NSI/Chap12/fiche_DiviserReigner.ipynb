{
  "nbformat": 4,
  "nbformat_minor": 0,
  "metadata": {
    "colab": {
      "name": "fiche-DiviserReigner.ipynb",
      "provenance": [],
      "authorship_tag": "ABX9TyNuJOjIVPFTaZ2hKPCVaBr1",
      "include_colab_link": true
    },
    "kernelspec": {
      "name": "python3",
      "display_name": "Python 3"
    }
  },
  "cells": [
    {
      "cell_type": "markdown",
      "metadata": {
        "id": "view-in-github",
        "colab_type": "text"
      },
      "source": [
        "<a href=\"https://colab.research.google.com/github/madelvallez/Cours/blob/master/NSI/Chap12/fiche_DiviserReigner.ipynb\" target=\"_parent\"><img src=\"https://colab.research.google.com/assets/colab-badge.svg\" alt=\"Open In Colab\"/></a>"
      ]
    },
    {
      "cell_type": "markdown",
      "metadata": {
        "id": "Bui_Snc6zORj"
      },
      "source": [
        "#Méthode Diviser pour Reigner"
      ]
    },
    {
      "cell_type": "markdown",
      "metadata": {
        "id": "dmtmTzhuzWi9"
      },
      "source": [
        "##I. Definition"
      ]
    },
    {
      "cell_type": "markdown",
      "metadata": {
        "id": "enAAniALzhuU"
      },
      "source": [
        "La méthode diviser pour reigner est une méthode basée sur le proncipe de diviser une grosse tache en plusieurs plus petites taches. On les résoud puis on les réassenmble pour obtenir le résultat final. \r\n",
        "\r\n",
        "On retrouve trois étapes:\r\n",
        "* Diviser: on découpe le problème d'origine en sous-problèmes\r\n",
        "* Reigner: on résout les sous problèmes\r\n",
        "* Fusionner: on fusionnne les solutions aux sous-problèmes pour obtenir la solution au problème d'origine."
      ]
    },
    {
      "cell_type": "markdown",
      "metadata": {
        "id": "zqN_0Xfh1zcc"
      },
      "source": [
        "##II. Recherche d'un minimum dans une liste"
      ]
    },
    {
      "cell_type": "markdown",
      "metadata": {
        "id": "EZFbcUB11_BP"
      },
      "source": [
        "Rappel: tableau[:i] renvoie la tranche du tableau entre tableau[0] et tableau[i-1].\r\n",
        "tableau[i:] renvoie la tranche du tableau entre t[i] et "
      ]
    },
    {
      "cell_type": "code",
      "metadata": {
        "id": "It3AAdNdypc3"
      },
      "source": [
        "def minimum(liste):\r\n",
        "    taille = len(liste)\r\n",
        "    if taille == 1 :\r\n",
        "        return liste[0]\r\n",
        "    else :\r\n",
        "        milieu = taille // 2\r\n",
        "        x = minimum(liste[:milieu])\r\n",
        "        y = minimum(liste[milieu:])\r\n",
        "        if x < y :\r\n",
        "            return x\r\n",
        "        else :\r\n",
        "            return y\r\n",
        "\r\n",
        "print(minimum([23,12,4,56,35,57,3,11]))"
      ],
      "execution_count": null,
      "outputs": []
    }
  ]
}