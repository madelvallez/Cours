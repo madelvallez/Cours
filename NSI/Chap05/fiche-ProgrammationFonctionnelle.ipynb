{
  "nbformat": 4,
  "nbformat_minor": 0,
  "metadata": {
    "colab": {
      "name": "Untitled5.ipynb",
      "provenance": [],
      "include_colab_link": true
    },
    "kernelspec": {
      "name": "python3",
      "display_name": "Python 3"
    }
  },
  "cells": [
    {
      "cell_type": "markdown",
      "metadata": {
        "id": "view-in-github",
        "colab_type": "text"
      },
      "source": [
        "<a href=\"https://colab.research.google.com/github/madelvallez/Cours/blob/master/NSI/Chap05/fiche-ProgrammationFonctionnelle.ipynb\" target=\"_parent\"><img src=\"https://colab.research.google.com/assets/colab-badge.svg\" alt=\"Open In Colab\"/></a>"
      ]
    },
    {
      "cell_type": "markdown",
      "metadata": {
        "id": "an3oYNpnQAH8"
      },
      "source": [
        "#Diversité des systèmes de programmation\n",
        "\n",
        "####Pourquoi n'existe-t-il pas un seul langage de programmation?\n",
        "\n",
        "Selon les besions du programme et de son utilité, les systèmes de programmation et leur complexité est différente. Ainsi, les différents langages de programmation ne fonctionnent pas de la même manière et ne sont pas équipé des mêmes actions.\n",
        "\n"
      ]
    },
    {
      "cell_type": "markdown",
      "metadata": {
        "id": "sdblMfV7QZBB"
      },
      "source": [
        "##I. Les familles de langages de programmation\n",
        "\n",
        "**Imératif**: execution des instructions une à une tout au long du programme rédigé\n",
        "\n",
        "**Orienté Objet**: manipuation d'objet créé avec ses attributs et ses méthodes\n",
        "\n",
        "**Fonctionnel**: utilisation de fonction \"premières\" comme paramètre de fonctions/actions\n",
        "\n",
        "**Concurrent**: execution de plusieurs programmes en parallèle\n",
        "\n",
        "**Évenementiel**: execution d'action suite à ne action de l'utilisateur\n",
        "\n",
        "**Orienté requêtes**: execution de requêtes vers des bases de données"
      ]
    },
    {
      "cell_type": "markdown",
      "metadata": {
        "id": "MHoPNttPR9eX"
      },
      "source": [
        "##II.Programmation fonctionnelle"
      ]
    },
    {
      "cell_type": "markdown",
      "metadata": {
        "id": "sI1NMU3BVVR_"
      },
      "source": [
        "###1) Fonction dans une fonction\n",
        "\n",
        "Il est possible de passer en argument des variables mais aussi des fonctions en python:"
      ]
    },
    {
      "cell_type": "code",
      "metadata": {
        "id": "j5awWx9DPDPg",
        "outputId": "1d822de0-7fbc-4713-aed6-8fd5a8c47bd4",
        "colab": {
          "base_uri": "https://localhost:8080/",
          "height": 54
        }
      },
      "source": [
        "def tri(t, f):\n",
        "    ''' trie le tableau t en place, par sélection, \n",
        "    en appliquant la fonction f aux valeurs du tableau'''\n",
        "    for i in range(len(t)-1):\n",
        "        m = i\n",
        "        for j in range(i + 1, len(t)):\n",
        "            if f(t[j]) < f(t[m]):\n",
        "                m = j\n",
        "        t[i],t[m] = t[m],t[i]\n",
        "\n",
        "def deuxieme_elt(x :tuple)->int:\n",
        "    '''renvoie le deuxième élément d'un tuple'''\n",
        "    return x[1]\n",
        "\n",
        "\n",
        "t = [('John', 2002), ('Brian', 2001), ('Liz',2000),('Ann',2004)]\n",
        "\n",
        "print('ordre de la la liste',t)\n",
        "tri(t,deuxieme_elt)\n",
        "print('ordre de naisssance',t)"
      ],
      "execution_count": null,
      "outputs": [
        {
          "output_type": "stream",
          "text": [
            "ordre de la la liste [('John', 2002), ('Brian', 2001), ('Liz', 2000), ('Ann', 2004)]\n",
            "ordre de naisssance [('Liz', 2000), ('Brian', 2001), ('John', 2002), ('Ann', 2004)]\n"
          ],
          "name": "stdout"
        }
      ]
    },
    {
      "cell_type": "markdown",
      "metadata": {
        "id": "dpYJjcqjVWJz"
      },
      "source": [
        "###2) Fonction anonyme python\n",
        "\n",
        "En python, la commande `lambda` permet de définir une fonction simple anonyme.\n",
        "\n",
        "####Syntaxe:\n",
        "\n",
        "```lambda variable(s) : valeur```\n",
        "\n",
        "* mot clé `lambda` indique la **création d'une fonction anonyme**\n",
        "* les deux points séparent:\n",
        " * la ou les **paramètres de la fonction**\n",
        " * la valeur **renvoyée**"
      ]
    },
    {
      "cell_type": "code",
      "metadata": {
        "id": "fF5zQpLlXR5b",
        "outputId": "a0274058-b153-415f-b5f4-ed72905fe7bb",
        "colab": {
          "base_uri": "https://localhost:8080/",
          "height": 35
        }
      },
      "source": [
        "lambda x : x+1"
      ],
      "execution_count": null,
      "outputs": [
        {
          "output_type": "execute_result",
          "data": {
            "text/plain": [
              "<function __main__.<lambda>>"
            ]
          },
          "metadata": {
            "tags": []
          },
          "execution_count": 5
        }
      ]
    },
    {
      "cell_type": "code",
      "metadata": {
        "id": "R8d3FismXWgJ",
        "outputId": "6f408187-4f5f-43d9-dd3d-4051618abe2d",
        "colab": {
          "base_uri": "https://localhost:8080/",
          "height": 35
        }
      },
      "source": [
        "f = lambda x : x+1\n",
        "print(f(5))"
      ],
      "execution_count": null,
      "outputs": [
        {
          "output_type": "stream",
          "text": [
            "6\n"
          ],
          "name": "stdout"
        }
      ]
    },
    {
      "cell_type": "markdown",
      "metadata": {
        "id": "GotCOwkGYt1d"
      },
      "source": [
        "Ainsi, la fonction tri pourrait être réédité comme suis:"
      ]
    },
    {
      "cell_type": "code",
      "metadata": {
        "id": "oKeBF_N7a_jP",
        "outputId": "fe56c0b0-9860-4923-f599-6ee6d9556975",
        "colab": {
          "base_uri": "https://localhost:8080/",
          "height": 54
        }
      },
      "source": [
        "def tri(t, f = lambda x:x): # argument f par défaut\n",
        "    ''' trie le tableau t en place, par sélection, \n",
        "    en appliquant la fonction f aux valeurs du tableau'''\n",
        "    for i in range(len(t)-1):\n",
        "        m = i\n",
        "        for j in range(i + 1, len(t)):\n",
        "            if f(t[j]) < f(t[m]):  # comparaison avec la fonction f \n",
        "                m = j\n",
        "        t[i],t[m] = t[m],t[i]\n",
        "\n",
        "t = [('John', 2002), ('Brian', 2001), ('Liz',2000),('Ann',2004)]\n",
        "tri(t)\n",
        "print('ordre alphabetique', t)\n",
        "tri(t,lambda x:x[1])\n",
        "print('ordre de naissance',t)\n"
      ],
      "execution_count": null,
      "outputs": [
        {
          "output_type": "stream",
          "text": [
            "ordre alphabetique [('Ann', 2004), ('Brian', 2001), ('John', 2002), ('Liz', 2000)]\n",
            "ordre de naissance [('Liz', 2000), ('Brian', 2001), ('John', 2002), ('Ann', 2004)]\n"
          ],
          "name": "stdout"
        }
      ]
    },
    {
      "cell_type": "markdown",
      "metadata": {
        "id": "eu0rDTEhby4N"
      },
      "source": [
        "###3) Données immuables\n",
        "\n",
        "En programmation impérative, certaines commandes modifient diresctement les valiables.\n",
        "\n",
        "=> Les données sont **mutables**\n",
        "\n",
        "En programmation fonctionnnelle, l'execution d'une fonction qui 'modifie une variable' va renvoyer une nouvelle variable correspondant à la variable modifiée.\n",
        "\n",
        "=> Les données sont **immuables**"
      ]
    },
    {
      "cell_type": "markdown",
      "metadata": {
        "id": "W8smwaW_qoIt"
      },
      "source": [
        "Python permet de mélanger les paradigmes de programmation et certaines fonctions existent au format impératif et au format fonctionnel:"
      ]
    },
    {
      "cell_type": "code",
      "metadata": {
        "id": "z_ri42fqq25D"
      },
      "source": [
        "t=[20,10,30]\n",
        "print(t.sort())\n",
        "print(t)"
      ],
      "execution_count": null,
      "outputs": []
    },
    {
      "cell_type": "code",
      "metadata": {
        "id": "Bmc22EYWrFLd"
      },
      "source": [
        "t=[20,10,30]\n",
        "print(sorted(t))\n",
        "print(t)"
      ],
      "execution_count": null,
      "outputs": []
    }
  ]
}