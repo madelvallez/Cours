{
  "nbformat": 4,
  "nbformat_minor": 0,
  "metadata": {
    "colab": {
      "name": "PARCOURS_Graphes_Représentation.ipynb",
      "provenance": [],
      "authorship_tag": "ABX9TyO79S/dvT4XDuEMs0eKDBZM",
      "include_colab_link": true
    },
    "kernelspec": {
      "name": "python3",
      "display_name": "Python 3"
    }
  },
  "cells": [
    {
      "cell_type": "markdown",
      "metadata": {
        "id": "view-in-github",
        "colab_type": "text"
      },
      "source": [
        "<a href=\"https://colab.research.google.com/github/madelvallez/Cours/blob/master/NSI/Chap10/PARCOURS_Graphes_Repr%C3%A9sentation.ipynb\" target=\"_parent\"><img src=\"https://colab.research.google.com/assets/colab-badge.svg\" alt=\"Open In Colab\"/></a>"
      ]
    },
    {
      "cell_type": "code",
      "metadata": {
        "id": "ZvNAmutJCmI0"
      },
      "source": [
        "class Graphe:\n",
        "    ''' graphe représenté par un dictionnaire d'adjacence'''\n",
        "    def __init__(self):\n",
        "        self.dico = {}\n",
        "    \n",
        "    def ajouter_sommet(self,s):\n",
        "        if s not in self.dico:\n",
        "            self.dico[s] = []\n",
        "    \n",
        "    def ajouter_arc(self,s1,s2):\n",
        "        self.ajouter_sommet(s1)\n",
        "        self.ajouter_sommet(s2)\n",
        "        self.dico[s1].append(s2)\n",
        "    \n",
        "    def arc(self,s1,s2):\n",
        "        return s2 in self.dico[s1]\n",
        "    \n",
        "    def sommets(self):\n",
        "        return list(self.dico)\n",
        "\n",
        "    def voisins(self,s):\n",
        "        return self.dico[s]\n",
        "\n",
        "    def ajouter_arete(self,s1,s2):\n",
        "        self.ajouter_arc(s1,s2)\n",
        "        self.ajouter_arc(s2,s1)\n",
        "\n",
        "    def afficher(self):     #Ex4 1)\n",
        "        for i in self.dico.items():\n",
        "            voisins=''\n",
        "            for j in i[1]:\n",
        "                voisins=voisins+j+' '\n",
        "            print(i[0],' -> ',voisins)"
      ],
      "execution_count": null,
      "outputs": []
    }
  ]
}