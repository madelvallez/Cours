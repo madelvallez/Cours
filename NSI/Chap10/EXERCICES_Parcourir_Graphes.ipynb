{
  "nbformat": 4,
  "nbformat_minor": 0,
  "metadata": {
    "colab": {
      "name": "Chap11_EXERCICES_Parcourir_Graphes.ipynb",
      "provenance": [],
      "collapsed_sections": [
        "pBy7lyja4O9T"
      ],
      "include_colab_link": true
    },
    "kernelspec": {
      "name": "python3",
      "display_name": "Python 3"
    }
  },
  "cells": [
    {
      "cell_type": "markdown",
      "metadata": {
        "id": "view-in-github",
        "colab_type": "text"
      },
      "source": [
        "<a href=\"https://colab.research.google.com/github/madelvallez/Cours/blob/master/NSI/Chap10/EXERCICES_Parcourir_Graphes.ipynb\" target=\"_parent\"><img src=\"https://colab.research.google.com/assets/colab-badge.svg\" alt=\"Open In Colab\"/></a>"
      ]
    },
    {
      "cell_type": "markdown",
      "metadata": {
        "id": "1sJ67hZc3kOB"
      },
      "source": [
        "## Exercice 1 : distance entre deux sommets"
      ]
    },
    {
      "cell_type": "markdown",
      "metadata": {
        "id": "U-xndtCb3mE_"
      },
      "source": [
        "En utilisant la fonction `parcours_largeur`, écrire une fonction `distance` qui:\r\n",
        "* prend en arguments \r\n",
        "   * un graphe `g`\r\n",
        "   * et deux sommets `s1`, `s2` du graphe `g`\r\n",
        "* renvoie la **distance entre `s1` et `s2`** lorsque `s2` est accessible depuis `s1`\r\n",
        "* renvoie `None` sinon."
      ]
    },
    {
      "cell_type": "markdown",
      "metadata": {
        "id": "pBy7lyja4O9T"
      },
      "source": [
        "#### code fourni (voir cours)"
      ]
    },
    {
      "cell_type": "code",
      "metadata": {
        "id": "6gY6Zulq4Kkj"
      },
      "source": [
        "from queue import Queue\r\n",
        "\r\n",
        "class Graphe:\r\n",
        "    ''' graphe représenté par un dictionnaire d'adjacence'''\r\n",
        "    def __init__(self):\r\n",
        "        self.dico = {}\r\n",
        "    \r\n",
        "    def ajouter_sommet(self,s):\r\n",
        "        if s not in self.dico:\r\n",
        "            self.dico[s] = []\r\n",
        "    \r\n",
        "    def ajouter_arc(self,s1,s2):\r\n",
        "        self.ajouter_sommet(s1)\r\n",
        "        self.ajouter_sommet(s2)\r\n",
        "        self.dico[s1].append(s2)\r\n",
        "    \r\n",
        "    def ajouter_arete(self,s1,s2):\r\n",
        "        self.ajouter_sommet(s1)\r\n",
        "        self.ajouter_sommet(s2)\r\n",
        "        self.dico[s1].append(s2)\r\n",
        "        self.dico[s2].append(s1)\r\n",
        "    \r\n",
        "    def arc(self,s1,s2):\r\n",
        "        return s2 in self.dico[s1]\r\n",
        "    \r\n",
        "    def sommets(self):\r\n",
        "        return list(self.dico)\r\n",
        "\r\n",
        "    def voisins(self,s):\r\n",
        "        return self.dico[s]\r\n",
        "    \r\n",
        "def parcours_largeur(g,depart):\r\n",
        "    '''parcours en largeur d'un graphe g depuis un sommet depart\r\n",
        "    la fonction renvoie un dictionnaire avec\r\n",
        "    - comme clés : les sommets accessibles depuis depart\r\n",
        "    - comme valeurs : la distance au sommet depart'''\r\n",
        "    dist = {depart:0}\r\n",
        "    file = Queue() #file vide\r\n",
        "    file.put(depart)\r\n",
        "    while not file.empty():\r\n",
        "        s = file.get()  #on retire un sommet de la file\r\n",
        "        for v in g.voisins(s): \r\n",
        "            if v not in dist:\r\n",
        "                #  v (voisin de s) est inscrit dans le dictionnaire\r\n",
        "                dist[v] = dist[s] + 1 \r\n",
        "                # et on ajoute v dans la file\r\n",
        "                file.put(v)\r\n",
        "    return dist\r\n",
        "\r\n",
        "graphex = Graphe()\r\n",
        "graphex.ajouter_arete('A','B')\r\n",
        "graphex.ajouter_arete('A','F')\r\n",
        "graphex.ajouter_arete('B','C')\r\n",
        "graphex.ajouter_arete('B','D')\r\n",
        "graphex.ajouter_arete('B','G')\r\n",
        "graphex.ajouter_arete('F','G')\r\n",
        "graphex.ajouter_arete('F','H')\r\n",
        "graphex.ajouter_arete('C','E')\r\n",
        "graphex.ajouter_arete('E','I')\r\n",
        "graphex.ajouter_arete('D','I')\r\n",
        "graphex.ajouter_arete('G','I')\r\n",
        "graphex.ajouter_arete('H','I')\r\n",
        "graphex.ajouter_sommet('isole')"
      ],
      "execution_count": 1,
      "outputs": []
    },
    {
      "cell_type": "markdown",
      "metadata": {
        "id": "L9ezTgzC4mkS"
      },
      "source": [
        "#### réponse"
      ]
    },
    {
      "cell_type": "code",
      "metadata": {
        "id": "GXW-TEXi4bWg"
      },
      "source": [
        "def distance(g,s1,s2):\r\n",
        "    distance=parcours_largeur(g,s1)\r\n",
        "    if s2 in distance:\r\n",
        "        return distance[s2]\r\n",
        "    return None\r\n",
        "\r\n",
        "assert distance(graphex,'A','H') == 2\r\n",
        "assert distance(graphex,'H','isole') == None"
      ],
      "execution_count": 6,
      "outputs": []
    },
    {
      "cell_type": "markdown",
      "metadata": {
        "id": "-XpyCCCM3-l3"
      },
      "source": [
        "## Exercice 2"
      ]
    },
    {
      "cell_type": "markdown",
      "metadata": {
        "id": "yO1_hPTB4D83"
      },
      "source": [
        "La méthode proposée dans l'exercice 1 peut être améliorée!\r\n",
        "\r\n",
        "En effet, si on cherche uniquement la distance entre s1 et s2, il est inutile de compléter le dictionnaire donnant la distance entre s1 et **tous** les sommets du graphe... il suffit de s'interrompre dès qu'on arrive à s2!\r\n",
        "\r\n",
        "Ré-écrire la fonction distance, en tenant compte de cette observation."
      ]
    },
    {
      "cell_type": "code",
      "metadata": {
        "id": "5djJ6wwO3gbx"
      },
      "source": [
        "def distance(g,s1,s2):\r\n",
        "    dist = {s1:0}\r\n",
        "    file = Queue() #file vide\r\n",
        "    file.put(s1)\r\n",
        "    while not(s2 in dist or file.empty()):\r\n",
        "        s = file.get()  #on retire un sommet de la file\r\n",
        "        for v in g.voisins(s): \r\n",
        "            if v not in dist:\r\n",
        "                #  v (voisin de s) est inscrit dans le dictionnaire\r\n",
        "                dist[v] = dist[s] + 1 \r\n",
        "                # et on ajoute v dans la file\r\n",
        "                file.put(v)\r\n",
        "    if s2 in dist:\r\n",
        "        return dist[s2]\r\n",
        "    return None\r\n",
        "\r\n",
        "assert distance(graphex,'A','H') == 2\r\n",
        "assert distance(graphex,'A','isole') == None"
      ],
      "execution_count": 19,
      "outputs": []
    },
    {
      "cell_type": "markdown",
      "metadata": {
        "id": "0-gNrD-VaREQ"
      },
      "source": [
        "# Exercice 3 : plus court chemin (nombre d'arêtes)"
      ]
    },
    {
      "cell_type": "markdown",
      "metadata": {
        "id": "GP_8NoyMaREb"
      },
      "source": [
        "**1)** En s'inspirant de l'exercice 1, écrire une fonction `optimal_predecesseurs(g,depart)` qui:\n",
        "* prend en arguments :\n",
        "   * un graphe `g`\n",
        "   * un sommet `depart`\n",
        "* et qui renvoie :\n",
        "   * un dictionnaire indiquant, pour chaque sommet, le prédécesseur optimal permettant d'atteindre ce sommet en partant de `depart`. \n",
        "   * dans ce dictionnaire, la valeur `None` sera associé à la clé `depart`"
      ]
    },
    {
      "cell_type": "code",
      "metadata": {
        "id": "bJQE4So0aacu",
        "colab": {
          "base_uri": "https://localhost:8080/"
        },
        "outputId": "2d15ffd7-b685-4d35-dc9a-2742d1384e0e"
      },
      "source": [
        "def optimal_predecesseurs(g,depart):\n",
        "    '''renvoie un dictionnaire donnant un prédécesseur optimal\n",
        "    depuis le sommet 'depart'  '''\n",
        "    predecesseur = {depart:None}\n",
        "    file = Queue() #file vide\n",
        "    file.put(depart)\n",
        "    while not file.empty():\n",
        "        s = file.get()  #on retire un sommet de la file\n",
        "        for v in g.voisins(s): \n",
        "            if v not in predecesseur:\n",
        "                #  v (voisin de s) est inscrit dans le dictionnaire\n",
        "                predecesseur[v] = s\n",
        "                # et on ajoute v dans la file\n",
        "                file.put(v)\n",
        "    return predecesseur\n",
        "optimal_predecesseurs(graphex,'A')"
      ],
      "execution_count": 20,
      "outputs": [
        {
          "output_type": "execute_result",
          "data": {
            "text/plain": [
              "{'A': None,\n",
              " 'B': 'A',\n",
              " 'C': 'B',\n",
              " 'D': 'B',\n",
              " 'E': 'C',\n",
              " 'F': 'A',\n",
              " 'G': 'B',\n",
              " 'H': 'F',\n",
              " 'I': 'D'}"
            ]
          },
          "metadata": {
            "tags": []
          },
          "execution_count": 20
        }
      ]
    },
    {
      "cell_type": "markdown",
      "metadata": {
        "id": "1Ry1cnBoVshd"
      },
      "source": [
        "**2)** En déduire une fonction `chemin(g,s1,s2)` qui\n",
        "* prend en arguments \n",
        "   * un graphe `g`\n",
        "   * et deux sommets `s1`, `s2` du graphe `g`\n",
        "* renvoie un **plus court chemin entre `s1` et `s2`** lorsque `s2` est accessible depuis `s1`\n",
        "* renvoie `None` sinon."
      ]
    },
    {
      "cell_type": "code",
      "metadata": {
        "id": "89n2y6mFajAu",
        "colab": {
          "base_uri": "https://localhost:8080/",
          "height": 316
        },
        "outputId": "b097d971-dad8-43d5-9f92-bfc689cbab8c"
      },
      "source": [
        "def chemin(g,s1,s2):\n",
        "    '''renvoie un (plus court) chemin entre s1 et s2,\n",
        "    ou None si s2 n'est pas accessible depuis s1'''\n",
        "    way=[s2]\n",
        "    som=s1\n",
        "    while s1 not in way:\n",
        "        paserelle = optimal_predecesseurs(g,som)\n",
        "        way.append(paserelle[s2])\n",
        "        som=paserelle[s2]\n",
        "    return way\n",
        "\n",
        "print(chemin(graphex,'A','E'))"
      ],
      "execution_count": 33,
      "outputs": [
        {
          "output_type": "error",
          "ename": "KeyboardInterrupt",
          "evalue": "ignored",
          "traceback": [
            "\u001b[0;31m---------------------------------------------------------------------------\u001b[0m",
            "\u001b[0;31mKeyboardInterrupt\u001b[0m                         Traceback (most recent call last)",
            "\u001b[0;32m<ipython-input-33-e11ea45e248b>\u001b[0m in \u001b[0;36m<module>\u001b[0;34m()\u001b[0m\n\u001b[1;32m     10\u001b[0m     \u001b[0;32mreturn\u001b[0m \u001b[0mway\u001b[0m\u001b[0;34m\u001b[0m\u001b[0;34m\u001b[0m\u001b[0m\n\u001b[1;32m     11\u001b[0m \u001b[0;34m\u001b[0m\u001b[0m\n\u001b[0;32m---> 12\u001b[0;31m \u001b[0mprint\u001b[0m\u001b[0;34m(\u001b[0m\u001b[0mchemin\u001b[0m\u001b[0;34m(\u001b[0m\u001b[0mgraphex\u001b[0m\u001b[0;34m,\u001b[0m\u001b[0;34m'A'\u001b[0m\u001b[0;34m,\u001b[0m\u001b[0;34m'E'\u001b[0m\u001b[0;34m)\u001b[0m\u001b[0;34m)\u001b[0m\u001b[0;34m\u001b[0m\u001b[0;34m\u001b[0m\u001b[0m\n\u001b[0m",
            "\u001b[0;32m<ipython-input-33-e11ea45e248b>\u001b[0m in \u001b[0;36mchemin\u001b[0;34m(g, s1, s2)\u001b[0m\n\u001b[1;32m      4\u001b[0m     \u001b[0mway\u001b[0m\u001b[0;34m=\u001b[0m\u001b[0;34m[\u001b[0m\u001b[0ms2\u001b[0m\u001b[0;34m]\u001b[0m\u001b[0;34m\u001b[0m\u001b[0;34m\u001b[0m\u001b[0m\n\u001b[1;32m      5\u001b[0m     \u001b[0msom\u001b[0m\u001b[0;34m=\u001b[0m\u001b[0ms1\u001b[0m\u001b[0;34m\u001b[0m\u001b[0;34m\u001b[0m\u001b[0m\n\u001b[0;32m----> 6\u001b[0;31m     \u001b[0;32mwhile\u001b[0m \u001b[0ms1\u001b[0m \u001b[0;32mnot\u001b[0m \u001b[0;32min\u001b[0m \u001b[0mway\u001b[0m\u001b[0;34m:\u001b[0m\u001b[0;34m\u001b[0m\u001b[0;34m\u001b[0m\u001b[0m\n\u001b[0m\u001b[1;32m      7\u001b[0m         \u001b[0mpaserelle\u001b[0m \u001b[0;34m=\u001b[0m \u001b[0moptimal_predecesseurs\u001b[0m\u001b[0;34m(\u001b[0m\u001b[0mg\u001b[0m\u001b[0;34m,\u001b[0m\u001b[0msom\u001b[0m\u001b[0;34m)\u001b[0m\u001b[0;34m\u001b[0m\u001b[0;34m\u001b[0m\u001b[0m\n\u001b[1;32m      8\u001b[0m         \u001b[0mway\u001b[0m\u001b[0;34m.\u001b[0m\u001b[0mappend\u001b[0m\u001b[0;34m(\u001b[0m\u001b[0mpaserelle\u001b[0m\u001b[0;34m[\u001b[0m\u001b[0ms2\u001b[0m\u001b[0;34m]\u001b[0m\u001b[0;34m)\u001b[0m\u001b[0;34m\u001b[0m\u001b[0;34m\u001b[0m\u001b[0m\n",
            "\u001b[0;31mKeyboardInterrupt\u001b[0m: "
          ]
        }
      ]
    }
  ]
}