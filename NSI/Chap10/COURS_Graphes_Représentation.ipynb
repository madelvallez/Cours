{
  "nbformat": 4,
  "nbformat_minor": 0,
  "metadata": {
    "colab": {
      "name": "Chap10_COURS_Graphes_Représentation.ipynb",
      "provenance": [],
      "collapsed_sections": [
        "Eo0T1DL9dzf1"
      ],
      "include_colab_link": true
    },
    "kernelspec": {
      "name": "python3",
      "display_name": "Python 3"
    }
  },
  "cells": [
    {
      "cell_type": "markdown",
      "metadata": {
        "id": "view-in-github",
        "colab_type": "text"
      },
      "source": [
        "<a href=\"https://colab.research.google.com/github/madelvallez/Cours/blob/master/NSI/Chap10/COURS_Graphes_Repr%C3%A9sentation.ipynb\" target=\"_parent\"><img src=\"https://colab.research.google.com/assets/colab-badge.svg\" alt=\"Open In Colab\"/></a>"
      ]
    },
    {
      "cell_type": "markdown",
      "metadata": {
        "id": "VkX2JhMCYIaJ"
      },
      "source": [
        "# Structure de données : GRAPHE"
      ]
    },
    {
      "cell_type": "markdown",
      "metadata": {
        "id": "U6JKXuMdYQZW"
      },
      "source": [
        "### Une situation pour démarrer"
      ]
    },
    {
      "cell_type": "markdown",
      "metadata": {
        "id": "1fGB6EaJYVBe"
      },
      "source": [
        "Alban, Béatrice, Charles, Déborah, Eric, Fatima, Gérald, Hélène et Ivan sont inscrits sur un réseau social. \r\n",
        "\r\n",
        "Le principe de ce réseau, est que si « X est ami avec Y » alors « Y est ami avec X ».\r\n",
        "\r\n",
        "* Déborah est amie avec Alban, Béatrice, Charles et Gérald.\r\n",
        "* Eric est ami avec Alban et Béatrice\r\n",
        "* Alban est ami avec Béatrice, Déborah, Eric et Fatima.\r\n",
        "* Charles, lui, est ami avec Béatrice, Déborah et Hélène.\r\n",
        "* Fatima est amie avec Ivan\r\n",
        "* Gérald est, lui, ami avec Béatrice et Déborah"
      ]
    },
    {
      "cell_type": "markdown",
      "metadata": {
        "id": "tSZUHMVKYiGI"
      },
      "source": [
        "#### 1) Qui a le plus de relations? le moins? \r\n",
        "\r\n",
        "Le Plus: Béatrice\r\n",
        "\r\n",
        "Le Moins: Ivan et Charles"
      ]
    },
    {
      "cell_type": "markdown",
      "metadata": {
        "id": "kAWENusqYtcw"
      },
      "source": [
        "#### 2) Donner une représentation graphique des relations sur ce réseau (sur papier)!\r\n",
        "![image.png](data:image/png;base64,iVBORw0KGgoAAAANSUhEUgAAAkMAAAFuCAYAAACC4xzuAAAgAElEQVR4Ae2dzZHrPLCelYR3XjoKbbx1BjeDCcKbu/VS0UyVc7gZnBgcA12QpqUm1CBBEv94WPUVgCbQPw94Bu9Hac65LVwQgAAEIAABCEBgYgK3iWundAhAAAIQgAAEILAghngIIAABCEAAAhCYmgBiaOrtp3gIQAACEIAABBBDPAMQgAAEIAABCExNADE09fZTPAQgAAEIQAACiCGeAQhAAAIQgAAEpiaAGJp6+ykeAhCAAAQgAAHEEM8ABCAAAQhAAAJTE0AMTb39FA8BCEAAAhCAAGKIZwACEIAABCAAgakJIIam3n6KhwAEIAABCEAAMcQzAAEIQAACEIDA1AQQQ1NvP8VDAAIQgAAEIIAY4hmAAAQgAAEIQGBqAoihqbef4iEAAQhAAAIQQAzxDEAAAhCAAAQgMDUBxNDU20/xEIAABCAAAQgghngGIAABCEAAAhCYmgBiaOrtp3gIQAACEIAABBBDPAMQgAAEIAABCExNADE09fZTPAQgAAEIQAACiCGeAQhAAAIQgAAEpiaAGJp6+ykeAhCAAAQgAAHEEM8ABCAAAQhAAAJTE0AMTb39FA8BCEAAAhCAAGKIZwACEIAABCAAgakJIIam3n6KhwAEIAABCEAAMcQzAAEIVCTwb3ncb8v98a9iDoSGAARmJ4AYmv0JoH4IJCfwEji32235/Pez/Bpxfn+OC6F/j/ty+7G8rQM437f7Y0FmrbkwggAEvgkghr6ZYIEABC4R8N/2/ImjCAETEzZWDMX4Yg4EIAABRwAxxHMAAQgkJuCLoWV5CpjVWxr/7ZH35ujfY7mrN0svHeWvkbdKv8vP7b48Hj9/b6Jevp5vhrQAM3260n2/Xi6J6eAOAhBojwBiqL09ISMIdE7AF0P+eFl8obIWS7/LjxJO63t/wkqLnMWJIfeR3FrErGO85ny+m/SJsZ5nCbfOt4P0IQCBXQKIoV1ETIAABI4R8N+0OKFyX97fkX6+oVHjp/O/tzvWF3ye8z9C5/tjspfQWemjxRNcv+6t0cfHu56jubwX0oEABEYigBgaaTepBQJNEPh+E7Q8xcifAPI+rvp8yfojkJ6CR31MpoXMaTGk3ja9MUXk8p5LBwIQGJYAYmjYraUwCNQiYIihv4+ynm9vvDc9X1n6b3G8+afFUPDNkPHG6CspDBCAwMgEEEMj7y61QaAKAUMM6TdDf19Y/nx/x0vSE0PP7/QoIfMUQ6u3PBEfk/2JsU9M+c6QkauXDkMIQGB8Aoih8feYCiFQmMBLYHw+/nr9fUPr7/QYc5TAeQmg17r747H8KDG0qI+2XuImRgy5XxrTv6H2+Uju+7fJ+PuJCj8whINAdQKIoepbQAIQgAAEIAABCNQkgBiqSZ/YEIAABCAAAQhUJ4AYqr4FJAABCEAAAhCAQE0CiKGa9IkNAQhAAAIQgEB1Aoih6ltAAhCAAAQgAAEI1CSAGKpJn9gQgAAEIAABCFQngBiqvgUkAAEIQAACEIBATQKIoZr0iQ0BCEAAAhCAQHUCiKHqW0ACEIAABCAAAQjUJIAYqkmf2BCAAAQgAAEIVCeAGKq+BSQAAQhAAAIQgEBNAoihmvSJDQEIJCHwf//3fyzWf0mc4wQCEBieAGJo+C2mQAj0T8ASOrG2/qunAghAIDcBxFBuwviHAAQ2CcSKmrPzNoNzEwIQgMCyLIghHgMIQCAbgbMCJtW6//zP/1z8/7IVi2MIQKBbAoihbreOxCFQl0AqwZLLjy+C9sZ1aRIdAhCoSQAxVJM+sSHQKIFcAiWX3/9z+2+L/9+e+Im93+gWkRYEIJCQAGIoIUxcQaAXArlESS6/W1z/5//6r0X+04IoVuycnbeVE/cgAIG+CCCGKu3X789tuf38/kX/tzzut+U9rJQTYccgkEuQ5PJ7hbqIIN2WFESWkLpSD2shAIE6BBBDGbk/Bc/NFjmIoYzgB3adS5Dk8ptzK7QA0n0thm6326L/s8RLKVtOFviGAASuEUAMXeO3sfp3+bndl5+fu3oD9JmOGPqwoPcikEuQ5PJbe9+0ANJ9LYZcX4sh17euUoLIimPlgw0CEChLwP7JUDaHMaP9/iy3+2P59++x3G8/i3wgJsXaYsgJKPk/2fvy+Cezl2V5+pF7+m2TfMS2sVa5oVuHQC5BkstvHUrxUbX40X1fCFliKCSIrOiWeClps3LCBgEIpCeAGErP9OnRiZ37U828xMqr/wlmiaHb7SOA/j3uy+0ton6XHyes/pY/773HL/967dr3Jya9PARyCZKcfvOQKONVix/dd9EtMXRVEIWqKimK/FihnLBDAALnCCCGznHbXvV8i+MJm7d4eS1dCxZ5u6Pdvj5mW70dkturt03GWnkrJfNpLxHIKUpy+L5UbOOLtfjx+y71I2LoyBuiI1h84VJyfCRP5kIAAh8CiKEPi2S99Zsb+YjrI45coDgx9Pk47PWm6PMx2eetEWLoysblECM5fV6pdYS1vgCSsa7NEkT+94b0WK/N2S8pivxYOevCNwRGIIAYSr6L8rGVFi6vvv6oLE4M/Qko96bn/ZGZiCv5HhJiKLSFOUVJDt+hOrC/CIjw8VufjyWGQh+ViSjyfZQc+8Kl5LhkncSCQMsEEEOpd+cpXNZvgVyI9XeA7DdD+ns/q7dLnhh6Cqm3OJpTDOUQIzl9pn7MZvPnCyAZhzhYgsjNFfETakP+athLiiI/Vo16iQmBmgQQQ4npr9/4aOev3/aSv1hxPc8Jmvvy+HW/eSZvlOTNz8vHSwDJG6bH8jOwGMopSnL51jtNPy0BET5WG4pkiSFnc1dICIk95LMVuy9cSo5bYUAeEEhNADGUmij+dgnkEiS5/O4WxISsBCwR5Gxb15YYcutE+ITaLd+t3ispiqxYrXIhLwjEEEAMxVCaaI4+RNxBcfTKJUhy+T1aH/PLEjgjhCRD/SxLX+5JGxJDZ5598dlia4mXUrYWeZATBHwCx0873wPjYQjIgaFbfVjkEiS5/A6zMZMWckUIOWT6OdZ9H6d+xv2+P3e0cSlBZMUZjSX19E0AMdT3/iXLPpcgyeU3WeE4apJASAjtfTzmF6NFkPT9OW7siyA9tuaPbrPESynb6Gypr00CiKE29yVbVrnESUq/2YrHcTcEQmLoaAEigPzW8qMFkN+35s9oKyWIrDgz8qbmcgQQQ+VYV4+UUrBc8VUdBAk0TSCVEJIifSHkxqHLF0F6HFqDfVks8VLKBn8IpCCAGEpBsRMfVwRM7Fp3eHBB4CyB1ELI5XFEDLn5WgBZ/bO1zbiulCCy4szIm5rPE+DkOs+uu5WxgiY0Tx8q1iFh2bqDRMLVCISEkLNfufRzq/tbPq1nWdu21nJvn4AlXkra9jNkxmwEEEOT7XhI6Gi7INEHh9XXh8NeX3zSQiBEICSGQvOP2K3nd289z/QeoTz3S4oiP1aeilrzavyrBRdTXP8lwhedVVqOGKoEvpWwWgRJX+dmHSLatndgWPe1f/oQcARyCiHnXz+zur9H33p+tW1vPffTEfCFS8lxuioKevqn/0WD23K7P5Z/z/CIIWsXEEMWlclsIoJ0qxHow8Pqu7n6gDjS13Hoz0kgtxASqqFnV+5vtVvP9NY67uUnUFIU+bHyV3cygvFvZLp/7/L1j4UjhiyqiCGLymQ2LYKkbyGwDhOxyfytQ2PrnqynnYtASAg5e+pLnlXdHonB83uEVv25vnApOa5b/frfwfzORcTQa97rufb+cXHvrZL8m5rL4tbcl8fj5+9/gF//hub3x2SvGJ8/M+t/a/P1D5fLv8Ppxf5OuIgFMVQEc9tBRADpNpSxPkj8vr/m8wdBHvq41vfDeFwCITGUo2L/eZXxkVhbz/QRP8ytR6CkKPJjFan6KWTW4mMdV4TKR4Ssxczv8vP+SG1ZnsLlPRYBtfa/Xr8s/njlYze/dbalRoihUqQbjqNFkO6HUpZDxGqtNVsHyNY9yxe2cQiUFEJCLfaZlflWyzNrUenf5guXkuOk9J4fka3Fytq/vBlSVrfmLXiU3XVX4sV+67QSP8/5H6H18vb3Rsl9ael5/7Z83jZ58SoNEUOVwLcWVosg6W/laB0qYttat3WQbN3b8sm9/gjUEEKOkjyjfnuUIM/qUWL9zi8pivxYp6glEEPrj7HcG30RV7FiyPoUQAmkP0Hk/hy9vsd0qtKkixBDSXH260wEkG73qvEPFD3eW+vubx0oW/difDOnXQIhIeTsJS79nEr/TNytZ9Td4xqfgC9eSowtqjru63s9W29edt4M+WLq1JshEU9Wttpmiys9o1SfP7GlSDceR4sg6cekLIeJ1casd3P2DpXQ/Vj/zGuLQEgMlcryyrPq5xh6NsXuz2c8BwEtTnL0HcUtv683O+pNzPPTqY3fJtMfk3li6PkR2JE3Q8tLbMW98TGEWaVHBDFUCXyLYUUE6TYmT+tw0bYYHzJHDpGjraynbZtAbSHk6OhnU/fPktt7Vs/6Zd14BLYETMp7jtzXR13v7wQZAkSLoeXvC9C310dd98dj+Tkkhp7Rl8fd+6hM4j/FlrrXyJeHEEPj/Xk7XZEWQdKPdaYPFasf60fm7R0wofuynrY9Ai0IIaGS4hkVX64NPY9i13PpQ8AnkFIIOV9cxwkgho4zG3aFCCDdHinWOmC07YgvPVcOlKOt9kG/LoGQEHL2Gpd+LnX/ai5bz+hV36yfh8AVcTQPpbSVIobS8uzamxZBun+kKH2wWP0jvqy5W4fN1j3LF7ZyBEJiqFwG35FyPJ8uCs/hN2ss+wQQQPuMcs5ADOWk26FvLYKkf6YM66AR2xl//pqtA2frnu+HcX4CLQohV7U8j36bggjPYAqK4/u4IoDcM8aVjgA007EcwpMIIN2eLcw/ZPT4rE9r3dbBs3XP8oUtLYFWhZCrUj+Pup+KAM9eKpJj+bkqgPRzNRaZutUghuryby66FkHSv5KkPmT8/hW/1lr9Q+JI3/KF7TqBkBBy9lYu/5l045TX1nOYMg6+2iZwRQBJZdazJPdorxNADF1nOJwHEUG6vVKkdeCI7YrfrbXWD44Y25ZP7sUT6EEIuWrkOfTb+Er3Z+49d/semNEjgRQCSNdtPUf6Pv1rBBBD1/gNuVqLIOlfLdQ/bPT4qu+99dYPkRjbnl/uhwmExFB4Rb07+lmUfups9p631PHwV4dAagGkq7CeIX2f/jUCiKFr/IZcLQJItykKlYPGalP43/Nh/TCJse355f6aQE9CyGVuPY/Olvrae9ZSx8NfGQI5BZCuwHp+9H361wgghq7xG3K1FkG6n6LY0MGT4/DZytf6wRJj2/LJvWXpTQjJnlnPpdxL2e49Yylj4SsfgVICSFdgPTv6Pv1rBBBD1/gNu1qLIOmnKtY6eLQtVZwYP9YPmBhbjO/Z5oSEkLO3funnT/o5c956xnLGxfd5AjUEkM7Wemb0ffrXCCCGrvEbdrUIIN2mLFYOnFCbMlasL+uHTYwt1v/o80JiqIe6azyHW89WD8xmyLG2ANKMredF36d/jQBi6Bq/YVdrEST91MWGDiCxp453xJ/1gyfGdiTGSHN7FkKyD/Lc6Vbu5Wq3nqlcMfG7TaAlAaQztZ4VfZ/+NQKIoWv8hl4tIki3OQrWh4/fzxHviE/rB1CM7UiM3ueOIITcHvjPnoxz78/W85Q7Nv5fBFoVQHp/rOdE36d/jQBi6Bq/oVdrEST9XAXLwWO1uWIe9Wv9MIqxHY3T0/yQEHL2Hq9az9/Wc9Qjxx5y7kEAaY7WM6Lv079GADF0jd/Qq0UA6TZnwdZBJLaccY/6tn4oxdiOxulhfkgM9ZC7laM8b7q15uWw7T1DOWLO5rM3AaT3x3o+9H361wgghq7xG3q1FkG6n7NofQj5/Zxxz/q2fkDF2M7Ga2ndaELIsfWfORmX4r737JTKY6Q4PQsgvQ/Ws6Hv079GADF0jd/wq7UIkn7uouUAstrcsa/4t35YxdiuxKy1dkQhJCxrP3d7z4zkSRsmMIoA0hVaz4W+T/8aAcTQNX7DrxYBpNsSRVsHkthKxL8Sw/qhFWO7ErPk2pAQcvYRLnnO/LZ0bVvPTOlceog3ogDS3K3nQd+nf40AYugav+FXaxEk/VJF+4eRHpfK4Woc6wdYjO1q3JzrQ2IoZ8zSvvWzJv3SObh4W89KjXxaizm6ANK8rWdB36d/jQBi6Bq/KVaLCNJtqcLlIAq1pfK4Gsf6QRZjuxo39foZhJBjZj1vqVnG+tt6TmJ9jDRvJgGk9816DvR9+tcIIIau8ZtitRZB0i9ZuHUwaVvJXFLEsn6oxdhSxL7iYxYh5Bjp50v3r/C7snbr+bjit5e1swogvT/WM6Dv079GADF0jd8Uq0UA6bZ04fpAsvql80kVz/oBF2NLFT/WT0gIOfuoV2vP2dZzMeIeIIDWu2rt/3oGoysEEENX6E2yVosg3S9dvnU4aVvpfFLGs37QxdhS5rDlKySGttb0fk8/W7pfs669Z6JmbiliI4DCFK29D8/mzlECiKGjxCadr0WQ9Guh0AeT36+VU8q41g+9GFvKHLSvGYWQ1O8/X25c+9p7FmrndzQ+AiiOmLXvcSuZFUMAMRRDiTmLCCDd1sRiHVJiq5lXytjWD78YW8ocZhZCjqM8U36bkvEZX3vPwRmfJdcggI7Ttvb8uBdWhAgghkJksK8IaBEk/dWECgP/gNLjCulkDWn9IIyxXUkqJIScfZZLP1O630L9e/vfQo46BwSQpnG8b+33cS+sCBFADIXIYP8iICJIt1+TChv0AeX3C6dSLJz1QzHGdjTBkBg66qf3+f5z5cYtXVt7XztPBFC6HbD2OZ13PCGGeAaiCWgRJP3oxRknWoeV2DKGre7a+uEYY4tJHCH0oSTPkt9+ZtTvbe176ewQQHmIW3ucJ9KcXhFDc+77qapFAOn2lKMMi/yDSo8zhGvOpfWDMsZmFYIQ+qainyfpf8+qa9na79yZIYByE375t/a4TOTxoyCGxt/jZBVqEaT7yQJcdCSHVKi96L6L5dYPyxibFBcSQs4+89XLM7W116n3DwGUmui+P2t/91cxI4YAYiiGEnPeBLQIkv77ZgOd0KEl9gZSLJaC9YNzzxYSQ8WSbjSQPD9+22K6W3t8NV8E0FWC19Zbe3vNI6uFAGJISNBGERABpNuohQUn+QeWPy6YSjOhrB+ivg0htL1d/nPkxq1e/t764yN5I4CO0Mo7199HN+ZKQwCSaThO40WLIOm3WLx1cGlbizmXyMn6YepsISEk80vk1noM/fzofqt5y96F2q28EUBbdOrds/ayXjZjRUYMjbWfRaoREaTbIoFPBNGHlt8/4W6oJfKDNSSEnF3m6HYoCAeL8Z8hN2750vtm9XXuCCBNo83+3h62mXUfWSGG+tinprLUIkj6TSXoJWMdYGLzpk45DIkh6wevts0IS54bv22Zhd4zv48AannnvnPz98+NudIQgGQajlN5EQGk29YB+IeXHreee878zgoh/4dyzhxb862fHem3lqOVj+wZAsii04dN9lC3fWTefpaIofb3qLkMtQjS/eYS9RKSg8tqvalTDENCSIrXP3Bj+7J25LbH5wcBNMYTaf05HKOy+lUghurvQZcZaBEk/R4KsQ4ysfWQf6ocQ0LI2f3L+gEcY/P9jDKW58VvW6sPAdTajlzPx/pzd90rHhwBxBDPwSkCIoB0e8pRhUX+IabHFdKpEjIkhvaSsX4Yx9j2/PZ2Xz8z0m+hhisCSPaxhTrIwSYge6RbeybWowQQQ0eJMf9JQIsg6feERg4wq+2pjjO5nhVCOpb+YXykr3303LeeG2crfV0RP25taO9K10G8OALWfsWtZNYeAcTQHiHuBwmICNJtcHKDN0IHmtgbTPlySimEkJ+E9QM6xub76W0sz4luS9RwVQDpHPf2Sc+lX5+AtV/1sxojA8TQGPtYpQotgqRfJZELQfVBZvUvuG5uaUgIOXuKy/pBHWNLEbuGj5LPS0oB5LPa2yN/PuN6BKy9qpfNWJERQ2PtZ9FqRADptmgCiYJZh5q2JQpT3U1IDOVIzPqhHWPLkUsun/oZ0f1U8XIKID/Hvb3x5zOuQ8DapzqZjBcVMTTenharSIsg3S+WQOJA+kDz+4lDFXdXUgj5xVk/wGNsvp8Wx/5z4sZXrpICyM9zb0/8+YzLE7D2qHwWY0ZEDI25r8Wq0iJI+sWCZwhkHW5iyxCuiMuaQkgXaP0gj7FpH6315dnw2yN51hRAVp5be2LNx1aOgLU35aKPHQkxNPb+Zq9OBJBuswfNHMA/2PQ4c+jk7kNCyNlrXtYP9RhbzZxDsfXzIf3QXLG3JoAkL2m39kLm0JYnYO1L+SzGjJhdDP3+3Jbbz++Y9Khq0SJI+iNgkUPNanuqLySGWqnB+uEeY2slf5dH7DPSugDymW7tgz+XcRkC1p6UiTx+FMTQ+HucvUIRQbrNHrRAAOuQE1uB8JdDtC6E/AKtH/QxNt9P6bE8E37r8uhNAPnstvj7cxnnJ2DtR/6oc0QoKoa+3xL9Wx7323J//HvR/vdY7rfb+y8C+7xQes37+f1dft7374ssm2Or2q1SiyDpt5vtscz8A06Pj3kqO7s3IeTTsX7ox9h8P6XG+rnoXQD5zLa4+3MZ5yVg7UXeiPN4LyqGlt+f5Xb7Wd4fmj3Fj4ia3+Xn/lj+ZNHy73Ffbu/xSwzdbjJ3Wb6F1Tyb1lqlIoB021qOV/LRB53fv+I319qQEHL23i7rh3+MrXSdowkgn98ec38+4zwErH3IE2k+r2XF0PJ6syNvfNaCx4P/FEoinOTNkJrjhNVbLCk73eIEtAjS/eKJZAzoiyB/nDH0IdcjCSG/cOsgiLH5flKNRxdAPqc91v58xukJWHuQPsqcHguLIf1G51vgPMXR+2Mw93EZYqiXx1KLIOn3kntsnr4A8sexfnLOC4mhnDFL+7YOhBhbijxnE0A+sz3O/nzGaQlY/NNGmNdbcTG0yBsfaYW9+RFaXjH0//77/1jkP0mD9hwBEUC6Peep7VW+APLHNbOfQQj5fK3DIcbm+9kazy6ALDZbjK352NIQsLin8YyX8mJoeb0Rut/v61+598TQ8ztBGd8MiQjSLY/DeQJaBEn/vLe2V/oCyB/XyH5GIeRztg6KGJvvx42vCiD9TFj+R7BtsR2hvhZrsJi3mGePOVUQQ8vry9G32yLfHRJwLwH0+m2y++Ox/BQWQ04YcZ0nICJIt+e9tb9SH3h+v2T2ISHk7DNe1oERY7sqgBxr/zmQ8aj7sMV11Jpr1mXxrpnPSLGzi6FWYek3Qrrfar495KVFkPR7yPtKjnLYWe0Vv0fWhsTQER+jzrUOD21LIYB8djWfBT+XEmPN0++XiD9TDJ+vG3OlITA1SS2CdD8N2vm8iADS7QwUrMNPbLnrRwjFEdaHSA4BpLOQvfdbPWe0vubr90ertWY9Pls35kpDYHqSWgTpfhq8c3nRIkj3Z6DgH3x6nKt+hFA82asC6Miho/de9+Oz7XOmdVBrW59VtZW15in9tjLsNxvEkPqNMi2GXJ/rOAEtgqR/3EufK/TB5/dTVxQSQs7O9SKQQgDJgeO3e4z9/XfjGS6fkz+egUHOGn2ebsyVhgAkl+X96/WIoesPlQgg3V732o8H6xAUW8oqQmIoZYwefeUUQEcOItlzv+2R6dGcLU7adtQf8z8ENEfpf+7Su0IAMfRHzxdCMr4Cd8a1WgTp/kws/APQH19lgRBaE7wqgNbelve/jSiHTWzr+/H33Y1nufaYzcIhdZ0W19QxZvWHGFI7LwLIb9UUuhEEtAiSfsSyoaZYB6G2nS0WIfQil1oAWfthHTwxNvGl91v35f4M7RavGepPXaPFM3WMWf0hhtTO+yJIj9U0ujsERADpdmfJkLf1AWj1jxYdEkLOPsNVQgCFOFqHUIwtxb6HcurFvsWplxpaydNi2UpuveeBGPJ2UAsg3femMdwgoEWQ9DemD33LOgy17UjxITF0xEdvc2sKoBAr60AK2fReSz/kd2R7iI+zc8UTsDjGr2bmFgGeRIOOFkG6b0zFZBAQAeS3xtRpTHIQWm0MhJmEUIsCyNoj62DybdZ+O9uMl89Gj2fkcaZmzUz6Z/yw5psAYuibydOiRZDuB6Zj9gj4QsiNZ79CB+Pe4TiDEOpFAIWeYTmYrNbad5kX8jeqXeq22lFrTlkX3FLSXPtCDK15vEdaAPn99yQ6QQKIIRuNdTCKzVoREkLO3vvVuwCy+FuHleyv3+q5lq9Rbbpuqz9q3SnqglcKirYPxJDN5Wn1RZAebyzj1rIslhji7dDr0fAPRT32H56QGPLn9TIeUQCF2OuDS++x9PV93Q/5G8mu67X6I9WashZYpaS59oUYWvP4GmkBpPtfEzF8EbAE0dekSQ1yIFqtIBlFCM0kgGTv/NbaZ+tg822+n5HGfq3+eKRaU9XiM3JjrjQEIBnBUYsg3Y9YOvUUxND29lsHpNh6F0IIoPXey776rXW4Wba1t3FGVq3aNk6laSrRbKSfxjNeEEORz4AWQbofuXzKaYih/W33D0c3DgkhZ2/5QgBt746113KgHWm3o/R5d6v+PivKk7XFKU+k+bwihiL3XAsgvx/pYrpplhhyNq41Af+QDImh9ao2Rgig+H3w91nG1gEXY4uP3MfMrZr7qCB/lhaj/FHniIAYOrDPvgiS8QEX0021BNF0ECIKloOxByGEAIrY0MAU2Wfd6qnWYRdj0z567m/V2nNdqXK3+KTyPbsfxNDBJ0AEkN8edDPNdMRQ/FaHhJAcnPGe0s9EAKVhKnup25Bn6+CLsYX89WLfqrGXGnLlabHJFWs2v4ihEzvuCyEZn3A1/BJLDPFR2fe2h4SQs8ccnN8er1sQQNcZ+h70Xuq+P0+PrQMwxqZ99Nbfqq+3WlLma3FJ6X9mX4ihE7sv4sdqT4AlQO0AACAASURBVLgbfokliIYv+mCBITGkD0zpH3R9aDoC6BCuU5NlH3Ub68g6DGNssf5bmrdXV0u5lsrFYlIq9uhxEEMnd9gSQs7G9U0AMfTNRFuOCCE5QPX6q30E0FWCx9bLHvrtES/WoRhjOxKjhbl7NbWQY8kcLB4l448cCzF0YXcRRHHwEENhTiEhJCv8A1OPZc6ZFgF0hlq6NXofpX/Wu3VAxtjOxiu9bq+W0vnUjGexqJnPSLERQxd3E0G0D9ASQ842+xUSQs6uLzksrVbP2+sjgPYIlbtv7aWzXb2swzLGdjVuifVbdZSI30IMi0ELeY2QA2Lo4i6GxBAfma3BWoJoPWO+UUgMWSRCh+feAYoAsmjWt4X2M1Vm1qEZY0sVP5efrRpyxWzJr1V/S/n1nAtiKMHuhQRRAtfDuEAMrbfyiBCSlaED1BdECCAh1nZr7WeOjK0DNMaWI5cUPrdyT+G/ZR9W7S3n21NuiKFEu4Ug2gZpiaFZPyo7I4SErnWAOhsCSAj104b2MlcF1kEaY8uVzxW/W3lf8dv6Wqvu1nPuJT/EUMKdQhBtw7QE0faK8e6GhJCzx15yiCKAYom1O0/2UrclsrUO1RhbidxiY2zlG+ujt3lWzb3V0Gq+iKGEOxMSQ87OtSyIoSX4j7DGPh8IoFhSfczTIkj3S2ZvHbAxtpI5hmLt5Rla17PdqrnnelrJHTGUeCdCgihxmC7dzS6GQm+F9jYTAbRHqO/7WgRJv0ZF1iEbY6uRq465l6OeO0LfqneEumrXgBjKsAMIIhuqJYacbYbrqBC6KoBqHqoz7GfKGmWvdJvS/xlf1oEbYzsTK8WavdxSxGjFh1VrK7n1nAdiKNPuIYhssJYgsmeOYw0JIf97QqkEkD5UXZ+rbQL+fsm4haytgzfGViP3vbxq5JQjplVnjjiz+UQMZdrxkBhy9pkvxNB/vb835J6DqwJIP0tyiFqtnke/PQI97Jl1CMfYStPeyql0LjniWfXliDObT8RQxh0PCaKMIZt3bYmhkT8qC70VuiKCtjbZOlTFtrWOe3UJyB75bd2swtGtAznGFvaY9s5WLmkjlfdm1VY+i/EiIoYy7ymC6BuwJYi+Z/VvSSmEjtDwD1Q9PuKHuWUJ6H2SftkMjkezDuYY2/FIx1ds5XHcWzsrrLraya7fTBBDBfYOQbSGPIMYCgkhZ499K7Smdmwkh6nVHvPE7FIEet8r65COseXkuxU/Z9ycvq2acsabxTdiqMBOh8SQs894jSyGROiExJDcD7UpnwfrcNW2lLHwdZ2A3hvdv+65rAfrsI6x5cpyK3aumDn9WvXkjDeLb8RQoZ1GEH1AW2LI2Xq9fGFzVAjlrFsfqlY/Z2x8Hycw2h5ZB3eM7Ti57RV7MbdXt3XXqqWtDPvMBjFUcN9CgqhgCs2EsgRRM8lFJOILIBnHCqGIEMmmWAestiULhKPLBPS+6P5lxw04sA7xGFuq1PdipYqT249VR+6YM/hHDBXeZQTRC3iPYkgET6gNCSFnd2tqXvpgtfo1cyP2msDo+2Md5jG2NaVzo70457yWXWXVUDaDMaMhhirsK4LI/nfKWvyoLCR8fPuWEKrwiAVDWget2IKLuFGUgOyHbosmUDCYdbDH2K6kuOf/iu8Sa638S8QdPQZiqMIOh8SQs890tfp2yBc6MeOQGGpxP/Uh6/dbzHe2nPw9kfHIHKwDPsZ2hcmW/yt+c6+18s4dcwb/iKFKuxwSRJXSqRK2JTEUI3hCc3oSQrLRcsBarcyhrUdg5n2xDvsY25nd2vJ7xl+JNVbOJeKOHgMxVHGHZxdEtcVQSNzE2t2j06MQkkfeOnDFJnNo6xCQffDbOtnUi2od/DG2Ixlv+Tvip9RcK99SsUeOgxiqvLszCyJLDDlbzitW6ITm6dxCQsjZe7n8w1aPe6lh1Dz1Xkh/1Fr36rIEQIxtz6/c3/Ilc1pprVxbya3nPBBDlXcvJIacfYbLEkSp6w4Jm1h7KJ+QGArNb9UuB63VtprzDHlZ++Fss1+WGIix7XHb8rG3tuR9K8+S8UeNhRhqYGdDgqiB1LKnkEsMxQqd0Ly9wkcRQlJn6ODl8BVC5dvQnpTPpM2IliiIsW1Vs7d+a22pe1aOpWKPHAcx1MjuziqILDF09qOykLCJtcc+CqMJIak7dPiKXebRliMg7HVbLno/kSyBEGOzKtxbZ60pabPyKxl/1FiIoYZ2FkH0H4uIo9htiRU6oXmxcWReSAg5+wiXPnSt/gg19lSDtQfOxhUmYImFPZvv7eh8f33OsZVbzniz+EYMNbTTITHk7CNfIoB0u1VvSNjE2rd8790LiaG9dT3dDx3AYu+plhFyFe66HaGu3DVYoiHGJnntzZV5pVsrr9I5jBgPMdTYroYEUWNpJk1HiyDp+wFihU5onu/vzHgGISRc9MFr9WUebX4CFn9n44onYAmIGJuLsDUvPoN0M6180nmf1xNiqMG9n00QiQDy25CwibWn3NqZhJDmFjqIOYw1pbz90B7kjTqmd0tIXLWVJmXlWzqHEeMhhhrd1VkFUazQCc3LsZ0hIeTsM1yhwxhBVG73rT0oF33MSJaoOGsrScjKsWT8UWMhhhrd2ZAYcvbRrpCwibXn5hESQ7njtuTfOozF1lKeo+YirP121HpL1mWJizO2UjlbuZWKPXIcxFDDuxsSRA2nHJ1arNAJzYsOdHEiQugD0D+I9fgzi14uApq39HPFmtWvJTSO2Epws/IpEXf0GIihxnd4JEEUEjax9tJbhRD6Ji6HsNV+z8aSkoDF3Nm48hCwREesLU9GL69WDjnjzeIbMdTBTvcsiGKFTmhere0JCSFnn/0KHcoczPmfDIt9/qhzR7DER4wtFzUrdq5YM/lFDHWw2yEx5OwtXiFhE2vXv1VWq76QGKqVT2txrUNZ21rLd5R8NGPpj1JbD3VYQiTGlro2HTO171n9IYY62fmQIGol/VihE5rn6tAiSPdL14gQiiMuh3GojfPCrCMEYH2EVr65Wowc6efLCM9XCSCGrhIsuL41QRQSNrF2C50WQdK35uWyIYSOkQ0dzmI/5o3ZMQSErW5j1jEnD4EjYkjPzZNNrNd/y+N+W+6Pf2rBy/bzq0xZu6XjbReDGNrm09zd2oIoVuiE5u0BFQGk2701qe6HhJCzc4UJ6EPZ6odXcucMAYuxs3HVJ6DFzpH+9cxfwsKPGRI2vz++EHIZlBYnpeNtU0YMbfNp7m5IDDl7riskbGLtR/LSIkj3j/g4Ozckhs76m21d6JDmoE7/JFis00fB4xkCviA5Mvbj+Wv9+5/xS1is3vT8/jz/KZGV7bPA6JUWJ6XjGSUrE2JIweilGxJEKfOPFTqheVdy0SJI+lf8xaxFCMVQ2p9jHdJi21/NjFgCwlS3sWuZl5+AL2JSju3sDTHkJj4F0c/y+eTrNe+Tz/e9n9/f5ed2+/s32e7L6pO0v7dH9nq37r48Hi8Rdrv9+f73WO5vf7fl87ZKxNBWPLvaHFbEUA6qBXzmEEQhYRNrT1W2CCDdpvJt+UEIWVTO2/QB7ffPe2WlJuBzlbGeQ78ugY9gEGGRprWrCoih5SU0RIC4j8duMnAfjD3uy+3+WF7fHBKh9BFAz/siakQI+evf90XUaIH1u/y8/e/H8/Oza81jRQzl4VrEawpBFCt0QvNyFKpFkPRzxHE+Q0LI2bnOE5DD2WrPe2WlJgBbTaPNfg5BZFcaIYaeb2g+Qufl5+9tzlMNyZsaHUHdf67XQsfNU/c94aW9vPsrH0Y89yZLiaf3ugIdxFAByDlDnBFEIWETa89Zj/gWEaRbuZeyDYmhlDFm9WUd1mKblUnKuoWl36aMga9zBHKIIOczfMWKIevtlAgkQ5xogfP1kZvLRq95vRlSL46e6b7eLum4Iqj02r/KEEPhLebONoGQGHJ2fcUKndA87atEX4sg6aeOixBKTfTbn39Q6/H3bCxHCWie0j/qg/nXCOQSPuI3LruAGNICZvVWxvJqiBP95sdcv/NmSMd3IVc+jHiIIWtjsMUSCAmikLCJtcfGzzFPBJBuU8ZBCKWkue1LDmmr3V7J3T0CMN0jlP6+iJQc7flsDTH0FB76V+iNOauAr/s39yXov79+yPxOkXr1s75vvBnyxNDzO0Hv7xghhlb4GaQhkEoQpcnmuhctgnT/ume+J5SC4VEf1qGtbUf9Mf9FQDPUffikIZBD8Gz5PJ+1CBn9cdRH1Hz8GvPe39Fx9+7L41f/9pd8pCUeXoLnXcN7rbtviKHnL7R9cro/HssPYkhg0qYmIG96zgqi1Pmk8qdFkPRT+OatUAqKx33ow9rqH/fICkcAlumeg/chr34VPJVNZxnyqefQL0tg6xtZZTMh2iECIoB0GxJDzq7nuX4Plwgg3V7NGyF0leC19dbBrW3XvM+5WvPT/TlpxFcdEiSp7HuZWHH21nA/HwHEUD62yT37gsYahwRRLwJIQ9MiSPr6/tE+QugosXzz9aHt9/NFHdezz9CNudYELPGRyraOFD/S8eNXMTMHAcRQDqoJfVqCZ88WEkQJ0yrmSkSQbs8EDwkhZ+eqQ8A6wMVWJ6N+owo3v+23omuZa5GRo38tO1a3SAAx1OCu7ImdvfuupFEEkRZB0j+zZSExdMYXa9IR8A9vPU4XZXxPmpvuj1/5q8Icgkd8zsJw9joRQ408AXsCZ+++X0ZIDDl7T5cIIN0ezR8hdJRY2fn68Pb7ZTPpO5rPzo1HvESk5GhH5EVNcQQQQ3GcsszaEzhb92MSCgmimLWtzNEiSPdj80MIxZKqO886yMVWN7N+ogsvv+2ngu9Mcwge7fM7IpZZCTQkhl5//8Fd/ranvx35/ofb7Hm9bOCWwNm7d6bGUQVRDIuQEHJ2rvYI+Ie4HreXbZsZaWbSbzNTOystVFL37YhYIfAikFEM2aJl/TdWfrbBiR5fCLm732LIWV++1V+E+XHUYG9P5GzdT1FO74JIvxGSfgyXkBiKWcucOgTkALfaOhn1FdXi5mwtXqnFju+vxZrJqV0CzYihECJbDIVmt2PfEjh791JXERJDzt7DJQJIt3t5I4T2CLV7P3Sgi73dzOtnJoz8tn5my+KLlZTjFuojh74JNCCGXm95Pn8w1n/997cY2povb4z0Xxnu/5XkW+uvbeaeyNm6fy3y/uqQINpf2cYMLYSkH8oMIRQi04/dP8z9cT+VlM/UZ+XGpa/Pz/PPP8WQ0la6HuKNT6C6GPLFjv8xmn/fH6/ni9D5CCB/vj9erz+/4VtCJ3TvfLRzK3sWRCKAdGtRCAkhZ+fqi4B1qGtbX9WUy1Yz0v2cGaQUOr6vnHnjGwJCILsY8h/s51j+cbfnv6r7ES6vpNxbnY9tJV5258ubISnv+aWj5XYgnlp5qBsSPL79kNMMk3sVRFoESd/CExJD1lxs7RPQh7nVb7+COhnmZGX+TE/4b3nVIUbU2QlkF0P+l6JXb2Ke4sZ6jbolhrbmx4ihrfXnHwdf9Ojxea/pV4bEkLO3fIkA8ludM0JI0xirbx3uYhur0jTVCBu/PeM9p/g5kw9rIJCDQANiaP0dIb/I7zdDW/NjxNDWej/6sXGrAsivIiSI/HmtjX0h5MZyIYSExLitf7Dr8bhVn69M85H+nrecwsf55oJAqwQyPp0vYbL5ZujvV+T9ORrWSgztzt8RQ7vrdeSx+z0KopAYCgkhZ+cai4Ac6lY7VqXXq4lhlFP8XK8ADxAoR6CyGHKFvgTM6g+lfMfH/HuGtubviaH9eOXQ14/UmyCyxBBCqP5zVDoD65AXW+lcWo4nTPx29bOW7/q0vIXkVpBARjFUsApCnSIQEkPO3urlC6KQGGo1f/JKQ8A/4PU4TYT+vTjRo7lIP4UY6p8OFUBgTQAxtOYx3SgkiFoFocUQQqjVXSqTlxzuVlsmg3aihASOxcbZQvMteztVkgkE8hFADOVj243nngSRiCGEUDePV9ZEQ4e92LMGr+TcEixbNmGh2635lcoiLASqEkAMVcXfTvBeBJETQyEh5Oxc8xHQh7zV753IlnCJuWcxkXW9syF/CKQigBhKRbJzPyEx5OytXSEx1Fqe5FOOgHXga1u5TK5FEpGSstUcdP9apqyGwFgEEENj7eelanoQRAihS1s89GJ90Fv9FotPKXp8X7reXnjonOlDoCQBxFBJ2h3ECgmiFlIPCSH30RkXBISAdfCLTebUaH2xknq8VZPU77dba7gHgZkIIIZm2u3IWlsURCEh5OzyperI8pg2AQH/0NfjUuWnFjva35kaNAPpn/HDGgiMSAAxNOKuJqipNUEUEkMihHg7lGDTB3MhB77Vpi5VC5Uc/RT5WhycjQsCEFgWxBBPgUkgJIacvfQVI4QQQ6V3pY94IQFwVQTkEDziMxfZEItc8fALgZ4IIIZ62q3CuYYEUck0YoWQvCEqmRux+iAQEgGxgkhESq62JEWLRcn4xIJAqwQQQ63uTCN51RREISHk7O4SAaTbRrCRRmMELBEgNj/VXKLH+a19Sc1+Wzsv4kOgNoH6fzprEyD+LoFagigkhiRhLYKkL/doIeAT8AWAHucSQH4OLYx13dJvIS9ygEBNAoihmvQ7iR0SQ86e69oTQi6uCCDd5soHv2MQkMM/1F4RRb0QCtXeS/7kCYEcBBBDOagO6DMkiHKUGiOEJK4WQtKXe7RzEwgJm5AYEHtonbb3TFbq9NueayJ3CFwlgBi6SnCi9SUEUUgIObt1iQDSrTUP29gEtFCJ6ftCwB/7Pkaj59frxlwQmJkAYmjm3T9Re25BFBJDoVS1CJJ+aC72cQj4YuXs2BIFYhuH1nclUqPffs/EAoE5CCCG5tjnZFWGxJCzX72OCiEXTwSQ317NhfXtEDgrdGLX+YJAj9uhkD4TXaf000fBIwT6IIAY6mOfmsoyJIiuJHlGCEk8Xwi5MVe/BGJFzJl5ISoiBqw2tKZ3u1Wrs3FBYEYCiKEZdz1BzSkFUUgIOXvMhRiKodTmnDOC5siaI1WHxMHIAsGq+Qgz5kJgFAKIoVF2skIdqQRRSAzFloQYiiVVf94RIXN0borqLHEgthT+W/Mhtem2tRzJBwIlCCCGSlAeNEZIDDl77HVVCEkcBJGQaKc9KmaOzs9VqRYGfj9XzFp+/fpkXCsf4kKgFgHEUC3yg8QNCaKY8lIJIRcLMRRDPO+co2LmyPy8mX97F1Fgtd+z+7bMUGPfO0T2JQgghkpQHjzGGUEUEkLOfuZCDJ2hdn7NESFzZu75zNKttESCtqWLVNeTrkn362ZFdAiUJYAYKst72GhHBVFIDJ0FZIkhZ+NKQ+CMoIldkybDPF60OLD6eaKW9zpybeVpErFHAoihHnetwZxDYsjZ/Su1EBL/liCSe7TxBGJFzNl58Zm0MdMSCtrWRpbXstD1SP+aR1ZDoC8CiKG+9qvpbEOCSCedSwi5GIghTTq+f1bUxKyLz6LtmSIQQm3b2e9nN2pd+5UzAwIvAoghnoSkBLYEUUgIOXuKCzG0TzFGwJydsx+9/xkh0eDsvV9Wbb3XRP4QiCWAGIolxbxoAiFBFBJD0Y4jJiKIPpDOiprYdZ9Ic/Us0SC2nklIDX7bc03kDoFYAoihWFLMiyZgiaESQsglOLMYihUxZ+ZFb/4kE33BoMc9I9B1SL/nesgdArEEEEOxpJh3iIAWRKWEkEtwFjF0RtAcWXNosyedLGLBantFMlItve4BedchgBiqw32KqE4QhYSQs+e4LDHkbL1fR4TM0bm9s6mZvyUexFYzr7OxJXe/PeuPdRDohQBiqJed6jTPkBjKWY4liHLGS+37qJg5Oj91vrP784WDHvfIRucv/R7rIGcIHCGAGDpCi7mHCISEkHyEdsjZgcm9iaGjYubI/APYmHqBgIiGUHvBdfGlI9RQHBoBuyeAGOp+C9ssYE8I5RRELYuhI0LmzNw2n4Y5sgqJCLH3REFy1m1P+ZMrBI4SQAwdJcb8XQIhIeTsIoKk3XV2ckIrguiMoIldcxINyzIS0OLB6mcMndS1lbuzcUFgVAKIoVF3tmJdITEkAshvc6RaQwzFipiz83Jwwmd6AiEhIfb0EdN7lFz9Nn0kPEKgDQKIoTb2YZgsQkJICvSFkIzlfqq2hBg6K2pi1qXigJ96BHwhocf1soqPrPOVfvxqZkKgLwKIob72q+ls94SQS17Ej9WmLM4SQ8529ooRMFfmnM2LdW0TEBFhtW1nvixWzs7GBYERCSCGRtzVCjWFhJCz+5clhJwt9WUJotgYV4TN3trYHJg3BoGQqOhBWFi5j7ErVAGBNQHE0JoHo5MEQmIo5K6EIIoVQ3vi5cr9UP3Y5yJgiQqxtUxCcvTblnMmNwicIYAYOkONNSsCR4WQLM4tiCwxdEXYxKyV2mgh4BPwBYUe+3NbGescdb+V/MgDAqkIIIZSkZzUz1kh5HCFxFDKj8xyCqJJt5yyLxDQgsLvX3CbdamfpxtzQWA0Aoih0Xa0YD0hIeTssVdIEMWu1/OsNzcpxZCORR8CZwlY4kJsZ33mXCe5+W3OmPiGQGkCiKHSxAeJl0IICYqzgsgSP77trBiS3GghkIOALyz8cY6YV3z6+bkxFwRGIoAYGmk3C9YSEkNnU9gTRL7IiR1bYsjZ/PVn82YdBM4SsASGtp31m2Odzkv3c8TCJwRqEEAM1aDeeczUQsjhCIkhZ/eFy9GxJYg63wLSH4SAFhZWv6UyW8+vJVbk0h8BxFB/e1Y14xxCSMRNSBDJ/bMtYqjqI0PwCAKW0BBbxPIiUyQf3RYJTBAIFCCAGCoAeZQQISHk7EeuLVFzVRBZeVhiyNm4INASAS0y/H4Lefo5ybiF3MgBAlcJIIauEpxofUgMbSHYEj6he0cE0VZsfc8SRPo+fQi0QEAEhtW2ml8LeZEDBK4SQAxdJTjJ+lghFBI4R+whMeTsZy/E0FlyrCtNwBJCYiudix9P8vBbfx5jCPRGADHU245VyDckhI4InKNzQ4LobPmIobPkWFeDgC829LhGPjqmzkX6+j59CPRIADHU464VzDkkhJz9qMDZmm+VlFIQWWLI2bgg0CoBERpWWzPn1vKpyYLY4xBADI2zl8krceIlJIa2hM3evSOJ5hZER3JhLgRKE7CEh9hK5yLxJL7fyn1aCPRIADHU464VyDmlELqSbkgMOfvRy3o7dNQH8yFQmoAvOvxx6XxcPD8HN+aCQM8EEENN7N6/5XG/LffHv0vZ/P7cltvPb9jH789yuz+WmChn3wiFg5+/ExJERz1aYoiPyo5SZH4NApb40LbSOenYul86D+JBIBUBxFAqkpaff4/lfrutvltjaRUnYq4KIRe+hhiyys5hyymIcuSLTwikJqBFh9VPHW/PXws57OXIfQjEEkAMxZI6Os+9hbndlrX4+V1+bj/Lxrubo1FW83OLoVWwCoMUgsh6O1ShFEJC4BQBS4Bo2ymnJxfpuNI/6YplEKhOADGUZQuc6PGFkBXo9fHY5wvHWig5H/fl8XiJqpuIKO9tkxZbX2JoNffPV+THZC5b/VGZlX0N21VBhBiqsWvETE1AxIfVpo4V8mfFdjYuCPRIADGUY9eeb4W0sLGD+OLl3+OuvtPzElRvEfR08bv8KDGznu9/TOZ/D+nPn1pvZ9W2NSSGnD3mssQQ3xuKIcec1giExEhJQWLl0Bon8oFADAHEUAylo3M8MfQULe/vDv2JpOdbm/uy/s7039ug5zecX+JFv/n5SuPp4yO6VuLKu/dce+AL1F+xGjKEBFFsipYgil3LPAi0RMASI2IrkafE8tsSsYkBgZQEEEMpaYovTwyJedH21UdY+kvWIpBsMbQWVm5dQAzpWJLAIGLIlXNFECGG5IGgHYGAL0T0uER9Op70S8QlBgRSEkAMpaT59mULmW8x9BEy76XvjuHDFzje259Z3gwJorOCyBJDfFQmVGl7JCAixGpz12PFdDYuCPREADGUabfkDc7qY66VmPG/0+Mnsi+GnuIn9GZoea1//8q+vInq/DtDmlJIDDn73mUJor013IdAywRCoiS3MAnFbZkVuUHAJ4AY8omkHIsAeX9fyP/7hPzfJrt9fYF6Jabk7xL683d/PFa/qr96M+TqWMX/WX7deCAx5EoMCaK9bUQM7RHifo8EQsJE7LlqEv+6zRULvxDIQQAxlIMqPosSOCOIEENFt4hgBQloQWL1c6RixXE2Lgj0QgAx1MtOkecmgaOCyBJDzsYFgREIhMSJ2HPUKL51myMOPiGQgwBiKAdVfBYnEBJDzh66LEEUmosdAr0R0KLE6qeux4rhbFwQ6IEAYqiHXSLHKAIhQRRajBgKkcE+EoGQSMkhVKxYI7GklnEJIIbG3dspKzsiiCwxxEdlUz42wxdtiRSxpSxefOo2pX98QSAXAcRQLrL4rUbgqiCqljiBIZCRgBYofj9VWN+vjFP5xw8EchFADOUii99qBEJiyNn9y3o75M9hDIFRCIg4sdpUNeb0nSpH/EDAJ4AY8okwHoJASBD5xSGGfCKMRydgiRWxpahdfPltCt/4gEAuAoihXGTxW51AjCCyxBDfG6q+dSSQmYAvVPQ4RWjtT/op/OIDArkIIIZykcVvEwTOCqImkicJCGQkICLFaq+GzeHzak6sh8AWAcTQFh3udU8gJIacXS7r7ZDco4XAyAQs0aJtZ2vXPnT/rD/WQSA3AcRQbsL4r04gJIgkMUsM8VGZ0KEdnYAWK1b/bP0pfZ3NgXUQiCWAGIolxbyuCZwRRF0XTPIQOEDAEi7adsDVe6per/vvCXQg0BABxFBDm0EqeQlsCSLr7VDebPAOgfYIaNHi989k6/twYy4ItEgAMdTirpBTFgIhMeTsiKEsyHHaIQFLwIjtaDmyTrdHfTAfAiUIIIZKUCZGMwRCgsgSQ3xvqJltI5HCBLR48ftHUvHXPaRrLAAABtVJREFUyviID+ZCoAQBxFAJysRoisARQdRU4iQDgYIERLhY7ZE0rq4/Eou5EDhLADF0lhzruiYQK4i6LpLkIXCRgCVkxBbrWub7bex65kGgBAHEUAnKxGiSAIKoyW0hqcYI+CJGj2NT1WukH7uWeRAoQQAxVIIyMZokEBJDzq6/Q9Rk8iQFgYIERMBYbUwa1jpn44JAKwQQQ63sBHlUIRASRIihKttB0IYJhASN2LdSlzl+u7WGexAoSQAxVJI2sZoksCeImkyapCBQgYAvZvzxVkr+XDfmgkArBBBDrewEeVQlgCCqip/gHRGwRI22hUrRc3Q/NB87BEoSQAyVpE2sZgmExJCz8/cNNbttJFaJgBYzVj+U1pG5IR/YIZCDAGIoB1V8dkkgJIgQQ11uJ0kXIGCJG7FZ4eWe31pzsUGgJAHEUEnaxGqeAIKo+S0iwcYI+MJGj/1U9T3d9+cxhkBpAoih0sSJ1zyBkCBqPnEShEAlAlrY+H0/Jf++G3NBoDYBxFDtHSB+cwRCYsjZuSAAAZuAJXLEpleIzW/1HPoQKE0AMVSaOPG6IBASRF0kT5IQqETAFzh6rFPSdunr+/QhUJoAYqg0ceJ1QcB9aRpB1MVWkWRjBETcWK2kat1zNi4I1CKAGKpFnrjNE0AQNb9FJNgogZDY0YLHmtNoOaQ1AQHE0ASbTInnCCCGznFjFQQcAUvs7NkgB4FaBBBDtcgTt3kCTgyFBFHzyZMgBBogsCd+rPsNpE0KExJADE246ZQcT8ASRPGrmQkBCFiCZ8sGMQjUIIAYqkGdmN0QEDGk226SJ1EINERgSwD59xpKm1QmIYAYmmSjKfMcAS2CpH/OE6sgAAFf9ITGkIJAaQKIodLEidcdARFBruWCAASuEQgJIG2/FoHVEDhOADF0nBkrIAABCEDgAgEtfEL9C+5ZCoHDBBBDh5GxAAIQgAAErhIIiSCxX/XPeggcIYAYOkKLuRCAAAQgkIyACB+rTRYERxCIIIAYioDEFAhAAAIQyEtAC6K8kfAOgW8CiKFvJlggAAEIQAACEJiIAGJoos2mVAhAAAIQgAAEvgkghr6ZYIEABCAAAQhAYCICiKGJNptSIQABCEAAAhD4JoAY+maCBQIQgAAEshD4tzzut+V2W/93f/wLRvv9uS23+2MJzwgu5QYEogkghqJRMRECEIAABK4ReImhn99rXlgNgdQEEEOpieIPAhCAAAQCBLbE0O/yc7svj8fP35ujn8VppuebIa2e/j2Wu3qzpG8FgmKGwC4BxNAuIiZAAAIQgEAaAntiyH189hJBEm8thpxgui2fj9V+lx8+QhNUtBcIIIYuwGMpBCAAAQgcIWB9Z0jEz0vo+G96VmLo1701kvlH4jIXAtsEEEPbfLgLAQhAAALJCOy/GdoVQ7wJSrYbOPoQQAx9WNAbkMDz/yrV9wvcb7H4P2ytsv897svNm/j0xQ9iCxc2CEQSSCCGeDMUyZppRwggho7QYm53BJyA+Xy/ID59SwzFr2YmBCBgE7gohha+M2RzxXqVAGLoKkHWN01gUwyZv5Xy/Z0GEVPPN0Pvt0Vu3n15/Hv9cH79vSnuuwx6vbuv8Jjx1H26EBiegP7z8fm7hl5/xiK+M+T4rP4ceX/GhudHgbkIIIZykcVvEwTCYmj9WyjPN0HqIzDrzdC3GNK/+fL5IS96ae1zO14TsEgCAhCAwKQEEEOTbvwsZT8FzOo7Q4HfRHn+3+bnXqwYEuHjeH6t2frNFy/eLPtBnRCAAARaJIAYanFXyCkZgfCboT/xEhBKX8Lm6y9/e70JOiKGnj4D8ZIVjCMIQAACEDhMADF0GBkLeiIQFEP+WxvvTU1yMbQTryem5AoBCEBgNAKIodF2lHpWBGLF0OvjNO9jMvUdIuf0Oef9KujgmyFPDPnxVkkzgAAEIACBogQQQ0VxE6w0gaAYEnHz97HV/fFYfvTfX6J+YyX822Trv7Po622SKYBev0HzFa80GOJBAAIQgMCbAGLojYIOBCAAAQhAAAIzEkAMzbjr1AwBCEAAAhCAwJsAYuiNgg4EIAABCEAAAjMSQAzNuOvUDAEIQAACEIDAmwBi6I2CDgQgAAEIQAACMxJADM2469QMAQhAAAIQgMCbAGLojYIOBCAAAQhAAAIzEkAMzbjr1AwBCEAAAhCAwJsAYuiNgg4EIAABCEAAAjMSQAzNuOvUDAEIQAACEIDAmwBi6I2CDgQgAAEIQAACMxJADM2469QMAQhAAAIQgMCbAGLojYIOBCAAAQhAAAIzEkAMzbjr1AwBCEAAAhCAwJsAYuiNgg4EIAABCEAAAjMS+P8Bgk370fZMagAAAABJRU5ErkJggg==)"
      ]
    },
    {
      "cell_type": "markdown",
      "metadata": {
        "id": "3EtpuTRxY8io"
      },
      "source": [
        "#### Représentation possible en python : **matrice d'adjacence**"
      ]
    },
    {
      "cell_type": "code",
      "metadata": {
        "id": "Qo6lr2koZnfx"
      },
      "source": [
        "membres = ['Alban', 'Béatrice', 'Charles', 'Déborah', 'Eric', 'Fatima', 'Gérald', 'Hélène', 'Ivan']\r\n",
        "tab = [[0, 1, 0, 1, 1, 1, 0, 0, 0],\r\n",
        "       [1, 0, 1, 1, 1, 0, 1, 0, 0],\r\n",
        "       [0, 1, 0, 1, 0, 0, 0, 1, 0],\r\n",
        "       [1, 1, 1, 0, 0, 0, 1, 0, 0],\r\n",
        "       [1, 1, 0, 0, 0, 0, 0, 0, 0],\r\n",
        "       [1, 0, 0, 0, 0, 0, 0, 0, 1],\r\n",
        "       [0, 1, 0, 1, 0, 0, 0, 0, 0],\r\n",
        "       [0, 0, 1, 0, 0, 0, 0, 0, 0],\r\n",
        "       [0, 0, 0, 0, 0, 1, 0, 0, 0]]"
      ],
      "execution_count": 1,
      "outputs": []
    },
    {
      "cell_type": "markdown",
      "metadata": {
        "id": "1on34HuQbj3M"
      },
      "source": [
        "1. Expliquer comment ce tableau permet d'obtenir la liste des relations d'un des membres\r\n",
        "2. Compléter le programme ci-dessous pour qu'il affiche, pour chaque membre du réseau, le nom de ses relations"
      ]
    },
    {
      "cell_type": "code",
      "metadata": {
        "id": "AoSpSGZYbtBB",
        "colab": {
          "base_uri": "https://localhost:8080/"
        },
        "outputId": "93a6c28f-1272-4fdf-ac44-48fd5c500f5d"
      },
      "source": [
        "for i in range(len(membres)):\r\n",
        "    print(membres[i],'est en relation avec : ')\r\n",
        "    for j in range(len(tab[i])):\r\n",
        "        if tab[i][j]==1:\r\n",
        "            print('   +', membres[j])"
      ],
      "execution_count": 2,
      "outputs": [
        {
          "output_type": "stream",
          "text": [
            "Alban est en relation avec : \n",
            "   + Béatrice\n",
            "   + Déborah\n",
            "   + Eric\n",
            "   + Fatima\n",
            "Béatrice est en relation avec : \n",
            "   + Alban\n",
            "   + Charles\n",
            "   + Déborah\n",
            "   + Eric\n",
            "   + Gérald\n",
            "Charles est en relation avec : \n",
            "   + Béatrice\n",
            "   + Déborah\n",
            "   + Hélène\n",
            "Déborah est en relation avec : \n",
            "   + Alban\n",
            "   + Béatrice\n",
            "   + Charles\n",
            "   + Gérald\n",
            "Eric est en relation avec : \n",
            "   + Alban\n",
            "   + Béatrice\n",
            "Fatima est en relation avec : \n",
            "   + Alban\n",
            "   + Ivan\n",
            "Gérald est en relation avec : \n",
            "   + Béatrice\n",
            "   + Déborah\n",
            "Hélène est en relation avec : \n",
            "   + Charles\n",
            "Ivan est en relation avec : \n",
            "   + Fatima\n"
          ],
          "name": "stdout"
        }
      ]
    },
    {
      "cell_type": "markdown",
      "metadata": {
        "id": "Eo0T1DL9dzf1"
      },
      "source": [
        "#### réponse souhaitée : "
      ]
    },
    {
      "cell_type": "markdown",
      "metadata": {
        "id": "FDHXa3Bod100"
      },
      "source": [
        "\r\n",
        "\r\n",
        "```\r\n",
        "Alban est en relation avec : \r\n",
        "   + Béatrice\r\n",
        "   + Déborah\r\n",
        "   + Eric\r\n",
        "   + Fatima\r\n",
        "Béatrice est en relation avec : \r\n",
        "   + Alban\r\n",
        "   + Charles\r\n",
        "   + Déborah\r\n",
        "   + Eric\r\n",
        "   + Gérald\r\n",
        "Charles est en relation avec : \r\n",
        "   + Béatrice\r\n",
        "   + Déborah\r\n",
        "   + Hélène\r\n",
        "Déborah est en relation avec : \r\n",
        "   + Alban\r\n",
        "   + Béatrice\r\n",
        "   + Charles\r\n",
        "   + Gérald\r\n",
        "Eric est en relation avec : \r\n",
        "   + Alban\r\n",
        "   + Béatrice\r\n",
        "Fatima est en relation avec : \r\n",
        "   + Alban\r\n",
        "   + Ivan\r\n",
        "Gérald est en relation avec : \r\n",
        "   + Béatrice\r\n",
        "   + Déborah\r\n",
        "Hélène est en relation avec : \r\n",
        "   + Charles\r\n",
        "Ivan est en relation avec : \r\n",
        "   + Fatima\r\n",
        "```\r\n",
        "\r\n"
      ]
    },
    {
      "cell_type": "markdown",
      "metadata": {
        "id": "P1tCLFZNwlEn"
      },
      "source": [
        "**3)** Compléter le programme suivant qui stocke dans un dictionnaire les données du réseau : \n",
        "* chaque membre du réseau correspond à une clé du dictionnaire\n",
        "* la liste des relations d'un membre doit correspondre à la valeur du dictionnaire"
      ]
    },
    {
      "cell_type": "code",
      "metadata": {
        "colab": {
          "base_uri": "https://localhost:8080/"
        },
        "id": "DvqD5_ncw9y5",
        "outputId": "e419273b-bfcf-40b5-cb6d-44495a662ee3"
      },
      "source": [
        "dico = {}\n",
        "for i in range(len(membres)):\n",
        "    nom = membres[i]\n",
        "    dico[nom]=[]\n",
        "    for j in range(len(tab[i])):\n",
        "        if tab[i][j]==1:\n",
        "            dico[nom].append(membres[j])\n",
        "\n",
        "print(dico)"
      ],
      "execution_count": 3,
      "outputs": [
        {
          "output_type": "stream",
          "text": [
            "{'Alban': ['Béatrice', 'Déborah', 'Eric', 'Fatima'], 'Béatrice': ['Alban', 'Charles', 'Déborah', 'Eric', 'Gérald'], 'Charles': ['Béatrice', 'Déborah', 'Hélène'], 'Déborah': ['Alban', 'Béatrice', 'Charles', 'Gérald'], 'Eric': ['Alban', 'Béatrice'], 'Fatima': ['Alban', 'Ivan'], 'Gérald': ['Béatrice', 'Déborah'], 'Hélène': ['Charles'], 'Ivan': ['Fatima']}\n"
          ],
          "name": "stdout"
        }
      ]
    },
    {
      "cell_type": "markdown",
      "metadata": {
        "id": "_reciIW7ekbd"
      },
      "source": [
        "# Vocabulaire des GRAPHES"
      ]
    },
    {
      "cell_type": "markdown",
      "metadata": {
        "id": "aXSzaPQIqB8d"
      },
      "source": [
        "## Définition"
      ]
    },
    {
      "cell_type": "markdown",
      "metadata": {
        "id": "btBb--H-euEV"
      },
      "source": [
        "Un **graphe** est une structure de données constituée d’objets, appelés **sommets**, et de **relations** entre ces sommets appelées **arcs**. \r\n",
        "\r\n",
        "Pour définir un graphe, il suffit de décrire : \r\n",
        "* l'ensemble des **sommets**\r\n",
        "* l'ensembles des **arcs**\r\n",
        "\r\n",
        "Le nombre de sommets d'un graphe est appelé : **ordre** du graphe. \r\n",
        "\r\n",
        "La somme du nombre de sommets et du nombre d'arcs est appelée : **taille** du graphe.\r\n",
        "\r\n",
        "\r\n",
        "On distingue deux types de graphes\r\n",
        "* Les graphes **orientés** (définis ci-dessus)\r\n",
        "* Les graphes **non-orientés** où les relations sont appelées **arêtes** : chaque arête peut être parcourue dans les deux sens\r\n",
        "   * une arête entre un sommet A et un sommet B correspond donc à deux arcs orientés\r\n",
        "      * l'un de A vers B\r\n",
        "      * l'autre de B vers A\r\n",
        "* Un graphe non orienté peut être vu comme un cas particulier de graphe orienté, dans lequel chaque arc possède un arc réciproque. "
      ]
    },
    {
      "cell_type": "markdown",
      "metadata": {
        "id": "-zq8OI6yqLhi"
      },
      "source": [
        "## Successeur, prédécesseur"
      ]
    },
    {
      "cell_type": "markdown",
      "metadata": {
        "id": "BlskZTLpqPa7"
      },
      "source": [
        "* si un arc relie un sommet `A` à un sommet `B` on dit que : \n",
        "   * `B` est **adjacent** `A`\n",
        "   * `B` est un **successeur** de `A`\n",
        "   * `A` un est **prédécesseur** de `B`\n",
        "   * ou encore `B` est un **voisin** de `A`.\n",
        "* pour **définir** un graphe, on peut donner:\n",
        "   * l'ensemble de ses **sommets**, \n",
        "   * et pour chaque sommet, l'ensemble de ses **voisins**. \n",
        "\n",
        "En Python, on peut utiliser un **dictionnaire** pour représenter un graphe : \n",
        "* chaque **clé** du dictionnaire est un sommet\n",
        "* pour chaque sommet, la **valeur** est la liste de ses voisins."
      ]
    },
    {
      "cell_type": "markdown",
      "metadata": {
        "id": "9GuhTaLCqDtR"
      },
      "source": [
        "## Chemin, Cycle"
      ]
    },
    {
      "cell_type": "markdown",
      "metadata": {
        "id": "3cta-0qnq3Xw"
      },
      "source": [
        "* Un **chemin** (on dit aussi: *chaîne*) est une suite finie de sommets adjacents. On peut décrire un chemin avec : \n",
        "   * la liste des **sommets** qui le composent, ou\n",
        "   * la liste des **arcs** qui le composent\n",
        "* Un **cycle** est un cas particulier de chemin, qui est : \n",
        "   * **fermé** : c'est à dire que le sommet de départ est identique au sommet d'arrivée.\n",
        "   * **simple** : tous les arcs qui le composent  sont distincts. "
      ]
    },
    {
      "cell_type": "markdown",
      "metadata": {
        "id": "qiJ017c4s0g3"
      },
      "source": [
        "## Longueur, distance"
      ]
    },
    {
      "cell_type": "markdown",
      "metadata": {
        "id": "C9wQVqN5s3S_"
      },
      "source": [
        "* la **longueur** d'un chemin est le **nombre d'arcs** qui le composent.\n",
        "* la **distance** entre deux sommets est la longueur du plus petit chemin qui les relie. "
      ]
    },
    {
      "cell_type": "markdown",
      "metadata": {
        "id": "L3x2RJkOtyXv"
      },
      "source": [
        "# Exemples"
      ]
    },
    {
      "cell_type": "markdown",
      "metadata": {
        "id": "lw5RBOHmupt-"
      },
      "source": [
        "#### graphe 1 :  non orienté"
      ]
    },
    {
      "cell_type": "markdown",
      "metadata": {
        "id": "6MFPbkiDuriq"
      },
      "source": [
        "![graphe1](https://pixees.fr/informatiquelycee/n_site/img/nsi_term_structDo_graphe_1.png)"
      ]
    },
    {
      "cell_type": "markdown",
      "metadata": {
        "id": "NuETnKHEuB-_"
      },
      "source": [
        "#### graphe 2 : orienté"
      ]
    },
    {
      "cell_type": "markdown",
      "metadata": {
        "id": "7asNwC4At0K9"
      },
      "source": [
        "![graphe2](https://pixees.fr/informatiquelycee/n_site/img/nsi_term_structDo_graphe_2.png)"
      ]
    },
    {
      "cell_type": "markdown",
      "metadata": {
        "id": "h6Y6CtRUuB5m"
      },
      "source": [
        "#### graphe 3 : pondéré"
      ]
    },
    {
      "cell_type": "markdown",
      "metadata": {
        "id": "37Q3U09_uGyi"
      },
      "source": [
        "![graphe3](https://pixees.fr/informatiquelycee/n_site/img/nsi_term_structDo_graphe_4.png)"
      ]
    },
    {
      "cell_type": "markdown",
      "metadata": {
        "id": "0AIsxpbhveVj"
      },
      "source": [
        "## Exercice \n",
        "pour chacun des graphes ci-dessus, proposer une représentation en python : \n",
        "1. sous forme de **tableau** : matrice d'adjacence\n",
        "2. sous forme de **dictionnaire** : dictionnaire d'adjacence (ou dictionnaire des successeurs)"
      ]
    },
    {
      "cell_type": "markdown",
      "metadata": {
        "id": "ZQIH0Ywtyudy"
      },
      "source": [
        "# Encapsulation dans un objet"
      ]
    },
    {
      "cell_type": "markdown",
      "metadata": {
        "id": "Rvs8FMHnyxcS"
      },
      "source": [
        "Pour programmer des algorithmes sur les graphes, on aura besoin de définir:\n",
        "* des opération pour **construire** un graphe :\n",
        "   * graphe vide\n",
        "   * ajouter des sommets\n",
        "   * ajouter des arcs\n",
        "* des opérations pour \"parcourir\" un graphe : \n",
        "   * tester si deux sommets sont adjacents\n",
        "   * parcourir tous les sommets du graphe\n",
        "   * parcourir tous les voisins d'un sommet..."
      ]
    },
    {
      "cell_type": "markdown",
      "metadata": {
        "id": "WH6lzJK00h3A"
      },
      "source": [
        "## Exemple 1 : graphe représenté par une matrice d'adjacence"
      ]
    },
    {
      "cell_type": "markdown",
      "metadata": {
        "id": "qLjgBc4S0njS"
      },
      "source": [
        "* Les sommets sont des entiers de 0 à (n-1)\n",
        "   * le constructeur de classe prend en paramètre un entier `n` : le nombre de sommets du graphe.\n",
        "   * un tableau `tab` permet de stocker la matrice d'adjacence du graphe\n",
        "   * une méthode `Graphe.ajouter_arc(s1,s2)` permet d'ajouter un arc de s1 vers s2\n",
        "\n",
        "\n",
        "* on définit les méthodes suivantes : \n",
        "   * `Graphe.arc(s1,s2)` qui renvoie `True` si s2 est voisin de s1, et `False` sinon\n",
        "   * `Graphe.voisins(s)` qui renvoie la liste des sommets voisins d'un sommet s. "
      ]
    },
    {
      "cell_type": "code",
      "metadata": {
        "id": "V8rWsLL53tSw"
      },
      "source": [
        "class Graphe:\n",
        "    ''' graphe représenté par une matrice d'adjacence\n",
        "    les sommets sont les entiers de 0 à n-1, avec n = ordre du graphe'''\n",
        "    def __init__(self, n):\n",
        "        self.n = n \n",
        "        self.tab = [ [0 for j in range(n)] for i in range(n)]\n",
        "\n",
        "    def ajouter_arc(self,s1,s2):\n",
        "        self.tab[s1][s2] = 1\n",
        "\n",
        "    def arc(self,s1,s2):\n",
        "        return self.tab[s1][s2] == 1\n",
        "    \n",
        "    def voisins(self,s):\n",
        "        return [j for j in range(self.n) if self.arc(s,j)] "
      ],
      "execution_count": null,
      "outputs": []
    },
    {
      "cell_type": "code",
      "metadata": {
        "id": "HHoweQ5a5FWf"
      },
      "source": [
        "g = Graphe(3)\n",
        "g.ajouter_arc(0,1)\n",
        "g.ajouter_arc(0,2)\n",
        "g.ajouter_arc(2,1)\n",
        "assert g.arc(2,1)\n",
        "assert not g.arc(1,2)\n",
        "print('liste des voisins du sommet 2')\n",
        "print(g.voisins(2))\n",
        "print('voisins du sommet 0 :')\n",
        "for s in g.voisins(0):\n",
        "    print(s)"
      ],
      "execution_count": null,
      "outputs": []
    },
    {
      "cell_type": "markdown",
      "metadata": {
        "id": "ZWcsxpFF6yu-"
      },
      "source": [
        "observer sur [PythonTutor](http://www.pythontutor.com/visualize.html#code=class%20Graphe%3A%0A%20%20%20%20def%20__init__%28self,%20n%29%3A%0A%20%20%20%20%20%20%20%20self.n%20%3D%20n%20%0A%20%20%20%20%20%20%20%20self.tab%20%3D%20%5B%20%5B0%20for%20j%20in%20range%28n%29%5D%20for%20i%20in%20range%28n%29%5D%0A%0A%20%20%20%20def%20ajouter_arc%28self,s1,s2%29%3A%0A%20%20%20%20%20%20%20%20self.tab%5Bs1%5D%5Bs2%5D%20%3D%201%0A%0A%20%20%20%20def%20arc%28self,s1,s2%29%3A%0A%20%20%20%20%20%20%20%20return%20self.tab%5Bs1%5D%5Bs2%5D%20%3D%3D%201%0A%20%20%20%20%0A%20%20%20%20def%20voisins%28self,s%29%3A%0A%20%20%20%20%20%20%20%20return%20%5Bj%20for%20j%20in%20range%28self.n%29%20if%20self.arc%28s,j%29%5D%20%0A%0Ag%20%3D%20Graphe%283%29%0Ag.ajouter_arc%280,1%29%0Ag.ajouter_arc%280,2%29%0Ag.ajouter_arc%282,1%29%0Aassert%20g.arc%282,1%29%0Aassert%20not%20g.arc%281,2%29%0Aprint%28g.voisins%280%29%29&cumulative=false&curInstr=42&heapPrimitives=nevernest&mode=display&origin=opt-frontend.js&py=3&rawInputLstJSON=%5B%5D&textReferences=false)"
      ]
    },
    {
      "cell_type": "markdown",
      "metadata": {
        "id": "YN4T4yawAv3V"
      },
      "source": [
        "### Exercice 1\n",
        "Utiliser la classe Graphe pour représenter le graphe orienté suivant, qu'on nommera \"`graphex1`\"\n",
        "\n",
        "![graphex](http://pauillac.inria.fr/~levy/courses/X/IF/poly/main003.gif)"
      ]
    },
    {
      "cell_type": "markdown",
      "metadata": {
        "id": "AxA16QsFBhEC"
      },
      "source": [
        "## Exemple 2 : dictionnaire d'adjacence"
      ]
    },
    {
      "cell_type": "markdown",
      "metadata": {
        "id": "b-6o8lg-B_6y"
      },
      "source": [
        "* Les sommets sont définis par l'utilisateur\n",
        "   * le constructeur de classe ne prend aucun argument : initialement un graphe est créé vide, et représenté par un dictionnaire vide.\n",
        "   * une méthode `Graphe.ajouter_sommet(s)` permet d'ajouter un sommet `s`.\n",
        "   * une méthode `Graphe.ajouter_arc(s1,s2)` permet d'ajouter un arc de s1 vers s2\n",
        "\n",
        "\n",
        "* on définit les méthodes suivantes : \n",
        "   * `Graphe.sommets()` qui renvoie la liste des sommets du graphe\n",
        "   * `Graphe.arc(s1,s2)` qui renvoie `True` si s2 est voisin de s1, et `False` sinon\n",
        "   * `Graphe.voisins(s)` qui renvoie la liste des sommets voisins d'un sommet s. "
      ]
    },
    {
      "cell_type": "code",
      "metadata": {
        "id": "ZvNAmutJCmI0"
      },
      "source": [
        "class Graphe:\n",
        "    ''' graphe représenté par un dictionnaire d'adjacence'''\n",
        "    def __init__(self):\n",
        "        self.dico = {}\n",
        "    \n",
        "    def ajouter_sommet(self,s):\n",
        "        if s not in self.dico:\n",
        "            self.dico[s] = []\n",
        "    \n",
        "    def ajouter_arc(self,s1,s2):\n",
        "        self.ajouter_sommet(s1)\n",
        "        self.ajouter_sommet(s2)\n",
        "        self.dico[s1].append(s2)\n",
        "    \n",
        "    def arc(self,s1,s2):\n",
        "        return s2 in self.dico[s1]\n",
        "    \n",
        "    def sommets(self):\n",
        "        return list(self.dico)\n",
        "\n",
        "    def voisins(self,s):\n",
        "        return self.dico[s]"
      ],
      "execution_count": null,
      "outputs": []
    },
    {
      "cell_type": "code",
      "metadata": {
        "id": "tYbJ6RXcDxcQ"
      },
      "source": [
        "g = Graphe()\n",
        "g.ajouter_arc(0,1)\n",
        "g.ajouter_arc(0,2)\n",
        "g.ajouter_arc(2,1)\n",
        "assert g.arc(2,1)\n",
        "assert not g.arc(1,2)\n",
        "print('liste des voisins du sommet 2')\n",
        "print(g.voisins(2))\n",
        "print('voisins du sommet 0 :')\n",
        "for s in g.voisins(0):\n",
        "    print(s)"
      ],
      "execution_count": null,
      "outputs": []
    },
    {
      "cell_type": "markdown",
      "metadata": {
        "id": "pDM2lL0MFDOi"
      },
      "source": [
        "### Exercice 2\n",
        "\n",
        "1. Ecrire dans la classe ci-dessus, une méthode `Graphe.ajouter_arete(s1,s2)`  qui ajoute au graphe l'arête s1-s2 (c'est à dire les deux arc orientés s1-s2  et s2-s1)\n",
        "2. Utiliser cette méthode pour représenter le graphe non orienté suivant, qu'on nommera \"`graphex2`\"\n",
        "\n",
        "![graphex](https://pixees.fr/informatiquelycee/n_site/img/nsi_term_algo_graph_1.png)"
      ]
    }
  ]
}