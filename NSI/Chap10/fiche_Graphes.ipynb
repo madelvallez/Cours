{
  "nbformat": 4,
  "nbformat_minor": 0,
  "metadata": {
    "colab": {
      "name": "fiche-Graphes.ipynb",
      "provenance": [],
      "authorship_tag": "ABX9TyPzYNF5eQNhLblr3B2D2rcG",
      "include_colab_link": true
    },
    "kernelspec": {
      "name": "python3",
      "display_name": "Python 3"
    }
  },
  "cells": [
    {
      "cell_type": "markdown",
      "metadata": {
        "id": "view-in-github",
        "colab_type": "text"
      },
      "source": [
        "<a href=\"https://colab.research.google.com/github/madelvallez/Cours/blob/master/NSI/Chap10/fiche_Graphes.ipynb\" target=\"_parent\"><img src=\"https://colab.research.google.com/assets/colab-badge.svg\" alt=\"Open In Colab\"/></a>"
      ]
    },
    {
      "cell_type": "markdown",
      "metadata": {
        "id": "3VXPMMvHQan4"
      },
      "source": [
        "#Graphes"
      ]
    },
    {
      "cell_type": "markdown",
      "metadata": {
        "id": "EC5CDyJCQeke"
      },
      "source": [
        "##I. Théorie des graphes"
      ]
    },
    {
      "cell_type": "markdown",
      "metadata": {
        "id": "d0I0D4vkQ_Mz"
      },
      "source": [
        "###1) Définition\r\n",
        "\r\n",
        "Un graphes est une structure de données avec des points et des liens entre ces points.\r\n",
        "\r\n",
        "* On appele sommet les points.\r\n",
        "* On appele arc un lien d'un sommet A vers un sommet B.\r\n",
        "* On appele arete un arc \"à double sens\".\r\n",
        "* On appèle ordre le nombre de sommets du graphe.\r\n",
        "* On appele taille le nombre de sommets plaus le nombre d'arcs.\r\n",
        "\r\n",
        "Il existe plusieurs types de graphes:\r\n",
        "* Les graphes orientées\r\n",
        "* Les graphes non-orienté: cas paticulier où le graphe n'as que des aretes.\r\n",
        "* Les graphes pondérés: les acrs et arrètes ont une valeur associée nommée poids. \r\n"
      ]
    },
    {
      "cell_type": "markdown",
      "metadata": {
        "id": "a2zj7uTySxzb"
      },
      "source": [
        "###2) Successeur et prédecesseur\r\n",
        "\r\n",
        "On dit d'un arc qui relie un sommet A vers un sommet B que:\r\n",
        "* B est adjacent A\r\n",
        "* B est un successeur de A\r\n",
        "* A est un successeur de B\r\n",
        "* B est un voisins de A\r\n",
        "\r\n",
        "ATTENTION: Ce n'est pas parce que B est voisin de A que A est voisin de A. Les arcs ne sont pas necessairement des aretes. "
      ]
    },
    {
      "cell_type": "markdown",
      "metadata": {
        "id": "S5hsC3vkU2G3"
      },
      "source": [
        "###3) Chemin et cycle\r\n",
        "\r\n",
        "Un chemin ou chaine est une suite finie de sommets  adjacents.\r\n",
        "\r\n",
        "Un cycle est un cas particulier de chemin qui est:\r\n",
        "* fermé: sommet de départ identique au sommet d'arrivée\r\n",
        "* simple: tous les arcs qui le compose sont distincts."
      ]
    },
    {
      "cell_type": "markdown",
      "metadata": {
        "id": "zdz0b0ntahFL"
      },
      "source": [
        "###4) Longueur et distance\r\n",
        "\r\n",
        "La longueur d'un chemin est le nombre d'arcs qui le compose.\r\n",
        "\r\n",
        "La distance entre deux sommets est la longueur du plus petit chemin qui les relie."
      ]
    },
    {
      "cell_type": "markdown",
      "metadata": {
        "id": "ta4im2VobNJE"
      },
      "source": [
        "##II. Encapsulation dans un objet python\r\n",
        "\r\n"
      ]
    },
    {
      "cell_type": "markdown",
      "metadata": {
        "id": "-X_j3lugbgUQ"
      },
      "source": [
        "### 1) Implémentation avec une matrice d'adjacence\r\n",
        "\r\n",
        "Classe Graphe():\r\n",
        "* Le constrcteur requiert en argument le nombre de sommets du graphe.\r\n",
        "* `Graphe.n` est le nombre de sommets du graphe.\r\n",
        "* `Graphe.tab` est un tableau contenant la matrice d'adjacence du graphe.\r\n",
        "* `Graphe.ajouter_arc(s1,s2)` ajoute un arc du sommet `s1` vers le sommet `s2`.\r\n",
        "* `Graphe.ajouter_arete(s1,s2)` ajoute une arete entre les sommet `s1` et le sommet `s2`.\r\n",
        "* `Graphe.arc(s1,s2)` renvoie `True` si un arc lie `s1` et `s2`, `False` sinon.\r\n",
        "* `Graphe.voisins(s)` renvoie la liste des voisins du sommet `s`.\r\n",
        "* `Graphe.afficher()` affiche le graphe sous la forme d'une liste `sommet -> voisins du sommet` pour chaque sommet"
      ]
    },
    {
      "cell_type": "code",
      "metadata": {
        "id": "agDRtLdsNmmK"
      },
      "source": [
        "class Graphe_tab:\r\n",
        "    ''' graphe représenté par une matrice d'adjacence\r\n",
        "    les sommets sont les entiers de 0 à n-1, avec n = ordre du graphe'''\r\n",
        "    def __init__(self, n):\r\n",
        "        self.n = n \r\n",
        "        self.tab = [ [0 for j in range(n)] for i in range(n)]\r\n",
        "\r\n",
        "    def ajouter_arc(self,s1,s2):\r\n",
        "        self.tab[s1][s2] = 1\r\n",
        "\r\n",
        "    def ajouter_arete(self,s1,s2):\r\n",
        "        self.ajouter_arc(s1,s2)\r\n",
        "        self.ajouter_arc(s2,s1)\r\n",
        "\r\n",
        "    def arc(self,s1,s2):\r\n",
        "        return self.tab[s1][s2] == 1\r\n",
        "    \r\n",
        "    def voisins(self,s):\r\n",
        "        return [j for j in range(self.n) if self.arc(s,j)] \r\n",
        "        # soit:\r\n",
        "        #resu=[]\r\n",
        "        #for j in range(self.n):\r\n",
        "        #   if self.arc(s,j):\r\n",
        "        #       resu.append(j)\r\n",
        "        #return resu\r\n",
        "\r\n",
        "    def afficher(self):     #Ex2 1)\r\n",
        "        for i in range(self.n):\r\n",
        "            voisins=''\r\n",
        "            for j in self.voisins(i):\r\n",
        "                voisins=voisins+str(j)+' '\r\n",
        "            print(i , ' -> ' , voisins)"
      ],
      "execution_count": 1,
      "outputs": []
    },
    {
      "cell_type": "markdown",
      "metadata": {
        "id": "n1FByMZCgpu2"
      },
      "source": [
        "###2) Implémentation avec un dictionnaire d'adjacence\r\n",
        "\r\n",
        "Classe Graphe():\r\n",
        "* Le constrcteur ne requiert aucun argument\r\n",
        "* `Graphe.dico` est un dictionnaire qui associe à chaque sommet une liste contenant les voisins du sommet.\r\n",
        "* `Graphe.ajouter_sommet(s)` ajoute le sommet s au graphe (ajoute la clé s au dictionnaire).\r\n",
        "* `Graphe.ajouter_arc(s1,s2)` ajoute un arc du sommet `s1` vers le sommet `s2`.\r\n",
        "* `Graphe.ajouter_arete(s1,s2)` ajoute une arete entre les sommet `s1` et le sommet `s2`.\r\n",
        "* `Graphe.arc(s1,s2)` renvoie `True` si un arc lie `s1` et `s2`, `False` sinon.\r\n",
        "* `Graphe.voisins(s)` renvoie la liste des voisins du sommet `s`.\r\n",
        "* `Graphe.sommets()` retourne une liste contanat les sommets du graphe (liste des clés de `Graphe.dico`).\r\n",
        "* `Graphe.afficher()` affiche le graphe sous la forme d'une liste `sommet -> voisins du sommet` pour chaque sommet"
      ]
    },
    {
      "cell_type": "code",
      "metadata": {
        "id": "GkdriLO9kgJI"
      },
      "source": [
        "class Graphe:\r\n",
        "    ''' graphe représenté par un dictionnaire d'adjacence'''\r\n",
        "    def __init__(self):\r\n",
        "        self.dico = {}\r\n",
        "    \r\n",
        "    def ajouter_sommet(self,s):\r\n",
        "        if s not in self.dico:\r\n",
        "            self.dico[s] = []\r\n",
        "    \r\n",
        "    def ajouter_arc(self,s1,s2):\r\n",
        "        self.ajouter_sommet(s1)\r\n",
        "        self.ajouter_sommet(s2)\r\n",
        "        self.dico[s1].append(s2)\r\n",
        "    \r\n",
        "    def arc(self,s1,s2):\r\n",
        "        return s2 in self.dico[s1]\r\n",
        "    \r\n",
        "    def sommets(self):\r\n",
        "        return list(self.dico)\r\n",
        "\r\n",
        "    def voisins(self,s):\r\n",
        "        return self.dico[s]\r\n",
        "\r\n",
        "    def ajouter_arete(self,s1,s2):\r\n",
        "        self.ajouter_arc(s1,s2)\r\n",
        "        self.ajouter_arc(s2,s1)\r\n",
        "\r\n",
        "    def afficher(self):     #Ex4 1)\r\n",
        "        for i in self.dico.items():\r\n",
        "            print(i[0],' -> ',str(self.voisins(i)))"
      ],
      "execution_count": 8,
      "outputs": []
    },
    {
      "cell_type": "code",
      "metadata": {
        "id": "Be8qp2Hf1J49",
        "outputId": "ead59cc3-8673-4ed1-a0d3-734bdbefbc98",
        "colab": {
          "base_uri": "https://localhost:8080/",
          "height": 359
        }
      },
      "source": [
        "graphex3=Graphe()\r\n",
        "graphex3.ajouter_arete('A','B')\r\n",
        "graphex3.ajouter_arete('A','F')\r\n",
        "graphex3.ajouter_arete('B','G')\r\n",
        "graphex3.ajouter_arete('B','D')\r\n",
        "graphex3.ajouter_arete('B','C')\r\n",
        "graphex3.ajouter_arete('F','G')\r\n",
        "graphex3.ajouter_arete('F','H')\r\n",
        "graphex3.ajouter_arete('H','I')\r\n",
        "graphex3.ajouter_arete('I','G')\r\n",
        "graphex3.ajouter_arete('I','D')\r\n",
        "graphex3.ajouter_arete('E','C')\r\n",
        "graphex3.ajouter_arete('I','E')\r\n",
        "graphex3.afficher()\r\n"
      ],
      "execution_count": 11,
      "outputs": [
        {
          "output_type": "error",
          "ename": "TypeError",
          "evalue": "ignored",
          "traceback": [
            "\u001b[0;31m---------------------------------------------------------------------------\u001b[0m",
            "\u001b[0;31mTypeError\u001b[0m                                 Traceback (most recent call last)",
            "\u001b[0;32m<ipython-input-11-38bca665989d>\u001b[0m in \u001b[0;36m<module>\u001b[0;34m()\u001b[0m\n\u001b[1;32m     12\u001b[0m \u001b[0mgraphex3\u001b[0m\u001b[0;34m.\u001b[0m\u001b[0majouter_arete\u001b[0m\u001b[0;34m(\u001b[0m\u001b[0;34m'E'\u001b[0m\u001b[0;34m,\u001b[0m\u001b[0;34m'C'\u001b[0m\u001b[0;34m)\u001b[0m\u001b[0;34m\u001b[0m\u001b[0;34m\u001b[0m\u001b[0m\n\u001b[1;32m     13\u001b[0m \u001b[0mgraphex3\u001b[0m\u001b[0;34m.\u001b[0m\u001b[0majouter_arete\u001b[0m\u001b[0;34m(\u001b[0m\u001b[0;34m'I'\u001b[0m\u001b[0;34m,\u001b[0m\u001b[0;34m'E'\u001b[0m\u001b[0;34m)\u001b[0m\u001b[0;34m\u001b[0m\u001b[0;34m\u001b[0m\u001b[0m\n\u001b[0;32m---> 14\u001b[0;31m \u001b[0mgraphex3\u001b[0m\u001b[0;34m.\u001b[0m\u001b[0mafficher\u001b[0m\u001b[0;34m(\u001b[0m\u001b[0;34m)\u001b[0m\u001b[0;34m\u001b[0m\u001b[0;34m\u001b[0m\u001b[0m\n\u001b[0m",
            "\u001b[0;32m<ipython-input-8-093f2dc2002c>\u001b[0m in \u001b[0;36mafficher\u001b[0;34m(self)\u001b[0m\n\u001b[1;32m     28\u001b[0m     \u001b[0;32mdef\u001b[0m \u001b[0mafficher\u001b[0m\u001b[0;34m(\u001b[0m\u001b[0mself\u001b[0m\u001b[0;34m)\u001b[0m\u001b[0;34m:\u001b[0m     \u001b[0;31m#Ex4 1)\u001b[0m\u001b[0;34m\u001b[0m\u001b[0;34m\u001b[0m\u001b[0m\n\u001b[1;32m     29\u001b[0m         \u001b[0;32mfor\u001b[0m \u001b[0mi\u001b[0m \u001b[0;32min\u001b[0m \u001b[0mself\u001b[0m\u001b[0;34m.\u001b[0m\u001b[0mdico\u001b[0m\u001b[0;34m.\u001b[0m\u001b[0mitems\u001b[0m\u001b[0;34m(\u001b[0m\u001b[0;34m)\u001b[0m\u001b[0;34m:\u001b[0m\u001b[0;34m\u001b[0m\u001b[0;34m\u001b[0m\u001b[0m\n\u001b[0;32m---> 30\u001b[0;31m             \u001b[0mprint\u001b[0m\u001b[0;34m(\u001b[0m\u001b[0mi\u001b[0m\u001b[0;34m[\u001b[0m\u001b[0;36m0\u001b[0m\u001b[0;34m]\u001b[0m\u001b[0;34m,\u001b[0m\u001b[0;34m' -> '\u001b[0m\u001b[0;34m,\u001b[0m\u001b[0mstr\u001b[0m\u001b[0;34m(\u001b[0m\u001b[0mself\u001b[0m\u001b[0;34m.\u001b[0m\u001b[0mvoisins\u001b[0m\u001b[0;34m(\u001b[0m\u001b[0mi\u001b[0m\u001b[0;34m)\u001b[0m\u001b[0;34m)\u001b[0m\u001b[0;34m)\u001b[0m\u001b[0;34m\u001b[0m\u001b[0;34m\u001b[0m\u001b[0m\n\u001b[0m",
            "\u001b[0;32m<ipython-input-8-093f2dc2002c>\u001b[0m in \u001b[0;36mvoisins\u001b[0;34m(self, s)\u001b[0m\n\u001b[1;32m     20\u001b[0m \u001b[0;34m\u001b[0m\u001b[0m\n\u001b[1;32m     21\u001b[0m     \u001b[0;32mdef\u001b[0m \u001b[0mvoisins\u001b[0m\u001b[0;34m(\u001b[0m\u001b[0mself\u001b[0m\u001b[0;34m,\u001b[0m\u001b[0ms\u001b[0m\u001b[0;34m)\u001b[0m\u001b[0;34m:\u001b[0m\u001b[0;34m\u001b[0m\u001b[0;34m\u001b[0m\u001b[0m\n\u001b[0;32m---> 22\u001b[0;31m         \u001b[0;32mreturn\u001b[0m \u001b[0mself\u001b[0m\u001b[0;34m.\u001b[0m\u001b[0mdico\u001b[0m\u001b[0;34m[\u001b[0m\u001b[0ms\u001b[0m\u001b[0;34m]\u001b[0m\u001b[0;34m\u001b[0m\u001b[0;34m\u001b[0m\u001b[0m\n\u001b[0m\u001b[1;32m     23\u001b[0m \u001b[0;34m\u001b[0m\u001b[0m\n\u001b[1;32m     24\u001b[0m     \u001b[0;32mdef\u001b[0m \u001b[0majouter_arete\u001b[0m\u001b[0;34m(\u001b[0m\u001b[0mself\u001b[0m\u001b[0;34m,\u001b[0m\u001b[0ms1\u001b[0m\u001b[0;34m,\u001b[0m\u001b[0ms2\u001b[0m\u001b[0;34m)\u001b[0m\u001b[0;34m:\u001b[0m\u001b[0;34m\u001b[0m\u001b[0;34m\u001b[0m\u001b[0m\n",
            "\u001b[0;31mTypeError\u001b[0m: unhashable type: 'list'"
          ]
        }
      ]
    }
  ]
}