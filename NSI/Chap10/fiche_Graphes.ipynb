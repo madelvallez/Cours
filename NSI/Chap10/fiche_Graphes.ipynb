{
  "nbformat": 4,
  "nbformat_minor": 0,
  "metadata": {
    "colab": {
      "name": "fiche-Graphes.ipynb",
      "provenance": [],
      "authorship_tag": "ABX9TyPCUD78nTbUF3UH2Wr0ti8Z",
      "include_colab_link": true
    },
    "kernelspec": {
      "name": "python3",
      "display_name": "Python 3"
    }
  },
  "cells": [
    {
      "cell_type": "markdown",
      "metadata": {
        "id": "view-in-github",
        "colab_type": "text"
      },
      "source": [
        "<a href=\"https://colab.research.google.com/github/madelvallez/Cours/blob/master/NSI/Chap10/fiche_Graphes.ipynb\" target=\"_parent\"><img src=\"https://colab.research.google.com/assets/colab-badge.svg\" alt=\"Open In Colab\"/></a>"
      ]
    },
    {
      "cell_type": "markdown",
      "metadata": {
        "id": "3VXPMMvHQan4"
      },
      "source": [
        "#Graphes"
      ]
    },
    {
      "cell_type": "markdown",
      "metadata": {
        "id": "EC5CDyJCQeke"
      },
      "source": [
        "##I. Théorie des graphes"
      ]
    },
    {
      "cell_type": "markdown",
      "metadata": {
        "id": "d0I0D4vkQ_Mz"
      },
      "source": [
        "###1) Définition\r\n",
        "\r\n",
        "Un graphes est une structure de données avec des points et des liens entre ces points.\r\n",
        "\r\n",
        "* On appele **sommet** les points.\r\n",
        "* On appele **arc** un lien d'un sommet A vers un sommet B.\r\n",
        "* On appele **arete** un arc à *double sens*.\r\n",
        "* On appele **ordre** le nombre de sommets du graphe.\r\n",
        "* On appele **taille** le nombre de sommets plus le nombre d'arcs.\r\n",
        "\r\n",
        "Il existe plusieurs types de graphes:\r\n",
        "* Les graphes *orientées*\r\n",
        "* Les graphes *non-orienté*: cas paticulier où le graphe n'as que des aretes.\r\n",
        "* Les graphes *pondérés*: les acrs et arètes ont une valeur associée nommée **poids**. \r\n"
      ]
    },
    {
      "cell_type": "markdown",
      "metadata": {
        "id": "a2zj7uTySxzb"
      },
      "source": [
        "###2) Successeur et prédecesseur\r\n",
        "\r\n",
        "On dit d'un arc qui relie un sommet A vers un sommet B que:\r\n",
        "* B est **adjacent** A\r\n",
        "* B est un **successeur** de A\r\n",
        "* A est un **successeur** de B\r\n",
        "* B est un **voisins** de A\r\n",
        "\r\n",
        "ATTENTION: Ce n'est pas parce que B est voisin de A que A est voisin de B. **Les arcs ne sont pas necessairement des aretes**. "
      ]
    },
    {
      "cell_type": "markdown",
      "metadata": {
        "id": "S5hsC3vkU2G3"
      },
      "source": [
        "###3) Chemin et cycle\r\n",
        "\r\n",
        "Un chemin ou une chaîne est une suite finie de sommets adjacents.\r\n",
        "\r\n",
        "Un cycle est un cas particulier de chemin qui est:\r\n",
        "* **fermé**: sommet de départ identique au sommet d'arrivée\r\n",
        "* **simple**: tous les arcs qui le compose sont distincts."
      ]
    },
    {
      "cell_type": "markdown",
      "metadata": {
        "id": "zdz0b0ntahFL"
      },
      "source": [
        "###4) Longueur et distance\r\n",
        "\r\n",
        "La **longueur** d'un chemin est le *nombre d'arcs* qui le compose.\r\n",
        "\r\n",
        "La **distance entre deux sommets** est la longueur du *plus petit chemin* qui les relie."
      ]
    },
    {
      "cell_type": "markdown",
      "metadata": {
        "id": "ta4im2VobNJE"
      },
      "source": [
        "##II. Encapsulation dans un objet python\r\n",
        "\r\n"
      ]
    },
    {
      "cell_type": "markdown",
      "metadata": {
        "id": "-X_j3lugbgUQ"
      },
      "source": [
        "### 1) Implémentation avec une matrice d'adjacence\r\n",
        "\r\n",
        "Classe `Graphe()`:\r\n",
        "* Le constructeur requiert en argument le nombre de sommets du graphe.\r\n",
        "* `Graphe.n` est le nombre de sommets du graphe.\r\n",
        "* `Graphe.tab` est un tableau contenant la matrice d'adjacence du graphe.\r\n",
        "* `Graphe.ajouter_arc(s1,s2)` ajoute un arc du sommet `s1` vers le sommet `s2`.\r\n",
        "* `Graphe.ajouter_arete(s1,s2)` ajoute une arète entre le sommet `s1` et le sommet `s2`.\r\n",
        "* `Graphe.arc(s1,s2)` renvoie `True` si un arc lie `s1` et `s2`, `False` sinon.\r\n",
        "* `Graphe.sommets` renvoie une liste contenant le nom de chacun des sommets\r\n",
        "* `Graphe.voisins(s)` renvoie la liste des voisins du sommet `s`.\r\n",
        "* `Graphe.afficher()` affiche le graphe sous la forme d'une serie de  `sommet -> voisins du sommet` pour chaque sommet"
      ]
    },
    {
      "cell_type": "code",
      "metadata": {
        "id": "agDRtLdsNmmK"
      },
      "source": [
        "class Graphe_tab:\r\n",
        "    ''' graphe représenté par une matrice d'adjacence\r\n",
        "    les sommets sont les entiers de 0 à n-1, avec n = ordre du graphe'''\r\n",
        "    def __init__(self, n):\r\n",
        "        self.n = n \r\n",
        "        self.tab = [ [0 for j in range(n)] for i in range(n)]\r\n",
        "\r\n",
        "    def ajouter_arc(self,s1,s2):\r\n",
        "        self.tab[s1][s2] = 1\r\n",
        "\r\n",
        "    def ajouter_arete(self,s1,s2):\r\n",
        "        self.ajouter_arc(s1,s2)\r\n",
        "        self.ajouter_arc(s2,s1)\r\n",
        "\r\n",
        "    def arc(self,s1,s2):\r\n",
        "        return self.tab[s1][s2] == 1\r\n",
        "\r\n",
        "    def sommets(self):\r\n",
        "        return [i in range(self.n)]\r\n",
        "    \r\n",
        "    def voisins(self,s):\r\n",
        "        return [j for j in range(self.n) if self.arc(s,j)] \r\n",
        "        # soit:\r\n",
        "        #resu=[]\r\n",
        "        #for j in range(self.n):\r\n",
        "        #   if self.arc(s,j):\r\n",
        "        #       resu.append(j)\r\n",
        "        #return resu\r\n",
        "\r\n",
        "    def afficher(self):     #Ex2 1)\r\n",
        "        for i in range(self.n):\r\n",
        "            voisins=''\r\n",
        "            for j in self.voisins(i):\r\n",
        "                voisins=voisins+str(j)+' '\r\n",
        "            print(i , ' -> ' , voisins)"
      ],
      "execution_count": null,
      "outputs": []
    },
    {
      "cell_type": "markdown",
      "metadata": {
        "id": "n1FByMZCgpu2"
      },
      "source": [
        "###2) Implémentation avec un dictionnaire d'adjacence\r\n",
        "\r\n",
        "Classe `Graphe()`:\r\n",
        "* Le constrcteur ne requiert aucun argument\r\n",
        "* `Graphe.dico` est un dictionnaire qui associe à chaque sommet une liste contenant les voisins du sommet.\r\n",
        "* `Graphe.ajouter_sommet(s)` ajoute le sommet s au graphe (ajoute la clé s au dictionnaire).\r\n",
        "* `Graphe.ajouter_arc(s1,s2)` ajoute un arc du sommet `s1` vers le sommet `s2`.\r\n",
        "* `Graphe.ajouter_arete(s1,s2)` ajoute une arète entre le sommet `s1` et le sommet `s2`.\r\n",
        "* `Graphe.arc(s1,s2)` renvoie `True` si un arc lie `s1` et `s2`, `False` sinon.\r\n",
        "* `Graphe.voisins(s)` renvoie la liste des voisins du sommet `s`.\r\n",
        "* `Graphe.sommets()` retourne une liste contenant les sommets du graphe (liste des clés de `Graphe.dico`).\r\n",
        "* `Graphe.afficher()` affiche le graphe sous la forme d'une liste `sommet -> voisins du sommet` pour chaque sommet"
      ]
    },
    {
      "cell_type": "code",
      "metadata": {
        "id": "GkdriLO9kgJI"
      },
      "source": [
        "class Graphe_dic:\r\n",
        "    ''' graphe représenté par un dictionnaire d'adjacence'''\r\n",
        "    def __init__(self):\r\n",
        "        self.dico = {}\r\n",
        "    \r\n",
        "    def ajouter_sommet(self,s):\r\n",
        "        if s not in self.dico:\r\n",
        "            self.dico[s] = []\r\n",
        "    \r\n",
        "    def ajouter_arc(self,s1,s2):\r\n",
        "        self.ajouter_sommet(s1)\r\n",
        "        self.ajouter_sommet(s2)\r\n",
        "        self.dico[s1].append(s2)\r\n",
        "    \r\n",
        "    def arc(self,s1,s2):\r\n",
        "        return s2 in self.dico[s1]\r\n",
        "    \r\n",
        "    def sommets(self):\r\n",
        "        return list(self.dico)\r\n",
        "\r\n",
        "    def voisins(self,s):\r\n",
        "        return self.dico[s]\r\n",
        "\r\n",
        "    def ajouter_arete(self,s1,s2):\r\n",
        "        self.ajouter_arc(s1,s2)\r\n",
        "        self.ajouter_arc(s2,s1)\r\n",
        "\r\n",
        "    def afficher(self):     #Ex4 1)\r\n",
        "        for i in self.dico.items():\r\n",
        "            voisins=''\r\n",
        "            for j in i[1]:\r\n",
        "                voisins=voisins+j+' '\r\n",
        "            print(i[0],' -> ',voisins)"
      ],
      "execution_count": null,
      "outputs": []
    },
    {
      "cell_type": "markdown",
      "metadata": {
        "id": "oXurRgaDwxKj"
      },
      "source": [
        "## III. Parourir des Graphes"
      ]
    },
    {
      "cell_type": "markdown",
      "metadata": {
        "id": "YDDzxC4WxoyP"
      },
      "source": [
        "###1) Parcours en largeur\r\n",
        "Def: Parcours du graphe dans l'ordre de distance entre le sommet trouvé et le sommet de départ."
      ]
    },
    {
      "cell_type": "markdown",
      "metadata": {
        "id": "qKqOa23VyC6A"
      },
      "source": [
        "#### Avec deux listes"
      ]
    },
    {
      "cell_type": "code",
      "metadata": {
        "id": "8tUTstHBxmGo"
      },
      "source": [
        "def parcours_largeur(g,depart):\r\n",
        "    '''parcours en largeur d'un graphe g depuis un sommet depart\r\n",
        "    la fonction renvoie un dictionnaire avec\r\n",
        "    - comme clés : les sommets accessibles depuis le sommet depart\r\n",
        "    - comme valeurs : la distance au sommet depart'''\r\n",
        "    dist = {depart:0}\r\n",
        "    courant = [depart]  # liste des sommets à une distance 'n'\r\n",
        "    suivant = []        # liste des sommets à une distance 'n+1'\r\n",
        "    while len(courant)>0:\r\n",
        "        s = courant.pop()  #on retire un sommet à la distance n\r\n",
        "        # la liste 'courant' est utilisée comme une PILE\r\n",
        "        for v in g.voisins(s): \r\n",
        "            if v not in dist:\r\n",
        "                #  v (voisin de s) est inscrit dans le dictionnaire\r\n",
        "                dist[v] = dist[s] + 1 \r\n",
        "                # et on ajoute v dans 'suivant'\r\n",
        "                suivant.append(v)\r\n",
        "        # si on a épuisé tous les sommets de 'courant', \r\n",
        "        # on passe à la distance n+1\r\n",
        "        if len(courant)==0:\r\n",
        "            suivant.reverse()  # juste pour l'esthétique... on reverse la pile\r\n",
        "            courant = suivant\r\n",
        "            suivant = []\r\n",
        "    return dist\r\n",
        "\r\n",
        "print(parcours_largeur(graphex,'I'))"
      ],
      "execution_count": null,
      "outputs": []
    },
    {
      "cell_type": "markdown",
      "metadata": {
        "id": "yA0oaFaZyb2G"
      },
      "source": [
        "####Avec la classe `Queue`\r\n",
        "\r\n",
        "Rappel des méthode utilisées de `Queue` :\r\n",
        "* `Queue()` crée une file vide\r\n",
        "* `Queue.put(item)` : met `item` dans la file\r\n",
        "* `Queue.get()` : retire et renvoie un élément de la file.\r\n",
        "* `Queue.empty()` : renvoie `True` si la file est vide, `False` sinon."
      ]
    },
    {
      "cell_type": "code",
      "metadata": {
        "id": "clQ8kMDvyk0P"
      },
      "source": [
        "from queue import Queue\r\n",
        "\r\n",
        "def parcours_largeur(g,depart):\r\n",
        "    '''parcours en largeur d'un graphe g depuis un sommet depart\r\n",
        "    la fonction renvoie un dictionnaire avec\r\n",
        "    - comme clés : les sommets accessibles depuis depart\r\n",
        "    - comme valeurs : la distance au sommet depart'''\r\n",
        "    dist = {depart:0}\r\n",
        "    file = Queue() #file vide\r\n",
        "    file.put(depart)\r\n",
        "    while not file.empty():\r\n",
        "        s = file.get()  #on retire un sommet de la file\r\n",
        "        for v in g.voisins(s): \r\n",
        "            if v not in dist:\r\n",
        "                #  v (voisin de s) est inscrit dans le dictionnaire\r\n",
        "                dist[v] = dist[s] + 1 \r\n",
        "                # et on ajoute v dans la file\r\n",
        "                file.put(v)\r\n",
        "    return dist"
      ],
      "execution_count": null,
      "outputs": []
    },
    {
      "cell_type": "markdown",
      "metadata": {
        "id": "1Cb0GsxPzSnm"
      },
      "source": [
        "###2) Parcours en profondeur\r\n",
        "Def: Parcours du graphe en \"descendant\" au plus profond puis on \"élargit\" au fur et à mesure qu'on \"remonte\". "
      ]
    },
    {
      "cell_type": "markdown",
      "metadata": {
        "id": "FDPrzMUbz5j5"
      },
      "source": [
        "#### En récursif"
      ]
    },
    {
      "cell_type": "code",
      "metadata": {
        "id": "zqcs2X3cz3je"
      },
      "source": [
        "def parcours_profondeur_rec(g,s,visites=[]):\r\n",
        "    '''parcours en profondeur d'un graphe 'g' depuis un sommet 's'\r\n",
        "    la fonction renvoie une liste de sommets visités depuis 's' récursivement'''\r\n",
        "    if s not in visites:\r\n",
        "        visites.append(s)\r\n",
        "        for v in g.voisins(s):\r\n",
        "            visites = parcours_profondeur_rec(g,v,visites)\r\n",
        "    return visites"
      ],
      "execution_count": null,
      "outputs": []
    },
    {
      "cell_type": "markdown",
      "metadata": {
        "id": "nh9Y0Iku0Ish"
      },
      "source": [
        "#### Avec une pile"
      ]
    },
    {
      "cell_type": "code",
      "metadata": {
        "id": "WBMrukEZ0NLv"
      },
      "source": [
        "def parcours_profondeur_pile(g,depart):\r\n",
        "    '''parcours en profondeur d'un graphe 'g' depuis un sommet 'depart'\r\n",
        "    la fonction renvoie une liste des sommets parcourus'''\r\n",
        "    pile = [depart]\r\n",
        "    visites = []\r\n",
        "    while len(pile)>0:\r\n",
        "        s = pile.pop()  #on retire le sommet 's' en haut de la pile\r\n",
        "        if s not in visites:\r\n",
        "            visites.append(s)  #on \"visite\" le sommet 's'\r\n",
        "            for v in g.voisins(s): \r\n",
        "                pile.append(v)  # et on ajoute ses voisins (encore à visiter) dans la pile\r\n",
        "    return visites"
      ],
      "execution_count": null,
      "outputs": []
    },
    {
      "cell_type": "markdown",
      "metadata": {
        "id": "5fhbLsua0Ztu"
      },
      "source": [
        "###3) Efficacité\r\n",
        "\r\n",
        "On peut montrer que le coût d'un parcours en profondeur, ou d'un parcours en largeur est de l'ordre de (n+m), c'est à dire qu'il est **proportionnel à la taille du graphe** (dans le pire de cas). \r\n",
        "\r\n",
        "Remarque : Un parcours de graphe ne permet pas forcement d'atteindre tout les sommets (si un sommet est issolé). Si tous les sommets ne sont pas accessibles depuis le sommet de départ, le parcours est plus rapide."
      ]
    },
    {
      "cell_type": "markdown",
      "metadata": {
        "id": "aGukUD4h2ya2"
      },
      "source": [
        "##IV. Cycles dans un Graphe"
      ]
    },
    {
      "cell_type": "markdown",
      "metadata": {
        "id": "WxMGvzRyoEot"
      },
      "source": [
        "##1) Détection d'un cycle depuis un sommet "
      ]
    },
    {
      "cell_type": "code",
      "metadata": {
        "id": "CKJwxIojoZ6w"
      },
      "source": [
        "def cycle_depuis_sommet(g,depart):\r\n",
        "    '''parcours en profondeur d'un graphe 'g' depuis un sommet 'depart'\r\n",
        "    pour chercher un éventuel cycle \r\n",
        "    la fonction renvoie True s'il existe un cycle issu du sommet 'depart' \r\n",
        "    et False sinon '''\r\n",
        "    # initialisation avec le sommet 'depart'\r\n",
        "    visites = [depart]\r\n",
        "    pile = []  \r\n",
        "    for v in g.voisins(depart): \r\n",
        "        pile.append(v)  # on ajoute les voisins de 'depart' dans la pile\r\n",
        "    while len(pile)>0:\r\n",
        "        s = pile.pop()  #on retire le sommet 's' en haut de la pile\r\n",
        "        if s==depart:\r\n",
        "            return True\r\n",
        "        if s not in visites:\r\n",
        "            visites.append(s)  #on \"visite\" le sommet 's'\r\n",
        "            for v in g.voisins(s): \r\n",
        "                pile.append(v)  # et on ajoute ses voisins (encore à visiter) dans la pile\r\n",
        "    return False"
      ],
      "execution_count": null,
      "outputs": []
    },
    {
      "cell_type": "markdown",
      "metadata": {
        "id": "SfHBoEzhova5"
      },
      "source": [
        "###2) Présence d'un cycle dans un graphe\r\n",
        "=> On pourrait chercher un cycle à partir de chaque sommet MAIS très long si il n'y a pas de cycle.\r\n",
        "\r\n",
        "On vas donc regarder si on a deja visité le sommet, si on a deja visité tout ses voisins ou non."
      ]
    },
    {
      "cell_type": "code",
      "metadata": {
        "id": "PDOIcxmPo4yk"
      },
      "source": [
        "BLANC = 1\r\n",
        "GRIS = 2\r\n",
        "NOIR = 3\r\n",
        "\r\n",
        "def parcours_recherche_cycle(g, couleur, s):\r\n",
        "    ''' parcours en profondeur du graphe g à partir du sommet s\r\n",
        "    couleur est un dictionnaire dont les clés sont les sommets de g et les valeurs sont les couleurs\r\n",
        "    la fonction renvoie True s'il existe un cycle passant par s '''\r\n",
        "    if couleur[s]==NOIR:\r\n",
        "        return False \r\n",
        "    if couleur[s]==GRIS:\r\n",
        "        return True \r\n",
        "    #sinon, le sommet est BLANC : on le colore en GRIS, PUIS on explore ses voisins, PUIS on le colore en NOIR\r\n",
        "    couleur[s]=GRIS\r\n",
        "    for v in g.voisins(s):\r\n",
        "        if parcours_recherche_cycle(g,couleur,v):\r\n",
        "            return True \r\n",
        "    couleur[s]=NOIR \r\n",
        "    return False \r\n",
        "\r\n",
        "def existe_cycle(g):\r\n",
        "    couleur = {}\r\n",
        "    for s in g.sommets():\r\n",
        "        couleur[s]=BLANC\r\n",
        "    for s in g.sommets():\r\n",
        "        if parcours_recherche_cycle(g,couleur,s):\r\n",
        "            return True \r\n",
        "    return False"
      ],
      "execution_count": null,
      "outputs": []
    }
  ]
}