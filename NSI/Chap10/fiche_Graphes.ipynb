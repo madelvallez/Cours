{
  "nbformat": 4,
  "nbformat_minor": 0,
  "metadata": {
    "colab": {
      "name": "fiche-Graphes.ipynb",
      "provenance": [],
      "authorship_tag": "ABX9TyP4Z7Q65+VzJeAqqlxBembT",
      "include_colab_link": true
    },
    "kernelspec": {
      "name": "python3",
      "display_name": "Python 3"
    }
  },
  "cells": [
    {
      "cell_type": "markdown",
      "metadata": {
        "id": "view-in-github",
        "colab_type": "text"
      },
      "source": [
        "<a href=\"https://colab.research.google.com/github/madelvallez/Cours/blob/master/NSI/Chap10/fiche_Graphes.ipynb\" target=\"_parent\"><img src=\"https://colab.research.google.com/assets/colab-badge.svg\" alt=\"Open In Colab\"/></a>"
      ]
    },
    {
      "cell_type": "markdown",
      "metadata": {
        "id": "3VXPMMvHQan4"
      },
      "source": [
        "#Graphes"
      ]
    },
    {
      "cell_type": "markdown",
      "metadata": {
        "id": "EC5CDyJCQeke"
      },
      "source": [
        "##I. Théorie des graphes"
      ]
    },
    {
      "cell_type": "markdown",
      "metadata": {
        "id": "d0I0D4vkQ_Mz"
      },
      "source": [
        "###1) Définition\r\n",
        "\r\n",
        "Un graphes est une structure de données avec des points et des liens entre ces points.\r\n",
        "\r\n",
        "* On appele sommet les points.\r\n",
        "* On appele arc un lien d'un sommet A vers un sommet B.\r\n",
        "* On appele arete un arc \"à double sens\".\r\n",
        "* On appèle ordre le nombre de sommets du graphe.\r\n",
        "* On appele taille le nombre de sommets plaus le nombre d'arcs.\r\n",
        "\r\n",
        "Il existe plusieurs types de graphes:\r\n",
        "* Les graphes orientées\r\n",
        "* Les graphes non-orienté: cas paticulier où le graphe n'as que des aretes.\r\n",
        "* Les graphes pondérés: les acrs et arrètes ont une valeur associée nommée poids. \r\n"
      ]
    },
    {
      "cell_type": "markdown",
      "metadata": {
        "id": "a2zj7uTySxzb"
      },
      "source": [
        "###2) Successeur et prédecesseur\r\n",
        "\r\n",
        "On dit d'un arc qui relie un sommet A vers un sommet B que:\r\n",
        "* B est adjacent A\r\n",
        "* B est un successeur de A\r\n",
        "* A est un successeur de B\r\n",
        "* B est un voisins de A\r\n",
        "\r\n",
        "ATTENTION: Ce n'est pas parce que B est "
      ]
    },
    {
      "cell_type": "code",
      "metadata": {
        "id": "agDRtLdsNmmK"
      },
      "source": [
        ""
      ],
      "execution_count": null,
      "outputs": []
    }
  ]
}