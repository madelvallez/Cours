{
  "nbformat": 4,
  "nbformat_minor": 0,
  "metadata": {
    "colab": {
      "name": "Chap10_EXERCICES_Graphes_Représentation.ipynb",
      "provenance": [],
      "collapsed_sections": [
        "Eo0T1DL9dzf1"
      ],
      "include_colab_link": true
    },
    "kernelspec": {
      "name": "python3",
      "display_name": "Python 3"
    }
  },
  "cells": [
    {
      "cell_type": "markdown",
      "metadata": {
        "id": "view-in-github",
        "colab_type": "text"
      },
      "source": [
        "<a href=\"https://colab.research.google.com/github/madelvallez/Cours/blob/master/NSI/Chap10/Chap10_EXERCICES_Graphes_Repr%C3%A9sentation.ipynb\" target=\"_parent\"><img src=\"https://colab.research.google.com/assets/colab-badge.svg\" alt=\"Open In Colab\"/></a>"
      ]
    },
    {
      "cell_type": "markdown",
      "metadata": {
        "id": "HNE1yauCGZn2"
      },
      "source": [
        "## Exercice 1\n",
        "Utiliser la classe Graphe ci-dessous pour représenter le graphe orienté suivant, qu'on nommera \"`graphex1`\"\n",
        "\n",
        "![graphex](http://pauillac.inria.fr/~levy/courses/X/IF/poly/main003.gif)"
      ]
    },
    {
      "cell_type": "code",
      "metadata": {
        "id": "V8rWsLL53tSw"
      },
      "source": [
        "class Graphe:\n",
        "    ''' graphe représenté par une matrice d'adjacence\n",
        "    les sommets sont les entiers de 0 à n-1, avec n = ordre du graphe'''\n",
        "    def __init__(self, n):\n",
        "        self.n = n \n",
        "        self.tab = [ [0 for j in range(n)] for i in range(n)]\n",
        "\n",
        "    def ajouter_arc(self,s1,s2):\n",
        "        self.tab[s1][s2] = 1\n",
        "\n",
        "    def arc(self,s1,s2):\n",
        "        return self.tab[s1][s2] == 1\n",
        "    \n",
        "    def voisins(self,s):\n",
        "        return [j for j in range(self.n) if self.arc(s,j)] \n",
        "\n",
        "    def afficher(self):     #Ex2 1)\n",
        "        for i in range(self.n):\n",
        "            voisins=''\n",
        "            for j in self.voisins(i):\n",
        "                voisins=voisins+str(j)+' '\n",
        "            print(i , ' -> ' , voisins)\n",
        "\n"
      ],
      "execution_count": 46,
      "outputs": []
    },
    {
      "cell_type": "code",
      "metadata": {
        "id": "BCfWasp7w5xP"
      },
      "source": [
        "graphex1=Graphe(6)\r\n",
        "graphex1.ajouter_arc(0,1)\r\n",
        "graphex1.ajouter_arc(0,2)\r\n",
        "graphex1.ajouter_arc(1,2)\r\n",
        "graphex1.ajouter_arc(1,3)\r\n",
        "graphex1.ajouter_arc(1,5)\r\n",
        "graphex1.ajouter_arc(2,5)\r\n",
        "graphex1.ajouter_arc(5,3)\r\n",
        "graphex1.ajouter_arc(3,4)\r\n",
        "graphex1.ajouter_arc(4,1)\r\n"
      ],
      "execution_count": 47,
      "outputs": []
    },
    {
      "cell_type": "markdown",
      "metadata": {
        "id": "Fxkw96jTG_Ri"
      },
      "source": [
        "## Exercice 2\n",
        "\n",
        "1. Ajouter à la classe Graphe de l'exercice 1 une méthode `Graphe.afficher()` qui affiche, pour chaque sommet du graphe, ses voisins sous la forme suivante :\n",
        "\n",
        "    0 -> 1 2\n",
        "    \n",
        "    1 -> 2 3 5\n",
        "\n",
        "c'est à dire : une ligne par sommet, une flèche, et la liste des sommets voisins. \n",
        "2. Tester cette méthode sur le graphe `graphex1`"
      ]
    },
    {
      "cell_type": "code",
      "metadata": {
        "id": "lJecDrfSyN_r",
        "outputId": "ff0a96f5-715e-4da9-e643-c0e60296f918",
        "colab": {
          "base_uri": "https://localhost:8080/"
        }
      },
      "source": [
        "graphex1.afficher()"
      ],
      "execution_count": 48,
      "outputs": [
        {
          "output_type": "stream",
          "text": [
            "0  ->  1 2 \n",
            "1  ->  2 3 5 \n",
            "2  ->  5 \n",
            "3  ->  4 \n",
            "4  ->  1 \n",
            "5  ->  3 \n"
          ],
          "name": "stdout"
        }
      ]
    },
    {
      "cell_type": "markdown",
      "metadata": {
        "id": "pDM2lL0MFDOi"
      },
      "source": [
        "## Exercice 3\n",
        "\n",
        "1. Ecrire dans la classe ci-dessous, une méthode `Graphe.ajouter_arete(s1,s2)`  qui ajoute au graphe l'arête s1-s2 (c'est à dire les deux arc orientés s1-s2  et s2-s1)\n",
        "2. Utiliser cette méthode pour représenter le graphe non orienté suivant, qu'on nommera \"`graphex3`\"\n",
        "\n",
        "![graphex](https://pixees.fr/informatiquelycee/n_site/img/nsi_term_algo_graph_1.png)"
      ]
    },
    {
      "cell_type": "code",
      "metadata": {
        "id": "ZvNAmutJCmI0"
      },
      "source": [
        "class Graphe:\n",
        "    ''' graphe représenté par un dictionnaire d'adjacence'''\n",
        "    def __init__(self):\n",
        "        self.dico = {}\n",
        "    \n",
        "    def ajouter_sommet(self,s):\n",
        "        if s not in self.dico:\n",
        "            self.dico[s] = []\n",
        "    \n",
        "    def ajouter_arc(self,s1,s2):\n",
        "        self.ajouter_sommet(s1)\n",
        "        self.ajouter_sommet(s2)\n",
        "        self.dico[s1].append(s2)\n",
        "    \n",
        "    def arc(self,s1,s2):\n",
        "        return s2 in self.dico[s1]\n",
        "    \n",
        "    def sommets(self):\n",
        "        return list(self.dico)\n",
        "\n",
        "    def voisins(self,s):\n",
        "        return self.dico[s]\n",
        "\n",
        "    def ajouter_arete(self,s1,s2):\n",
        "        self.ajouter_arc(s1,s2)\n",
        "        self.ajouter_arc(s2,s1)\n",
        "\n",
        "    def afficher(self):     #Ex4 1)\n",
        "        for i in self.dico.items():\n",
        "            voisins=''\n",
        "            for j in i[1]:\n",
        "                voisins=voisins+j+' '\n",
        "            print(i[0],' -> ',voisins)"
      ],
      "execution_count": 49,
      "outputs": []
    },
    {
      "cell_type": "code",
      "metadata": {
        "id": "Be8qp2Hf1J49"
      },
      "source": [
        "graphex3=Graphe()\r\n",
        "graphex3.ajouter_arete('A','B')\r\n",
        "graphex3.ajouter_arete('A','F')\r\n",
        "graphex3.ajouter_arete('B','G')\r\n",
        "graphex3.ajouter_arete('B','D')\r\n",
        "graphex3.ajouter_arete('B','C')\r\n",
        "graphex3.ajouter_arete('F','G')\r\n",
        "graphex3.ajouter_arete('F','H')\r\n",
        "graphex3.ajouter_arete('H','I')\r\n",
        "graphex3.ajouter_arete('I','G')\r\n",
        "graphex3.ajouter_arete('I','D')\r\n",
        "graphex3.ajouter_arete('E','C')\r\n",
        "graphex3.ajouter_arete('I','E')"
      ],
      "execution_count": 50,
      "outputs": []
    },
    {
      "cell_type": "markdown",
      "metadata": {
        "id": "Xy1ewPTQHyuz"
      },
      "source": [
        "## Exercice 4\n",
        "\n",
        "1. Ajouter à la classe Graphe de l'exercice 3 une méthode `Graphe.afficher()` qui affiche, pour chaque sommet du graphe, ses voisins sous la forme suivante :\n",
        "\n",
        "    0 -> 1 2\n",
        "    \n",
        "    1 -> 2 3 5\n",
        "\n",
        "c'est à dire : une ligne par sommet, une flèche, et la liste des sommets voisins. \n",
        "2. Tester cette méthode sur le graphe `graphex3`"
      ]
    },
    {
      "cell_type": "code",
      "metadata": {
        "id": "TFpZj5Zf3JIE",
        "outputId": "d1db53e6-362b-41ff-8670-bc001d7b6247",
        "colab": {
          "base_uri": "https://localhost:8080/"
        }
      },
      "source": [
        "graphex3.afficher()"
      ],
      "execution_count": 51,
      "outputs": [
        {
          "output_type": "stream",
          "text": [
            "A  ->  B F \n",
            "B  ->  A G D C \n",
            "F  ->  A G H \n",
            "G  ->  B F I \n",
            "D  ->  B I \n",
            "C  ->  B E \n",
            "H  ->  F I \n",
            "I  ->  H G D E \n",
            "E  ->  C I \n"
          ],
          "name": "stdout"
        }
      ]
    }
  ]
}
