{
  "nbformat": 4,
  "nbformat_minor": 0,
  "metadata": {
    "colab": {
      "name": "PARCOURS_Graphes_Représentation.ipynb",
      "provenance": [],
      "authorship_tag": "ABX9TyMfbuY3Dc4iDIBadzqF/GAb",
      "include_colab_link": true
    },
    "kernelspec": {
      "name": "python3",
      "display_name": "Python 3"
    }
  },
  "cells": [
    {
      "cell_type": "markdown",
      "metadata": {
        "id": "view-in-github",
        "colab_type": "text"
      },
      "source": [
        "<a href=\"https://colab.research.google.com/github/madelvallez/Cours/blob/master/PARCOURS_Graphes_Repr%C3%A9sentation.ipynb\" target=\"_parent\"><img src=\"https://colab.research.google.com/assets/colab-badge.svg\" alt=\"Open In Colab\"/></a>"
      ]
    },
    {
      "cell_type": "markdown",
      "metadata": {
        "id": "OO5Tzlphhh1-"
      },
      "source": [
        "## class Graphe avec implémentation dictionnaires\r\n",
        "\r\n",
        "graphex3:\r\n",
        "\r\n",
        "![image.png](data:image/png;base64,iVBORw0KGgoAAAANSUhEUgAAAQsAAACwCAYAAAAYL0tQAAAgAElEQVR4Ae3dCRx9WzUH8GWeMpOZlHmoiFCoRMlYZioN0iBSSCqFpEKRSkIahIwNRIMMCRFRMlWSSkhJZSpD+Xzf2/v/9tudc+85dzzDXp/P/dx7z3zW2WftNfzWWhGN1sSBt4mIG0TET0bEn0fEqyLivyLihRHx5Ij4+oh43zUxpN1r40DjwKU58GYRcaOI+LuI+PeI+IWI+IaIuH5EfE5E3CwiHpDWEx7fFxHvculDtH+NA40DS+fA20bEoyPiPyLiuyPiHTfcMKHyxRHxgoj4m4j4yA3btlWNA40DC+LAW0XEb0bEiyPiiiPu6x0i4jER8a8R8TEj9mubNg40DsyUAw+JiH+MiA/ouf5bRcSvR8StO9a/eTJXaBjv1rG+LWocaBxYCAc+PSL+LyKu3nM/TI6/jYg3RsSLIoJwqOkyEfFXEfGgekX73zjQOLAcDvxeRDxqw+1cMwmKB6fva/Vs+/kR8d8Rcfme9W1x40DjwIw58GFJAHzUhnt4eET8c0S8XUT8U0Q8YsO2fxYRd9uwvq1qHGgcmCkHvjkinrfh2jkwXxsRP5S28S2k2hcpuUdEPHPD8dqqxoHGgZly4JER8bAN137TpHl8QtrGN9+F5V103Yh4XUTwczRqHGgcWBAHRDjuueF+fqtD84DotLyLPjYJk3fvWtmWNQ40DsyXA0+LiLv3XP7lUpTkLtV6/98QEVeolvubfSANCt7BnLaocWDOHPi5iBDl6KLvTFrCv6XcEPkhPv4zRayvSeTkfyPiLeoV7X/jQOPAvDlwr4h4esctZGzFsyPilh2fZyXsRe2bkGAGnNWocaBxYGEc+NSkCbxHdV+wFLSH21TL899bpPU0iZKekhLNymXtd+NA48DMOfApEfFL6aXPodF8S7AU/xMRl80Lqu93TVEPGIxMn5t8HNfOC9p340DjwHw5AKoNaSkKwknp+4ER8ZqIeO/itu4XEXcu/nf9vGNE2C7THycBA7jFn/FeeUX7bhxoHJgPBxSz+eqUvwEHoahNRm2+ZQJS/U5EyD7dhe4QEf8ZEZ+c/Bt/GRGvj4ifT8t2OWbbp3GgceCEHGBGmOVfkT736alw9f4p6/SxEQG1OYZkpDJZbljsRIP5zIj4laTB0DoIK4KpUeNA48CEOPAhCaJtthed+MaIePst16eAjW1FQPoyUMtDMFugP2kQNy9XVL9hL/hEFNV5WRJeLZW9YlL72zhwag6IblD9YR3ybD4G8yAq8lPJUfmkiPialEXKjBEmfZ+IAOlW/wLe4jkDBQs+vHMSWgrsKMnHFProUzOona9xYM0cyE7LZ6SXnOp/tT0ZcpWI+PGIeHmKlgijMjV883n8WqrVOUYQ5UuyDyfr7xZOVv9rzEbevn03DjQO7MkBmZ/MC8V1zfI/GhEfvucx69292B+UtAeYCqaKVPVDEaFEw1AH4/npfsb6TA51Le04jQOL4wBfAacl6HUOU849cSvfE0fsq5OPg5Bq1DjQOLADB65UzMJqUNAqVOReEuUQryI6Sv0xqURVGjUONA4M4ACnZQ5BsvPXYt+Xzlq5KHJUliYcBzz+tknjwGYOvHXCJTw32fMiHFfdvMti10qFhw/RboDZ1YcVWSwD2o01DnRx4J2SefHSopxdX3n+rv2XvIxDl3ahinhGoTLNGjUOrIoDH5yceupbKrd/p9YWsPf51+hQptmXNnRoL7/aioVwIIcOYRj+pEGiRz9VmoWQMaSqps2ErIzYRo0Di+BABlGVmZ+clo1254AcGIIim28ESOu/ujs/255n5kAOC5Y2d878PPOlLeb0HMNMkt9PoVcCeS3Ro8U8xDXfyNDMzzXz6Bj3Xpp4GZeyLZnuGNfRjtk4sJUDu2R+bj1o22A0ByS/Qby+skCHtgjTaDa2HY7BgRJMtEvm5zGuqR3zYkCXmhr6nsjKBXQbkorfeLcSDsAtfEVE/ExE/EFE/H1qmqNfxn0jwovN4bgvZaflITM/972mtn8/B0pUbBbou1YJ6z9LWzMLDsiM/LakdkL+/XREfGtE3DgivjYivisifjvNMIq9XGfHuzpF5ueOl9Z2G8CBbCrCt/xjMlfqSucDDtM2mSsHPjAVZfHwlXzbNGOwZxVygXNQzWlofYacJbmkzM+5Pu9DXHdGzgLEZXSoVoyNFswBeQSExG9GxJjSbZ+eHGCP2WKWrCHzc8HDY+utZXNSyFWhn4wOHTqJbD1B22AaHGASSLxSDq7UJnTdAtLJH+36vr2jpNtHpGSl7+m4ndLGXVPmZwcrVrPo4wp0qNqkDYK/oEfPYQnyW8N9qZb8FmYLHy+7AivqJfBrlJQb5Xx8RLTMz5Iz6/2t/wlBwTn+2iRADl2RbL3cPcOdi5srAgu9VxNhIfpREhtVLgb7lFAo6XER8eSI+OEkVL43It6v3KD9XiUHMjpUVK0szNNqh85sOOieBUbd9eC6hIXbExFhl/KIlwT5Z7lvpk2jxoGaAyU69E9T6vzY2qRXjIhbp3H4gyla92UdmnF97vZ/Tw7AN3T5Ghy2S1gQKpr4Mke6qi/ZR0fwRo0DmzigtIBiPP+SKqH7rWFTH/GlfUPqz2JCUqT4tyKCNktjYS4rXvyENFn1Hact35EDXnwmyGf37O/Ff0l6qB6mUClsxT9ExBf37POo1ECnZ3Vb3DhwKQ5cJmkXf1G0bdR4uqQrJ+FAsPCVXa5cmX7r2PYZEfGLydQxVmszuWO3tmgoB4RISem+uDhhoVQ+pJ4PQUGCg/1+Qc9J7h0RT+xZ1xY3DvRxQOj184rG0/rHGpfXS2MQOLB2wPcd69NSBzfH0KCp0QE4QO3r8j3kQ3eZIdLFH5qk9yfmDYvvu0WEh9SocWBXDui2Jlz/WREBISqEn31qgIMib10f7R4zGdt8ccySQ6Ql5OOu9psdyDvdlxTUJSwwi71JyDygg3OwGD/bsbwtahwYwwGTEozGowtBYf/bpLFn/NWf2vdGeNCEpSs0OgAHVEiS89FFfcKCdPegqIY12Ye5Ag7eqHFgVw7cIXWvF6ovKQsLhXmE5ctPva39RE044+feTKrkwdl+68v5+J6zdwkL8F3hKsJCs56S+EDkilAhc+n5rgdY7tN+Nw7UHGByAHJ9S72i0Cw+uWNd1yLaMw0FRKDRnhwQCQGw6vIwExYlglOoiiZCUMg8rePjHi4hwTNN4mehQai0HIE9H9SKdtfnhXncpZ1mzWKosMC2e6bw6opYeJxbJcXFqYU8a4LE1KQnf2zz3RHxhR0vP61CaEssvCS1MjmZ/rIHJVpu2343DuAAiDiUcBdlYWECum716dreMvlJhI8wbaM9OXC1BGi5yY7HoTUIl0pG64tt67v5nIh4akSImzdqHOjjwAMTXqJrfRYWtXPT/xwxqfd736QNt7yUmjM7/qcRAGh9ycj9CQeCQrm1bRW3hbCUZ2OP0lZat++RzF7J5qqzMWG7KAuL66fxYwzlT9f2lvFbECZ9Ub++/dryDRyg/nnpoTWH5HaIh8tEVQeDCXLHDccuV71DUjWbE7TkSvudOZDN3/y//M7CYozPQvYrYdH6oZScPMBvKLoXJ0clx5DEn9K0EN3gs/ipJFh+LTkzb5ucoWNKq1EPSycox2ijxoG7bnBI7iIsOEwJi4bmPPDYIiBk8Ilz/1FEvCF9aA9qEmD6f0TEL0UEP0QmLzoYOHtzLJH4KkZD3HWlyo89Xtt+3hxQfY2G2zXx7CIsoIphfxodkAO0CA8JHj+T8BVvMgECCGObvoYztBI4i22+i3zs+pvw8VA5QVVbarRODgjj61WiDmxNY4UFTVi4XxSv0YE4wPkohApeuw9JX+8DeQ05ruugXcB4cIJ24T+GHKdtM08O8JXRMBVd4givJ6ZbpgmJaTGEZKnShm8xZOO2zTAO8DkwM/atbKUwL+2kNFGGXcGltzJIOFyzE7TZm5fmzxL/CX2aINSqMA49e5XjdyWV5F8WEWq2KKvwLrseqO13CQd4i5Xmv/0li/b69bBkThwi24/dasAYOIA4zQm616OZ9M6iabJMRdnQNRP+h+kxlkwumjz7EBIviAhJjo325MBPJkCVePQhSJTDQ98V5NV1DSqIm3X+ujlBu9gz+2UEA38XHE5JN03L1XMto3LlNvVv4CvFdKCGjUXk+DRe/rdGO3IgQ2GhOA9JGuqyOWEqDknXjgi1G38jIlQSbzR/DjAXmAn377kVdS1ekbSDG20YU2rCOsbrU4pBbbrSeE02XeUge07dFmcOUOlBsBWzOTRJMlOS7+6HPnAqZsIJ+rdJ21Bfo9E8OUCbVSyJX2GT5qBK1venqln/mSaLRyThQOOkSXBk/tmGKm7yl5izJrJGIzmgKAjk5XuO3G/o5jdLD7cre3DoMTZtl52gZh1+jXom2bRvWzcNDiig5AUe6linFQjRK3TzyIjQCe9BKZ19SMhes2+aR/aLTIMLE78K/ULU1+wrfHOIy+fgVLvzGJpLeX2lE1QEZdMMVe7Xfp+XA15cfoprnPgyhPbBBA7hgD/xpZ/ndBCYzzwBw66V0oNP4V9oTtDzjKVdzupZCdV/8y4777mPSm/OvUuUZc9Tz293dQB4hk+FkgTl1nD5VKQkvHoI7OBDO25PdQ9LPg/glUiFnh99aeXHvv/bRcRrtvQqOfY1TP74CqE+b4Pn+Rg3IJSlAcznHOPgPcc0CJsTtIc5Z1zsuejtYQyes+QiE+T3UtTkjOyY9qm1HpQUdmo0m7RjMN5DYTmGcllUhh/jn5MT9NT3PfQ617Id+DVf2RQcjPqSmMT6Gmat5Zl03qc4tAI3X9m59rgLRVxUWT6Xnai6s4jJy5PwoGE1Oi0H+K84NCUlToVkWZs8hzYwmsp1H/06fjUV2j2XnShUa4Y/Z4iTSSQuTw1mppyLF0d/2BM7gfA54NX9JnZdJg3+k77KXBO73NNcDmkuvnzOakFCmsqya3F4btJPU94AJ2grt3bcp8H0fHri9xTD2upnKOjLMb564n0Gva47Np2DMWLrTKEppJ5nJ+gLk7Zx+XMwZAXn5K8CvMp5GlO8Zf1zaJurh4JT/ZTKO3Sexi4P3QuqbqeirFMhs52M1uYEPfwT+arkRDR7T5mYxibUVRfJ4XXm8e3ren6OB6jYKrVvahgITlDFijm8RFCaE3S/0SHaoATjoUof7Hc12/dW2Z4DdpWtKsziuogpqjs14mTkM5iig1FDXdenCEtzgu42cnLFq7k1yX5sRPxhRxOt3bgwo70kcsnQm2JWpmvSNnFsn5JTsp8GBLgjj6DVQRjOeROAdALp4OcEXg2/4ku25FfRsrPurHfJFgv8JW4MU3CXCd+blGNp5lNW9w182gUnKNj6FSbMz6lcmjEHeDUkC3Qq11xehxKTijdNcZItr/Ngvx+S1Ogpv4jQlNLLv+lgd328A5VOUDH5Y6X1H+8OTnNk4Ud2PwE7VwIFF+qdovl+cJ5+QkoUU1Vq6kTdo/Z19YiY4rUroNKcoN1PRtkDEaXv6149q6XAe8zkL5/VVY+8WFKRg+anR+53rs1V61LlaJ8qzue49g9NTtC/S3Ujp+ioPSVfAK+ExPl4Tp3/c6z7lEdF853LRDaaD2ZqqbdTBsDUNyWsK7wrCjE34gT1khDQnza3iz/g9TJ7hZznNO623T7T00T2E9s2nON6Jf2p9HL150a/HhHCVnOk2gkqYW9NdMMk7JcoLE0Gh+iDM7nxoFmxgqVz7K0BCAOoNQc/S9+DX6MT9IoJeLXkUOOPpGCBcgeLIFLdyyZBaq6kWrMy/3OvjVg7QZeabyCaJTFw35aXUx+vuV/qFBIg9+ZVtq1+bO8jnfcAKjyLb9/4vJdxsLN/UERo4CQvR/OcJTlB3YvK2goaQWsunXLT71OVojwaP1UfUtJ/CV7bexypOdHRmD/gwJ+U4vYKJE89oWrA7Vy0yd1S0dtzljwYeq2H2i4XuX6LQx3w1MfJJf2/5tQnPtL5LpOKpHz7kY5/zsN+flLbIUHn7ATlVwK8mjJU/xjPWec0PYHvcIyDn+KYOfFl7nZ+ySuCD1z4WM2JynOd+jcMwi1Td29I0Mue+gL2PJ8y+rAHgGlrpFslh+7sap989kJTagm+Z0XE3H0wm14muTslEnQOTlCpA0wpbR3mGHHb9DyGruOr0Wf3iUN3mMJ2wjiSm35gChdzhGuQYyC+rSbCkslMnZ2gNI4pa4iEtzqaS9T4xowx4EHV3hT2mQWp6AMxd87it8dmlALDpPga6KqpQfAfnaGd3xD+6l4OZdtS9S/mFgcvc2zyCYXyEki2RSe5RIQWdxxpzK21ECfoCyIConUKvTXw/UrJTv+6tTyEAfcJrvDnEQEbNGmSOmswrYGg55RqX5ONXDtBwfjPRXwrzN0p1Uw9Fy/q8wqJM5WvU6+Yyv/cMt6suwbKzYl4oddG2QlK3f3OiDg13Jj/hCkohWAKxZ6n+PwfGBEvmiJ/ckn/tVUgvnOq+jW3Em2HGtywNJygL0lh11M5QQko3cbXMjHt8ry8k57L5Gp4/OCESvrvwthd9xFWVDdiCn1Pdr2HQ+z3iRHxtIj444i45iEOuOEYn5n8RV+0YZu26mIOaPjNt3aVDobQyE4Oh/+Y5I3mAFsjCVNx6sq3WDsZAyqP81sZF4cmPGb6rF04j+GravDPTs2ztOlUBAiw8I3pI+dJzRP1SY9a2xMQxMnnWu9hDNP7ts08kIbf6OJqVCUSdKwTlP8DChHsvPSF0OJoLkLWs82BOMMAwUdAQhOaquYyVAl1JS4/PiIkosl7em5qI6oynKzdncjDBkAyU9QJYeDPmrUcVSLtdNWn3Un6vTR86jgSNZCp6mGombhGJ5xcGr6FIU5QY+u+KbqRZ7z8zcy7f0Ro48cGnzx+II2BKXzRxDiBVaof0meGECFQtEscXB1ODQoPR5HT/NDy98si4sHpxXhA6pA1Bcac+xpUApfIIxmLFM/8yt9Uwe9YIcqQE1SuiXR4GkepFcg/eXgStKpW4x/B+/5J2AoBfn3SJghjERBCuNF2DigjqO3hUyNC9GooEfK/HBGv3NZegvpnsHswdtAMCADHybTQo2F44E9O2+jqtKTahkMZWm8nnq1+wqtT3gjVjvqH8fijBBpkHbAMG9GMu5TisTUv+v5nJGh2gtImhPYUFbpG307FcjxkW5usqNCN+jkgVwav1GAF0kLGpDHYFbGyjXUZZEigPymZJp1aMW2CyqitoJJk28jDd0GkF3V7rfQtCQAjrl2baTVPPCgFdHTuHivx62PN9f8NUjhPnRPOt9Ivse2eDOqHJQfdkDG67XhLXa+Hq3e59Bcp7kvL7ZqkREWs01U+EwXhpRFx97wgf7O1qc4GfKkm5vV93ySYOLuq3WsqNpL5QVDg21h4e7YlCds5ZHXm+z3Et5lKZWpo33KsEaTCoYTBbyfH+S+kdn1lujyH8s8lO3xnR9whbmSix8Bf7oO6tsVYYeH2+CS928oxXkQcRrQDD6kmZol0ZQ+PusiuBPIoBYOH/LjkFKF2r4XE+0FqS0GBuezz/CF8qXef29EKkdTnsOvi+5J5eNc03soXXfGWZ6TZjanGjyGTVAhWT1ymW4kV8ELIU5kc4GgCD47AFRqtNbZdhAVhrtUod8RFxElJ0tftBG+eQilK+PNNfG8a2AZ4jTunxlBZOPDWQJgoL+RB1c0Kn74hDXID3QvAxqbiUQtvUm1/teT7YY+vgWQi8+vwe2WiFmvwTCh0Vbhi2hG62Z7O+xHS9ilV7bxuzd8mH2X2atpFWDjGhePxOr8+Ir6wOrJZk5NTMZELKkjaRuKU8ur1gyVcQHDLGaM67GL+8ju41zqMR1gQpDWZFRVnITRuWq1ktz+lWrbUv/KHTD6l3ay3B74w6TZRabLYjjlCI15jbs4mPhG8d+rYIAsL6+5YfZSKrH0W+RC3Ts77i156HumagDi29fn0sEoyANQBnE3hjfLiR/5+QkTodFVTn7CwHSFqcFPrShXx6knA1IKnPvYS/j+qI0tUJW4CdpdJRuav6F2jSzhA8++qQp+FBR9E16dPWOjKZ/uLSnAxQ0oCsLKjg48lfUyXjmTkkOTUhLuvaZOwsK0elXhbNiwyY3JIdT3g+vhz/6+ATq1B8D347ELMGQCiRpdwgDtAQaCasrAotbq8TVc0JK8TcuUDuageAPOhJCguA/q25cKBv2HPqdtLJgV+8KcLX7JNWJDS9gU0KgmEGeR26dQ1kAlKmmxN/F/8PvkjHFjThYFcr1jxf+8fM6OmXYUFMw+q8yKodj1DMiMM6F1mOhLNgFgy5Q5rXUVvtgkLvTnwVtJOSdTzh5YLFvo7NzUqbw8UGaCtJhoIf47wKZ6JMNXE18Zh2ugSDnSZetbuKiwumHpsEbNdSXn226VUmRCLh79kAkcW8ejCR2wTFllrqzUL0SYQ+qVTl/MN3kINzbfvuXlCuU9YXHC+9ey7xsVfmcyGugbuLsLiUk5kEr32JoMp9z2cbcw3Y8pCXTJdLvHHd03bhAWYN96WPgvH+J2Ex6iPt7T/F8JwxY2ZlPCkNofzJpuERdfx8n5r++aL0IoSDILDGL6npF2ExaXC07/YU9hTuqpEklo6lSfv+i2fpEtd7Np2rssMXpEiYcCaNgkLTiSeajZ6GQ2Bb+FAAoNeOrnHGjBEo+DgNN66cj68BF2Tl+cgslSHopfOw/r+jKtvTGNLLgjtVSgUvqeMMAHDQQzXIWjH8wysK53PgG+aS8NXXURAQgYvxpfEcUTVFiKsUZlUEw/o+uUOaTsgGfsunXTn7urQ3ScsJE15kAY9lGdJ0J2iKzWfy22W8jtDkWXolvRRqeKYGfHxabAbuCqwESTGYg1ffhMocnnAFfwGRsslAISPc3kEt47PXZD6oWzxjoPUK4h8QeBIFjFL1qaIg5JWHp6kJ9Bb0kphDKaLh1c7Rkku0qzLlh96kXPZ7nrJzmaylURY4E324AO18eEQEvhcIhfzfkwQIee1kHFFiwDxLskMyYsvpQAeRe+ZP4kIoX0l/0sybm1Tq9rlNkv9LRrnPYQI9q0ZVBcZm5L1OIj7/EFd+9F0we1pgG+SrMfPoJtTV8akGVEmmrRiUsbD44irs0xdcA3j7bqQJS3zkjO7SnDa7ZIHnxffR02Qe6UEqa4Hxibk3KuFzpL4VN+LzFF5RnxbOX263mbTf2q09GlFXbp4umnfOa/TRIkGQYjSKGpkdde9eX9NVmqpXKtrg2oZ573Qa28ZAPYzISA1vQuwUR3vTf7aXxzW/rU58yYbL2iBB0H67tpVXZ0QkPFd958rK81cbGH3Dl9CSxhKtA8vDM1kdg2Ah95ksZ0kTT4IOUbMMVrZWM0dMpgjWPoGU5g5JxdJESFYIQWGpG/Qgm2jD0sXhujCZdEMSCzq85iHR5WkdVC916gSctipnnzPSsO4wNieH2YJL4ts3lIz6dl8UYuhWJm2VNznpAI4XzaADzAV0JqjSr7NlHN8Dhmd6gVXEo/g2IcUruorXQj/wqQpM3s3nksokGqn5iFg1qZBTBW8RRIwpJ7wF/8GW35t5J7hVbz4Xd78kh8E8fen5D22JAFdm3Tl9kv7nRv35kgSp64SCBy8hEAuJosnV07Ocr1opK1LeFSL84LDbWnMSYmJTAxBBxoUs+AYxBpg+noeO5tyHp4y66IabB2d0D1YMyHkIiEiLRtK0wvC35HVIrUFJJKtyf7OD/IKKS2YGgd4hC9mQiqeknsEKx8Gs0Wp/BwmpWLyF3FaLZ1MPswO/oaa1OmUDcmPoXYFh7CPYtBCepznSzY7jB8zu/dHMSlFnmdDbBZYfH4Isx8zw4tgYEunvk2HQ5SaJNQqWjIWnzEbxmy50I9LDk0OJQ5fA/51SdUWKVGYpPYLfW2y4Zdel4HA9PIPeen5JtYwhqj9hEN2WnYFGbYMuemtNsCHOC+18RPfVTlrXxtrelwYf0VDVTyqp4zMpWItvARCfV0JTuO5Ou89stOSL0KEkdNy6DiZ9513XD0VyqzqBWg0nAOqQVHTdwknDj/LebbkYecPq7Wq81zNec4qCgSOrcKaLFu/u9CU57m6M571uilKwMvdaBgHDBzwewCtJWllxgIT9ljOumHcPd9WzCnaAz8fp6UqdI0qDnBKcegJ2TQaxgFeamCvC3j8YbtNdivqNVWb825tJLpYOi1B2hv1cID3W+q1sn2LcNz03OehF5uJOEjr/IlDn+cUxxMh4xRfg7My85OTm9MS1JqwaB3UMme2fJspgbY01BniIN1yuNWsNsDgXdi1cyUaJSh7nXA41/vZdt0Zjm1yFAZek4DcxpvB6zXUATKRQdhoOAeorZCOcBpzIz6X348IxXiXTJzRBLqSDvJd/G6T4p5PnNSFwBNrbzScA0Bdc0R5yjUAZ9dqYonUVUNiE+J5iTw46j0pJQegtJaGOodi5txQnu+TQud16cBD8eOcx5ELBRKg6A5E7jZ4/zmvdfbnVhfDTNmcPuMe5ZxQno9Nac5LwhBIelMBLteQAE9vdGQOAOU8LTk9OT8bDefAHFCeqn7JwhURWAJlp2WGY4/JyF7C/Z/9HuRAAKgILzUaxwFVo6A8oQGnRux4z3XuGJEMx5bAJulvlxoSU3s2s74eM4+kIg+i0XAOZJQn+PTUUJ4EmXCvWgxzJHk5xqN7kLfBV9SclhN5khoSqYFRd8eeyOVN9jKmiPJULNaznGOx5stWhW+bA36iQ1/lHki3NdbA2OeRTAnlCVegLOPcig4bcxCWnJaclwrBNJowB6jSOlLJxJPe3mg4B6aC8tTflsCfSz0OTkthz+y0fPfhLG9bnpsDPMyKkQq5NRtx3NPIKE+Znecg6FyVrepeKOe4lk3nzE5LlbgUC+abaNG4TRyb8LqPSECeu0/4Gqd6aedEeUq5liU7VSGfa0io3iZHqdWQmOooHnldalZykqlk3CLCJKEAAAdXSURBVGgcBzLK85R2twa8IPxTTL2W5SyZSyMiAu3q49jZtp4DB2gWamDoydFoHAdOifLkYNWIZmrV0D64qiHxkeNY2LaeEweos3osthoYuz21U6E8dVpTuj9Xdt/tag+3l9YBZQ2JjU1yDnfadqRzcwA4RvMZDY9auu/4p3FslKeWEMrkfcb4SzvoHiYWJeqYGdpWcFrOFRB2UMas7WC5Bsb91nbjB7jfY6I81W9Qvf0nDnCdux4i15DQeAi+o9WQ2JWTC9rPDKbS0s0XdE+nupWM8lTW7pDEpwTEdI4yiXA4tAf5JxmOfch7a8eaOQcMDq3trjrz+zjH5R8a5ZlbD97wxDejPgZfjGpr/BLN+X3iBzCn03GmKfraamCMf2qHQnnyD8h21Wn7VJiKK1VOy6VW3Rr/VNsevRxQAwPwR03HKaZm9174RFYcAuXJFNT/Vk/OY1OuIWGCoFEsuRHysXm5yuMrZ8ZWfeQq737/m94H5ZlbDwI5HYtMCMB4z0yRsFu2ieFYrF7HccXSzW5LrO14iie4K8pTQ+djtR7MNSReXDgtT2XmnILn7Rxn5MCNU4TkWme8hjmfugvlaVbn26B9EMgcirmwDj6D4F/twDctQ5WJIbICJ9Ec2AdmcDvcxRzQf0RKdG0/G+DwGQa2Qf7RC+5Kvs9Y+I7UsV3zHzUoNLF+Y/XRrwSWgun3oH1OVu37oUUNCbUkPK9GjQNH4wDQkRoYUJ4Qe1dOxUsM8Dzo4TP89g0JykHX0KAXPxIOT3kdNAbQ+q+ICC+xvqTqaMqn0N/liRHxhtQoiLaxD2WnpWdEo3i3fQ7W9m0cGMMBBUtESB6XoMdPTgP88oVjjKoLkgz+/KqIkKZ87TEnWeC2Shi+JgnbIUlWzAOFa2kYYyt25xoSz0j1SloNiQUOqDnckpnwr1PbOEjPbUS4UKeVqdcta410jaRpfc9IrIRw9aMi4l8Hlp7LNSQ8H0hLUY4l9RBZ49iZ7T3TGF4SEb+a1OZ8I7zofZ+8DQepGgy3ygtW8g3QBAHJT9BHoiV9xWppCRyRyh8yV7roPQukpW0P7RTtOmdb1jjQywGD9ulJNS7To+9W+Cuy36L8Lp2hIgIEBu//Wuhhyam5yW+jjojShn0EPg4odedqA6YfIcTUA8dW9axR48DZOSAvQb+Run1cFhZ3jQjCoP5w3JWk7wZE6BpIFWvOzG3+mm3CAq9uncwR+IirJOGg8O19Ush1Dfxs9zgDDjAxFPa9V8e1ZmHBlzGEVFSiXVxvyMYz3wbyUlr5NhoiLPgjCGvOYoVvv26DWbLtfG1948DROGAmE8rrSigaKyxc5GPOXJfhaIyqDqy37L2rZV1/hwgL+/EVSSpjEjZqHJgkB5gYz+q5sl2EBewFFXoqRLXXFkEuBj+Az8cmdV8IU1UoH4WNRRi+PCLkUPjcPhWo/bZkEjALhIw1z4FtgKXYRkOFhZoWBFCjxoHJcuDhEfGInqvLwgIIi3lRfqjLXcTzzwmqPgKgEs3Fh23vpdQR3EvpA6TkpZSXQq33YQ55KX8gvZRezEenBjYchcBgPn+QytADkb0wfUQmOARfWzhmvayWgUDn7eRkKGEvwSof7/HpHD9bnBeq1bXQIPL13S5FffgrhsDjhwoLvGAONmocmCwHoDb7OnRnYXGPhKOApcifm/bc0WelF1UYVkjQS+lDxfZiPiG9lLpXqalBGDywmLnvkl7MbypmeDM44QJKnTUBURdCSH2GrDHor0mLqB2vPZe682J+HsWDrjPgCEOFxW0jQkm7Ro0Dk+WA2fr+PVeXhcVQB6fDiBLQLLp8ID2nmeViXcFvMuDKhwqLe0bEUwccr23SOHA2Djw45TJ0XcAuwiJXqZZ1uWQCkHrIgBscKixoXkyvRo0Dk+UA1KUcBap1TbsIC+Ci59YHWuB/vhaJY9sg10OEhQQwfqEhPpAFsrLd0lw4oOaC0GlX7YMsLK4ZEZfr+HQ1wZUg1YXZmAs/hl6n6ApH6s227DBEWOAX5+smJOiW07TVjQOn4cCTUqZpfbYsLEqId/lbtmVJnJuiBGuBJksLp5VtSg0XRoZs7SP+IICsU1f37ruetrxxYCMHVHLSDeu61VYQmQRA30fWaSZahjDmQ/OCFXyr+7FPlzc9O6BAAbIaGGsFA2Ypt6hxjkpZohljib9DTUkRgnM0yhl7vYfcnkB9eUSo/TGmYvYHRsSzU3hZMlmjxoHZcICjDgaC2jwmc1RqNcwE+31sIZfZMGfLhRIYMBKE5Vf1OIvzIUSJYFVemfqFbDJh8j7tu3FgchwwkAGlXhcR900Ap00XeYPU9VsD3bV3tAIEUwBHpXRCA3blRhHBOQxIBsSGt7QQGhwo+dLDy5vGTlu3EA58UUQ8P6EUfzkNbMtkk8r9UGfhRUmoaLIMNdnoYg6oq0lzgFbNNTnB5JXlBynHvzHmSuNr48DkOWDW+7zksISbkFsB4izE95T0QrTWh9sf4zYcxvYjtC0Wy4H/B0A5xUX0eH/uAAAAAElFTkSuQmCC)"
      ]
    },
    {
      "cell_type": "code",
      "metadata": {
        "id": "ZvNAmutJCmI0"
      },
      "source": [
        "class GrapheDico:\n",
        "    ''' graphe représenté par un dictionnaire d'adjacence'''\n",
        "    def __init__(self):\n",
        "        self.dico = {}\n",
        "    \n",
        "    def ajouter_sommet(self,s):\n",
        "        if s not in self.dico:\n",
        "            self.dico[s] = []\n",
        "    \n",
        "    def ajouter_arc(self,s1,s2):\n",
        "        self.ajouter_sommet(s1)\n",
        "        self.ajouter_sommet(s2)\n",
        "        self.dico[s1].append(s2)\n",
        "    \n",
        "    def arc(self,s1,s2):\n",
        "        return s2 in self.dico[s1]\n",
        "    \n",
        "    def sommets(self):\n",
        "        return list(self.dico)\n",
        "\n",
        "    def voisins(self,s):\n",
        "        return self.dico[s]\n",
        "\n",
        "    def ajouter_arete(self,s1,s2):\n",
        "        self.ajouter_arc(s1,s2)\n",
        "        self.ajouter_arc(s2,s1)\n",
        "\n",
        "    def afficher(self):     #Ex4 1)\n",
        "        for i in self.dico.items():\n",
        "            voisins=''\n",
        "            for j in i[1]:\n",
        "                voisins=voisins+j+' '\n",
        "            print(i[0],' -> ',voisins)\n",
        "\n",
        "graphex3=GrapheDico()\n",
        "graphex3.ajouter_arete('A','B')\n",
        "graphex3.ajouter_arete('A','F')\n",
        "graphex3.ajouter_arete('B','G')\n",
        "graphex3.ajouter_arete('B','D')\n",
        "graphex3.ajouter_arete('B','C')\n",
        "graphex3.ajouter_arete('F','G')\n",
        "graphex3.ajouter_arete('F','H')\n",
        "graphex3.ajouter_arete('H','I')\n",
        "graphex3.ajouter_arete('I','G')\n",
        "graphex3.ajouter_arete('I','D')\n",
        "graphex3.ajouter_arete('E','C')\n",
        "graphex3.ajouter_arete('I','E')"
      ],
      "execution_count": 2,
      "outputs": []
    },
    {
      "cell_type": "code",
      "metadata": {
        "colab": {
          "base_uri": "https://localhost:8080/",
          "height": 459
        },
        "id": "0EYUfQR4itT_",
        "outputId": "3b3e7e0f-b5a4-45d5-f951-1f9e91dceed2"
      },
      "source": [
        "def voisins_niv(self,s,n,vois=[]):\r\n",
        "    if n==0:\r\n",
        "        return self.voisins(s)\r\n",
        "    for i in self.voisins(s):\r\n",
        "        return simplifier(voisins_niv(self,i,n-1) + self.voisins(i))\r\n",
        "\r\n",
        "def simplifier(l):\r\n",
        "    resu=list()\r\n",
        "    for i in l:\r\n",
        "        if i not in resu:\r\n",
        "            resu.append(i)\r\n",
        "    \r\n",
        "voisins_niv(graphex3,'A',3)\r\n",
        "#step 341 python tutor\r\n",
        "#http://pythontutor.com/visualize.html#code=class%20GrapheDico%3A%0A%20%20%20%20'''%20graphe%20repr%C3%A9sent%C3%A9%20par%20un%20dictionnaire%20d'adjacence'''%0A%20%20%20%20def%20__init__%28self%29%3A%0A%20%20%20%20%20%20%20%20self.dico%20%3D%20%7B%7D%0A%20%20%20%20%0A%20%20%20%20def%20ajouter_sommet%28self,s%29%3A%0A%20%20%20%20%20%20%20%20if%20s%20not%20in%20self.dico%3A%0A%20%20%20%20%20%20%20%20%20%20%20%20self.dico%5Bs%5D%20%3D%20%5B%5D%0A%20%20%20%20%0A%20%20%20%20def%20ajouter_arc%28self,s1,s2%29%3A%0A%20%20%20%20%20%20%20%20self.ajouter_sommet%28s1%29%0A%20%20%20%20%20%20%20%20self.ajouter_sommet%28s2%29%0A%20%20%20%20%20%20%20%20self.dico%5Bs1%5D.append%28s2%29%0A%20%20%20%20%0A%20%20%20%20def%20arc%28self,s1,s2%29%3A%0A%20%20%20%20%20%20%20%20return%20s2%20in%20self.dico%5Bs1%5D%0A%20%20%20%20%0A%20%20%20%20def%20sommets%28self%29%3A%0A%20%20%20%20%20%20%20%20return%20list%28self.dico%29%0A%0A%20%20%20%20def%20voisins%28self,s%29%3A%0A%20%20%20%20%20%20%20%20return%20self.dico%5Bs%5D%0A%0A%20%20%20%20def%20ajouter_arete%28self,s1,s2%29%3A%0A%20%20%20%20%20%20%20%20self.ajouter_arc%28s1,s2%29%0A%20%20%20%20%20%20%20%20self.ajouter_arc%28s2,s1%29%0A%0A%20%20%20%20def%20afficher%28self%29%3A%20%20%20%20%20%23Ex4%201%29%0A%20%20%20%20%20%20%20%20for%20i%20in%20self.dico.items%28%29%3A%0A%20%20%20%20%20%20%20%20%20%20%20%20voisins%3D''%0A%20%20%20%20%20%20%20%20%20%20%20%20for%20j%20in%20i%5B1%5D%3A%0A%20%20%20%20%20%20%20%20%20%20%20%20%20%20%20%20voisins%3Dvoisins%2Bj%2B'%20'%0A%20%20%20%20%20%20%20%20%20%20%20%20print%28i%5B0%5D,'%20-%3E%20',voisins%29%0A%0Agraphex3%3DGrapheDico%28%29%0Agraphex3.ajouter_arete%28'A','B'%29%0Agraphex3.ajouter_arete%28'A','F'%29%0Agraphex3.ajouter_arete%28'B','G'%29%0Agraphex3.ajouter_arete%28'B','D'%29%0Agraphex3.ajouter_arete%28'B','C'%29%0Agraphex3.ajouter_arete%28'F','G'%29%0Agraphex3.ajouter_arete%28'F','H'%29%0Agraphex3.ajouter_arete%28'H','I'%29%0Agraphex3.ajouter_arete%28'I','G'%29%0Agraphex3.ajouter_arete%28'I','D'%29%0Agraphex3.ajouter_arete%28'E','C'%29%0Agraphex3.ajouter_arete%28'I','E'%29%0A%0Adef%20voisins_niv%28self,s,n,vois%3D%5B%5D%29%3A%0A%20%20%20%20if%20n%3D%3D0%3A%0A%20%20%20%20%20%20%20%20return%20self.voisins%28s%29%0A%20%20%20%20for%20i%20in%20self.voisins%28s%29%3A%0A%20%20%20%20%20%20%20%20return%20simplifier%28voisins_niv%28self,i,n-1%29%20%2B%20self.voisins%28i%29%29%0A%0Adef%20simplifier%28l%29%3A%0A%20%20%20%20resu%3Dlist%28%29%0A%20%20%20%20for%20i%20in%20l%3A%0A%20%20%20%20%20%20%20%20if%20i%20not%20in%20resu%3A%0A%20%20%20%20%20%20%20%20%20%20%20%20resu.append%28i%29%0A%20%20%20%20%0Avoisins_niv%28graphex3,'A',3%29&cumulative=false&curInstr=340&heapPrimitives=nevernest&mode=display&origin=opt-frontend.js&py=3&rawInputLstJSON=%5B%5D&textReferences=false"
      ],
      "execution_count": 11,
      "outputs": [
        {
          "output_type": "error",
          "ename": "TypeError",
          "evalue": "ignored",
          "traceback": [
            "\u001b[0;31m---------------------------------------------------------------------------\u001b[0m",
            "\u001b[0;31mTypeError\u001b[0m                                 Traceback (most recent call last)",
            "\u001b[0;32m<ipython-input-11-61a762cfbee2>\u001b[0m in \u001b[0;36m<module>\u001b[0;34m()\u001b[0m\n\u001b[1;32m     11\u001b[0m             \u001b[0mresu\u001b[0m\u001b[0;34m.\u001b[0m\u001b[0mappend\u001b[0m\u001b[0;34m(\u001b[0m\u001b[0mi\u001b[0m\u001b[0;34m)\u001b[0m\u001b[0;34m\u001b[0m\u001b[0;34m\u001b[0m\u001b[0m\n\u001b[1;32m     12\u001b[0m \u001b[0;34m\u001b[0m\u001b[0m\n\u001b[0;32m---> 13\u001b[0;31m \u001b[0mvoisins_niv\u001b[0m\u001b[0;34m(\u001b[0m\u001b[0mgraphex3\u001b[0m\u001b[0;34m,\u001b[0m\u001b[0;34m'A'\u001b[0m\u001b[0;34m,\u001b[0m\u001b[0;36m3\u001b[0m\u001b[0;34m)\u001b[0m\u001b[0;34m\u001b[0m\u001b[0;34m\u001b[0m\u001b[0m\n\u001b[0m",
            "\u001b[0;32m<ipython-input-11-61a762cfbee2>\u001b[0m in \u001b[0;36mvoisins_niv\u001b[0;34m(self, s, n, vois)\u001b[0m\n\u001b[1;32m      3\u001b[0m         \u001b[0;32mreturn\u001b[0m \u001b[0mself\u001b[0m\u001b[0;34m.\u001b[0m\u001b[0mvoisins\u001b[0m\u001b[0;34m(\u001b[0m\u001b[0ms\u001b[0m\u001b[0;34m)\u001b[0m\u001b[0;34m\u001b[0m\u001b[0;34m\u001b[0m\u001b[0m\n\u001b[1;32m      4\u001b[0m     \u001b[0;32mfor\u001b[0m \u001b[0mi\u001b[0m \u001b[0;32min\u001b[0m \u001b[0mself\u001b[0m\u001b[0;34m.\u001b[0m\u001b[0mvoisins\u001b[0m\u001b[0;34m(\u001b[0m\u001b[0ms\u001b[0m\u001b[0;34m)\u001b[0m\u001b[0;34m:\u001b[0m\u001b[0;34m\u001b[0m\u001b[0;34m\u001b[0m\u001b[0m\n\u001b[0;32m----> 5\u001b[0;31m         \u001b[0;32mreturn\u001b[0m \u001b[0msimplifier\u001b[0m\u001b[0;34m(\u001b[0m\u001b[0mvoisins_niv\u001b[0m\u001b[0;34m(\u001b[0m\u001b[0mself\u001b[0m\u001b[0;34m,\u001b[0m\u001b[0mi\u001b[0m\u001b[0;34m,\u001b[0m\u001b[0mn\u001b[0m\u001b[0;34m-\u001b[0m\u001b[0;36m1\u001b[0m\u001b[0;34m)\u001b[0m \u001b[0;34m+\u001b[0m \u001b[0mself\u001b[0m\u001b[0;34m.\u001b[0m\u001b[0mvoisins\u001b[0m\u001b[0;34m(\u001b[0m\u001b[0mi\u001b[0m\u001b[0;34m)\u001b[0m\u001b[0;34m)\u001b[0m\u001b[0;34m\u001b[0m\u001b[0;34m\u001b[0m\u001b[0m\n\u001b[0m\u001b[1;32m      6\u001b[0m \u001b[0;34m\u001b[0m\u001b[0m\n\u001b[1;32m      7\u001b[0m \u001b[0;32mdef\u001b[0m \u001b[0msimplifier\u001b[0m\u001b[0;34m(\u001b[0m\u001b[0ml\u001b[0m\u001b[0;34m)\u001b[0m\u001b[0;34m:\u001b[0m\u001b[0;34m\u001b[0m\u001b[0;34m\u001b[0m\u001b[0m\n",
            "\u001b[0;32m<ipython-input-11-61a762cfbee2>\u001b[0m in \u001b[0;36mvoisins_niv\u001b[0;34m(self, s, n, vois)\u001b[0m\n\u001b[1;32m      3\u001b[0m         \u001b[0;32mreturn\u001b[0m \u001b[0mself\u001b[0m\u001b[0;34m.\u001b[0m\u001b[0mvoisins\u001b[0m\u001b[0;34m(\u001b[0m\u001b[0ms\u001b[0m\u001b[0;34m)\u001b[0m\u001b[0;34m\u001b[0m\u001b[0;34m\u001b[0m\u001b[0m\n\u001b[1;32m      4\u001b[0m     \u001b[0;32mfor\u001b[0m \u001b[0mi\u001b[0m \u001b[0;32min\u001b[0m \u001b[0mself\u001b[0m\u001b[0;34m.\u001b[0m\u001b[0mvoisins\u001b[0m\u001b[0;34m(\u001b[0m\u001b[0ms\u001b[0m\u001b[0;34m)\u001b[0m\u001b[0;34m:\u001b[0m\u001b[0;34m\u001b[0m\u001b[0;34m\u001b[0m\u001b[0m\n\u001b[0;32m----> 5\u001b[0;31m         \u001b[0;32mreturn\u001b[0m \u001b[0msimplifier\u001b[0m\u001b[0;34m(\u001b[0m\u001b[0mvoisins_niv\u001b[0m\u001b[0;34m(\u001b[0m\u001b[0mself\u001b[0m\u001b[0;34m,\u001b[0m\u001b[0mi\u001b[0m\u001b[0;34m,\u001b[0m\u001b[0mn\u001b[0m\u001b[0;34m-\u001b[0m\u001b[0;36m1\u001b[0m\u001b[0;34m)\u001b[0m \u001b[0;34m+\u001b[0m \u001b[0mself\u001b[0m\u001b[0;34m.\u001b[0m\u001b[0mvoisins\u001b[0m\u001b[0;34m(\u001b[0m\u001b[0mi\u001b[0m\u001b[0;34m)\u001b[0m\u001b[0;34m)\u001b[0m\u001b[0;34m\u001b[0m\u001b[0;34m\u001b[0m\u001b[0m\n\u001b[0m\u001b[1;32m      6\u001b[0m \u001b[0;34m\u001b[0m\u001b[0m\n\u001b[1;32m      7\u001b[0m \u001b[0;32mdef\u001b[0m \u001b[0msimplifier\u001b[0m\u001b[0;34m(\u001b[0m\u001b[0ml\u001b[0m\u001b[0;34m)\u001b[0m\u001b[0;34m:\u001b[0m\u001b[0;34m\u001b[0m\u001b[0;34m\u001b[0m\u001b[0m\n",
            "\u001b[0;31mTypeError\u001b[0m: unsupported operand type(s) for +: 'NoneType' and 'list'"
          ]
        }
      ]
    },
    {
      "cell_type": "markdown",
      "metadata": {
        "id": "ITawZQtlh5zX"
      },
      "source": [
        "## class Graphe avec implémentation matrice\r\n",
        "\r\n",
        "graphex1:\r\n",
        "\r\n",
        "![image.png](data:image/png;base64,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)"
      ]
    },
    {
      "cell_type": "code",
      "metadata": {
        "id": "V8rWsLL53tSw"
      },
      "source": [
        "class GrapheTab:\n",
        "    ''' graphe représenté par une matrice d'adjacence\n",
        "    les sommets sont les entiers de 0 à n-1, avec n = ordre du graphe'''\n",
        "    def __init__(self, n):\n",
        "        self.n = n \n",
        "        self.tab = [ [0 for j in range(n)] for i in range(n)]\n",
        "\n",
        "    def ajouter_arc(self,s1,s2):\n",
        "        self.tab[s1][s2] = 1\n",
        "\n",
        "    def arc(self,s1,s2):\n",
        "        return self.tab[s1][s2] == 1\n",
        "    \n",
        "    def voisins(self,s):\n",
        "        return [j for j in range(self.n) if self.arc(s,j)] \n",
        "\n",
        "    def afficher(self):     #Ex2 1)\n",
        "        for i in range(self.n):\n",
        "            voisins=''\n",
        "            for j in self.voisins(i):\n",
        "                voisins=voisins+str(j)+' '\n",
        "            print(i , ' -> ' , voisins)\n",
        "\n",
        "graphex1=GrapheTab(6)\n",
        "graphex1.ajouter_arc(0,1)\n",
        "graphex1.ajouter_arc(0,2)\n",
        "graphex1.ajouter_arc(1,2)\n",
        "graphex1.ajouter_arc(1,3)\n",
        "graphex1.ajouter_arc(1,5)\n",
        "graphex1.ajouter_arc(2,5)\n",
        "graphex1.ajouter_arc(5,3)\n",
        "graphex1.ajouter_arc(3,4)\n",
        "graphex1.ajouter_arc(4,1)"
      ],
      "execution_count": null,
      "outputs": []
    }
  ]
}