{
  "nbformat": 4,
  "nbformat_minor": 0,
  "metadata": {
    "colab": {
      "name": "Untitled0.ipynb",
      "provenance": [],
      "authorship_tag": "ABX9TyO/SDpJh60VyoAq7F314aFF",
      "include_colab_link": true
    },
    "kernelspec": {
      "name": "python3",
      "display_name": "Python 3"
    }
  },
  "cells": [
    {
      "cell_type": "markdown",
      "metadata": {
        "id": "view-in-github",
        "colab_type": "text"
      },
      "source": [
        "<a href=\"https://colab.research.google.com/github/madelvallez/Cours/blob/master/Fiche_Recursivite(2).ipynb\" target=\"_parent\"><img src=\"https://colab.research.google.com/assets/colab-badge.svg\" alt=\"Open In Colab\"/></a>"
      ]
    },
    {
      "cell_type": "markdown",
      "metadata": {
        "id": "X_RYoWfa6Jdo",
        "colab_type": "text"
      },
      "source": [
        "# Recursivité\n",
        "\n",
        "##I. Définition\n",
        "\n",
        "###1) Definition par récurence\n",
        "\n",
        "**Fonction récursive**: fonction qui fait appel à ***elle-même***\n",
        "\n",
        "La récursivité informatique est particulièrement adapté aux définiitions mathématiques par récurence.\n",
        "\n",
        "####Exemple:\n",
        "$$somme(n) = \\left\\lbrace \\matrix{ 0 & \\textrm{si } n=0 \\\\n + somme(n-1) & \\textrm{si } n>0 } \\right. $$\n",
        "\n",
        "####Arbre d'appel de somme(5):\n",
        "\n",
        "    somme(5) = 5 + somme(4)\n",
        "\n",
        "            = 5 + 4 + somme(3)\n",
        "\n",
        "            = 5 + 4 + 3 + somme(2)\n",
        "\n",
        "            = 5 + 4 + 3 + 2 + somme(1)\n",
        "\n",
        "            = 5 + 4 + 3 + 2 + 1 + somme(0)\n",
        "\n",
        "            = 5 + 4 + 3 + 2 + 1 + 0 = 15\n",
        "\n",
        "\n",
        "Une définition récursive comporte toujours:\n",
        "\n",
        "\n",
        "*   Un (ou plusieurs) cas de base\n",
        "*   Un (ou plusieurs) appel récursif (définition par recurence)\n",
        "\n",
        "\n",
        "\n",
        "###2) Traduction python\n",
        "\n"
      ]
    },
    {
      "cell_type": "code",
      "metadata": {
        "id": "i0_eULGG6H5C",
        "colab_type": "code",
        "colab": {}
      },
      "source": [
        "def somme(n) : \n",
        "    if n == 0 :\n",
        "        return 0\n",
        "    # else\n",
        "    return n + somme(n-1)"
      ],
      "execution_count": null,
      "outputs": []
    },
    {
      "cell_type": "markdown",
      "metadata": {
        "id": "9rPUlVv8VUfu",
        "colab_type": "text"
      },
      "source": [
        "##II. Recursivité mutuelle\n",
        "\n",
        "Dans certains cas, deux fonction recursives peuvent \"s'appeler entre elles\".\n",
        "####Exemple:\n",
        "\n",
        "$$ a_n =  \\left\\lbrace \\matrix{\n",
        "     1&\\textrm{si } n=0 \n",
        "     \\\\ 2 a_{n-1} + 3 b_{n-1}& \\textrm{si } n>0 \n",
        "     } \\right. $$\n",
        "\n",
        "$$ b_n =  \\left\\lbrace \\matrix{\n",
        "     2 &\\textrm{si } n=0 \n",
        "     \\\\  a_{n-1} - b_{n-1}& \\textrm{si } n>0 \n",
        "     } \\right. $$\n",
        "\n",
        "On a donc:\n",
        "\n",
        "$b_2$ = $a_1$ - $b_1$\n",
        "\n",
        "= $2a_0$ + $3b_0$ - ($a_0$ - $b_0$)\n",
        "\n",
        "= 2$\\times$1 + 3$\\times$2 - (1 - 2) = 9\n",
        "\n",
        "La traduction en python se fait très bien malgré la complexification de l'arbre d'appel à l'execution:"
      ]
    },
    {
      "cell_type": "code",
      "metadata": {
        "id": "j-2HuE9YbQHb",
        "colab_type": "code",
        "colab": {}
      },
      "source": [
        "def a(n):\n",
        "    if n==0:\n",
        "        return 1\n",
        "    return 2*a(n-1)+3*b(n-1)\n",
        "\n",
        "def b(n):\n",
        "    if n==0:\n",
        "        return 2\n",
        "    return a(n-1)- b(n-1)"
      ],
      "execution_count": 1,
      "outputs": []
    }
  ]
}