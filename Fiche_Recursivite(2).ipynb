{
  "nbformat": 4,
  "nbformat_minor": 0,
  "metadata": {
    "colab": {
      "name": "Untitled0.ipynb",
      "provenance": [],
      "authorship_tag": "ABX9TyOOlUtGLbbaeRp9quv6HUwP",
      "include_colab_link": true
    },
    "kernelspec": {
      "name": "python3",
      "display_name": "Python 3"
    }
  },
  "cells": [
    {
      "cell_type": "markdown",
      "metadata": {
        "id": "view-in-github",
        "colab_type": "text"
      },
      "source": [
        "<a href=\"https://colab.research.google.com/github/madelvallez/Cours/blob/master/Fiche_Recursivite(2).ipynb\" target=\"_parent\"><img src=\"https://colab.research.google.com/assets/colab-badge.svg\" alt=\"Open In Colab\"/></a>"
      ]
    },
    {
      "cell_type": "markdown",
      "metadata": {
        "id": "X_RYoWfa6Jdo",
        "colab_type": "text"
      },
      "source": [
        "# Recursivité\n",
        "\n",
        "##I. Définition\n",
        "\n",
        "###1) Definition par récurence\n",
        "\n",
        "**Fonction récursive**: fonction qui fait appel à ***elle-même***\n",
        "\n",
        "La récursivité informatique est particulièrement adapté aux définiitions mathématiques par récurence.\n",
        "\n",
        "####Exemple:\n",
        "$$somme(n) = \\left\\lbrace \\matrix{ 0 & \\textrm{si } n=0 \\\\n + somme(n-1) & \\textrm{si } n>0 } \\right. $$\n",
        "\n",
        "Une définition récursive comporte toujours:\n",
        "\n",
        "\n",
        "*   Un (ou plusieurs) cas de base\n",
        "*   Un (ou plusieurs) appel récursif (définition par recurence)\n",
        "\n",
        "###\n"
      ]
    },
    {
      "cell_type": "code",
      "metadata": {
        "id": "i0_eULGG6H5C",
        "colab_type": "code",
        "colab": {}
      },
      "source": [
        ""
      ],
      "execution_count": null,
      "outputs": []
    }
  ]
}