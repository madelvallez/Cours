{
  "nbformat": 4,
  "nbformat_minor": 0,
  "metadata": {
    "colab": {
      "name": "Untitled1.ipynb",
      "provenance": [],
      "collapsed_sections": [],
      "authorship_tag": "ABX9TyPmFg9InVuQALRsvTv+SRST",
      "include_colab_link": true
    },
    "kernelspec": {
      "name": "python3",
      "display_name": "Python 3"
    }
  },
  "cells": [
    {
      "cell_type": "markdown",
      "metadata": {
        "id": "view-in-github",
        "colab_type": "text"
      },
      "source": [
        "<a href=\"https://colab.research.google.com/github/madelvallez/Cours/blob/master/ExoLouAnn.ipynb\" target=\"_parent\"><img src=\"https://colab.research.google.com/assets/colab-badge.svg\" alt=\"Open In Colab\"/></a>"
      ]
    },
    {
      "cell_type": "markdown",
      "metadata": {
        "id": "PYh66R7bQ1MZ",
        "colab_type": "text"
      },
      "source": [
        "### Fonction Puissance"
      ]
    },
    {
      "cell_type": "markdown",
      "metadata": {
        "id": "fatclZFvOer2",
        "colab_type": "text"
      },
      "source": [
        "$$puissance(x,n) = \\left\\lbrace \\matrix{ 1 & \\textrm{si } n=0 \\\\x \\times puissance(x,n-1) & \\textrm{sinon }  } \\right. $$\n"
      ]
    },
    {
      "cell_type": "code",
      "metadata": {
        "id": "ZxTH4SP0OS_E",
        "colab_type": "code",
        "colab": {}
      },
      "source": [
        "def puissance(x,n):\n",
        "    if n==0:\n",
        "        return 1\n",
        "    #else \n",
        "    return x * puissance (x,n-1)"
      ],
      "execution_count": 1,
      "outputs": []
    },
    {
      "cell_type": "code",
      "metadata": {
        "id": "Dc7wpB3sOr55",
        "colab_type": "code",
        "colab": {
          "base_uri": "https://localhost:8080/",
          "height": 35
        },
        "outputId": "303fa148-5a4c-48db-aab3-c8e92d10eb95"
      },
      "source": [
        "puissance(2,5)"
      ],
      "execution_count": 2,
      "outputs": [
        {
          "output_type": "execute_result",
          "data": {
            "text/plain": [
              "32"
            ]
          },
          "metadata": {
            "tags": []
          },
          "execution_count": 2
        }
      ]
    },
    {
      "cell_type": "markdown",
      "metadata": {
        "id": "GTZo2BHhQ7zl",
        "colab_type": "text"
      },
      "source": [
        "###Fonction factorielle"
      ]
    },
    {
      "cell_type": "markdown",
      "metadata": {
        "id": "OkxC6GMgRjRx",
        "colab_type": "text"
      },
      "source": [
        "$$fact(n) =  \\left\\lbrace \\matrix{\n",
        "     1 &\\textrm{si $n$=0 }\n",
        "     \\\\ n\\times fact(n-1) & \\textrm{sinon}\n",
        "     } \\right. \n",
        "$$"
      ]
    },
    {
      "cell_type": "code",
      "metadata": {
        "id": "OPO9Oj7qRzfG",
        "colab_type": "code",
        "colab": {}
      },
      "source": [
        "def fact(n):\n",
        "    if n == 0:\n",
        "        return 1  \n",
        "    #else\n",
        "    return n * fact (n-1)\n"
      ],
      "execution_count": 4,
      "outputs": []
    },
    {
      "cell_type": "code",
      "metadata": {
        "id": "8sA6ZEMIWN_w",
        "colab_type": "code",
        "colab": {
          "base_uri": "https://localhost:8080/",
          "height": 35
        },
        "outputId": "aca8c88c-3082-437d-e349-cf383f8dab7f"
      },
      "source": [
        "fact(3)"
      ],
      "execution_count": 5,
      "outputs": [
        {
          "output_type": "execute_result",
          "data": {
            "text/plain": [
              "6"
            ]
          },
          "metadata": {
            "tags": []
          },
          "execution_count": 5
        }
      ]
    },
    {
      "cell_type": "markdown",
      "metadata": {
        "id": "sZybF2xFXpDp",
        "colab_type": "text"
      },
      "source": [
        "###Ecrire les entiers entre a et b"
      ]
    },
    {
      "cell_type": "markdown",
      "metadata": {
        "id": "GmUbfxENXwna",
        "colab_type": "text"
      },
      "source": [
        "$$entier entre(a,b) =  \\left\\lbrace \\matrix{\n",
        "     ecrire.a &\\textrm{si $a$>=$b$ }\n",
        "     \\\\ ecrire.a.puis.entierentre(a+1,b) & \\textrm{sinon}\n",
        "     } \\right. \n",
        "$$"
      ]
    },
    {
      "cell_type": "code",
      "metadata": {
        "id": "tmQHpmhPYdhD",
        "colab_type": "code",
        "colab": {}
      },
      "source": [
        "def entier_entre(a,b):\n",
        "    "
      ],
      "execution_count": null,
      "outputs": []
    },
    {
      "cell_type": "markdown",
      "metadata": {
        "id": "meSnlgJhYqi6",
        "colab_type": "text"
      },
      "source": [
        "###Fonctions mutuelles\n",
        "c'est des fonctions qui s'appèlent entre elles"
      ]
    },
    {
      "cell_type": "markdown",
      "metadata": {
        "id": "7vE_QeaGZJEP",
        "colab_type": "text"
      },
      "source": [
        "$$ a_n =  \\left\\lbrace \\matrix{\n",
        "     1&\\textrm{si } n=0 \n",
        "     \\\\ 2 a_{n-1} + 3 b_{n-1}& \\textrm{si } n>0 \n",
        "     } \\right. $$\n",
        "\n",
        "$$ b_n =  \\left\\lbrace \\matrix{\n",
        "     2 &\\textrm{si } n=0 \n",
        "     \\\\  a_{n-1} - b_{n-1}& \\textrm{si } n>0 \n",
        "     } \\right. $$"
      ]
    },
    {
      "cell_type": "code",
      "metadata": {
        "id": "DkLvl8ujaSpm",
        "colab_type": "code",
        "colab": {}
      },
      "source": [
        "def a(n):\n",
        "\n",
        "\n",
        "def b(n):\n",
        "    "
      ],
      "execution_count": null,
      "outputs": []
    },
    {
      "cell_type": "code",
      "metadata": {
        "id": "A_Vb-5fRafU1",
        "colab_type": "code",
        "colab": {}
      },
      "source": [
        "b(2)==9     #ça doit te mettre True"
      ],
      "execution_count": null,
      "outputs": []
    },
    {
      "cell_type": "markdown",
      "metadata": {
        "id": "9ScDOCObbHiW",
        "colab_type": "text"
      },
      "source": [
        "### "
      ]
    }
  ]
}