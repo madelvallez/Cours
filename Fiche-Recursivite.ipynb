{
  "nbformat": 4,
  "nbformat_minor": 0,
  "metadata": {
    "colab": {
      "name": "Untitled0.ipynb",
      "provenance": [],
      "authorship_tag": "ABX9TyPttnhJ05PSYNcUfX7nQi9R",
      "include_colab_link": true
    },
    "kernelspec": {
      "name": "python3",
      "display_name": "Python 3"
    }
  },
  "cells": [
    {
      "cell_type": "markdown",
      "metadata": {
        "id": "view-in-github",
        "colab_type": "text"
      },
      "source": [
        "<a href=\"https://colab.research.google.com/github/madelvallez/Cours/blob/master/Fiche-Recursivite.ipynb\" target=\"_parent\"><img src=\"https://colab.research.google.com/assets/colab-badge.svg\" alt=\"Open In Colab\"/></a>"
      ]
    },
    {
      "cell_type": "markdown",
      "metadata": {
        "id": "X_RYoWfa6Jdo",
        "colab_type": "text"
      },
      "source": [
        "# Recursivité\n",
        "\n",
        "##I. Définition\n",
        "\n",
        "###1) Definition par récurence\n",
        "\n",
        "**Fonction récursive**: fonction qui fait appel à ***elle-même***\n"
      ]
    },
    {
      "cell_type": "code",
      "metadata": {
        "id": "i0_eULGG6H5C",
        "colab_type": "code",
        "colab": {}
      },
      "source": [
        ""
      ],
      "execution_count": null,
      "outputs": []
    }
  ]
}